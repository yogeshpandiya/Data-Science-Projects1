{
 "cells": [
  {
   "cell_type": "markdown",
   "id": "13fe3b83",
   "metadata": {},
   "source": [
    "•\tWrite a Python program to construct the following pattern, using a nested for loop.\n",
    "\n"
   ]
  },
  {
   "cell_type": "code",
   "execution_count": 137,
   "id": "7ffb9e1b",
   "metadata": {},
   "outputs": [
    {
     "name": "stdout",
     "output_type": "stream",
     "text": [
      "\n",
      "*\n",
      "**\n",
      "***\n",
      "****\n",
      "*****\n",
      "****\n",
      "***\n",
      "**\n",
      "*\n"
     ]
    }
   ],
   "source": [
    "for i in range(10):\n",
    "    if i<5:\n",
    "        print('*'*i)\n",
    "    else:\n",
    "        print('*'*(10-i))"
   ]
  },
  {
   "cell_type": "markdown",
   "id": "b6480a31",
   "metadata": {},
   "source": [
    "•\tWrite a Python program which iterates the integers from 1 to 50. For multiples of three print \"Fizz\" instead of the number and for the multiples of five print \"Buzz\". For numbers which are multiples of both three and five print \"FizzBuzz. "
   ]
  },
  {
   "cell_type": "code",
   "execution_count": 8,
   "id": "208570d9",
   "metadata": {},
   "outputs": [
    {
     "name": "stdout",
     "output_type": "stream",
     "text": [
      "3 Fizz\n",
      "5 Buzz\n",
      "6 Fizz\n",
      "9 Fizz\n",
      "10 Buzz\n",
      "12 Fizz\n",
      "15 FizzBuzz\n",
      "18 Fizz\n",
      "20 Buzz\n",
      "21 Fizz\n",
      "24 Fizz\n",
      "25 Buzz\n",
      "27 Fizz\n",
      "30 FizzBuzz\n",
      "33 Fizz\n",
      "35 Buzz\n",
      "36 Fizz\n",
      "39 Fizz\n",
      "40 Buzz\n",
      "42 Fizz\n",
      "45 FizzBuzz\n",
      "48 Fizz\n",
      "50 Buzz\n"
     ]
    }
   ],
   "source": [
    "for i in range(1,51):\n",
    "    if (i %3==0) and (i%5==0):\n",
    "        print(i,'FizzBuzz')\n",
    "    elif i%3==0:\n",
    "        print(i,'Fizz')\n",
    "    elif i%5==0:\n",
    "        print(i,'Buzz')\n",
    "        "
   ]
  },
  {
   "cell_type": "code",
   "execution_count": null,
   "id": "d85d1c9b",
   "metadata": {},
   "outputs": [],
   "source": []
  },
  {
   "cell_type": "markdown",
   "id": "c795b931",
   "metadata": {},
   "source": [
    "•\tWrite a Python program to check the validity of password input by users.  \n",
    "Validation :\n",
    "At least 1 letter between [a-z] and 1 letter between [A-Z].\n",
    "At least 1 number between [0-9].\n",
    "At least 1 character from [$#@].\n",
    "Minimum length 6 characters.\n",
    "Maximum length 16 characters.\n"
   ]
  },
  {
   "cell_type": "code",
   "execution_count": 116,
   "id": "0f875dbb",
   "metadata": {},
   "outputs": [
    {
     "name": "stdout",
     "output_type": "stream",
     "text": [
      "Enter a passwaord: Yogesh@11111\n",
      "Valid Password\n"
     ]
    }
   ],
   "source": [
    "import re\n",
    "a = input('Enter a passwaord: ')\n",
    "\n",
    "condition1 = re.findall('[a-z]', a)\n",
    "condition2 = re.findall('[A-Z]', a)\n",
    "condition3 = re.findall('[$#@]', a)\n",
    "condition4 = re.findall('[0-9]', a)\n",
    "\n",
    "if (len(a)>=6) and (len(a)<=16) and (len(condition4)!=0) and (len(condition1)!=0) and (len(condition2)!=0) and (len(condition3)!=0):\n",
    "    print('Valid Password')\n",
    "else:\n",
    "    print('Invalid Password')"
   ]
  },
  {
   "cell_type": "code",
   "execution_count": null,
   "id": "ca777551",
   "metadata": {},
   "outputs": [],
   "source": []
  },
  {
   "cell_type": "markdown",
   "id": "c0c9d1f8",
   "metadata": {},
   "source": [
    "•\tWrite a Python program that reads two integers representing a month and day and prints the season for that month and day. \n",
    "Expected Output:\n",
    "Input the month (e.g. January, February etc.): july                     \n",
    "Input the day: 31                                                       \n",
    "Season is autumn \n",
    "`"
   ]
  },
  {
   "cell_type": "code",
   "execution_count": null,
   "id": "0ccce3b3",
   "metadata": {},
   "outputs": [],
   "source": []
  },
  {
   "cell_type": "code",
   "execution_count": 13,
   "id": "5fd59296",
   "metadata": {},
   "outputs": [
    {
     "name": "stdout",
     "output_type": "stream",
     "text": [
      "Enter Month and Days Seprate by commas: January,16\n",
      "Winter\n"
     ]
    }
   ],
   "source": [
    "a = input('Enter Month and Days Seprate by commas: ').split(',')\n",
    "if (a[0]=='December') or (a[0]=='January'):\n",
    "    print('Winter')\n",
    "elif (a[0]=='Feburary') or (a[0]=='March'):\n",
    "    print('Spring')\n",
    "elif (a[0]=='April') or (a[0]=='May') or (a[0]=='June'):\n",
    "    print('Summer')\n",
    "elif (a[0]=='July') or (a[0]=='August'):\n",
    "    print('Monsoon')\n",
    "elif (a[0]=='September') or (a[1]<15):\n",
    "    print('Monsoon')\n",
    "elif (a[0]=='October') or (a[0]=='November'):\n",
    "    print('Autumn')\n",
    "elif (a[0]=='September') or (a[1]>15):\n",
    "    print('Autumn')"
   ]
  },
  {
   "cell_type": "markdown",
   "id": "00abe52c",
   "metadata": {},
   "source": [
    "•\tCreae a dictionary containing names and age as key value pairs . Write a program, with separate user defined functions to perform the following operations. Push the keys into an array, where the corresponding value is lesser than 30. Display the content of the array. "
   ]
  },
  {
   "cell_type": "code",
   "execution_count": 27,
   "id": "7d6377f4",
   "metadata": {},
   "outputs": [],
   "source": [
    "dic = {'Yogesh': 25, 'Sagar':29, 'abhi':35, 'Sir':38, 'Mam':31}"
   ]
  },
  {
   "cell_type": "code",
   "execution_count": 32,
   "id": "9ae53eea",
   "metadata": {},
   "outputs": [
    {
     "data": {
      "text/plain": [
       "array(['Yogesh', 'Sagar'], dtype='<U32')"
      ]
     },
     "execution_count": 32,
     "metadata": {},
     "output_type": "execute_result"
    }
   ],
   "source": [
    "import numpy as np\n",
    "ar= np.array([])\n",
    "for i in dic:\n",
    "    if dic[i]<30:\n",
    "        ar=np.append(ar,i)\n",
    "ar"
   ]
  },
  {
   "cell_type": "code",
   "execution_count": null,
   "id": "b54e343a",
   "metadata": {},
   "outputs": [],
   "source": []
  },
  {
   "cell_type": "markdown",
   "id": "378a601e",
   "metadata": {},
   "source": [
    "•\tWrite a program to Traverse the content of the list and write the negative elements into an array. "
   ]
  },
  {
   "cell_type": "code",
   "execution_count": 33,
   "id": "867c570b",
   "metadata": {},
   "outputs": [],
   "source": [
    "lst = [1,2,3,4,5,-1,2,4,-8,-9] "
   ]
  },
  {
   "cell_type": "code",
   "execution_count": 34,
   "id": "685d68e6",
   "metadata": {},
   "outputs": [
    {
     "data": {
      "text/plain": [
       "array([-1., -8., -9.])"
      ]
     },
     "execution_count": 34,
     "metadata": {},
     "output_type": "execute_result"
    }
   ],
   "source": [
    "ar= np.array([])\n",
    "for i in lst:\n",
    "    if i<0:\n",
    "        ar=np.append(ar,i)\n",
    "ar"
   ]
  },
  {
   "cell_type": "code",
   "execution_count": null,
   "id": "2413277c",
   "metadata": {},
   "outputs": [],
   "source": []
  },
  {
   "cell_type": "markdown",
   "id": "2335ae5d",
   "metadata": {},
   "source": [
    "•\tGet the 3 items with the highest value from dictionary? "
   ]
  },
  {
   "cell_type": "code",
   "execution_count": 35,
   "id": "5d89f917",
   "metadata": {},
   "outputs": [],
   "source": [
    "dic = {'Yogesh': 25, 'Sagar':29, 'abhi':35, 'Sir':38, 'Mam':31}"
   ]
  },
  {
   "cell_type": "code",
   "execution_count": 45,
   "id": "f3e5e9a2",
   "metadata": {},
   "outputs": [],
   "source": [
    "lst = []"
   ]
  },
  {
   "cell_type": "code",
   "execution_count": 46,
   "id": "60cd81c7",
   "metadata": {},
   "outputs": [],
   "source": [
    "for i in dic:\n",
    "    lst.append(dic[i])"
   ]
  },
  {
   "cell_type": "code",
   "execution_count": 47,
   "id": "ce7a3a52",
   "metadata": {},
   "outputs": [],
   "source": [
    "lst.sort()"
   ]
  },
  {
   "cell_type": "code",
   "execution_count": 52,
   "id": "116251ab",
   "metadata": {},
   "outputs": [
    {
     "data": {
      "text/plain": [
       "[38, 35, 31]"
      ]
     },
     "execution_count": 52,
     "metadata": {},
     "output_type": "execute_result"
    }
   ],
   "source": [
    "hig_val= lst[:-4:-1]\n",
    "hig_val"
   ]
  },
  {
   "cell_type": "code",
   "execution_count": 53,
   "id": "05b45b6d",
   "metadata": {},
   "outputs": [],
   "source": [
    "dic1={}\n",
    "for i in dic:\n",
    "    if dic[i] in hig_val:\n",
    "        dic1[i]=dic[i]"
   ]
  },
  {
   "cell_type": "code",
   "execution_count": 54,
   "id": "f0b500de",
   "metadata": {},
   "outputs": [
    {
     "data": {
      "text/plain": [
       "{'abhi': 35, 'Sir': 38, 'Mam': 31}"
      ]
     },
     "execution_count": 54,
     "metadata": {},
     "output_type": "execute_result"
    }
   ],
   "source": [
    "dic1"
   ]
  },
  {
   "cell_type": "code",
   "execution_count": null,
   "id": "283e3807",
   "metadata": {},
   "outputs": [],
   "source": []
  },
  {
   "cell_type": "markdown",
   "id": "391cb2e3",
   "metadata": {},
   "source": [
    "•\tWrite a program to get LCM of 4 numbers `"
   ]
  },
  {
   "cell_type": "code",
   "execution_count": 55,
   "id": "d7f6e2ad",
   "metadata": {},
   "outputs": [],
   "source": [
    "a,b,c,d=12,13,14,15\n",
    "greater  = max(a,b,c,d)"
   ]
  },
  {
   "cell_type": "code",
   "execution_count": 58,
   "id": "5cae6b83",
   "metadata": {},
   "outputs": [
    {
     "name": "stdout",
     "output_type": "stream",
     "text": [
      "LCM is 5460\n"
     ]
    }
   ],
   "source": [
    "while True:\n",
    "    if (greater%a==0) & (greater%b==0) & (greater%c==0) & (greater%d==0):\n",
    "        print('LCM is',greater)\n",
    "        break\n",
    "    greater+=1"
   ]
  },
  {
   "cell_type": "markdown",
   "id": "06f57ff8",
   "metadata": {},
   "source": [
    "•\tWrite a program to get HCF of 3 numbers "
   ]
  },
  {
   "cell_type": "code",
   "execution_count": 143,
   "id": "2a6e43a1",
   "metadata": {},
   "outputs": [
    {
     "data": {
      "text/plain": [
       "11"
      ]
     },
     "execution_count": 143,
     "metadata": {},
     "output_type": "execute_result"
    }
   ],
   "source": [
    "a,b,c=11,22,33\n",
    "min_v = min(a,b,c)\n",
    "hcf=1\n",
    "for i in range(1,min_v+1):\n",
    "    if ((a%i==0) & (b%i==0) & (c%i==0)):\n",
    "        hcf=i\n",
    "hcf"
   ]
  },
  {
   "cell_type": "markdown",
   "id": "e0296dea",
   "metadata": {},
   "source": [
    "•\tWrite a program to get Table from 2 to 20 ."
   ]
  },
  {
   "cell_type": "code",
   "execution_count": 91,
   "id": "172ff7a8",
   "metadata": {},
   "outputs": [
    {
     "name": "stdout",
     "output_type": "stream",
     "text": [
      "\n",
      "1\t2\t3\t4\t5\t6\t7\t8\t9\t10\t\n",
      "2\t4\t6\t8\t10\t12\t14\t16\t18\t20\t\n",
      "3\t6\t9\t12\t15\t18\t21\t24\t27\t30\t\n",
      "4\t8\t12\t16\t20\t24\t28\t32\t36\t40\t\n",
      "5\t10\t15\t20\t25\t30\t35\t40\t45\t50\t\n",
      "6\t12\t18\t24\t30\t36\t42\t48\t54\t60\t\n",
      "7\t14\t21\t28\t35\t42\t49\t56\t63\t70\t\n",
      "8\t16\t24\t32\t40\t48\t56\t64\t72\t80\t\n",
      "9\t18\t27\t36\t45\t54\t63\t72\t81\t90\t\n",
      "10\t20\t30\t40\t50\t60\t70\t80\t90\t100\t"
     ]
    }
   ],
   "source": [
    "for i in range(1,11):\n",
    "    print()\n",
    "    for j in range(1,11):\n",
    "        print(i*j,end='\\t')"
   ]
  },
  {
   "cell_type": "code",
   "execution_count": null,
   "id": "0a1d697b",
   "metadata": {},
   "outputs": [],
   "source": []
  },
  {
   "cell_type": "markdown",
   "id": "ec9c293c",
   "metadata": {},
   "source": [
    "•\tWrite a program to factorial "
   ]
  },
  {
   "cell_type": "code",
   "execution_count": 97,
   "id": "4fc3e242",
   "metadata": {},
   "outputs": [
    {
     "data": {
      "text/plain": [
       "120"
      ]
     },
     "execution_count": 97,
     "metadata": {},
     "output_type": "execute_result"
    }
   ],
   "source": [
    "#using RECURSSION\n",
    "def fact(n):\n",
    "    if n==1:\n",
    "        return 1\n",
    "    elif n>1:\n",
    "        return n*fact(n-1)\n",
    "    else:\n",
    "        pass\n",
    "fact(5)"
   ]
  },
  {
   "cell_type": "code",
   "execution_count": null,
   "id": "c667d84f",
   "metadata": {},
   "outputs": [],
   "source": []
  },
  {
   "cell_type": "markdown",
   "id": "2c836ec1",
   "metadata": {},
   "source": [
    "•\tWrite a program to get evaluate exponential series  "
   ]
  },
  {
   "cell_type": "code",
   "execution_count": 146,
   "id": "382ddcc5",
   "metadata": {},
   "outputs": [
    {
     "data": {
      "text/plain": [
       "1.71827876984127"
      ]
     },
     "execution_count": 146,
     "metadata": {},
     "output_type": "execute_result"
    }
   ],
   "source": [
    "a=0\n",
    "for i in range(2,10):\n",
    "    a+=(i/fact(i))\n",
    "a"
   ]
  },
  {
   "cell_type": "code",
   "execution_count": null,
   "id": "3605f561",
   "metadata": {},
   "outputs": [],
   "source": []
  },
  {
   "cell_type": "code",
   "execution_count": null,
   "id": "20b38566",
   "metadata": {},
   "outputs": [],
   "source": []
  },
  {
   "cell_type": "code",
   "execution_count": 106,
   "id": "377644f7",
   "metadata": {},
   "outputs": [],
   "source": []
  },
  {
   "cell_type": "code",
   "execution_count": 108,
   "id": "c900e845",
   "metadata": {},
   "outputs": [],
   "source": []
  },
  {
   "cell_type": "code",
   "execution_count": null,
   "id": "0805a463",
   "metadata": {},
   "outputs": [],
   "source": []
  },
  {
   "cell_type": "code",
   "execution_count": null,
   "id": "ba7fa9cb",
   "metadata": {},
   "outputs": [],
   "source": []
  }
 ],
 "metadata": {
  "kernelspec": {
   "display_name": "Python 3 (ipykernel)",
   "language": "python",
   "name": "python3"
  },
  "language_info": {
   "codemirror_mode": {
    "name": "ipython",
    "version": 3
   },
   "file_extension": ".py",
   "mimetype": "text/x-python",
   "name": "python",
   "nbconvert_exporter": "python",
   "pygments_lexer": "ipython3",
   "version": "3.9.12"
  }
 },
 "nbformat": 4,
 "nbformat_minor": 5
}
