{
 "cells": [
  {
   "cell_type": "markdown",
   "id": "2005bdc8",
   "metadata": {},
   "source": [
    "•\tWrite a Python program to construct the following pattern, using a nested for loop.\n",
    "\n"
   ]
  },
  {
   "cell_type": "code",
   "execution_count": 137,
   "id": "4716f6b0",
   "metadata": {},
   "outputs": [
    {
     "name": "stdout",
     "output_type": "stream",
     "text": [
      "\n",
      "*\n",
      "**\n",
      "***\n",
      "****\n",
      "*****\n",
      "****\n",
      "***\n",
      "**\n",
      "*\n"
     ]
    }
   ],
   "source": [
    "for i in range(10):\n",
    "    if i<5:\n",
    "        print('*'*i)\n",
    "    else:\n",
    "        print('*'*(10-i))"
   ]
  },
  {
   "cell_type": "markdown",
   "id": "4b32f519",
   "metadata": {},
   "source": [
    "•\tWrite a Python program which iterates the integers from 1 to 50. For multiples of three print \"Fizz\" instead of the number and for the multiples of five print \"Buzz\". For numbers which are multiples of both three and five print \"FizzBuzz. "
   ]
  },
  {
   "cell_type": "code",
   "execution_count": 8,
   "id": "0aa96c1e",
   "metadata": {},
   "outputs": [
    {
     "name": "stdout",
     "output_type": "stream",
     "text": [
      "3 Fizz\n",
      "5 Buzz\n",
      "6 Fizz\n",
      "9 Fizz\n",
      "10 Buzz\n",
      "12 Fizz\n",
      "15 FizzBuzz\n",
      "18 Fizz\n",
      "20 Buzz\n",
      "21 Fizz\n",
      "24 Fizz\n",
      "25 Buzz\n",
      "27 Fizz\n",
      "30 FizzBuzz\n",
      "33 Fizz\n",
      "35 Buzz\n",
      "36 Fizz\n",
      "39 Fizz\n",
      "40 Buzz\n",
      "42 Fizz\n",
      "45 FizzBuzz\n",
      "48 Fizz\n",
      "50 Buzz\n"
     ]
    }
   ],
   "source": [
    "for i in range(1,51):\n",
    "    if (i %3==0) and (i%5==0):\n",
    "        print(i,'FizzBuzz')\n",
    "    elif i%3==0:\n",
    "        print(i,'Fizz')\n",
    "    elif i%5==0:\n",
    "        print(i,'Buzz')\n",
    "        "
   ]
  },
  {
   "cell_type": "code",
   "execution_count": null,
   "id": "cb7e63c9",
   "metadata": {},
   "outputs": [],
   "source": []
  },
  {
   "cell_type": "markdown",
   "id": "f00e90aa",
   "metadata": {},
   "source": [
    "•\tWrite a Python program to check the validity of password input by users.  \n",
    "Validation :\n",
    "At least 1 letter between [a-z] and 1 letter between [A-Z].\n",
    "At least 1 number between [0-9].\n",
    "At least 1 character from [$#@].\n",
    "Minimum length 6 characters.\n",
    "Maximum length 16 characters.\n"
   ]
  },
  {
   "cell_type": "code",
   "execution_count": 116,
   "id": "2ccf8b10",
   "metadata": {},
   "outputs": [
    {
     "name": "stdout",
     "output_type": "stream",
     "text": [
      "Enter a passwaord: Yogesh@11111\n",
      "Valid Password\n"
     ]
    }
   ],
   "source": [
    "import re\n",
    "a = input('Enter a passwaord: ')\n",
    "\n",
    "condition1 = re.findall('[a-z]', a)\n",
    "condition2 = re.findall('[A-Z]', a)\n",
    "condition3 = re.findall('[$#@]', a)\n",
    "condition4 = re.findall('[0-9]', a)\n",
    "\n",
    "if (len(a)>=6) and (len(a)<=16) and (len(condition4)!=0) and (len(condition1)!=0) and (len(condition2)!=0) and (len(condition3)!=0):\n",
    "    print('Valid Password')\n",
    "else:\n",
    "    print('Invalid Password')"
   ]
  },
  {
   "cell_type": "code",
   "execution_count": null,
   "id": "2c343474",
   "metadata": {},
   "outputs": [],
   "source": []
  },
  {
   "cell_type": "markdown",
   "id": "dc9404fd",
   "metadata": {},
   "source": [
    "•\tWrite a Python program that reads two integers representing a month and day and prints the season for that month and day. \n",
    "Expected Output:\n",
    "Input the month (e.g. January, February etc.): july                     \n",
    "Input the day: 31                                                       \n",
    "Season is autumn \n",
    "`"
   ]
  },
  {
   "cell_type": "code",
   "execution_count": null,
   "id": "5725b025",
   "metadata": {},
   "outputs": [],
   "source": []
  },
  {
   "cell_type": "code",
   "execution_count": 13,
   "id": "54236a13",
   "metadata": {},
   "outputs": [
    {
     "name": "stdout",
     "output_type": "stream",
     "text": [
      "Enter Month and Days Seprate by commas: January,16\n",
      "Winter\n"
     ]
    }
   ],
   "source": [
    "a = input('Enter Month and Days Seprate by commas: ').split(',')\n",
    "if (a[0]=='December') or (a[0]=='January'):\n",
    "    print('Winter')\n",
    "elif (a[0]=='Feburary') or (a[0]=='March'):\n",
    "    print('Spring')\n",
    "elif (a[0]=='April') or (a[0]=='May') or (a[0]=='June'):\n",
    "    print('Summer')\n",
    "elif (a[0]=='July') or (a[0]=='August'):\n",
    "    print('Monsoon')\n",
    "elif (a[0]=='September') or (a[1]<15):\n",
    "    print('Monsoon')\n",
    "elif (a[0]=='October') or (a[0]=='November'):\n",
    "    print('Autumn')\n",
    "elif (a[0]=='September') or (a[1]>15):\n",
    "    print('Autumn')"
   ]
  },
  {
   "cell_type": "markdown",
   "id": "5ebaf123",
   "metadata": {},
   "source": [
    "•\tCreae a dictionary containing names and age as key value pairs . Write a program, with separate user defined functions to perform the following operations. Push the keys into an array, where the corresponding value is lesser than 30. Display the content of the array. "
   ]
  },
  {
   "cell_type": "code",
   "execution_count": 27,
   "id": "4b51b804",
   "metadata": {},
   "outputs": [],
   "source": [
    "dic = {'Yogesh': 25, 'Sagar':29, 'abhi':35, 'Sir':38, 'Mam':31}"
   ]
  },
  {
   "cell_type": "code",
   "execution_count": 32,
   "id": "a8e37aa3",
   "metadata": {},
   "outputs": [
    {
     "data": {
      "text/plain": [
       "array(['Yogesh', 'Sagar'], dtype='<U32')"
      ]
     },
     "execution_count": 32,
     "metadata": {},
     "output_type": "execute_result"
    }
   ],
   "source": [
    "import numpy as np\n",
    "ar= np.array([])\n",
    "for i in dic:\n",
    "    if dic[i]<30:\n",
    "        ar=np.append(ar,i)\n",
    "ar"
   ]
  },
  {
   "cell_type": "code",
   "execution_count": null,
   "id": "4cb01419",
   "metadata": {},
   "outputs": [],
   "source": []
  },
  {
   "cell_type": "markdown",
   "id": "09d3ae95",
   "metadata": {},
   "source": [
    "•\tWrite a program to Traverse the content of the list and write the negative elements into an array. "
   ]
  },
  {
   "cell_type": "code",
   "execution_count": 33,
   "id": "ec96e4bb",
   "metadata": {},
   "outputs": [],
   "source": [
    "lst = [1,2,3,4,5,-1,2,4,-8,-9] "
   ]
  },
  {
   "cell_type": "code",
   "execution_count": 34,
   "id": "12fa805e",
   "metadata": {},
   "outputs": [
    {
     "data": {
      "text/plain": [
       "array([-1., -8., -9.])"
      ]
     },
     "execution_count": 34,
     "metadata": {},
     "output_type": "execute_result"
    }
   ],
   "source": [
    "ar= np.array([])\n",
    "for i in lst:\n",
    "    if i<0:\n",
    "        ar=np.append(ar,i)\n",
    "ar"
   ]
  },
  {
   "cell_type": "code",
   "execution_count": null,
   "id": "99808bf1",
   "metadata": {},
   "outputs": [],
   "source": []
  },
  {
   "cell_type": "markdown",
   "id": "ba7c378d",
   "metadata": {},
   "source": [
    "•\tGet the 3 items with the highest value from dictionary? "
   ]
  },
  {
   "cell_type": "code",
   "execution_count": 35,
   "id": "6156f227",
   "metadata": {},
   "outputs": [],
   "source": [
    "dic = {'Yogesh': 25, 'Sagar':29, 'abhi':35, 'Sir':38, 'Mam':31}"
   ]
  },
  {
   "cell_type": "code",
   "execution_count": 45,
   "id": "788f2a20",
   "metadata": {},
   "outputs": [],
   "source": [
    "lst = []"
   ]
  },
  {
   "cell_type": "code",
   "execution_count": 46,
   "id": "23280bae",
   "metadata": {},
   "outputs": [],
   "source": [
    "for i in dic:\n",
    "    lst.append(dic[i])"
   ]
  },
  {
   "cell_type": "code",
   "execution_count": 47,
   "id": "60ab4ee5",
   "metadata": {},
   "outputs": [],
   "source": [
    "lst.sort()"
   ]
  },
  {
   "cell_type": "code",
   "execution_count": 52,
   "id": "7cd170ca",
   "metadata": {},
   "outputs": [
    {
     "data": {
      "text/plain": [
       "[38, 35, 31]"
      ]
     },
     "execution_count": 52,
     "metadata": {},
     "output_type": "execute_result"
    }
   ],
   "source": [
    "hig_val= lst[:-4:-1]\n",
    "hig_val"
   ]
  },
  {
   "cell_type": "code",
   "execution_count": 53,
   "id": "cb06a73b",
   "metadata": {},
   "outputs": [],
   "source": [
    "dic1={}\n",
    "for i in dic:\n",
    "    if dic[i] in hig_val:\n",
    "        dic1[i]=dic[i]"
   ]
  },
  {
   "cell_type": "code",
   "execution_count": 54,
   "id": "67f96bcb",
   "metadata": {},
   "outputs": [
    {
     "data": {
      "text/plain": [
       "{'abhi': 35, 'Sir': 38, 'Mam': 31}"
      ]
     },
     "execution_count": 54,
     "metadata": {},
     "output_type": "execute_result"
    }
   ],
   "source": [
    "dic1"
   ]
  },
  {
   "cell_type": "code",
   "execution_count": null,
   "id": "c1872f13",
   "metadata": {},
   "outputs": [],
   "source": []
  },
  {
   "cell_type": "markdown",
   "id": "8a378cdc",
   "metadata": {},
   "source": [
    "•\tWrite a program to get LCM of 4 numbers `"
   ]
  },
  {
   "cell_type": "code",
   "execution_count": 55,
   "id": "2ba541df",
   "metadata": {},
   "outputs": [],
   "source": [
    "a,b,c,d=12,13,14,15\n",
    "greater  = max(a,b,c,d)"
   ]
  },
  {
   "cell_type": "code",
   "execution_count": 58,
   "id": "7771efed",
   "metadata": {},
   "outputs": [
    {
     "name": "stdout",
     "output_type": "stream",
     "text": [
      "LCM is 5460\n"
     ]
    }
   ],
   "source": [
    "while True:\n",
    "    if (greater%a==0) & (greater%b==0) & (greater%c==0) & (greater%d==0):\n",
    "        print('LCM is',greater)\n",
    "        break\n",
    "    greater+=1"
   ]
  },
  {
   "cell_type": "markdown",
   "id": "59ffa18b",
   "metadata": {},
   "source": [
    "•\tWrite a program to get HCF of 3 numbers "
   ]
  },
  {
   "cell_type": "code",
   "execution_count": 143,
   "id": "d7f333af",
   "metadata": {},
   "outputs": [
    {
     "data": {
      "text/plain": [
       "11"
      ]
     },
     "execution_count": 143,
     "metadata": {},
     "output_type": "execute_result"
    }
   ],
   "source": [
    "a,b,c=11,22,33\n",
    "min_v = min(a,b,c)\n",
    "hcf=1\n",
    "for i in range(1,min_v+1):\n",
    "    if ((a%i==0) & (b%i==0) & (c%i==0)):\n",
    "        hcf=i\n",
    "hcf"
   ]
  },
  {
   "cell_type": "markdown",
   "id": "d0a6b38f",
   "metadata": {},
   "source": [
    "•\tWrite a program to get Table from 2 to 20 ."
   ]
  },
  {
   "cell_type": "code",
   "execution_count": 91,
   "id": "42533111",
   "metadata": {},
   "outputs": [
    {
     "name": "stdout",
     "output_type": "stream",
     "text": [
      "\n",
      "1\t2\t3\t4\t5\t6\t7\t8\t9\t10\t\n",
      "2\t4\t6\t8\t10\t12\t14\t16\t18\t20\t\n",
      "3\t6\t9\t12\t15\t18\t21\t24\t27\t30\t\n",
      "4\t8\t12\t16\t20\t24\t28\t32\t36\t40\t\n",
      "5\t10\t15\t20\t25\t30\t35\t40\t45\t50\t\n",
      "6\t12\t18\t24\t30\t36\t42\t48\t54\t60\t\n",
      "7\t14\t21\t28\t35\t42\t49\t56\t63\t70\t\n",
      "8\t16\t24\t32\t40\t48\t56\t64\t72\t80\t\n",
      "9\t18\t27\t36\t45\t54\t63\t72\t81\t90\t\n",
      "10\t20\t30\t40\t50\t60\t70\t80\t90\t100\t"
     ]
    }
   ],
   "source": [
    "for i in range(1,11):\n",
    "    print()\n",
    "    for j in range(1,11):\n",
    "        print(i*j,end='\\t')"
   ]
  },
  {
   "cell_type": "code",
   "execution_count": null,
   "id": "8248e3ca",
   "metadata": {},
   "outputs": [],
   "source": []
  },
  {
   "cell_type": "markdown",
   "id": "819d3756",
   "metadata": {},
   "source": [
    "•\tWrite a program to factorial "
   ]
  },
  {
   "cell_type": "code",
   "execution_count": 97,
   "id": "9cddf033",
   "metadata": {},
   "outputs": [
    {
     "data": {
      "text/plain": [
       "120"
      ]
     },
     "execution_count": 97,
     "metadata": {},
     "output_type": "execute_result"
    }
   ],
   "source": [
    "#using RECURSSION\n",
    "def fact(n):\n",
    "    if n==1:\n",
    "        return 1\n",
    "    elif n>1:\n",
    "        return n*fact(n-1)\n",
    "    else:\n",
    "        pass\n",
    "fact(5)"
   ]
  },
  {
   "cell_type": "code",
   "execution_count": null,
   "id": "f90509e7",
   "metadata": {},
   "outputs": [],
   "source": []
  },
  {
   "cell_type": "markdown",
   "id": "9459edff",
   "metadata": {},
   "source": [
    "•\tWrite a program to get evaluate exponential series  "
   ]
  },
  {
   "cell_type": "code",
   "execution_count": 126,
   "id": "4b97e0e8",
   "metadata": {},
   "outputs": [
    {
     "data": {
      "text/plain": [
       "1.71827876984127"
      ]
     },
     "execution_count": 126,
     "metadata": {},
     "output_type": "execute_result"
    }
   ],
   "source": [
    "a=0\n",
    "for i in range(2,10):\n",
    "    a+=(i/fact(i))\n",
    "a"
   ]
  },
  {
   "cell_type": "code",
   "execution_count": null,
   "id": "1f310ed8",
   "metadata": {},
   "outputs": [],
   "source": []
  },
  {
   "cell_type": "code",
   "execution_count": null,
   "id": "efe86feb",
   "metadata": {},
   "outputs": [],
   "source": []
  },
  {
   "cell_type": "code",
   "execution_count": 106,
   "id": "171b265d",
   "metadata": {},
   "outputs": [],
   "source": []
  },
  {
   "cell_type": "code",
   "execution_count": 108,
   "id": "019bb7ce",
   "metadata": {},
   "outputs": [],
   "source": []
  },
  {
   "cell_type": "code",
   "execution_count": null,
   "id": "21ded26a",
   "metadata": {},
   "outputs": [],
   "source": []
  },
  {
   "cell_type": "code",
   "execution_count": null,
   "id": "0ae0e266",
   "metadata": {},
   "outputs": [],
   "source": []
  }
 ],
 "metadata": {
  "kernelspec": {
   "display_name": "Python 3 (ipykernel)",
   "language": "python",
   "name": "python3"
  },
  "language_info": {
   "codemirror_mode": {
    "name": "ipython",
    "version": 3
   },
   "file_extension": ".py",
   "mimetype": "text/x-python",
   "name": "python",
   "nbconvert_exporter": "python",
   "pygments_lexer": "ipython3",
   "version": "3.9.12"
  }
 },
 "nbformat": 4,
 "nbformat_minor": 5
}
