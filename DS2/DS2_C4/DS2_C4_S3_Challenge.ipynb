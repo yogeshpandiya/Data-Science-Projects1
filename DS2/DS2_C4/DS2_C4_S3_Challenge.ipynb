{
 "cells": [
  {
   "cell_type": "code",
   "execution_count": 1,
   "id": "c5ff6462",
   "metadata": {},
   "outputs": [],
   "source": [
    "import numpy as np\n",
    "import matplotlib.pyplot as plt\n",
    "import pandas as pd\n",
    "import scipy.cluster.hierarchy as sch\n",
    "from sklearn.cluster import AgglomerativeClustering"
   ]
  },
  {
   "cell_type": "markdown",
   "id": "e7b42504",
   "metadata": {},
   "source": [
    "# TASK1"
   ]
  },
  {
   "cell_type": "code",
   "execution_count": 2,
   "id": "a99cc462",
   "metadata": {},
   "outputs": [],
   "source": [
    "df1 = pd.read_csv('DS2_C6_S2_MoveHubQualityOfLife_Data_Practice.csv')\n",
    "df2 = pd.read_csv('DS2_C6_S2_MoveHubCostOfLiving_Data_Practice.csv')\n",
    "df3 = pd.read_csv('DS2_C6_S2_WorldCities_Data_Practice.csv')\n",
    "df4 = pd.read_csv('DS2_C6_S2_Cities_Data_Practice.csv')"
   ]
  },
  {
   "cell_type": "markdown",
   "id": "22ab5ed8",
   "metadata": {},
   "source": [
    "# TASK2"
   ]
  },
  {
   "cell_type": "code",
   "execution_count": 3,
   "id": "dbd1baf7",
   "metadata": {},
   "outputs": [],
   "source": [
    "df3 = df3.rename(columns={'city':'City'})"
   ]
  },
  {
   "cell_type": "code",
   "execution_count": 4,
   "id": "95bc0230",
   "metadata": {},
   "outputs": [],
   "source": [
    "df5 = df1.merge(df2, on='City', how = 'inner')"
   ]
  },
  {
   "cell_type": "code",
   "execution_count": 5,
   "id": "33dcad16",
   "metadata": {},
   "outputs": [],
   "source": [
    "df6 = df5.merge(df4, on='City', how = 'inner')"
   ]
  },
  {
   "cell_type": "code",
   "execution_count": 6,
   "id": "8fa0e4b3",
   "metadata": {},
   "outputs": [],
   "source": [
    "Final_df = df6.merge(df3, on='City', how = 'inner')"
   ]
  },
  {
   "cell_type": "code",
   "execution_count": 7,
   "id": "a76ba715",
   "metadata": {},
   "outputs": [
    {
     "data": {
      "text/html": [
       "<div>\n",
       "<style scoped>\n",
       "    .dataframe tbody tr th:only-of-type {\n",
       "        vertical-align: middle;\n",
       "    }\n",
       "\n",
       "    .dataframe tbody tr th {\n",
       "        vertical-align: top;\n",
       "    }\n",
       "\n",
       "    .dataframe thead th {\n",
       "        text-align: right;\n",
       "    }\n",
       "</style>\n",
       "<table border=\"1\" class=\"dataframe\">\n",
       "  <thead>\n",
       "    <tr style=\"text-align: right;\">\n",
       "      <th></th>\n",
       "      <th>City</th>\n",
       "      <th>Movehub Rating</th>\n",
       "      <th>Purchase Power</th>\n",
       "      <th>Health Care</th>\n",
       "      <th>Pollution</th>\n",
       "      <th>Quality of Life</th>\n",
       "      <th>Crime Rating</th>\n",
       "      <th>Cappuccino</th>\n",
       "      <th>Cinema</th>\n",
       "      <th>Wine</th>\n",
       "      <th>...</th>\n",
       "      <th>city_ascii</th>\n",
       "      <th>lat</th>\n",
       "      <th>lng</th>\n",
       "      <th>country</th>\n",
       "      <th>iso2</th>\n",
       "      <th>iso3</th>\n",
       "      <th>admin_name</th>\n",
       "      <th>capital</th>\n",
       "      <th>population</th>\n",
       "      <th>id</th>\n",
       "    </tr>\n",
       "  </thead>\n",
       "  <tbody>\n",
       "    <tr>\n",
       "      <th>0</th>\n",
       "      <td>Caracas</td>\n",
       "      <td>65.18</td>\n",
       "      <td>11.25</td>\n",
       "      <td>44.44</td>\n",
       "      <td>83.45</td>\n",
       "      <td>8.61</td>\n",
       "      <td>85.70</td>\n",
       "      <td>1.80</td>\n",
       "      <td>9.12</td>\n",
       "      <td>11.97</td>\n",
       "      <td>...</td>\n",
       "      <td>Caracas</td>\n",
       "      <td>10.5000</td>\n",
       "      <td>-66.9333</td>\n",
       "      <td>Venezuela</td>\n",
       "      <td>VE</td>\n",
       "      <td>VEN</td>\n",
       "      <td>Distrito Capital</td>\n",
       "      <td>primary</td>\n",
       "      <td>1943901.0</td>\n",
       "      <td>1862748204</td>\n",
       "    </tr>\n",
       "    <tr>\n",
       "      <th>1</th>\n",
       "      <td>Johannesburg</td>\n",
       "      <td>84.08</td>\n",
       "      <td>53.99</td>\n",
       "      <td>59.98</td>\n",
       "      <td>47.39</td>\n",
       "      <td>51.26</td>\n",
       "      <td>83.93</td>\n",
       "      <td>1.16</td>\n",
       "      <td>3.46</td>\n",
       "      <td>3.53</td>\n",
       "      <td>...</td>\n",
       "      <td>Johannesburg</td>\n",
       "      <td>-26.2044</td>\n",
       "      <td>28.0416</td>\n",
       "      <td>South Africa</td>\n",
       "      <td>ZA</td>\n",
       "      <td>ZAF</td>\n",
       "      <td>Gauteng</td>\n",
       "      <td>admin</td>\n",
       "      <td>4434827.0</td>\n",
       "      <td>1710550792</td>\n",
       "    </tr>\n",
       "    <tr>\n",
       "      <th>2</th>\n",
       "      <td>Fortaleza</td>\n",
       "      <td>80.17</td>\n",
       "      <td>52.28</td>\n",
       "      <td>45.46</td>\n",
       "      <td>66.32</td>\n",
       "      <td>36.68</td>\n",
       "      <td>78.65</td>\n",
       "      <td>1.46</td>\n",
       "      <td>5.20</td>\n",
       "      <td>5.85</td>\n",
       "      <td>...</td>\n",
       "      <td>Fortaleza</td>\n",
       "      <td>-3.7275</td>\n",
       "      <td>-38.5275</td>\n",
       "      <td>Brazil</td>\n",
       "      <td>BR</td>\n",
       "      <td>BRA</td>\n",
       "      <td>Ceará</td>\n",
       "      <td>admin</td>\n",
       "      <td>2452185.0</td>\n",
       "      <td>1076567885</td>\n",
       "    </tr>\n",
       "    <tr>\n",
       "      <th>3</th>\n",
       "      <td>Mexico City</td>\n",
       "      <td>75.07</td>\n",
       "      <td>24.28</td>\n",
       "      <td>61.76</td>\n",
       "      <td>18.95</td>\n",
       "      <td>27.91</td>\n",
       "      <td>77.86</td>\n",
       "      <td>1.60</td>\n",
       "      <td>3.20</td>\n",
       "      <td>7.47</td>\n",
       "      <td>...</td>\n",
       "      <td>Mexico City</td>\n",
       "      <td>19.4333</td>\n",
       "      <td>-99.1333</td>\n",
       "      <td>Mexico</td>\n",
       "      <td>MX</td>\n",
       "      <td>MEX</td>\n",
       "      <td>Ciudad de México</td>\n",
       "      <td>primary</td>\n",
       "      <td>20996000.0</td>\n",
       "      <td>1484247881</td>\n",
       "    </tr>\n",
       "    <tr>\n",
       "      <th>4</th>\n",
       "      <td>Detroit</td>\n",
       "      <td>70.63</td>\n",
       "      <td>73.81</td>\n",
       "      <td>63.05</td>\n",
       "      <td>83.45</td>\n",
       "      <td>50.99</td>\n",
       "      <td>76.69</td>\n",
       "      <td>1.96</td>\n",
       "      <td>5.56</td>\n",
       "      <td>7.85</td>\n",
       "      <td>...</td>\n",
       "      <td>Detroit</td>\n",
       "      <td>42.3834</td>\n",
       "      <td>-83.1024</td>\n",
       "      <td>United States</td>\n",
       "      <td>US</td>\n",
       "      <td>USA</td>\n",
       "      <td>Michigan</td>\n",
       "      <td>NaN</td>\n",
       "      <td>3506126.0</td>\n",
       "      <td>1840003971</td>\n",
       "    </tr>\n",
       "  </tbody>\n",
       "</table>\n",
       "<p>5 rows × 24 columns</p>\n",
       "</div>"
      ],
      "text/plain": [
       "           City  Movehub Rating  Purchase Power  Health Care  Pollution  \\\n",
       "0       Caracas           65.18           11.25        44.44      83.45   \n",
       "1  Johannesburg           84.08           53.99        59.98      47.39   \n",
       "2     Fortaleza           80.17           52.28        45.46      66.32   \n",
       "3   Mexico City           75.07           24.28        61.76      18.95   \n",
       "4       Detroit           70.63           73.81        63.05      83.45   \n",
       "\n",
       "   Quality of Life  Crime Rating  Cappuccino  Cinema   Wine  ...  \\\n",
       "0             8.61         85.70        1.80    9.12  11.97  ...   \n",
       "1            51.26         83.93        1.16    3.46   3.53  ...   \n",
       "2            36.68         78.65        1.46    5.20   5.85  ...   \n",
       "3            27.91         77.86        1.60    3.20   7.47  ...   \n",
       "4            50.99         76.69        1.96    5.56   7.85  ...   \n",
       "\n",
       "     city_ascii      lat      lng        country iso2  iso3        admin_name  \\\n",
       "0       Caracas  10.5000 -66.9333      Venezuela   VE   VEN  Distrito Capital   \n",
       "1  Johannesburg -26.2044  28.0416   South Africa   ZA   ZAF           Gauteng   \n",
       "2     Fortaleza  -3.7275 -38.5275         Brazil   BR   BRA             Ceará   \n",
       "3   Mexico City  19.4333 -99.1333         Mexico   MX   MEX  Ciudad de México   \n",
       "4       Detroit  42.3834 -83.1024  United States   US   USA          Michigan   \n",
       "\n",
       "   capital  population          id  \n",
       "0  primary   1943901.0  1862748204  \n",
       "1    admin   4434827.0  1710550792  \n",
       "2    admin   2452185.0  1076567885  \n",
       "3  primary  20996000.0  1484247881  \n",
       "4      NaN   3506126.0  1840003971  \n",
       "\n",
       "[5 rows x 24 columns]"
      ]
     },
     "execution_count": 7,
     "metadata": {},
     "output_type": "execute_result"
    }
   ],
   "source": [
    "Final_df.head()"
   ]
  },
  {
   "cell_type": "code",
   "execution_count": 8,
   "id": "a8c5a976",
   "metadata": {},
   "outputs": [],
   "source": [
    "Final_df.drop_duplicates(subset='City', keep='first', inplace=True, ignore_index=True)"
   ]
  },
  {
   "cell_type": "code",
   "execution_count": 9,
   "id": "07e852b9",
   "metadata": {},
   "outputs": [
    {
     "data": {
      "text/html": [
       "<div>\n",
       "<style scoped>\n",
       "    .dataframe tbody tr th:only-of-type {\n",
       "        vertical-align: middle;\n",
       "    }\n",
       "\n",
       "    .dataframe tbody tr th {\n",
       "        vertical-align: top;\n",
       "    }\n",
       "\n",
       "    .dataframe thead th {\n",
       "        text-align: right;\n",
       "    }\n",
       "</style>\n",
       "<table border=\"1\" class=\"dataframe\">\n",
       "  <thead>\n",
       "    <tr style=\"text-align: right;\">\n",
       "      <th></th>\n",
       "      <th>City</th>\n",
       "      <th>Movehub Rating</th>\n",
       "      <th>Purchase Power</th>\n",
       "      <th>Health Care</th>\n",
       "      <th>Pollution</th>\n",
       "      <th>Quality of Life</th>\n",
       "      <th>Crime Rating</th>\n",
       "      <th>Cappuccino</th>\n",
       "      <th>Cinema</th>\n",
       "      <th>Wine</th>\n",
       "      <th>...</th>\n",
       "      <th>city_ascii</th>\n",
       "      <th>lat</th>\n",
       "      <th>lng</th>\n",
       "      <th>country</th>\n",
       "      <th>iso2</th>\n",
       "      <th>iso3</th>\n",
       "      <th>admin_name</th>\n",
       "      <th>capital</th>\n",
       "      <th>population</th>\n",
       "      <th>id</th>\n",
       "    </tr>\n",
       "  </thead>\n",
       "  <tbody>\n",
       "    <tr>\n",
       "      <th>0</th>\n",
       "      <td>Caracas</td>\n",
       "      <td>65.18</td>\n",
       "      <td>11.25</td>\n",
       "      <td>44.44</td>\n",
       "      <td>83.45</td>\n",
       "      <td>8.61</td>\n",
       "      <td>85.70</td>\n",
       "      <td>1.80</td>\n",
       "      <td>9.12</td>\n",
       "      <td>11.97</td>\n",
       "      <td>...</td>\n",
       "      <td>Caracas</td>\n",
       "      <td>10.5000</td>\n",
       "      <td>-66.9333</td>\n",
       "      <td>Venezuela</td>\n",
       "      <td>VE</td>\n",
       "      <td>VEN</td>\n",
       "      <td>Distrito Capital</td>\n",
       "      <td>primary</td>\n",
       "      <td>1943901.0</td>\n",
       "      <td>1862748204</td>\n",
       "    </tr>\n",
       "    <tr>\n",
       "      <th>1</th>\n",
       "      <td>Johannesburg</td>\n",
       "      <td>84.08</td>\n",
       "      <td>53.99</td>\n",
       "      <td>59.98</td>\n",
       "      <td>47.39</td>\n",
       "      <td>51.26</td>\n",
       "      <td>83.93</td>\n",
       "      <td>1.16</td>\n",
       "      <td>3.46</td>\n",
       "      <td>3.53</td>\n",
       "      <td>...</td>\n",
       "      <td>Johannesburg</td>\n",
       "      <td>-26.2044</td>\n",
       "      <td>28.0416</td>\n",
       "      <td>South Africa</td>\n",
       "      <td>ZA</td>\n",
       "      <td>ZAF</td>\n",
       "      <td>Gauteng</td>\n",
       "      <td>admin</td>\n",
       "      <td>4434827.0</td>\n",
       "      <td>1710550792</td>\n",
       "    </tr>\n",
       "    <tr>\n",
       "      <th>2</th>\n",
       "      <td>Fortaleza</td>\n",
       "      <td>80.17</td>\n",
       "      <td>52.28</td>\n",
       "      <td>45.46</td>\n",
       "      <td>66.32</td>\n",
       "      <td>36.68</td>\n",
       "      <td>78.65</td>\n",
       "      <td>1.46</td>\n",
       "      <td>5.20</td>\n",
       "      <td>5.85</td>\n",
       "      <td>...</td>\n",
       "      <td>Fortaleza</td>\n",
       "      <td>-3.7275</td>\n",
       "      <td>-38.5275</td>\n",
       "      <td>Brazil</td>\n",
       "      <td>BR</td>\n",
       "      <td>BRA</td>\n",
       "      <td>Ceará</td>\n",
       "      <td>admin</td>\n",
       "      <td>2452185.0</td>\n",
       "      <td>1076567885</td>\n",
       "    </tr>\n",
       "    <tr>\n",
       "      <th>3</th>\n",
       "      <td>Mexico City</td>\n",
       "      <td>75.07</td>\n",
       "      <td>24.28</td>\n",
       "      <td>61.76</td>\n",
       "      <td>18.95</td>\n",
       "      <td>27.91</td>\n",
       "      <td>77.86</td>\n",
       "      <td>1.60</td>\n",
       "      <td>3.20</td>\n",
       "      <td>7.47</td>\n",
       "      <td>...</td>\n",
       "      <td>Mexico City</td>\n",
       "      <td>19.4333</td>\n",
       "      <td>-99.1333</td>\n",
       "      <td>Mexico</td>\n",
       "      <td>MX</td>\n",
       "      <td>MEX</td>\n",
       "      <td>Ciudad de México</td>\n",
       "      <td>primary</td>\n",
       "      <td>20996000.0</td>\n",
       "      <td>1484247881</td>\n",
       "    </tr>\n",
       "    <tr>\n",
       "      <th>4</th>\n",
       "      <td>Detroit</td>\n",
       "      <td>70.63</td>\n",
       "      <td>73.81</td>\n",
       "      <td>63.05</td>\n",
       "      <td>83.45</td>\n",
       "      <td>50.99</td>\n",
       "      <td>76.69</td>\n",
       "      <td>1.96</td>\n",
       "      <td>5.56</td>\n",
       "      <td>7.85</td>\n",
       "      <td>...</td>\n",
       "      <td>Detroit</td>\n",
       "      <td>42.3834</td>\n",
       "      <td>-83.1024</td>\n",
       "      <td>United States</td>\n",
       "      <td>US</td>\n",
       "      <td>USA</td>\n",
       "      <td>Michigan</td>\n",
       "      <td>NaN</td>\n",
       "      <td>3506126.0</td>\n",
       "      <td>1840003971</td>\n",
       "    </tr>\n",
       "  </tbody>\n",
       "</table>\n",
       "<p>5 rows × 24 columns</p>\n",
       "</div>"
      ],
      "text/plain": [
       "           City  Movehub Rating  Purchase Power  Health Care  Pollution  \\\n",
       "0       Caracas           65.18           11.25        44.44      83.45   \n",
       "1  Johannesburg           84.08           53.99        59.98      47.39   \n",
       "2     Fortaleza           80.17           52.28        45.46      66.32   \n",
       "3   Mexico City           75.07           24.28        61.76      18.95   \n",
       "4       Detroit           70.63           73.81        63.05      83.45   \n",
       "\n",
       "   Quality of Life  Crime Rating  Cappuccino  Cinema   Wine  ...  \\\n",
       "0             8.61         85.70        1.80    9.12  11.97  ...   \n",
       "1            51.26         83.93        1.16    3.46   3.53  ...   \n",
       "2            36.68         78.65        1.46    5.20   5.85  ...   \n",
       "3            27.91         77.86        1.60    3.20   7.47  ...   \n",
       "4            50.99         76.69        1.96    5.56   7.85  ...   \n",
       "\n",
       "     city_ascii      lat      lng        country iso2  iso3        admin_name  \\\n",
       "0       Caracas  10.5000 -66.9333      Venezuela   VE   VEN  Distrito Capital   \n",
       "1  Johannesburg -26.2044  28.0416   South Africa   ZA   ZAF           Gauteng   \n",
       "2     Fortaleza  -3.7275 -38.5275         Brazil   BR   BRA             Ceará   \n",
       "3   Mexico City  19.4333 -99.1333         Mexico   MX   MEX  Ciudad de México   \n",
       "4       Detroit  42.3834 -83.1024  United States   US   USA          Michigan   \n",
       "\n",
       "   capital  population          id  \n",
       "0  primary   1943901.0  1862748204  \n",
       "1    admin   4434827.0  1710550792  \n",
       "2    admin   2452185.0  1076567885  \n",
       "3  primary  20996000.0  1484247881  \n",
       "4      NaN   3506126.0  1840003971  \n",
       "\n",
       "[5 rows x 24 columns]"
      ]
     },
     "execution_count": 9,
     "metadata": {},
     "output_type": "execute_result"
    }
   ],
   "source": [
    "FD = Final_df.copy()\n",
    "Final_df.head()"
   ]
  },
  {
   "cell_type": "code",
   "execution_count": 10,
   "id": "2d307c06",
   "metadata": {},
   "outputs": [],
   "source": [
    "from sklearn import preprocessing\n",
    "label_encoder = preprocessing.LabelEncoder()"
   ]
  },
  {
   "cell_type": "code",
   "execution_count": 11,
   "id": "fb6f58af",
   "metadata": {},
   "outputs": [],
   "source": [
    "Final_df['City'] = label_encoder.fit_transform(Final_df['City'])\n",
    "Final_df['Country'] = label_encoder.fit_transform(Final_df['Country'])\n",
    "Final_df['city_ascii'] = label_encoder.fit_transform(Final_df['city_ascii'])\n",
    "Final_df['country'] = label_encoder.fit_transform(Final_df['country'])\n",
    "Final_df['iso2'] = label_encoder.fit_transform(Final_df['iso2'])\n",
    "Final_df['iso3'] = label_encoder.fit_transform(Final_df['iso3'])\n",
    "Final_df['admin_name'] = label_encoder.fit_transform(Final_df['admin_name'])\n",
    "Final_df['capital'] = label_encoder.fit_transform(Final_df['capital'])"
   ]
  },
  {
   "cell_type": "code",
   "execution_count": 12,
   "id": "0d9ead2e",
   "metadata": {},
   "outputs": [
    {
     "data": {
      "text/html": [
       "<div>\n",
       "<style scoped>\n",
       "    .dataframe tbody tr th:only-of-type {\n",
       "        vertical-align: middle;\n",
       "    }\n",
       "\n",
       "    .dataframe tbody tr th {\n",
       "        vertical-align: top;\n",
       "    }\n",
       "\n",
       "    .dataframe thead th {\n",
       "        text-align: right;\n",
       "    }\n",
       "</style>\n",
       "<table border=\"1\" class=\"dataframe\">\n",
       "  <thead>\n",
       "    <tr style=\"text-align: right;\">\n",
       "      <th></th>\n",
       "      <th>City</th>\n",
       "      <th>Movehub Rating</th>\n",
       "      <th>Purchase Power</th>\n",
       "      <th>Health Care</th>\n",
       "      <th>Pollution</th>\n",
       "      <th>Quality of Life</th>\n",
       "      <th>Crime Rating</th>\n",
       "      <th>Cappuccino</th>\n",
       "      <th>Cinema</th>\n",
       "      <th>Wine</th>\n",
       "      <th>...</th>\n",
       "      <th>city_ascii</th>\n",
       "      <th>lat</th>\n",
       "      <th>lng</th>\n",
       "      <th>country</th>\n",
       "      <th>iso2</th>\n",
       "      <th>iso3</th>\n",
       "      <th>admin_name</th>\n",
       "      <th>capital</th>\n",
       "      <th>population</th>\n",
       "      <th>id</th>\n",
       "    </tr>\n",
       "  </thead>\n",
       "  <tbody>\n",
       "    <tr>\n",
       "      <th>0</th>\n",
       "      <td>42</td>\n",
       "      <td>65.18</td>\n",
       "      <td>11.25</td>\n",
       "      <td>44.44</td>\n",
       "      <td>83.45</td>\n",
       "      <td>8.61</td>\n",
       "      <td>85.70</td>\n",
       "      <td>1.80</td>\n",
       "      <td>9.12</td>\n",
       "      <td>11.97</td>\n",
       "      <td>...</td>\n",
       "      <td>42</td>\n",
       "      <td>10.5000</td>\n",
       "      <td>-66.9333</td>\n",
       "      <td>76</td>\n",
       "      <td>75</td>\n",
       "      <td>75</td>\n",
       "      <td>43</td>\n",
       "      <td>2</td>\n",
       "      <td>1943901.0</td>\n",
       "      <td>1862748204</td>\n",
       "    </tr>\n",
       "    <tr>\n",
       "      <th>1</th>\n",
       "      <td>85</td>\n",
       "      <td>84.08</td>\n",
       "      <td>53.99</td>\n",
       "      <td>59.98</td>\n",
       "      <td>47.39</td>\n",
       "      <td>51.26</td>\n",
       "      <td>83.93</td>\n",
       "      <td>1.16</td>\n",
       "      <td>3.46</td>\n",
       "      <td>3.53</td>\n",
       "      <td>...</td>\n",
       "      <td>85</td>\n",
       "      <td>-26.2044</td>\n",
       "      <td>28.0416</td>\n",
       "      <td>63</td>\n",
       "      <td>77</td>\n",
       "      <td>77</td>\n",
       "      <td>49</td>\n",
       "      <td>0</td>\n",
       "      <td>4434827.0</td>\n",
       "      <td>1710550792</td>\n",
       "    </tr>\n",
       "    <tr>\n",
       "      <th>2</th>\n",
       "      <td>66</td>\n",
       "      <td>80.17</td>\n",
       "      <td>52.28</td>\n",
       "      <td>45.46</td>\n",
       "      <td>66.32</td>\n",
       "      <td>36.68</td>\n",
       "      <td>78.65</td>\n",
       "      <td>1.46</td>\n",
       "      <td>5.20</td>\n",
       "      <td>5.85</td>\n",
       "      <td>...</td>\n",
       "      <td>66</td>\n",
       "      <td>-3.7275</td>\n",
       "      <td>-38.5275</td>\n",
       "      <td>10</td>\n",
       "      <td>10</td>\n",
       "      <td>11</td>\n",
       "      <td>36</td>\n",
       "      <td>0</td>\n",
       "      <td>2452185.0</td>\n",
       "      <td>1076567885</td>\n",
       "    </tr>\n",
       "    <tr>\n",
       "      <th>3</th>\n",
       "      <td>111</td>\n",
       "      <td>75.07</td>\n",
       "      <td>24.28</td>\n",
       "      <td>61.76</td>\n",
       "      <td>18.95</td>\n",
       "      <td>27.91</td>\n",
       "      <td>77.86</td>\n",
       "      <td>1.60</td>\n",
       "      <td>3.20</td>\n",
       "      <td>7.47</td>\n",
       "      <td>...</td>\n",
       "      <td>111</td>\n",
       "      <td>19.4333</td>\n",
       "      <td>-99.1333</td>\n",
       "      <td>42</td>\n",
       "      <td>48</td>\n",
       "      <td>47</td>\n",
       "      <td>39</td>\n",
       "      <td>2</td>\n",
       "      <td>20996000.0</td>\n",
       "      <td>1484247881</td>\n",
       "    </tr>\n",
       "    <tr>\n",
       "      <th>4</th>\n",
       "      <td>57</td>\n",
       "      <td>70.63</td>\n",
       "      <td>73.81</td>\n",
       "      <td>63.05</td>\n",
       "      <td>83.45</td>\n",
       "      <td>50.99</td>\n",
       "      <td>76.69</td>\n",
       "      <td>1.96</td>\n",
       "      <td>5.56</td>\n",
       "      <td>7.85</td>\n",
       "      <td>...</td>\n",
       "      <td>57</td>\n",
       "      <td>42.3834</td>\n",
       "      <td>-83.1024</td>\n",
       "      <td>74</td>\n",
       "      <td>73</td>\n",
       "      <td>74</td>\n",
       "      <td>93</td>\n",
       "      <td>3</td>\n",
       "      <td>3506126.0</td>\n",
       "      <td>1840003971</td>\n",
       "    </tr>\n",
       "  </tbody>\n",
       "</table>\n",
       "<p>5 rows × 24 columns</p>\n",
       "</div>"
      ],
      "text/plain": [
       "   City  Movehub Rating  Purchase Power  Health Care  Pollution  \\\n",
       "0    42           65.18           11.25        44.44      83.45   \n",
       "1    85           84.08           53.99        59.98      47.39   \n",
       "2    66           80.17           52.28        45.46      66.32   \n",
       "3   111           75.07           24.28        61.76      18.95   \n",
       "4    57           70.63           73.81        63.05      83.45   \n",
       "\n",
       "   Quality of Life  Crime Rating  Cappuccino  Cinema   Wine  ...  city_ascii  \\\n",
       "0             8.61         85.70        1.80    9.12  11.97  ...          42   \n",
       "1            51.26         83.93        1.16    3.46   3.53  ...          85   \n",
       "2            36.68         78.65        1.46    5.20   5.85  ...          66   \n",
       "3            27.91         77.86        1.60    3.20   7.47  ...         111   \n",
       "4            50.99         76.69        1.96    5.56   7.85  ...          57   \n",
       "\n",
       "       lat      lng  country  iso2  iso3  admin_name  capital  population  \\\n",
       "0  10.5000 -66.9333       76    75    75          43        2   1943901.0   \n",
       "1 -26.2044  28.0416       63    77    77          49        0   4434827.0   \n",
       "2  -3.7275 -38.5275       10    10    11          36        0   2452185.0   \n",
       "3  19.4333 -99.1333       42    48    47          39        2  20996000.0   \n",
       "4  42.3834 -83.1024       74    73    74          93        3   3506126.0   \n",
       "\n",
       "           id  \n",
       "0  1862748204  \n",
       "1  1710550792  \n",
       "2  1076567885  \n",
       "3  1484247881  \n",
       "4  1840003971  \n",
       "\n",
       "[5 rows x 24 columns]"
      ]
     },
     "execution_count": 12,
     "metadata": {},
     "output_type": "execute_result"
    }
   ],
   "source": [
    "#from sklearn.preprocessing import StandardScaler\n",
    "#scaler = StandardScaler()\n",
    "#Final_df= pd.DataFrame(scaler.fit_transform(Final_df),columns=Final_df.columns)\n",
    "Final_df.head()"
   ]
  },
  {
   "cell_type": "code",
   "execution_count": null,
   "id": "8482c95b",
   "metadata": {},
   "outputs": [],
   "source": []
  },
  {
   "cell_type": "markdown",
   "id": "0eff2ba1",
   "metadata": {},
   "source": [
    "# TASK3"
   ]
  },
  {
   "cell_type": "code",
   "execution_count": 13,
   "id": "5c2bbfa3",
   "metadata": {},
   "outputs": [],
   "source": [
    "X=Final_df[['Cappuccino','Wine']]\n",
    "hc = AgglomerativeClustering(affinity = 'euclidean', linkage = 'average')\n",
    "y_hc = hc.fit_predict(X)"
   ]
  },
  {
   "cell_type": "code",
   "execution_count": 14,
   "id": "eefd06e6",
   "metadata": {},
   "outputs": [
    {
     "data": {
      "image/png": "[encoded data removed]",
      "text/plain": [
       "<Figure size 2160x720 with 1 Axes>"
      ]
     },
     "metadata": {
      "needs_background": "light"
     },
     "output_type": "display_data"
    }
   ],
   "source": [
    "X=Final_df[['Cappuccino','Wine']]\n",
    "plt.figure(figsize=(30, 10))\n",
    "dendrogrm = sch.dendrogram(sch.linkage(X, method = 'ward'))\n",
    "plt.axhline(y=10, color='r', linestyle='--')\n",
    "ax = plt.gca()\n",
    "ax.tick_params(axis='x', which='major', labelsize=10)\n",
    "plt.title('Dendrogram',fontsize=30)\n",
    "plt.xlabel('Wine',fontsize=20)\n",
    "plt.ylabel('Euclidean distance', fontsize=20)\n",
    "plt.show()"
   ]
  },
  {
   "cell_type": "markdown",
   "id": "047dd9b6",
   "metadata": {},
   "source": [
    "# TASK4"
   ]
  },
  {
   "cell_type": "code",
   "execution_count": 15,
   "id": "323a852c",
   "metadata": {},
   "outputs": [],
   "source": [
    "hc = AgglomerativeClustering(n_clusters=3,affinity = 'euclidean', linkage = 'average')\n",
    "f_pred = hc.fit_predict(Final_df)"
   ]
  },
  {
   "cell_type": "code",
   "execution_count": 16,
   "id": "d26befb1",
   "metadata": {},
   "outputs": [
    {
     "data": {
      "image/png": "[encoded data removed]",
      "text/plain": [
       "<Figure size 2160x720 with 1 Axes>"
      ]
     },
     "metadata": {
      "needs_background": "light"
     },
     "output_type": "display_data"
    }
   ],
   "source": [
    "X=Final_df\n",
    "plt.figure(figsize=(30, 10))\n",
    "dendrogrm = sch.dendrogram(sch.linkage(X, method = 'ward'))\n",
    "plt.axhline(y=1e9, color='r', linestyle='--')\n",
    "ax = plt.gca()\n",
    "ax.tick_params(axis='x', which='major', labelsize=10)\n",
    "plt.title('Dendrogram',fontsize=30)\n",
    "plt.xlabel('Entire Data',fontsize=20)\n",
    "plt.ylabel('Euclidean distance', fontsize=20)\n",
    "plt.show()"
   ]
  },
  {
   "cell_type": "code",
   "execution_count": 17,
   "id": "52aa79a3",
   "metadata": {},
   "outputs": [
    {
     "data": {
      "image/png": "[encoded data removed]",
      "text/plain": [
       "<Figure size 432x288 with 1 Axes>"
      ]
     },
     "metadata": {
      "needs_background": "light"
     },
     "output_type": "display_data"
    }
   ],
   "source": [
    "X = Final_df[['Cappuccino','Wine']]\n",
    "hc = AgglomerativeClustering(n_clusters=5,affinity = 'euclidean', linkage = 'ward')\n",
    "y_hc = hc.fit_predict(X)\n",
    "X = np.array(X)\n",
    "plt.scatter(X[y_hc == 0, 0], X[y_hc == 0, 1], s = 50, c = 'red')\n",
    "plt.scatter(X[y_hc == 1, 0], X[y_hc == 1, 1], s = 50, c = 'blue')\n",
    "plt.scatter(X[y_hc == 2, 0], X[y_hc == 2, 1], s = 50, c = 'green')\n",
    "plt.scatter(X[y_hc == 3, 0], X[y_hc == 3, 1], s = 50, c = 'cyan')\n",
    "plt.scatter(X[y_hc == 4, 0], X[y_hc == 4, 1], s = 50, c = 'magenta')\n",
    "plt.title('Clusters of customers')\n",
    "plt.xlabel('Health Care')\n",
    "plt.ylabel('Pollution')\n",
    "plt.show()"
   ]
  },
  {
   "cell_type": "code",
   "execution_count": 18,
   "id": "fc5bbb8b",
   "metadata": {},
   "outputs": [
    {
     "data": {
      "image/png": "[encoded data removed]",
      "text/plain": [
       "<Figure size 432x288 with 1 Axes>"
      ]
     },
     "metadata": {
      "needs_background": "light"
     },
     "output_type": "display_data"
    }
   ],
   "source": [
    "X = Final_df[['Movehub Rating','Purchase Power']]\n",
    "hc = AgglomerativeClustering(n_clusters=5,affinity = 'euclidean', linkage = 'average')\n",
    "y_hc = hc.fit_predict(X)\n",
    "X = np.array(X)\n",
    "plt.scatter(X[y_hc == 0, 0], X[y_hc == 0, 1], s = 50, c = 'red')\n",
    "plt.scatter(X[y_hc == 1, 0], X[y_hc == 1, 1], s = 50, c = 'blue')\n",
    "plt.scatter(X[y_hc == 2, 0], X[y_hc == 2, 1], s = 50, c = 'green')\n",
    "plt.scatter(X[y_hc == 3, 0], X[y_hc == 3, 1], s = 50, c = 'cyan')\n",
    "plt.scatter(X[y_hc == 4, 0], X[y_hc == 4, 1], s = 50, c = 'magenta')\n",
    "plt.title('Clusters of customers')\n",
    "plt.xlabel('Health Care')\n",
    "plt.ylabel('Pollution')\n",
    "plt.show()"
   ]
  },
  {
   "cell_type": "code",
   "execution_count": 19,
   "id": "fdd935fa",
   "metadata": {},
   "outputs": [
    {
     "data": {
      "image/png": "[encoded data removed]",
      "text/plain": [
       "<Figure size 432x288 with 1 Axes>"
      ]
     },
     "metadata": {
      "needs_background": "light"
     },
     "output_type": "display_data"
    }
   ],
   "source": [
    "X = Final_df[['City','Quality of Life']]\n",
    "hc = AgglomerativeClustering(n_clusters=5,affinity = 'euclidean', linkage = 'average')\n",
    "y_hc = hc.fit_predict(X)\n",
    "X = np.array(X)\n",
    "plt.scatter(X[y_hc == 0, 0], X[y_hc == 0, 1], s = 50, c = 'red')\n",
    "plt.scatter(X[y_hc == 1, 0], X[y_hc == 1, 1], s = 50, c = 'blue')\n",
    "plt.scatter(X[y_hc == 2, 0], X[y_hc == 2, 1], s = 50, c = 'green')\n",
    "plt.scatter(X[y_hc == 3, 0], X[y_hc == 3, 1], s = 50, c = 'cyan')\n",
    "plt.scatter(X[y_hc == 4, 0], X[y_hc == 4, 1], s = 50, c = 'magenta')\n",
    "plt.title('Clusters of customers')\n",
    "plt.xlabel('Health Care')\n",
    "plt.ylabel('Pollution')\n",
    "plt.show()"
   ]
  },
  {
   "cell_type": "markdown",
   "id": "4a565e52",
   "metadata": {},
   "source": [
    "# Which all are city is most likely Berlin "
   ]
  },
  {
   "cell_type": "code",
   "execution_count": 20,
   "id": "cd9905db",
   "metadata": {},
   "outputs": [],
   "source": [
    "hc = AgglomerativeClustering(n_clusters=5,affinity = 'euclidean', linkage = 'average')\n",
    "f_pred = hc.fit_predict(Final_df)\n",
    "FD['Cluster']=f_pred"
   ]
  },
  {
   "cell_type": "code",
   "execution_count": 21,
   "id": "6d7ee5e2",
   "metadata": {},
   "outputs": [],
   "source": [
    "x = FD.groupby('Cluster')"
   ]
  },
  {
   "cell_type": "code",
   "execution_count": 22,
   "id": "1e2082eb",
   "metadata": {
    "scrolled": true
   },
   "outputs": [
    {
     "name": "stdout",
     "output_type": "stream",
     "text": [
      "['Santo Domingo' 'Athens' 'Paris' 'Quito' 'Lyon' 'Nice' 'Toulouse'\n",
      " 'Strasbourg' 'Marseille' 'Helsinki' 'Nicosia' 'Prague' 'Copenhagen'\n",
      " 'Zagreb' 'Cologne' 'Addis Ababa' 'Hamburg' 'Berlin' 'Stuttgart'\n",
      " 'Limassol' 'Aachen' 'Dresden' 'Munich']\n"
     ]
    }
   ],
   "source": [
    "for i in range(4):\n",
    "     if 'Berlin' in x.get_group(i).City.unique():\n",
    "            print(x.get_group(i).City.unique())"
   ]
  },
  {
   "cell_type": "markdown",
   "id": "7fd03c5f",
   "metadata": {},
   "source": [
    "# Interactive"
   ]
  },
  {
   "cell_type": "code",
   "execution_count": 24,
   "id": "a3613aac",
   "metadata": {},
   "outputs": [
    {
     "data": {
      "application/vnd.jupyter.widget-view+json": {
       "model_id": "73cf8145354b4734adbcde179d177e37",
       "version_major": 2,
       "version_minor": 0
      },
      "text/plain": [
       "interactive(children=(IntSlider(value=7, description='F1', max=14), IntSlider(value=7, description='F2', max=1…"
      ]
     },
     "metadata": {},
     "output_type": "display_data"
    }
   ],
   "source": [
    "%matplotlib inline\n",
    "from ipywidgets import interactive\n",
    "import matplotlib.pyplot as plt\n",
    "import numpy as np\n",
    "\n",
    "def f(F1,F2,Affinity ):\n",
    "    a = Final_df.iloc[:,F1]\n",
    "    b = Final_df.iloc[:,F2]\n",
    "    X = pd.concat([a,b],axis=1)\n",
    "    hc = AgglomerativeClustering(n_clusters=5,affinity = Affinity, linkage = 'complete')\n",
    "    y_hc = hc.fit_predict(X)\n",
    "    X = np.array(X)\n",
    "    plt.figure(figsize=(15,7))\n",
    "\n",
    "    plt.scatter(X[y_hc == 0, 0], X[y_hc == 0, 1], s = 50, c = 'red')\n",
    "    plt.scatter(X[y_hc == 1, 0], X[y_hc == 1, 1], s = 50, c = 'blue')\n",
    "    plt.scatter(X[y_hc == 2, 0], X[y_hc == 2, 1], s = 50, c = 'green')\n",
    "    plt.scatter(X[y_hc == 3, 0], X[y_hc == 3, 1], s = 50, c = 'cyan')\n",
    "    plt.scatter(X[y_hc == 4, 0], X[y_hc == 4, 1], s = 50, c = 'magenta')\n",
    "    plt.title('Clusters of customers')\n",
    "    plt.xlabel(a.name)\n",
    "    plt.ylabel(b.name)\n",
    "    plt.show()\n",
    "    \n",
    "interactive_plot = interactive(f, F1=(0, 14,1), F2=(0, 14, 1), Affinity = [\"euclidean\", \"l1\", \"l2\", \"manhattan\", \"cosine\"])\n",
    "output = interactive_plot.children[-1]\n",
    "output.layout.height = '550px'\n",
    "interactive_plot"
   ]
  },
  {
   "cell_type": "code",
   "execution_count": null,
   "id": "bdf5045c",
   "metadata": {},
   "outputs": [],
   "source": []
  },
  {
   "cell_type": "code",
   "execution_count": null,
   "id": "c23b5924",
   "metadata": {},
   "outputs": [],
   "source": []
  },
  {
   "cell_type": "code",
   "execution_count": null,
   "id": "d3be898d",
   "metadata": {},
   "outputs": [],
   "source": []
  },
  {
   "cell_type": "code",
   "execution_count": null,
   "id": "3beddeb0",
   "metadata": {},
   "outputs": [],
   "source": []
  },
  {
   "cell_type": "code",
   "execution_count": null,
   "id": "cb750135",
   "metadata": {},
   "outputs": [],
   "source": []
  }
 ],
 "metadata": {
  "kernelspec": {
   "display_name": "Python 3 (ipykernel)",
   "language": "python",
   "name": "python3"
  },
  "language_info": {
   "codemirror_mode": {
    "name": "ipython",
    "version": 3
   },
   "file_extension": ".py",
   "mimetype": "text/x-python",
   "name": "python",
   "nbconvert_exporter": "python",
   "pygments_lexer": "ipython3",
   "version": "3.9.12"
  }
 },
 "nbformat": 4,
 "nbformat_minor": 5
}
