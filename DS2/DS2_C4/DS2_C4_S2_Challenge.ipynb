{
 "cells": [
  {
   "cell_type": "code",
   "execution_count": 1,
   "id": "0a420e94",
   "metadata": {},
   "outputs": [],
   "source": [
    "import pandas as pd\n",
    "import numpy as np\n",
    "import matplotlib.pyplot as plt\n",
    "from sklearn.cluster import KMeans"
   ]
  },
  {
   "cell_type": "code",
   "execution_count": null,
   "id": "b434533d",
   "metadata": {},
   "outputs": [],
   "source": []
  },
  {
   "cell_type": "markdown",
   "id": "237cd897",
   "metadata": {},
   "source": [
    "# TASK1"
   ]
  },
  {
   "cell_type": "code",
   "execution_count": 2,
   "id": "3fd52cf4",
   "metadata": {},
   "outputs": [],
   "source": [
    "df1 = pd.read_csv('DS2_C6_S2_CarSales_Data_Challenge.csv')"
   ]
  },
  {
   "cell_type": "code",
   "execution_count": null,
   "id": "8abbafa8",
   "metadata": {},
   "outputs": [],
   "source": []
  },
  {
   "cell_type": "code",
   "execution_count": 3,
   "id": "57f1324a",
   "metadata": {},
   "outputs": [
    {
     "data": {
      "text/html": [
       "<div>\n",
       "<style scoped>\n",
       "    .dataframe tbody tr th:only-of-type {\n",
       "        vertical-align: middle;\n",
       "    }\n",
       "\n",
       "    .dataframe tbody tr th {\n",
       "        vertical-align: top;\n",
       "    }\n",
       "\n",
       "    .dataframe thead th {\n",
       "        text-align: right;\n",
       "    }\n",
       "</style>\n",
       "<table border=\"1\" class=\"dataframe\">\n",
       "  <thead>\n",
       "    <tr style=\"text-align: right;\">\n",
       "      <th></th>\n",
       "      <th>Manufacturer</th>\n",
       "      <th>Model</th>\n",
       "      <th>Sales_in_thousands</th>\n",
       "      <th>Vehicle_type</th>\n",
       "      <th>Price_in_thousands</th>\n",
       "      <th>Engine_size</th>\n",
       "      <th>Horsepower</th>\n",
       "      <th>Wheelbase</th>\n",
       "      <th>Width</th>\n",
       "      <th>Length</th>\n",
       "      <th>Curb_weight</th>\n",
       "      <th>Fuel_capacity</th>\n",
       "      <th>Fuel_efficiency</th>\n",
       "      <th>Power_perf_factor</th>\n",
       "    </tr>\n",
       "  </thead>\n",
       "  <tbody>\n",
       "    <tr>\n",
       "      <th>0</th>\n",
       "      <td>Acura</td>\n",
       "      <td>Integra</td>\n",
       "      <td>16.919</td>\n",
       "      <td>Passenger</td>\n",
       "      <td>21.50</td>\n",
       "      <td>1.8</td>\n",
       "      <td>140.0</td>\n",
       "      <td>101.2</td>\n",
       "      <td>67.3</td>\n",
       "      <td>172.4</td>\n",
       "      <td>2.639</td>\n",
       "      <td>13.2</td>\n",
       "      <td>28.0</td>\n",
       "      <td>58.280150</td>\n",
       "    </tr>\n",
       "    <tr>\n",
       "      <th>1</th>\n",
       "      <td>Acura</td>\n",
       "      <td>TL</td>\n",
       "      <td>39.384</td>\n",
       "      <td>Passenger</td>\n",
       "      <td>28.40</td>\n",
       "      <td>3.2</td>\n",
       "      <td>225.0</td>\n",
       "      <td>108.1</td>\n",
       "      <td>70.3</td>\n",
       "      <td>192.9</td>\n",
       "      <td>3.517</td>\n",
       "      <td>17.2</td>\n",
       "      <td>25.0</td>\n",
       "      <td>91.370778</td>\n",
       "    </tr>\n",
       "    <tr>\n",
       "      <th>3</th>\n",
       "      <td>Acura</td>\n",
       "      <td>RL</td>\n",
       "      <td>8.588</td>\n",
       "      <td>Passenger</td>\n",
       "      <td>42.00</td>\n",
       "      <td>3.5</td>\n",
       "      <td>210.0</td>\n",
       "      <td>114.6</td>\n",
       "      <td>71.4</td>\n",
       "      <td>196.6</td>\n",
       "      <td>3.850</td>\n",
       "      <td>18.0</td>\n",
       "      <td>22.0</td>\n",
       "      <td>91.389779</td>\n",
       "    </tr>\n",
       "    <tr>\n",
       "      <th>4</th>\n",
       "      <td>Audi</td>\n",
       "      <td>A4</td>\n",
       "      <td>20.397</td>\n",
       "      <td>Passenger</td>\n",
       "      <td>23.99</td>\n",
       "      <td>1.8</td>\n",
       "      <td>150.0</td>\n",
       "      <td>102.6</td>\n",
       "      <td>68.2</td>\n",
       "      <td>178.0</td>\n",
       "      <td>2.998</td>\n",
       "      <td>16.4</td>\n",
       "      <td>27.0</td>\n",
       "      <td>62.777639</td>\n",
       "    </tr>\n",
       "    <tr>\n",
       "      <th>5</th>\n",
       "      <td>Audi</td>\n",
       "      <td>A6</td>\n",
       "      <td>18.780</td>\n",
       "      <td>Passenger</td>\n",
       "      <td>33.95</td>\n",
       "      <td>2.8</td>\n",
       "      <td>200.0</td>\n",
       "      <td>108.7</td>\n",
       "      <td>76.1</td>\n",
       "      <td>192.0</td>\n",
       "      <td>3.561</td>\n",
       "      <td>18.5</td>\n",
       "      <td>22.0</td>\n",
       "      <td>84.565105</td>\n",
       "    </tr>\n",
       "  </tbody>\n",
       "</table>\n",
       "</div>"
      ],
      "text/plain": [
       "  Manufacturer    Model  Sales_in_thousands Vehicle_type  Price_in_thousands  \\\n",
       "0        Acura  Integra              16.919    Passenger               21.50   \n",
       "1        Acura       TL              39.384    Passenger               28.40   \n",
       "3        Acura       RL               8.588    Passenger               42.00   \n",
       "4         Audi       A4              20.397    Passenger               23.99   \n",
       "5         Audi       A6              18.780    Passenger               33.95   \n",
       "\n",
       "   Engine_size  Horsepower  Wheelbase  Width  Length  Curb_weight  \\\n",
       "0          1.8       140.0      101.2   67.3   172.4        2.639   \n",
       "1          3.2       225.0      108.1   70.3   192.9        3.517   \n",
       "3          3.5       210.0      114.6   71.4   196.6        3.850   \n",
       "4          1.8       150.0      102.6   68.2   178.0        2.998   \n",
       "5          2.8       200.0      108.7   76.1   192.0        3.561   \n",
       "\n",
       "   Fuel_capacity  Fuel_efficiency  Power_perf_factor  \n",
       "0           13.2             28.0          58.280150  \n",
       "1           17.2             25.0          91.370778  \n",
       "3           18.0             22.0          91.389779  \n",
       "4           16.4             27.0          62.777639  \n",
       "5           18.5             22.0          84.565105  "
      ]
     },
     "execution_count": 3,
     "metadata": {},
     "output_type": "execute_result"
    }
   ],
   "source": [
    "df1.drop(['__year_resale_value','Latest_Launch'],axis=1, inplace = True)\n",
    "df1.dropna(inplace = True)\n",
    "df=df1.copy()\n",
    "df.head()"
   ]
  },
  {
   "cell_type": "code",
   "execution_count": 4,
   "id": "3ee5478f",
   "metadata": {},
   "outputs": [
    {
     "data": {
      "text/plain": [
       "Manufacturer           object\n",
       "Model                  object\n",
       "Sales_in_thousands    float64\n",
       "Vehicle_type           object\n",
       "Price_in_thousands    float64\n",
       "Engine_size           float64\n",
       "Horsepower            float64\n",
       "Wheelbase             float64\n",
       "Width                 float64\n",
       "Length                float64\n",
       "Curb_weight           float64\n",
       "Fuel_capacity         float64\n",
       "Fuel_efficiency       float64\n",
       "Power_perf_factor     float64\n",
       "dtype: object"
      ]
     },
     "execution_count": 4,
     "metadata": {},
     "output_type": "execute_result"
    }
   ],
   "source": [
    "df.dtypes"
   ]
  },
  {
   "cell_type": "code",
   "execution_count": 5,
   "id": "0e23bd9a",
   "metadata": {},
   "outputs": [],
   "source": [
    "from sklearn import preprocessing\n",
    "label_encoder = preprocessing.LabelEncoder()"
   ]
  },
  {
   "cell_type": "code",
   "execution_count": 6,
   "id": "7937f6c4",
   "metadata": {},
   "outputs": [],
   "source": [
    "df['Manufacturer'] = label_encoder.fit_transform(df['Manufacturer'])\n",
    "df['Model'] = label_encoder.fit_transform(df['Model'])\n",
    "df['Vehicle_type'] = label_encoder.fit_transform(df['Vehicle_type'])"
   ]
  },
  {
   "cell_type": "code",
   "execution_count": 7,
   "id": "f1acf586",
   "metadata": {},
   "outputs": [],
   "source": [
    "from sklearn.preprocessing import StandardScaler"
   ]
  },
  {
   "cell_type": "code",
   "execution_count": 8,
   "id": "4b59121c",
   "metadata": {},
   "outputs": [],
   "source": [
    "scaler = StandardScaler()\n",
    "scaled_df = pd.DataFrame(scaler.fit_transform(df),columns=df.columns)"
   ]
  },
  {
   "cell_type": "code",
   "execution_count": 9,
   "id": "811dc7ea",
   "metadata": {},
   "outputs": [
    {
     "data": {
      "text/html": [
       "<div>\n",
       "<style scoped>\n",
       "    .dataframe tbody tr th:only-of-type {\n",
       "        vertical-align: middle;\n",
       "    }\n",
       "\n",
       "    .dataframe tbody tr th {\n",
       "        vertical-align: top;\n",
       "    }\n",
       "\n",
       "    .dataframe thead th {\n",
       "        text-align: right;\n",
       "    }\n",
       "</style>\n",
       "<table border=\"1\" class=\"dataframe\">\n",
       "  <thead>\n",
       "    <tr style=\"text-align: right;\">\n",
       "      <th></th>\n",
       "      <th>Manufacturer</th>\n",
       "      <th>Model</th>\n",
       "      <th>Sales_in_thousands</th>\n",
       "      <th>Vehicle_type</th>\n",
       "      <th>Price_in_thousands</th>\n",
       "      <th>Engine_size</th>\n",
       "      <th>Horsepower</th>\n",
       "      <th>Wheelbase</th>\n",
       "      <th>Width</th>\n",
       "      <th>Length</th>\n",
       "      <th>Curb_weight</th>\n",
       "      <th>Fuel_capacity</th>\n",
       "      <th>Fuel_efficiency</th>\n",
       "      <th>Power_perf_factor</th>\n",
       "    </tr>\n",
       "  </thead>\n",
       "  <tbody>\n",
       "    <tr>\n",
       "      <th>0</th>\n",
       "      <td>-1.731004</td>\n",
       "      <td>0.065039</td>\n",
       "      <td>-0.530336</td>\n",
       "      <td>0.597614</td>\n",
       "      <td>-0.405800</td>\n",
       "      <td>-1.193989</td>\n",
       "      <td>-0.791180</td>\n",
       "      <td>-0.807785</td>\n",
       "      <td>-1.097174</td>\n",
       "      <td>-1.091782</td>\n",
       "      <td>-1.161844</td>\n",
       "      <td>-1.212659</td>\n",
       "      <td>0.969070</td>\n",
       "      <td>-0.734082</td>\n",
       "    </tr>\n",
       "    <tr>\n",
       "      <th>1</th>\n",
       "      <td>-1.731004</td>\n",
       "      <td>1.467461</td>\n",
       "      <td>-0.203388</td>\n",
       "      <td>0.597614</td>\n",
       "      <td>0.074328</td>\n",
       "      <td>0.143983</td>\n",
       "      <td>0.709634</td>\n",
       "      <td>0.089203</td>\n",
       "      <td>-0.228427</td>\n",
       "      <td>0.435008</td>\n",
       "      <td>0.221934</td>\n",
       "      <td>-0.193449</td>\n",
       "      <td>0.269868</td>\n",
       "      <td>0.584374</td>\n",
       "    </tr>\n",
       "    <tr>\n",
       "      <th>2</th>\n",
       "      <td>-1.731004</td>\n",
       "      <td>0.846717</td>\n",
       "      <td>-0.651583</td>\n",
       "      <td>0.597614</td>\n",
       "      <td>1.020668</td>\n",
       "      <td>0.430691</td>\n",
       "      <td>0.444785</td>\n",
       "      <td>0.934192</td>\n",
       "      <td>0.090113</td>\n",
       "      <td>0.710575</td>\n",
       "      <td>0.746760</td>\n",
       "      <td>0.010393</td>\n",
       "      <td>-0.429335</td>\n",
       "      <td>0.585131</td>\n",
       "    </tr>\n",
       "    <tr>\n",
       "      <th>3</th>\n",
       "      <td>-1.613648</td>\n",
       "      <td>-1.544298</td>\n",
       "      <td>-0.479719</td>\n",
       "      <td>0.597614</td>\n",
       "      <td>-0.232537</td>\n",
       "      <td>-1.193989</td>\n",
       "      <td>-0.614614</td>\n",
       "      <td>-0.625788</td>\n",
       "      <td>-0.836550</td>\n",
       "      <td>-0.674708</td>\n",
       "      <td>-0.596040</td>\n",
       "      <td>-0.397291</td>\n",
       "      <td>0.736002</td>\n",
       "      <td>-0.554885</td>\n",
       "    </tr>\n",
       "    <tr>\n",
       "      <th>4</th>\n",
       "      <td>-1.613648</td>\n",
       "      <td>-1.521307</td>\n",
       "      <td>-0.503252</td>\n",
       "      <td>0.597614</td>\n",
       "      <td>0.460518</td>\n",
       "      <td>-0.238295</td>\n",
       "      <td>0.268218</td>\n",
       "      <td>0.167202</td>\n",
       "      <td>1.451150</td>\n",
       "      <td>0.367978</td>\n",
       "      <td>0.291280</td>\n",
       "      <td>0.137795</td>\n",
       "      <td>-0.429335</td>\n",
       "      <td>0.313210</td>\n",
       "    </tr>\n",
       "  </tbody>\n",
       "</table>\n",
       "</div>"
      ],
      "text/plain": [
       "   Manufacturer     Model  Sales_in_thousands  Vehicle_type  \\\n",
       "0     -1.731004  0.065039           -0.530336      0.597614   \n",
       "1     -1.731004  1.467461           -0.203388      0.597614   \n",
       "2     -1.731004  0.846717           -0.651583      0.597614   \n",
       "3     -1.613648 -1.544298           -0.479719      0.597614   \n",
       "4     -1.613648 -1.521307           -0.503252      0.597614   \n",
       "\n",
       "   Price_in_thousands  Engine_size  Horsepower  Wheelbase     Width    Length  \\\n",
       "0           -0.405800    -1.193989   -0.791180  -0.807785 -1.097174 -1.091782   \n",
       "1            0.074328     0.143983    0.709634   0.089203 -0.228427  0.435008   \n",
       "2            1.020668     0.430691    0.444785   0.934192  0.090113  0.710575   \n",
       "3           -0.232537    -1.193989   -0.614614  -0.625788 -0.836550 -0.674708   \n",
       "4            0.460518    -0.238295    0.268218   0.167202  1.451150  0.367978   \n",
       "\n",
       "   Curb_weight  Fuel_capacity  Fuel_efficiency  Power_perf_factor  \n",
       "0    -1.161844      -1.212659         0.969070          -0.734082  \n",
       "1     0.221934      -0.193449         0.269868           0.584374  \n",
       "2     0.746760       0.010393        -0.429335           0.585131  \n",
       "3    -0.596040      -0.397291         0.736002          -0.554885  \n",
       "4     0.291280       0.137795        -0.429335           0.313210  "
      ]
     },
     "execution_count": 9,
     "metadata": {},
     "output_type": "execute_result"
    }
   ],
   "source": [
    "scaled_df.head()"
   ]
  },
  {
   "cell_type": "code",
   "execution_count": null,
   "id": "8be95832",
   "metadata": {},
   "outputs": [],
   "source": []
  },
  {
   "cell_type": "markdown",
   "id": "26d45f25",
   "metadata": {},
   "source": [
    "# TASK2"
   ]
  },
  {
   "cell_type": "code",
   "execution_count": null,
   "id": "23fd608c",
   "metadata": {},
   "outputs": [],
   "source": []
  },
  {
   "cell_type": "code",
   "execution_count": 10,
   "id": "eb949831",
   "metadata": {},
   "outputs": [
    {
     "name": "stdout",
     "output_type": "stream",
     "text": [
      "For n_clusters = 2 The average silhouette_score is : 0.25401568432592725\n",
      "For n_clusters = 3 The average silhouette_score is : 0.244081575848955\n",
      "For n_clusters = 4 The average silhouette_score is : 0.19814199529299847\n",
      "For n_clusters = 5 The average silhouette_score is : 0.21478074068763178\n",
      "For n_clusters = 6 The average silhouette_score is : 0.17502963897624307\n",
      "For n_clusters = 7 The average silhouette_score is : 0.16963559453653887\n",
      "For n_clusters = 8 The average silhouette_score is : 0.18044249104566498\n",
      "For n_clusters = 9 The average silhouette_score is : 0.17213076314900314\n"
     ]
    }
   ],
   "source": [
    "from sklearn.metrics import silhouette_samples, silhouette_score\n",
    "import matplotlib.cm as cm\n",
    "import numpy as np\n",
    "\n",
    "range_n_clusters = list(range(2,10))\n",
    "\n",
    "for n_clusters in range_n_clusters:\n",
    "\n",
    "    clusterer = KMeans(n_clusters=n_clusters, random_state=10)\n",
    "    cluster_labels = clusterer.fit_predict(scaled_df)\n",
    "\n",
    "    silhouette_avg = silhouette_score(scaled_df, cluster_labels)\n",
    "    print(\"For n_clusters =\", n_clusters,\n",
    "          \"The average silhouette_score is :\", silhouette_avg)\n"
   ]
  },
  {
   "cell_type": "code",
   "execution_count": null,
   "id": "f9c377f4",
   "metadata": {},
   "outputs": [],
   "source": []
  },
  {
   "cell_type": "code",
   "execution_count": 11,
   "id": "00976d0b",
   "metadata": {},
   "outputs": [
    {
     "data": {
      "image/png": "[encoded data removed]",
      "text/plain": [
       "<Figure size 1080x360 with 1 Axes>"
      ]
     },
     "metadata": {
      "needs_background": "light"
     },
     "output_type": "display_data"
    }
   ],
   "source": [
    "distorsions = []\n",
    "for k in range(2, 15):\n",
    "    kmeans = KMeans(n_clusters=k)\n",
    "    kmeans.fit(scaled_df)\n",
    "    distorsions.append(kmeans.inertia_)\n",
    "\n",
    "fig = plt.figure(figsize=(15, 5))\n",
    "plt.plot(range(2, 15), distorsions)\n",
    "plt.grid(True)\n",
    "plt.xlabel('K')\n",
    "plt.ylabel('Distorsions')\n",
    "plt.title('Elbow curve');"
   ]
  },
  {
   "cell_type": "markdown",
   "id": "07544190",
   "metadata": {},
   "source": [
    "# TASK3"
   ]
  },
  {
   "cell_type": "code",
   "execution_count": 12,
   "id": "be74abad",
   "metadata": {},
   "outputs": [
    {
     "data": {
      "text/plain": [
       "KMeans(n_clusters=2)"
      ]
     },
     "execution_count": 12,
     "metadata": {},
     "output_type": "execute_result"
    }
   ],
   "source": [
    "Kmeans_model = KMeans(n_clusters=2)\n",
    "Kmeans_model.fit(scaled_df)"
   ]
  },
  {
   "cell_type": "code",
   "execution_count": 13,
   "id": "45709ac9",
   "metadata": {},
   "outputs": [
    {
     "data": {
      "text/plain": [
       "array([[ 0.27048197, -0.03952066,  0.03517156,  0.34874479, -0.53750058,\n",
       "        -0.74494394, -0.7079761 , -0.58091165, -0.70365921, -0.60114868,\n",
       "        -0.76225965, -0.67303598,  0.63064318, -0.69188597],\n",
       "       [-0.24993904,  0.03651909, -0.0325003 , -0.32225784,  0.49667775,\n",
       "         0.68836592,  0.65420576,  0.53679178,  0.65021674,  0.55549182,\n",
       "         0.70436651,  0.62191933, -0.58274623,  0.63933767]])"
      ]
     },
     "execution_count": 13,
     "metadata": {},
     "output_type": "execute_result"
    }
   ],
   "source": [
    "cluster_centroid = Kmeans_model.cluster_centers_\n",
    "cluster_centroid"
   ]
  },
  {
   "cell_type": "code",
   "execution_count": 14,
   "id": "b07a5acd",
   "metadata": {},
   "outputs": [],
   "source": [
    "labels = Kmeans_model.labels_"
   ]
  },
  {
   "cell_type": "code",
   "execution_count": 15,
   "id": "87e31d14",
   "metadata": {},
   "outputs": [],
   "source": [
    "df1['Labels'] = labels "
   ]
  },
  {
   "cell_type": "code",
   "execution_count": 16,
   "id": "3c0244ac",
   "metadata": {},
   "outputs": [],
   "source": [
    "g = df1.groupby('Labels')"
   ]
  },
  {
   "cell_type": "code",
   "execution_count": 17,
   "id": "6fc38b66",
   "metadata": {},
   "outputs": [
    {
     "data": {
      "text/plain": [
       "array(['Integra', 'A4', '323i', '328i', 'Cavalier', 'Malibu', 'Prizm',\n",
       "       'Metro', 'Sebring Coupe', 'Sebring Conv.', 'Cirrus', 'Neon',\n",
       "       'Avenger', 'Stratus', 'Escort', 'Mustang', 'Contour', 'Taurus',\n",
       "       'Focus', 'Ranger', 'Civic', 'Accord', 'CR-V', 'Accent', 'Elantra',\n",
       "       'Sonata', 'Wrangler', 'Mirage', 'Eclipse', 'Galant', '3000GT',\n",
       "       'Montero Sport', 'Mystique', 'Cougar', 'Sable', 'C-Class', 'SLK',\n",
       "       'SLK230', 'CLK Coupe', 'Sentra', 'Altima', 'Cutlass', 'Alero',\n",
       "       'Breeze', 'Sunfire', 'Grand Am', 'Boxter', '5-Sep', '3-Sep', 'SL',\n",
       "       'SC', 'SW', 'LW', 'LS', 'Outback', 'Forester', 'Corolla', 'Camry',\n",
       "       'Celica', 'Tacoma', 'RAV4', '4Runner', 'Golf', 'Jetta', 'Passat',\n",
       "       'Cabrio', 'GTI', 'Beetle', 'S40', 'V40', 'S70', 'V70'],\n",
       "      dtype=object)"
      ]
     },
     "execution_count": 17,
     "metadata": {},
     "output_type": "execute_result"
    }
   ],
   "source": [
    "g.get_group(0).Model.unique()"
   ]
  },
  {
   "cell_type": "code",
   "execution_count": 18,
   "id": "2d92c086",
   "metadata": {},
   "outputs": [
    {
     "data": {
      "text/plain": [
       "array(['TL', 'RL', 'A6', 'A8', '528i', 'Century', 'Regal', 'Park Avenue',\n",
       "       'LeSabre', 'DeVille', 'Eldorado', 'Catera', 'Escalade', 'Lumina',\n",
       "       'Monte Carlo', 'Camaro', 'Corvette', 'Impala', 'Concorde', 'LHS',\n",
       "       '300M', 'Viper', 'Ram Pickup', 'Ram Wagon', 'Ram Van', 'Dakota',\n",
       "       'Durango', 'Caravan', 'Crown Victoria', 'Explorer', 'Windstar',\n",
       "       'Expedition', 'F-Series', 'Passport', 'Odyssey', 'I30', 'S-Type',\n",
       "       'Cherokee', 'Grand Cherokee', 'ES300', 'GS300', 'GS400', 'LS400',\n",
       "       'LX470', 'RX300', 'Continental', 'Town car', 'Navigator',\n",
       "       'Diamante', 'Montero', 'Grand Marquis', 'Mountaineer', 'Villager',\n",
       "       'E-Class', 'S-Class', 'SL-Class', 'CL500', 'M-Class', 'Maxima',\n",
       "       'Quest', 'Pathfinder', 'Xterra', 'Frontier', 'Aurora', 'Bravada',\n",
       "       'Silhouette', 'Voyager', 'Prowler', 'Firebird', 'Grand Prix',\n",
       "       'Bonneville', 'Montana', 'Carrera Coupe', 'Carrera Cabrio',\n",
       "       'Avalon', 'Sienna', 'Land Cruiser', 'C70', 'S80'], dtype=object)"
      ]
     },
     "execution_count": 18,
     "metadata": {},
     "output_type": "execute_result"
    }
   ],
   "source": [
    "g.get_group(1).Model.unique()"
   ]
  },
  {
   "cell_type": "markdown",
   "id": "d16994aa",
   "metadata": {},
   "source": [
    "### Created two dataframse based on cluster"
   ]
  },
  {
   "cell_type": "code",
   "execution_count": 21,
   "id": "af75a5df",
   "metadata": {},
   "outputs": [],
   "source": [
    "cl1= df1[df1['Labels']==0]"
   ]
  },
  {
   "cell_type": "code",
   "execution_count": 22,
   "id": "4ac3aa81",
   "metadata": {},
   "outputs": [],
   "source": [
    "cl2= df1[df1['Labels']==1]"
   ]
  },
  {
   "cell_type": "markdown",
   "id": "fe0e91b9",
   "metadata": {},
   "source": [
    "### For First Cluster "
   ]
  },
  {
   "cell_type": "code",
   "execution_count": 55,
   "id": "3da385c2",
   "metadata": {},
   "outputs": [
    {
     "data": {
      "image/png": "[encoded data removed]",
      "text/plain": [
       "<Figure size 2160x720 with 1 Axes>"
      ]
     },
     "metadata": {
      "needs_background": "light"
     },
     "output_type": "display_data"
    }
   ],
   "source": [
    "X = cl1[['Model','Manufacturer']].groupby('Manufacturer').count()\n",
    "plt.figure(figsize=(30,10))\n",
    "plt.bar(x=X.index, height=X[\"Model\"],color ='maroon');"
   ]
  },
  {
   "cell_type": "markdown",
   "id": "ac7e5ba9",
   "metadata": {},
   "source": [
    "### For second Cluster"
   ]
  },
  {
   "cell_type": "code",
   "execution_count": 56,
   "id": "06db25b2",
   "metadata": {},
   "outputs": [
    {
     "data": {
      "image/png": "[encoded data removed]",
      "text/plain": [
       "<Figure size 2160x720 with 1 Axes>"
      ]
     },
     "metadata": {
      "needs_background": "light"
     },
     "output_type": "display_data"
    }
   ],
   "source": [
    "X = cl2[['Model','Manufacturer']].groupby('Manufacturer').count()\n",
    "plt.figure(figsize=(30,10))\n",
    "plt.bar(x=X.index, height=X[\"Model\"],color ='maroon');"
   ]
  },
  {
   "cell_type": "code",
   "execution_count": null,
   "id": "b63d56bf",
   "metadata": {},
   "outputs": [],
   "source": []
  },
  {
   "cell_type": "code",
   "execution_count": 62,
   "id": "0afc5921",
   "metadata": {},
   "outputs": [
    {
     "data": {
      "text/plain": [
       "<AxesSubplot:ylabel='Frequency'>"
      ]
     },
     "execution_count": 62,
     "metadata": {},
     "output_type": "execute_result"
    },
    {
     "data": {
      "image/png": "[encoded data removed]",
      "text/plain": [
       "<Figure size 2160x720 with 1 Axes>"
      ]
     },
     "metadata": {
      "needs_background": "light"
     },
     "output_type": "display_data"
    }
   ],
   "source": [
    "cl1.plot(x='Manufacturer', y = 'Horsepower', kind = 'hist', figsize=(30,10))"
   ]
  },
  {
   "cell_type": "code",
   "execution_count": 63,
   "id": "4ad8a723",
   "metadata": {},
   "outputs": [
    {
     "data": {
      "text/plain": [
       "<AxesSubplot:ylabel='Frequency'>"
      ]
     },
     "execution_count": 63,
     "metadata": {},
     "output_type": "execute_result"
    },
    {
     "data": {
      "image/png": "[encoded data removed]",
      "text/plain": [
       "<Figure size 2160x720 with 1 Axes>"
      ]
     },
     "metadata": {
      "needs_background": "light"
     },
     "output_type": "display_data"
    }
   ],
   "source": [
    "cl2.plot(x='Manufacturer', y = 'Horsepower', kind = 'hist', figsize=(30,10))"
   ]
  },
  {
   "cell_type": "code",
   "execution_count": 64,
   "id": "ecbb4673",
   "metadata": {},
   "outputs": [
    {
     "data": {
      "text/html": [
       "<div>\n",
       "<style scoped>\n",
       "    .dataframe tbody tr th:only-of-type {\n",
       "        vertical-align: middle;\n",
       "    }\n",
       "\n",
       "    .dataframe tbody tr th {\n",
       "        vertical-align: top;\n",
       "    }\n",
       "\n",
       "    .dataframe thead th {\n",
       "        text-align: right;\n",
       "    }\n",
       "</style>\n",
       "<table border=\"1\" class=\"dataframe\">\n",
       "  <thead>\n",
       "    <tr style=\"text-align: right;\">\n",
       "      <th></th>\n",
       "      <th>Manufacturer</th>\n",
       "      <th>Model</th>\n",
       "      <th>Sales_in_thousands</th>\n",
       "      <th>Vehicle_type</th>\n",
       "      <th>Price_in_thousands</th>\n",
       "      <th>Engine_size</th>\n",
       "      <th>Horsepower</th>\n",
       "      <th>Wheelbase</th>\n",
       "      <th>Width</th>\n",
       "      <th>Length</th>\n",
       "      <th>Curb_weight</th>\n",
       "      <th>Fuel_capacity</th>\n",
       "      <th>Fuel_efficiency</th>\n",
       "      <th>Power_perf_factor</th>\n",
       "      <th>Labels</th>\n",
       "    </tr>\n",
       "  </thead>\n",
       "  <tbody>\n",
       "    <tr>\n",
       "      <th>0</th>\n",
       "      <td>Acura</td>\n",
       "      <td>Integra</td>\n",
       "      <td>16.919</td>\n",
       "      <td>Passenger</td>\n",
       "      <td>21.50</td>\n",
       "      <td>1.8</td>\n",
       "      <td>140.0</td>\n",
       "      <td>101.2</td>\n",
       "      <td>67.3</td>\n",
       "      <td>172.4</td>\n",
       "      <td>2.639</td>\n",
       "      <td>13.2</td>\n",
       "      <td>28.0</td>\n",
       "      <td>58.280150</td>\n",
       "      <td>0</td>\n",
       "    </tr>\n",
       "    <tr>\n",
       "      <th>4</th>\n",
       "      <td>Audi</td>\n",
       "      <td>A4</td>\n",
       "      <td>20.397</td>\n",
       "      <td>Passenger</td>\n",
       "      <td>23.99</td>\n",
       "      <td>1.8</td>\n",
       "      <td>150.0</td>\n",
       "      <td>102.6</td>\n",
       "      <td>68.2</td>\n",
       "      <td>178.0</td>\n",
       "      <td>2.998</td>\n",
       "      <td>16.4</td>\n",
       "      <td>27.0</td>\n",
       "      <td>62.777639</td>\n",
       "      <td>0</td>\n",
       "    </tr>\n",
       "    <tr>\n",
       "      <th>7</th>\n",
       "      <td>BMW</td>\n",
       "      <td>323i</td>\n",
       "      <td>19.747</td>\n",
       "      <td>Passenger</td>\n",
       "      <td>26.99</td>\n",
       "      <td>2.5</td>\n",
       "      <td>170.0</td>\n",
       "      <td>107.3</td>\n",
       "      <td>68.4</td>\n",
       "      <td>176.0</td>\n",
       "      <td>3.179</td>\n",
       "      <td>16.6</td>\n",
       "      <td>26.0</td>\n",
       "      <td>71.191207</td>\n",
       "      <td>0</td>\n",
       "    </tr>\n",
       "    <tr>\n",
       "      <th>8</th>\n",
       "      <td>BMW</td>\n",
       "      <td>328i</td>\n",
       "      <td>9.231</td>\n",
       "      <td>Passenger</td>\n",
       "      <td>33.40</td>\n",
       "      <td>2.8</td>\n",
       "      <td>193.0</td>\n",
       "      <td>107.3</td>\n",
       "      <td>68.5</td>\n",
       "      <td>176.0</td>\n",
       "      <td>3.197</td>\n",
       "      <td>16.6</td>\n",
       "      <td>24.0</td>\n",
       "      <td>81.877069</td>\n",
       "      <td>0</td>\n",
       "    </tr>\n",
       "    <tr>\n",
       "      <th>19</th>\n",
       "      <td>Chevrolet</td>\n",
       "      <td>Cavalier</td>\n",
       "      <td>145.519</td>\n",
       "      <td>Passenger</td>\n",
       "      <td>13.26</td>\n",
       "      <td>2.2</td>\n",
       "      <td>115.0</td>\n",
       "      <td>104.1</td>\n",
       "      <td>67.9</td>\n",
       "      <td>180.9</td>\n",
       "      <td>2.676</td>\n",
       "      <td>14.3</td>\n",
       "      <td>27.0</td>\n",
       "      <td>46.363347</td>\n",
       "      <td>0</td>\n",
       "    </tr>\n",
       "  </tbody>\n",
       "</table>\n",
       "</div>"
      ],
      "text/plain": [
       "   Manufacturer     Model  Sales_in_thousands Vehicle_type  \\\n",
       "0         Acura   Integra              16.919    Passenger   \n",
       "4          Audi        A4              20.397    Passenger   \n",
       "7           BMW      323i              19.747    Passenger   \n",
       "8           BMW      328i               9.231    Passenger   \n",
       "19    Chevrolet  Cavalier             145.519    Passenger   \n",
       "\n",
       "    Price_in_thousands  Engine_size  Horsepower  Wheelbase  Width  Length  \\\n",
       "0                21.50          1.8       140.0      101.2   67.3   172.4   \n",
       "4                23.99          1.8       150.0      102.6   68.2   178.0   \n",
       "7                26.99          2.5       170.0      107.3   68.4   176.0   \n",
       "8                33.40          2.8       193.0      107.3   68.5   176.0   \n",
       "19               13.26          2.2       115.0      104.1   67.9   180.9   \n",
       "\n",
       "    Curb_weight  Fuel_capacity  Fuel_efficiency  Power_perf_factor  Labels  \n",
       "0         2.639           13.2             28.0          58.280150       0  \n",
       "4         2.998           16.4             27.0          62.777639       0  \n",
       "7         3.179           16.6             26.0          71.191207       0  \n",
       "8         3.197           16.6             24.0          81.877069       0  \n",
       "19        2.676           14.3             27.0          46.363347       0  "
      ]
     },
     "execution_count": 64,
     "metadata": {},
     "output_type": "execute_result"
    }
   ],
   "source": [
    "cl1.head()"
   ]
  },
  {
   "cell_type": "code",
   "execution_count": 65,
   "id": "68116a21",
   "metadata": {},
   "outputs": [
    {
     "data": {
      "text/plain": [
       "<AxesSubplot:ylabel='Frequency'>"
      ]
     },
     "execution_count": 65,
     "metadata": {},
     "output_type": "execute_result"
    },
    {
     "data": {
      "image/png": "[encoded data removed]",
      "text/plain": [
       "<Figure size 2160x720 with 1 Axes>"
      ]
     },
     "metadata": {
      "needs_background": "light"
     },
     "output_type": "display_data"
    }
   ],
   "source": [
    "cl2.plot(x='Manufacturer', y = 'Price_in_thousands', kind = 'hist', figsize=(30,10))"
   ]
  },
  {
   "cell_type": "code",
   "execution_count": 66,
   "id": "40f1b123",
   "metadata": {},
   "outputs": [
    {
     "data": {
      "text/plain": [
       "<AxesSubplot:ylabel='Frequency'>"
      ]
     },
     "execution_count": 66,
     "metadata": {},
     "output_type": "execute_result"
    },
    {
     "data": {
      "image/png": "[encoded data removed]",
      "text/plain": [
       "<Figure size 2160x720 with 1 Axes>"
      ]
     },
     "metadata": {
      "needs_background": "light"
     },
     "output_type": "display_data"
    }
   ],
   "source": [
    "cl1.plot(x='Manufacturer', y = 'Price_in_thousands', kind = 'hist', figsize=(30,10))"
   ]
  },
  {
   "cell_type": "code",
   "execution_count": null,
   "id": "e1ce6319",
   "metadata": {},
   "outputs": [],
   "source": []
  }
 ],
 "metadata": {
  "kernelspec": {
   "display_name": "Python 3 (ipykernel)",
   "language": "python",
   "name": "python3"
  },
  "language_info": {
   "codemirror_mode": {
    "name": "ipython",
    "version": 3
   },
   "file_extension": ".py",
   "mimetype": "text/x-python",
   "name": "python",
   "nbconvert_exporter": "python",
   "pygments_lexer": "ipython3",
   "version": "3.9.12"
  }
 },
 "nbformat": 4,
 "nbformat_minor": 5
}
