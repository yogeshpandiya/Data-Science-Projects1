{
 "cells": [
  {
   "cell_type": "code",
   "execution_count": 1,
   "id": "8e87f241",
   "metadata": {},
   "outputs": [],
   "source": [
    "import math\n",
    "import numpy as np\n",
    "import matplotlib.pyplot as plt\n",
    "import matplotlib\n",
    "import pandas as pd\n",
    "from sklearn import metrics"
   ]
  },
  {
   "cell_type": "code",
   "execution_count": 2,
   "id": "05add1d2",
   "metadata": {},
   "outputs": [],
   "source": [
    "df1 = pd.read_csv('DS2_C6_S4_CarSales_Data_Challenge.csv')"
   ]
  },
  {
   "cell_type": "code",
   "execution_count": 3,
   "id": "b01fc7f0",
   "metadata": {},
   "outputs": [
    {
     "data": {
      "text/html": [
       "<div>\n",
       "<style scoped>\n",
       "    .dataframe tbody tr th:only-of-type {\n",
       "        vertical-align: middle;\n",
       "    }\n",
       "\n",
       "    .dataframe tbody tr th {\n",
       "        vertical-align: top;\n",
       "    }\n",
       "\n",
       "    .dataframe thead th {\n",
       "        text-align: right;\n",
       "    }\n",
       "</style>\n",
       "<table border=\"1\" class=\"dataframe\">\n",
       "  <thead>\n",
       "    <tr style=\"text-align: right;\">\n",
       "      <th></th>\n",
       "      <th>Manufacturer</th>\n",
       "      <th>Model</th>\n",
       "      <th>Sales_in_thousands</th>\n",
       "      <th>Vehicle_type</th>\n",
       "      <th>Price_in_thousands</th>\n",
       "      <th>Engine_size</th>\n",
       "      <th>Horsepower</th>\n",
       "      <th>Wheelbase</th>\n",
       "      <th>Width</th>\n",
       "      <th>Length</th>\n",
       "      <th>Curb_weight</th>\n",
       "      <th>Fuel_capacity</th>\n",
       "      <th>Fuel_efficiency</th>\n",
       "      <th>Power_perf_factor</th>\n",
       "    </tr>\n",
       "  </thead>\n",
       "  <tbody>\n",
       "    <tr>\n",
       "      <th>0</th>\n",
       "      <td>Acura</td>\n",
       "      <td>Integra</td>\n",
       "      <td>16.919</td>\n",
       "      <td>Passenger</td>\n",
       "      <td>21.50</td>\n",
       "      <td>1.8</td>\n",
       "      <td>140.0</td>\n",
       "      <td>101.2</td>\n",
       "      <td>67.3</td>\n",
       "      <td>172.4</td>\n",
       "      <td>2.639</td>\n",
       "      <td>13.2</td>\n",
       "      <td>28.0</td>\n",
       "      <td>58.280150</td>\n",
       "    </tr>\n",
       "    <tr>\n",
       "      <th>1</th>\n",
       "      <td>Acura</td>\n",
       "      <td>TL</td>\n",
       "      <td>39.384</td>\n",
       "      <td>Passenger</td>\n",
       "      <td>28.40</td>\n",
       "      <td>3.2</td>\n",
       "      <td>225.0</td>\n",
       "      <td>108.1</td>\n",
       "      <td>70.3</td>\n",
       "      <td>192.9</td>\n",
       "      <td>3.517</td>\n",
       "      <td>17.2</td>\n",
       "      <td>25.0</td>\n",
       "      <td>91.370778</td>\n",
       "    </tr>\n",
       "    <tr>\n",
       "      <th>3</th>\n",
       "      <td>Acura</td>\n",
       "      <td>RL</td>\n",
       "      <td>8.588</td>\n",
       "      <td>Passenger</td>\n",
       "      <td>42.00</td>\n",
       "      <td>3.5</td>\n",
       "      <td>210.0</td>\n",
       "      <td>114.6</td>\n",
       "      <td>71.4</td>\n",
       "      <td>196.6</td>\n",
       "      <td>3.850</td>\n",
       "      <td>18.0</td>\n",
       "      <td>22.0</td>\n",
       "      <td>91.389779</td>\n",
       "    </tr>\n",
       "    <tr>\n",
       "      <th>4</th>\n",
       "      <td>Audi</td>\n",
       "      <td>A4</td>\n",
       "      <td>20.397</td>\n",
       "      <td>Passenger</td>\n",
       "      <td>23.99</td>\n",
       "      <td>1.8</td>\n",
       "      <td>150.0</td>\n",
       "      <td>102.6</td>\n",
       "      <td>68.2</td>\n",
       "      <td>178.0</td>\n",
       "      <td>2.998</td>\n",
       "      <td>16.4</td>\n",
       "      <td>27.0</td>\n",
       "      <td>62.777639</td>\n",
       "    </tr>\n",
       "    <tr>\n",
       "      <th>5</th>\n",
       "      <td>Audi</td>\n",
       "      <td>A6</td>\n",
       "      <td>18.780</td>\n",
       "      <td>Passenger</td>\n",
       "      <td>33.95</td>\n",
       "      <td>2.8</td>\n",
       "      <td>200.0</td>\n",
       "      <td>108.7</td>\n",
       "      <td>76.1</td>\n",
       "      <td>192.0</td>\n",
       "      <td>3.561</td>\n",
       "      <td>18.5</td>\n",
       "      <td>22.0</td>\n",
       "      <td>84.565105</td>\n",
       "    </tr>\n",
       "  </tbody>\n",
       "</table>\n",
       "</div>"
      ],
      "text/plain": [
       "  Manufacturer    Model  Sales_in_thousands Vehicle_type  Price_in_thousands  \\\n",
       "0        Acura  Integra              16.919    Passenger               21.50   \n",
       "1        Acura       TL              39.384    Passenger               28.40   \n",
       "3        Acura       RL               8.588    Passenger               42.00   \n",
       "4         Audi       A4              20.397    Passenger               23.99   \n",
       "5         Audi       A6              18.780    Passenger               33.95   \n",
       "\n",
       "   Engine_size  Horsepower  Wheelbase  Width  Length  Curb_weight  \\\n",
       "0          1.8       140.0      101.2   67.3   172.4        2.639   \n",
       "1          3.2       225.0      108.1   70.3   192.9        3.517   \n",
       "3          3.5       210.0      114.6   71.4   196.6        3.850   \n",
       "4          1.8       150.0      102.6   68.2   178.0        2.998   \n",
       "5          2.8       200.0      108.7   76.1   192.0        3.561   \n",
       "\n",
       "   Fuel_capacity  Fuel_efficiency  Power_perf_factor  \n",
       "0           13.2             28.0          58.280150  \n",
       "1           17.2             25.0          91.370778  \n",
       "3           18.0             22.0          91.389779  \n",
       "4           16.4             27.0          62.777639  \n",
       "5           18.5             22.0          84.565105  "
      ]
     },
     "execution_count": 3,
     "metadata": {},
     "output_type": "execute_result"
    }
   ],
   "source": [
    "df1.drop(['__year_resale_value','Latest_Launch'],axis=1, inplace = True)\n",
    "df1.dropna(inplace = True)\n",
    "df=df1.copy()\n",
    "df.head()"
   ]
  },
  {
   "cell_type": "code",
   "execution_count": 4,
   "id": "c9415e8a",
   "metadata": {},
   "outputs": [],
   "source": [
    "from sklearn import preprocessing\n",
    "label_encoder = preprocessing.LabelEncoder()"
   ]
  },
  {
   "cell_type": "code",
   "execution_count": 5,
   "id": "13463952",
   "metadata": {},
   "outputs": [],
   "source": [
    "df['Manufacturer'] = label_encoder.fit_transform(df['Manufacturer'])\n",
    "df['Model'] = label_encoder.fit_transform(df['Model'])\n",
    "df['Vehicle_type'] = label_encoder.fit_transform(df['Vehicle_type'])"
   ]
  },
  {
   "cell_type": "code",
   "execution_count": 6,
   "id": "02166529",
   "metadata": {},
   "outputs": [],
   "source": [
    "from sklearn.preprocessing import StandardScaler"
   ]
  },
  {
   "cell_type": "code",
   "execution_count": 7,
   "id": "69ce4aff",
   "metadata": {},
   "outputs": [],
   "source": [
    "scaler = StandardScaler()\n",
    "scaled_df = pd.DataFrame(scaler.fit_transform(df),columns=df.columns)"
   ]
  },
  {
   "cell_type": "markdown",
   "id": "42dcc0cc",
   "metadata": {},
   "source": [
    "# TASK2"
   ]
  },
  {
   "cell_type": "code",
   "execution_count": 8,
   "id": "244ff453",
   "metadata": {},
   "outputs": [
    {
     "data": {
      "image/png": "[encoded data removed]",
      "text/plain": [
       "<Figure size 432x288 with 1 Axes>"
      ]
     },
     "metadata": {
      "needs_background": "light"
     },
     "output_type": "display_data"
    }
   ],
   "source": [
    "plt.scatter(scaled_df['Width'], scaled_df['Length'],s=15,color='grey')\n",
    "plt.title('Car Features',fontsize=20)\n",
    "plt.xlabel('Width',fontsize=14)\n",
    "plt.ylabel('Length',fontsize=14)\n",
    "plt.show()"
   ]
  },
  {
   "cell_type": "code",
   "execution_count": 9,
   "id": "435638fb",
   "metadata": {},
   "outputs": [
    {
     "data": {
      "text/plain": [
       "array([ 0,  0,  0,  0, -1,  1,  0,  0,  0,  1,  1, -1,  1, -1, -1,  0, -1,\n",
       "        0,  0,  1,  1, -1, -1,  0, -1,  1,  0,  0, -1,  0, -1,  1, -1,  0,\n",
       "        0, -1, -1, -1, -1, -1, -1, -1,  0, -1,  0,  1,  0, -1,  0, -1, -1,\n",
       "       -1, -1,  0,  0,  0, -1, -1, -1,  0,  0,  0,  0, -1, -1, -1,  0,  0,\n",
       "        0,  1, -1, -1, -1, -1, -1,  0,  0,  0,  0, -1,  0,  0,  0,  0,  1,\n",
       "       -1,  0, -1,  0,  0,  1, -1, -1, -1,  0,  1, -1,  0,  0,  0, -1,  0,\n",
       "       -1, -1,  0,  0, -1,  0,  1, -1,  0, -1, -1,  0,  0, -1,  1,  1,  1,\n",
       "       -1,  0,  0,  0,  0,  0,  0,  0,  0,  0,  0,  0,  0,  0,  0,  0,  0,\n",
       "        1, -1,  0, -1, -1,  0,  0, -1, -1, -1,  0,  0,  0,  0,  0, -1],\n",
       "      dtype=int64)"
      ]
     },
     "execution_count": 9,
     "metadata": {},
     "output_type": "execute_result"
    }
   ],
   "source": [
    "T1 = scaled_df.iloc[:,8:10]\n",
    "T2 = df.iloc[:,8:10]\n",
    "from sklearn.cluster import DBSCAN\n",
    "dbscan=DBSCAN(eps=0.35, min_samples=11)\n",
    "dbscan.fit(T1)\n",
    "dbscan.labels_"
   ]
  },
  {
   "cell_type": "code",
   "execution_count": 10,
   "id": "fa85c211",
   "metadata": {},
   "outputs": [
    {
     "name": "stderr",
     "output_type": "stream",
     "text": [
      "C:\\Users\\yogesh\\AppData\\Local\\Temp\\ipykernel_5040\\1659706322.py:2: SettingWithCopyWarning: \n",
      "A value is trying to be set on a copy of a slice from a DataFrame.\n",
      "Try using .loc[row_indexer,col_indexer] = value instead\n",
      "\n",
      "See the caveats in the documentation: https://pandas.pydata.org/pandas-docs/stable/user_guide/indexing.html#returning-a-view-versus-a-copy\n",
      "  T1['DBSCAN_labels']=dbscan.labels_\n"
     ]
    },
    {
     "data": {
      "image/png": "[encoded data removed]",
      "text/plain": [
       "<Figure size 432x288 with 1 Axes>"
      ]
     },
     "metadata": {
      "needs_background": "light"
     },
     "output_type": "display_data"
    }
   ],
   "source": [
    "colors=['purple','red','blue','green']\n",
    "T1['DBSCAN_labels']=dbscan.labels_\n",
    "# Plotting resulting clusters\n",
    "plt.scatter(T1.iloc[:,0],T1.iloc[:,1],c=T1['DBSCAN_labels'],cmap=matplotlib.colors.ListedColormap(colors),s=15)\n",
    "plt.title('DBSCAN Clustering',fontsize=20)\n",
    "plt.xlabel('Feature 1',fontsize=14)\n",
    "plt.ylabel('Feature 2',fontsize=14)\n",
    "plt.show()"
   ]
  },
  {
   "cell_type": "markdown",
   "id": "575a8589",
   "metadata": {},
   "source": [
    "#### From the above Alogorithm we can see that there is two cluster and rest data points are noise"
   ]
  },
  {
   "cell_type": "markdown",
   "id": "a566dc77",
   "metadata": {},
   "source": [
    "# TASK3"
   ]
  },
  {
   "cell_type": "code",
   "execution_count": 11,
   "id": "a3e2911c",
   "metadata": {},
   "outputs": [],
   "source": [
    "from sklearn.neighbors import NearestNeighbors\n",
    "neigh = NearestNeighbors(n_neighbors=2)\n",
    "nbrs = neigh.fit(T2)\n",
    "distances, indices = nbrs.kneighbors(T2)"
   ]
  },
  {
   "cell_type": "code",
   "execution_count": 12,
   "id": "0deb9ad4",
   "metadata": {},
   "outputs": [
    {
     "data": {
      "image/png": "[encoded data removed]",
      "text/plain": [
       "<Figure size 1080x576 with 1 Axes>"
      ]
     },
     "metadata": {
      "needs_background": "light"
     },
     "output_type": "display_data"
    }
   ],
   "source": [
    "# Plotting K-distance Graph\n",
    "distances = np.sort(distances, axis=0)\n",
    "distances = distances[:,1]\n",
    "plt.figure(figsize=(15,8))\n",
    "plt.plot(distances)\n",
    "plt.axhline(y=4, color='r', linestyle='--')\n",
    "plt.title('K-distance Graph',fontsize=20)\n",
    "plt.xlabel('Data Points sorted by distance',fontsize=14)\n",
    "plt.ylabel('Epsilon',fontsize=14)\n",
    "plt.show()"
   ]
  },
  {
   "cell_type": "code",
   "execution_count": 13,
   "id": "368bd48d",
   "metadata": {},
   "outputs": [
    {
     "name": "stdout",
     "output_type": "stream",
     "text": [
      "eps= 4 | min_samples=  2 | obtained clustering:  [(1, 5), (2, 143), (3, 2), (4, 2)]\n",
      "eps= 4 | min_samples=  3 | obtained clustering:  [(1, 9), (2, 143)]\n",
      "eps= 4 | min_samples=  4 | obtained clustering:  [(1, 9), (2, 136), (3, 7)]\n",
      "eps= 4 | min_samples=  5 | obtained clustering:  [(1, 12), (2, 128), (3, 4), (4, 8)]\n",
      "eps= 4 | min_samples=  6 | obtained clustering:  [(1, 16), (2, 128), (3, 8)]\n",
      "eps= 4 | min_samples=  7 | obtained clustering:  [(1, 18), (2, 127), (3, 7)]\n",
      "eps= 4 | min_samples=  8 | obtained clustering:  [(1, 25), (2, 127)]\n",
      "eps= 4 | min_samples=  9 | obtained clustering:  [(1, 31), (2, 121)]\n"
     ]
    }
   ],
   "source": [
    "eps=4\n",
    "for min_samples in range(2, 10,1):\n",
    "    clusterer = DBSCAN(eps=eps, min_samples=min_samples)\n",
    "    cluster_labels = clusterer.fit_predict(T2)\n",
    "    x= cluster_labels +2\n",
    "    y = np.bincount(x)\n",
    "    ii = np.nonzero(y)[0]\n",
    "    results = list(zip(ii,y[ii]) )\n",
    "    print('eps=',eps,'| min_samples= ', min_samples, '| obtained clustering: ', results)"
   ]
  },
  {
   "cell_type": "markdown",
   "id": "78d4c002",
   "metadata": {},
   "source": [
    "# TASK4"
   ]
  },
  {
   "cell_type": "code",
   "execution_count": 14,
   "id": "1da458c6",
   "metadata": {},
   "outputs": [
    {
     "data": {
      "text/plain": [
       "array([ 0,  0,  0,  0,  0,  0,  0,  0,  0,  0,  0,  0,  0,  0,  0,  0,  0,\n",
       "        0,  0,  0,  0,  0,  0,  0, -1,  0,  0,  0,  0,  0,  0,  0,  0,  0,\n",
       "        0,  0, -1,  0,  0, -1,  0, -1,  0,  0,  0,  0,  0,  0,  0,  0,  0,\n",
       "        0, -1,  0,  0,  0,  0,  0,  0,  0,  0,  0,  0, -1,  0,  0,  0,  0,\n",
       "        0,  0,  0,  0,  0,  0,  0,  0,  0,  0,  0,  0,  0,  0,  0,  0,  0,\n",
       "        0,  0,  0,  0,  0,  0,  0,  1,  1,  0,  0,  0,  0,  0,  0,  0,  0,\n",
       "        0, -1,  0,  0,  0,  0,  0,  0,  0, -1, -1,  0,  0,  0,  0,  0,  0,\n",
       "        0,  0,  0,  0,  0,  0,  0,  0,  0,  0,  0,  0,  0,  0,  0,  0,  0,\n",
       "        0,  1,  0,  0,  1,  0,  0,  1,  1,  1,  0,  0,  0,  0,  0,  0],\n",
       "      dtype=int64)"
      ]
     },
     "execution_count": 14,
     "metadata": {},
     "output_type": "execute_result"
    }
   ],
   "source": [
    "dbscan_opt=DBSCAN(eps=4, min_samples=4)\n",
    "dbscan_opt.fit(T2)\n",
    "dbscan_opt.labels_"
   ]
  },
  {
   "cell_type": "code",
   "execution_count": 15,
   "id": "13ad5437",
   "metadata": {},
   "outputs": [
    {
     "data": {
      "text/plain": [
       " 0    136\n",
       "-1      9\n",
       " 1      7\n",
       "Name: DBSCAN_opt_labels, dtype: int64"
      ]
     },
     "execution_count": 15,
     "metadata": {},
     "output_type": "execute_result"
    }
   ],
   "source": [
    "T2['DBSCAN_opt_labels']=dbscan_opt.labels_\n",
    "T2['DBSCAN_opt_labels'].value_counts()"
   ]
  },
  {
   "cell_type": "code",
   "execution_count": 16,
   "id": "c4dfc513",
   "metadata": {},
   "outputs": [
    {
     "name": "stdout",
     "output_type": "stream",
     "text": [
      "Silhouette Coefficient: 0.339\n"
     ]
    },
    {
     "data": {
      "image/png": "[encoded data removed]",
      "text/plain": [
       "<Figure size 432x288 with 1 Axes>"
      ]
     },
     "metadata": {
      "needs_background": "light"
     },
     "output_type": "display_data"
    }
   ],
   "source": [
    "plt.scatter(T1.iloc[:,0],T1.iloc[:,1], c=T2['DBSCAN_opt_labels'],cmap=matplotlib.colors.ListedColormap(colors),s=15)\n",
    "print(\"Silhouette Coefficient: %0.3f\" % metrics.silhouette_score(T2, T2['DBSCAN_opt_labels']))"
   ]
  },
  {
   "cell_type": "code",
   "execution_count": 17,
   "id": "2c6cb62b",
   "metadata": {},
   "outputs": [
    {
     "data": {
      "text/plain": [
       "array([ 0,  0,  0,  0,  0,  0,  0,  0,  0,  0,  0,  0,  0,  0,  0,  0,  0,\n",
       "        0,  0,  0,  0,  0,  0,  0, -1,  0,  0,  0,  0,  0,  0,  0,  0,  0,\n",
       "        0,  0, -1,  0,  0, -1,  0, -1,  0,  0,  0,  0,  0,  0,  0,  0,  0,\n",
       "        0, -1,  0,  0,  0,  0,  0,  0,  0,  0,  0,  0, -1,  0,  0,  0,  0,\n",
       "        0,  0,  0,  0,  0,  0,  0,  0,  0,  0,  0,  0,  0,  0,  0,  0,  0,\n",
       "        0,  0,  0,  0,  0,  0,  0,  1,  1,  0,  0,  0,  0,  0,  0,  0,  0,\n",
       "        0, -1,  0,  0,  0,  0,  0,  0,  0, -1, -1,  0,  0,  0,  0,  0,  0,\n",
       "        0,  0,  0,  0,  0,  0,  0,  0,  0,  0,  0,  0,  0,  0,  0,  0,  0,\n",
       "        0,  1,  0,  0,  1,  0,  0,  1,  1,  1,  0,  0,  0,  0,  0,  0],\n",
       "      dtype=int64)"
      ]
     },
     "execution_count": 17,
     "metadata": {},
     "output_type": "execute_result"
    }
   ],
   "source": [
    "dbscan_opt=DBSCAN(eps=4, min_samples=4)\n",
    "dbscan_opt.fit(T2)\n",
    "dbscan_opt.labels_"
   ]
  },
  {
   "cell_type": "code",
   "execution_count": 18,
   "id": "05b22341",
   "metadata": {},
   "outputs": [
    {
     "data": {
      "text/plain": [
       " 0    136\n",
       "-1      9\n",
       " 1      7\n",
       "Name: DBSCAN_opt_labels, dtype: int64"
      ]
     },
     "execution_count": 18,
     "metadata": {},
     "output_type": "execute_result"
    }
   ],
   "source": [
    "T2['DBSCAN_opt_labels']=dbscan_opt.labels_\n",
    "T2['DBSCAN_opt_labels'].value_counts()"
   ]
  },
  {
   "cell_type": "code",
   "execution_count": 19,
   "id": "c6751c2f",
   "metadata": {},
   "outputs": [
    {
     "name": "stdout",
     "output_type": "stream",
     "text": [
      "Silhouette Coefficient: 0.339\n"
     ]
    },
    {
     "data": {
      "image/png": "[encoded data removed]",
      "text/plain": [
       "<Figure size 432x288 with 1 Axes>"
      ]
     },
     "metadata": {
      "needs_background": "light"
     },
     "output_type": "display_data"
    }
   ],
   "source": [
    "plt.scatter(T2.iloc[:,1],T2.iloc[:,2], c=T2['DBSCAN_opt_labels'],cmap=matplotlib.colors.ListedColormap(colors),s=15)\n",
    "print(\"Silhouette Coefficient: %0.3f\" % metrics.silhouette_score(T2, T2['DBSCAN_opt_labels']))"
   ]
  },
  {
   "cell_type": "markdown",
   "id": "99401748",
   "metadata": {},
   "source": [
    "# Interactive"
   ]
  },
  {
   "cell_type": "code",
   "execution_count": 31,
   "id": "80f8a36d",
   "metadata": {},
   "outputs": [
    {
     "data": {
      "application/vnd.jupyter.widget-view+json": {
       "model_id": "8d9c52d85a5c46c896b8782d761b8b8a",
       "version_major": 2,
       "version_minor": 0
      },
      "text/plain": [
       "interactive(children=(IntSlider(value=7, description='F1', max=14), IntSlider(value=7, description='F2', max=1…"
      ]
     },
     "metadata": {},
     "output_type": "display_data"
    }
   ],
   "source": [
    "dbscan_opt=DBSCAN(eps=4, min_samples=4)\n",
    "dbscan_opt.fit(scaled_df)\n",
    "scaled_df['DBSCAN_opt_labels']=dbscan_opt.labels_\n",
    "\n",
    "\n",
    "%matplotlib inline\n",
    "from ipywidgets import interactive\n",
    "import matplotlib.pyplot as plt\n",
    "import numpy as np\n",
    "\n",
    "def f(F1,F2):\n",
    "    colors=['purple','red','blue','green']\n",
    "\n",
    "    plt.figure(figsize=(15,7))\n",
    "\n",
    "    plt.scatter(scaled_df.iloc[:,F1],scaled_df.iloc[:,F2], c=scaled_df['DBSCAN_opt_labels'],cmap=matplotlib.colors.ListedColormap(colors),s=15)\n",
    "    print(\"Silhouette Coefficient: %0.3f\" % metrics.silhouette_score(scaled_df, scaled_df['DBSCAN_opt_labels']))\n",
    "\n",
    "interactive_plot = interactive(f, F1=(0, 14,1), F2=(0, 14, 1))\n",
    "output = interactive_plot.children[-1]\n",
    "output.layout.height = '550px'\n",
    "interactive_plot"
   ]
  },
  {
   "cell_type": "code",
   "execution_count": 32,
   "id": "7463bc3b",
   "metadata": {},
   "outputs": [
    {
     "data": {
      "text/plain": [
       "array([ 0, -1], dtype=int64)"
      ]
     },
     "execution_count": 32,
     "metadata": {},
     "output_type": "execute_result"
    }
   ],
   "source": [
    "scaled_df.DBSCAN_opt_labels.unique()"
   ]
  },
  {
   "cell_type": "code",
   "execution_count": null,
   "id": "6dde3276",
   "metadata": {},
   "outputs": [],
   "source": []
  },
  {
   "cell_type": "code",
   "execution_count": 25,
   "id": "c3fc9f97",
   "metadata": {},
   "outputs": [],
   "source": []
  },
  {
   "cell_type": "code",
   "execution_count": 28,
   "id": "25d69a95",
   "metadata": {},
   "outputs": [],
   "source": []
  },
  {
   "cell_type": "code",
   "execution_count": null,
   "id": "3287d436",
   "metadata": {},
   "outputs": [],
   "source": []
  },
  {
   "cell_type": "code",
   "execution_count": null,
   "id": "196da8f8",
   "metadata": {},
   "outputs": [],
   "source": []
  }
 ],
 "metadata": {
  "kernelspec": {
   "display_name": "Python 3 (ipykernel)",
   "language": "python",
   "name": "python3"
  },
  "language_info": {
   "codemirror_mode": {
    "name": "ipython",
    "version": 3
   },
   "file_extension": ".py",
   "mimetype": "text/x-python",
   "name": "python",
   "nbconvert_exporter": "python",
   "pygments_lexer": "ipython3",
   "version": "3.9.12"
  }
 },
 "nbformat": 4,
 "nbformat_minor": 5
}
