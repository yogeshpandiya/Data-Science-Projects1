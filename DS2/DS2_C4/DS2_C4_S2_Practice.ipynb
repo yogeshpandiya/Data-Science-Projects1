{
 "cells": [
  {
   "cell_type": "code",
   "execution_count": 1,
   "id": "5827b54d",
   "metadata": {},
   "outputs": [],
   "source": [
    "import pandas as pd\n",
    "import numpy as np\n",
    "import matplotlib.pyplot as plt\n",
    "from sklearn.cluster import KMeans"
   ]
  },
  {
   "cell_type": "code",
   "execution_count": null,
   "id": "16336dfa",
   "metadata": {},
   "outputs": [],
   "source": []
  },
  {
   "cell_type": "markdown",
   "id": "3125a22f",
   "metadata": {},
   "source": [
    "# TASK1"
   ]
  },
  {
   "cell_type": "code",
   "execution_count": 2,
   "id": "f42510ff",
   "metadata": {},
   "outputs": [],
   "source": [
    "df1 = pd.read_csv('DS2_C6_S2_MoveHubQualityOfLife_Data_Practice.csv')\n",
    "df2 = pd.read_csv('DS2_C6_S2_MoveHubCostOfLiving_Data_Practice.csv')\n",
    "df3 = pd.read_csv('DS2_C6_S2_WorldCities_Data_Practice.csv')\n",
    "df4 = pd.read_csv('DS2_C6_S2_Cities_Data_Practice.csv')"
   ]
  },
  {
   "cell_type": "code",
   "execution_count": 3,
   "id": "509f9c1c",
   "metadata": {},
   "outputs": [
    {
     "name": "stdout",
     "output_type": "stream",
     "text": [
      "(216, 7)\n"
     ]
    },
    {
     "data": {
      "text/html": [
       "<div>\n",
       "<style scoped>\n",
       "    .dataframe tbody tr th:only-of-type {\n",
       "        vertical-align: middle;\n",
       "    }\n",
       "\n",
       "    .dataframe tbody tr th {\n",
       "        vertical-align: top;\n",
       "    }\n",
       "\n",
       "    .dataframe thead th {\n",
       "        text-align: right;\n",
       "    }\n",
       "</style>\n",
       "<table border=\"1\" class=\"dataframe\">\n",
       "  <thead>\n",
       "    <tr style=\"text-align: right;\">\n",
       "      <th></th>\n",
       "      <th>City</th>\n",
       "      <th>Movehub Rating</th>\n",
       "      <th>Purchase Power</th>\n",
       "      <th>Health Care</th>\n",
       "      <th>Pollution</th>\n",
       "      <th>Quality of Life</th>\n",
       "      <th>Crime Rating</th>\n",
       "    </tr>\n",
       "  </thead>\n",
       "  <tbody>\n",
       "    <tr>\n",
       "      <th>0</th>\n",
       "      <td>Caracas</td>\n",
       "      <td>65.18</td>\n",
       "      <td>11.25</td>\n",
       "      <td>44.44</td>\n",
       "      <td>83.45</td>\n",
       "      <td>8.61</td>\n",
       "      <td>85.70</td>\n",
       "    </tr>\n",
       "    <tr>\n",
       "      <th>1</th>\n",
       "      <td>Johannesburg</td>\n",
       "      <td>84.08</td>\n",
       "      <td>53.99</td>\n",
       "      <td>59.98</td>\n",
       "      <td>47.39</td>\n",
       "      <td>51.26</td>\n",
       "      <td>83.93</td>\n",
       "    </tr>\n",
       "    <tr>\n",
       "      <th>2</th>\n",
       "      <td>Fortaleza</td>\n",
       "      <td>80.17</td>\n",
       "      <td>52.28</td>\n",
       "      <td>45.46</td>\n",
       "      <td>66.32</td>\n",
       "      <td>36.68</td>\n",
       "      <td>78.65</td>\n",
       "    </tr>\n",
       "    <tr>\n",
       "      <th>3</th>\n",
       "      <td>Saint Louis</td>\n",
       "      <td>85.25</td>\n",
       "      <td>80.40</td>\n",
       "      <td>77.29</td>\n",
       "      <td>31.33</td>\n",
       "      <td>87.51</td>\n",
       "      <td>78.13</td>\n",
       "    </tr>\n",
       "    <tr>\n",
       "      <th>4</th>\n",
       "      <td>Mexico City</td>\n",
       "      <td>75.07</td>\n",
       "      <td>24.28</td>\n",
       "      <td>61.76</td>\n",
       "      <td>18.95</td>\n",
       "      <td>27.91</td>\n",
       "      <td>77.86</td>\n",
       "    </tr>\n",
       "  </tbody>\n",
       "</table>\n",
       "</div>"
      ],
      "text/plain": [
       "           City  Movehub Rating  Purchase Power  Health Care  Pollution  \\\n",
       "0       Caracas           65.18           11.25        44.44      83.45   \n",
       "1  Johannesburg           84.08           53.99        59.98      47.39   \n",
       "2     Fortaleza           80.17           52.28        45.46      66.32   \n",
       "3   Saint Louis           85.25           80.40        77.29      31.33   \n",
       "4   Mexico City           75.07           24.28        61.76      18.95   \n",
       "\n",
       "   Quality of Life  Crime Rating  \n",
       "0             8.61         85.70  \n",
       "1            51.26         83.93  \n",
       "2            36.68         78.65  \n",
       "3            87.51         78.13  \n",
       "4            27.91         77.86  "
      ]
     },
     "execution_count": 3,
     "metadata": {},
     "output_type": "execute_result"
    }
   ],
   "source": [
    "print(df1.shape)\n",
    "df1.head()"
   ]
  },
  {
   "cell_type": "code",
   "execution_count": 4,
   "id": "6db22fe6",
   "metadata": {},
   "outputs": [
    {
     "name": "stdout",
     "output_type": "stream",
     "text": [
      "(216, 7)\n"
     ]
    },
    {
     "data": {
      "text/html": [
       "<div>\n",
       "<style scoped>\n",
       "    .dataframe tbody tr th:only-of-type {\n",
       "        vertical-align: middle;\n",
       "    }\n",
       "\n",
       "    .dataframe tbody tr th {\n",
       "        vertical-align: top;\n",
       "    }\n",
       "\n",
       "    .dataframe thead th {\n",
       "        text-align: right;\n",
       "    }\n",
       "</style>\n",
       "<table border=\"1\" class=\"dataframe\">\n",
       "  <thead>\n",
       "    <tr style=\"text-align: right;\">\n",
       "      <th></th>\n",
       "      <th>City</th>\n",
       "      <th>Cappuccino</th>\n",
       "      <th>Cinema</th>\n",
       "      <th>Wine</th>\n",
       "      <th>Gasoline</th>\n",
       "      <th>Avg Rent</th>\n",
       "      <th>Avg Disposable Income</th>\n",
       "    </tr>\n",
       "  </thead>\n",
       "  <tbody>\n",
       "    <tr>\n",
       "      <th>0</th>\n",
       "      <td>Lausanne</td>\n",
       "      <td>3.15</td>\n",
       "      <td>12.59</td>\n",
       "      <td>8.40</td>\n",
       "      <td>1.32</td>\n",
       "      <td>1714.00</td>\n",
       "      <td>4266.11</td>\n",
       "    </tr>\n",
       "    <tr>\n",
       "      <th>1</th>\n",
       "      <td>Zurich</td>\n",
       "      <td>3.28</td>\n",
       "      <td>12.59</td>\n",
       "      <td>8.40</td>\n",
       "      <td>1.31</td>\n",
       "      <td>2378.61</td>\n",
       "      <td>4197.55</td>\n",
       "    </tr>\n",
       "    <tr>\n",
       "      <th>2</th>\n",
       "      <td>Geneva</td>\n",
       "      <td>2.80</td>\n",
       "      <td>12.94</td>\n",
       "      <td>10.49</td>\n",
       "      <td>1.28</td>\n",
       "      <td>2607.95</td>\n",
       "      <td>3917.72</td>\n",
       "    </tr>\n",
       "    <tr>\n",
       "      <th>3</th>\n",
       "      <td>Basel</td>\n",
       "      <td>3.50</td>\n",
       "      <td>11.89</td>\n",
       "      <td>7.35</td>\n",
       "      <td>1.25</td>\n",
       "      <td>1649.29</td>\n",
       "      <td>3847.76</td>\n",
       "    </tr>\n",
       "    <tr>\n",
       "      <th>4</th>\n",
       "      <td>Perth</td>\n",
       "      <td>2.87</td>\n",
       "      <td>11.43</td>\n",
       "      <td>10.08</td>\n",
       "      <td>0.97</td>\n",
       "      <td>2083.14</td>\n",
       "      <td>3358.55</td>\n",
       "    </tr>\n",
       "  </tbody>\n",
       "</table>\n",
       "</div>"
      ],
      "text/plain": [
       "       City  Cappuccino  Cinema   Wine  Gasoline  Avg Rent  \\\n",
       "0  Lausanne        3.15   12.59   8.40      1.32   1714.00   \n",
       "1    Zurich        3.28   12.59   8.40      1.31   2378.61   \n",
       "2    Geneva        2.80   12.94  10.49      1.28   2607.95   \n",
       "3     Basel        3.50   11.89   7.35      1.25   1649.29   \n",
       "4     Perth        2.87   11.43  10.08      0.97   2083.14   \n",
       "\n",
       "   Avg Disposable Income  \n",
       "0                4266.11  \n",
       "1                4197.55  \n",
       "2                3917.72  \n",
       "3                3847.76  \n",
       "4                3358.55  "
      ]
     },
     "execution_count": 4,
     "metadata": {},
     "output_type": "execute_result"
    }
   ],
   "source": [
    "print(df2.shape)\n",
    "df2.head()"
   ]
  },
  {
   "cell_type": "code",
   "execution_count": 5,
   "id": "7015afdc",
   "metadata": {},
   "outputs": [
    {
     "name": "stdout",
     "output_type": "stream",
     "text": [
      "(26569, 11)\n"
     ]
    },
    {
     "data": {
      "text/html": [
       "<div>\n",
       "<style scoped>\n",
       "    .dataframe tbody tr th:only-of-type {\n",
       "        vertical-align: middle;\n",
       "    }\n",
       "\n",
       "    .dataframe tbody tr th {\n",
       "        vertical-align: top;\n",
       "    }\n",
       "\n",
       "    .dataframe thead th {\n",
       "        text-align: right;\n",
       "    }\n",
       "</style>\n",
       "<table border=\"1\" class=\"dataframe\">\n",
       "  <thead>\n",
       "    <tr style=\"text-align: right;\">\n",
       "      <th></th>\n",
       "      <th>City</th>\n",
       "      <th>city_ascii</th>\n",
       "      <th>lat</th>\n",
       "      <th>lng</th>\n",
       "      <th>country</th>\n",
       "      <th>iso2</th>\n",
       "      <th>iso3</th>\n",
       "      <th>admin_name</th>\n",
       "      <th>capital</th>\n",
       "      <th>population</th>\n",
       "      <th>id</th>\n",
       "    </tr>\n",
       "  </thead>\n",
       "  <tbody>\n",
       "    <tr>\n",
       "      <th>0</th>\n",
       "      <td>Tokyo</td>\n",
       "      <td>Tokyo</td>\n",
       "      <td>35.6897</td>\n",
       "      <td>139.6922</td>\n",
       "      <td>Japan</td>\n",
       "      <td>JP</td>\n",
       "      <td>JPN</td>\n",
       "      <td>Tōkyō</td>\n",
       "      <td>primary</td>\n",
       "      <td>37977000.0</td>\n",
       "      <td>1392685764</td>\n",
       "    </tr>\n",
       "    <tr>\n",
       "      <th>1</th>\n",
       "      <td>Jakarta</td>\n",
       "      <td>Jakarta</td>\n",
       "      <td>-6.2146</td>\n",
       "      <td>106.8451</td>\n",
       "      <td>Indonesia</td>\n",
       "      <td>ID</td>\n",
       "      <td>IDN</td>\n",
       "      <td>Jakarta</td>\n",
       "      <td>primary</td>\n",
       "      <td>34540000.0</td>\n",
       "      <td>1360771077</td>\n",
       "    </tr>\n",
       "    <tr>\n",
       "      <th>2</th>\n",
       "      <td>Delhi</td>\n",
       "      <td>Delhi</td>\n",
       "      <td>28.6600</td>\n",
       "      <td>77.2300</td>\n",
       "      <td>India</td>\n",
       "      <td>IN</td>\n",
       "      <td>IND</td>\n",
       "      <td>Delhi</td>\n",
       "      <td>admin</td>\n",
       "      <td>29617000.0</td>\n",
       "      <td>1356872604</td>\n",
       "    </tr>\n",
       "    <tr>\n",
       "      <th>3</th>\n",
       "      <td>Mumbai</td>\n",
       "      <td>Mumbai</td>\n",
       "      <td>18.9667</td>\n",
       "      <td>72.8333</td>\n",
       "      <td>India</td>\n",
       "      <td>IN</td>\n",
       "      <td>IND</td>\n",
       "      <td>Mahārāshtra</td>\n",
       "      <td>admin</td>\n",
       "      <td>23355000.0</td>\n",
       "      <td>1356226629</td>\n",
       "    </tr>\n",
       "    <tr>\n",
       "      <th>4</th>\n",
       "      <td>Manila</td>\n",
       "      <td>Manila</td>\n",
       "      <td>14.5958</td>\n",
       "      <td>120.9772</td>\n",
       "      <td>Philippines</td>\n",
       "      <td>PH</td>\n",
       "      <td>PHL</td>\n",
       "      <td>Manila</td>\n",
       "      <td>primary</td>\n",
       "      <td>23088000.0</td>\n",
       "      <td>1608618140</td>\n",
       "    </tr>\n",
       "  </tbody>\n",
       "</table>\n",
       "</div>"
      ],
      "text/plain": [
       "      City city_ascii      lat       lng      country iso2 iso3   admin_name  \\\n",
       "0    Tokyo      Tokyo  35.6897  139.6922        Japan   JP  JPN        Tōkyō   \n",
       "1  Jakarta    Jakarta  -6.2146  106.8451    Indonesia   ID  IDN      Jakarta   \n",
       "2    Delhi      Delhi  28.6600   77.2300        India   IN  IND        Delhi   \n",
       "3   Mumbai     Mumbai  18.9667   72.8333        India   IN  IND  Mahārāshtra   \n",
       "4   Manila     Manila  14.5958  120.9772  Philippines   PH  PHL       Manila   \n",
       "\n",
       "   capital  population          id  \n",
       "0  primary  37977000.0  1392685764  \n",
       "1  primary  34540000.0  1360771077  \n",
       "2    admin  29617000.0  1356872604  \n",
       "3    admin  23355000.0  1356226629  \n",
       "4  primary  23088000.0  1608618140  "
      ]
     },
     "execution_count": 5,
     "metadata": {},
     "output_type": "execute_result"
    }
   ],
   "source": [
    "print(df3.shape)\n",
    "df3 = df3.rename(columns={'city':'City'})\n",
    "df3.head()"
   ]
  },
  {
   "cell_type": "code",
   "execution_count": 6,
   "id": "cb6094e0",
   "metadata": {},
   "outputs": [
    {
     "name": "stdout",
     "output_type": "stream",
     "text": [
      "(3543, 2)\n"
     ]
    },
    {
     "data": {
      "text/html": [
       "<div>\n",
       "<style scoped>\n",
       "    .dataframe tbody tr th:only-of-type {\n",
       "        vertical-align: middle;\n",
       "    }\n",
       "\n",
       "    .dataframe tbody tr th {\n",
       "        vertical-align: top;\n",
       "    }\n",
       "\n",
       "    .dataframe thead th {\n",
       "        text-align: right;\n",
       "    }\n",
       "</style>\n",
       "<table border=\"1\" class=\"dataframe\">\n",
       "  <thead>\n",
       "    <tr style=\"text-align: right;\">\n",
       "      <th></th>\n",
       "      <th>City</th>\n",
       "      <th>Country</th>\n",
       "    </tr>\n",
       "  </thead>\n",
       "  <tbody>\n",
       "    <tr>\n",
       "      <th>0</th>\n",
       "      <td>Oakland</td>\n",
       "      <td>United States</td>\n",
       "    </tr>\n",
       "    <tr>\n",
       "      <th>1</th>\n",
       "      <td>Oakville</td>\n",
       "      <td>Canada</td>\n",
       "    </tr>\n",
       "    <tr>\n",
       "      <th>2</th>\n",
       "      <td>Oaxaca de Juárez</td>\n",
       "      <td>Mexico</td>\n",
       "    </tr>\n",
       "    <tr>\n",
       "      <th>3</th>\n",
       "      <td>Oberhausen</td>\n",
       "      <td>Germany</td>\n",
       "    </tr>\n",
       "    <tr>\n",
       "      <th>4</th>\n",
       "      <td>Obihiro</td>\n",
       "      <td>Japan</td>\n",
       "    </tr>\n",
       "  </tbody>\n",
       "</table>\n",
       "</div>"
      ],
      "text/plain": [
       "               City        Country\n",
       "0           Oakland  United States\n",
       "1          Oakville         Canada\n",
       "2  Oaxaca de Juárez         Mexico\n",
       "3        Oberhausen        Germany\n",
       "4           Obihiro          Japan"
      ]
     },
     "execution_count": 6,
     "metadata": {},
     "output_type": "execute_result"
    }
   ],
   "source": [
    "print(df4.shape)\n",
    "df4.head()"
   ]
  },
  {
   "cell_type": "markdown",
   "id": "fe34d9d5",
   "metadata": {},
   "source": [
    "### Now we have to Merge Data"
   ]
  },
  {
   "cell_type": "code",
   "execution_count": 7,
   "id": "82c8d7a5",
   "metadata": {},
   "outputs": [],
   "source": [
    "df5 = df1.merge(df2, on='City', how = 'inner')"
   ]
  },
  {
   "cell_type": "code",
   "execution_count": 8,
   "id": "0a73ff3b",
   "metadata": {},
   "outputs": [],
   "source": [
    "df6 = df5.merge(df4, on='City', how = 'inner')"
   ]
  },
  {
   "cell_type": "code",
   "execution_count": 9,
   "id": "d2250c8a",
   "metadata": {},
   "outputs": [],
   "source": [
    "Final_df = df6.merge(df3, on='City', how = 'inner')"
   ]
  },
  {
   "cell_type": "code",
   "execution_count": 10,
   "id": "e1e914dd",
   "metadata": {},
   "outputs": [
    {
     "data": {
      "text/html": [
       "<div>\n",
       "<style scoped>\n",
       "    .dataframe tbody tr th:only-of-type {\n",
       "        vertical-align: middle;\n",
       "    }\n",
       "\n",
       "    .dataframe tbody tr th {\n",
       "        vertical-align: top;\n",
       "    }\n",
       "\n",
       "    .dataframe thead th {\n",
       "        text-align: right;\n",
       "    }\n",
       "</style>\n",
       "<table border=\"1\" class=\"dataframe\">\n",
       "  <thead>\n",
       "    <tr style=\"text-align: right;\">\n",
       "      <th></th>\n",
       "      <th>City</th>\n",
       "      <th>Movehub Rating</th>\n",
       "      <th>Purchase Power</th>\n",
       "      <th>Health Care</th>\n",
       "      <th>Pollution</th>\n",
       "      <th>Quality of Life</th>\n",
       "      <th>Crime Rating</th>\n",
       "      <th>Cappuccino</th>\n",
       "      <th>Cinema</th>\n",
       "      <th>Wine</th>\n",
       "      <th>...</th>\n",
       "      <th>city_ascii</th>\n",
       "      <th>lat</th>\n",
       "      <th>lng</th>\n",
       "      <th>country</th>\n",
       "      <th>iso2</th>\n",
       "      <th>iso3</th>\n",
       "      <th>admin_name</th>\n",
       "      <th>capital</th>\n",
       "      <th>population</th>\n",
       "      <th>id</th>\n",
       "    </tr>\n",
       "  </thead>\n",
       "  <tbody>\n",
       "    <tr>\n",
       "      <th>0</th>\n",
       "      <td>Caracas</td>\n",
       "      <td>65.18</td>\n",
       "      <td>11.25</td>\n",
       "      <td>44.44</td>\n",
       "      <td>83.45</td>\n",
       "      <td>8.61</td>\n",
       "      <td>85.70</td>\n",
       "      <td>1.80</td>\n",
       "      <td>9.12</td>\n",
       "      <td>11.97</td>\n",
       "      <td>...</td>\n",
       "      <td>Caracas</td>\n",
       "      <td>10.5000</td>\n",
       "      <td>-66.9333</td>\n",
       "      <td>Venezuela</td>\n",
       "      <td>VE</td>\n",
       "      <td>VEN</td>\n",
       "      <td>Distrito Capital</td>\n",
       "      <td>primary</td>\n",
       "      <td>1943901.0</td>\n",
       "      <td>1862748204</td>\n",
       "    </tr>\n",
       "    <tr>\n",
       "      <th>1</th>\n",
       "      <td>Johannesburg</td>\n",
       "      <td>84.08</td>\n",
       "      <td>53.99</td>\n",
       "      <td>59.98</td>\n",
       "      <td>47.39</td>\n",
       "      <td>51.26</td>\n",
       "      <td>83.93</td>\n",
       "      <td>1.16</td>\n",
       "      <td>3.46</td>\n",
       "      <td>3.53</td>\n",
       "      <td>...</td>\n",
       "      <td>Johannesburg</td>\n",
       "      <td>-26.2044</td>\n",
       "      <td>28.0416</td>\n",
       "      <td>South Africa</td>\n",
       "      <td>ZA</td>\n",
       "      <td>ZAF</td>\n",
       "      <td>Gauteng</td>\n",
       "      <td>admin</td>\n",
       "      <td>4434827.0</td>\n",
       "      <td>1710550792</td>\n",
       "    </tr>\n",
       "    <tr>\n",
       "      <th>2</th>\n",
       "      <td>Fortaleza</td>\n",
       "      <td>80.17</td>\n",
       "      <td>52.28</td>\n",
       "      <td>45.46</td>\n",
       "      <td>66.32</td>\n",
       "      <td>36.68</td>\n",
       "      <td>78.65</td>\n",
       "      <td>1.46</td>\n",
       "      <td>5.20</td>\n",
       "      <td>5.85</td>\n",
       "      <td>...</td>\n",
       "      <td>Fortaleza</td>\n",
       "      <td>-3.7275</td>\n",
       "      <td>-38.5275</td>\n",
       "      <td>Brazil</td>\n",
       "      <td>BR</td>\n",
       "      <td>BRA</td>\n",
       "      <td>Ceará</td>\n",
       "      <td>admin</td>\n",
       "      <td>2452185.0</td>\n",
       "      <td>1076567885</td>\n",
       "    </tr>\n",
       "    <tr>\n",
       "      <th>3</th>\n",
       "      <td>Mexico City</td>\n",
       "      <td>75.07</td>\n",
       "      <td>24.28</td>\n",
       "      <td>61.76</td>\n",
       "      <td>18.95</td>\n",
       "      <td>27.91</td>\n",
       "      <td>77.86</td>\n",
       "      <td>1.60</td>\n",
       "      <td>3.20</td>\n",
       "      <td>7.47</td>\n",
       "      <td>...</td>\n",
       "      <td>Mexico City</td>\n",
       "      <td>19.4333</td>\n",
       "      <td>-99.1333</td>\n",
       "      <td>Mexico</td>\n",
       "      <td>MX</td>\n",
       "      <td>MEX</td>\n",
       "      <td>Ciudad de México</td>\n",
       "      <td>primary</td>\n",
       "      <td>20996000.0</td>\n",
       "      <td>1484247881</td>\n",
       "    </tr>\n",
       "    <tr>\n",
       "      <th>4</th>\n",
       "      <td>Detroit</td>\n",
       "      <td>70.63</td>\n",
       "      <td>73.81</td>\n",
       "      <td>63.05</td>\n",
       "      <td>83.45</td>\n",
       "      <td>50.99</td>\n",
       "      <td>76.69</td>\n",
       "      <td>1.96</td>\n",
       "      <td>5.56</td>\n",
       "      <td>7.85</td>\n",
       "      <td>...</td>\n",
       "      <td>Detroit</td>\n",
       "      <td>42.3834</td>\n",
       "      <td>-83.1024</td>\n",
       "      <td>United States</td>\n",
       "      <td>US</td>\n",
       "      <td>USA</td>\n",
       "      <td>Michigan</td>\n",
       "      <td>NaN</td>\n",
       "      <td>3506126.0</td>\n",
       "      <td>1840003971</td>\n",
       "    </tr>\n",
       "  </tbody>\n",
       "</table>\n",
       "<p>5 rows × 24 columns</p>\n",
       "</div>"
      ],
      "text/plain": [
       "           City  Movehub Rating  Purchase Power  Health Care  Pollution  \\\n",
       "0       Caracas           65.18           11.25        44.44      83.45   \n",
       "1  Johannesburg           84.08           53.99        59.98      47.39   \n",
       "2     Fortaleza           80.17           52.28        45.46      66.32   \n",
       "3   Mexico City           75.07           24.28        61.76      18.95   \n",
       "4       Detroit           70.63           73.81        63.05      83.45   \n",
       "\n",
       "   Quality of Life  Crime Rating  Cappuccino  Cinema   Wine  ...  \\\n",
       "0             8.61         85.70        1.80    9.12  11.97  ...   \n",
       "1            51.26         83.93        1.16    3.46   3.53  ...   \n",
       "2            36.68         78.65        1.46    5.20   5.85  ...   \n",
       "3            27.91         77.86        1.60    3.20   7.47  ...   \n",
       "4            50.99         76.69        1.96    5.56   7.85  ...   \n",
       "\n",
       "     city_ascii      lat      lng        country iso2  iso3        admin_name  \\\n",
       "0       Caracas  10.5000 -66.9333      Venezuela   VE   VEN  Distrito Capital   \n",
       "1  Johannesburg -26.2044  28.0416   South Africa   ZA   ZAF           Gauteng   \n",
       "2     Fortaleza  -3.7275 -38.5275         Brazil   BR   BRA             Ceará   \n",
       "3   Mexico City  19.4333 -99.1333         Mexico   MX   MEX  Ciudad de México   \n",
       "4       Detroit  42.3834 -83.1024  United States   US   USA          Michigan   \n",
       "\n",
       "   capital  population          id  \n",
       "0  primary   1943901.0  1862748204  \n",
       "1    admin   4434827.0  1710550792  \n",
       "2    admin   2452185.0  1076567885  \n",
       "3  primary  20996000.0  1484247881  \n",
       "4      NaN   3506126.0  1840003971  \n",
       "\n",
       "[5 rows x 24 columns]"
      ]
     },
     "execution_count": 10,
     "metadata": {},
     "output_type": "execute_result"
    }
   ],
   "source": [
    "Final_df.head()"
   ]
  },
  {
   "cell_type": "markdown",
   "id": "4d8e60b8",
   "metadata": {},
   "source": [
    "### Removing Duplicate "
   ]
  },
  {
   "cell_type": "code",
   "execution_count": 11,
   "id": "5fc4c523",
   "metadata": {},
   "outputs": [],
   "source": [
    "Final_df.drop_duplicates(subset='City', keep='first', inplace=True, ignore_index=True)"
   ]
  },
  {
   "cell_type": "code",
   "execution_count": 12,
   "id": "0615d226",
   "metadata": {},
   "outputs": [
    {
     "data": {
      "text/html": [
       "<div>\n",
       "<style scoped>\n",
       "    .dataframe tbody tr th:only-of-type {\n",
       "        vertical-align: middle;\n",
       "    }\n",
       "\n",
       "    .dataframe tbody tr th {\n",
       "        vertical-align: top;\n",
       "    }\n",
       "\n",
       "    .dataframe thead th {\n",
       "        text-align: right;\n",
       "    }\n",
       "</style>\n",
       "<table border=\"1\" class=\"dataframe\">\n",
       "  <thead>\n",
       "    <tr style=\"text-align: right;\">\n",
       "      <th></th>\n",
       "      <th>City</th>\n",
       "      <th>Movehub Rating</th>\n",
       "      <th>Purchase Power</th>\n",
       "      <th>Health Care</th>\n",
       "      <th>Pollution</th>\n",
       "      <th>Quality of Life</th>\n",
       "      <th>Crime Rating</th>\n",
       "      <th>Cappuccino</th>\n",
       "      <th>Cinema</th>\n",
       "      <th>Wine</th>\n",
       "      <th>...</th>\n",
       "      <th>city_ascii</th>\n",
       "      <th>lat</th>\n",
       "      <th>lng</th>\n",
       "      <th>country</th>\n",
       "      <th>iso2</th>\n",
       "      <th>iso3</th>\n",
       "      <th>admin_name</th>\n",
       "      <th>capital</th>\n",
       "      <th>population</th>\n",
       "      <th>id</th>\n",
       "    </tr>\n",
       "  </thead>\n",
       "  <tbody>\n",
       "    <tr>\n",
       "      <th>0</th>\n",
       "      <td>Caracas</td>\n",
       "      <td>65.18</td>\n",
       "      <td>11.25</td>\n",
       "      <td>44.44</td>\n",
       "      <td>83.45</td>\n",
       "      <td>8.61</td>\n",
       "      <td>85.70</td>\n",
       "      <td>1.80</td>\n",
       "      <td>9.12</td>\n",
       "      <td>11.97</td>\n",
       "      <td>...</td>\n",
       "      <td>Caracas</td>\n",
       "      <td>10.5000</td>\n",
       "      <td>-66.9333</td>\n",
       "      <td>Venezuela</td>\n",
       "      <td>VE</td>\n",
       "      <td>VEN</td>\n",
       "      <td>Distrito Capital</td>\n",
       "      <td>primary</td>\n",
       "      <td>1943901.0</td>\n",
       "      <td>1862748204</td>\n",
       "    </tr>\n",
       "    <tr>\n",
       "      <th>1</th>\n",
       "      <td>Johannesburg</td>\n",
       "      <td>84.08</td>\n",
       "      <td>53.99</td>\n",
       "      <td>59.98</td>\n",
       "      <td>47.39</td>\n",
       "      <td>51.26</td>\n",
       "      <td>83.93</td>\n",
       "      <td>1.16</td>\n",
       "      <td>3.46</td>\n",
       "      <td>3.53</td>\n",
       "      <td>...</td>\n",
       "      <td>Johannesburg</td>\n",
       "      <td>-26.2044</td>\n",
       "      <td>28.0416</td>\n",
       "      <td>South Africa</td>\n",
       "      <td>ZA</td>\n",
       "      <td>ZAF</td>\n",
       "      <td>Gauteng</td>\n",
       "      <td>admin</td>\n",
       "      <td>4434827.0</td>\n",
       "      <td>1710550792</td>\n",
       "    </tr>\n",
       "    <tr>\n",
       "      <th>2</th>\n",
       "      <td>Fortaleza</td>\n",
       "      <td>80.17</td>\n",
       "      <td>52.28</td>\n",
       "      <td>45.46</td>\n",
       "      <td>66.32</td>\n",
       "      <td>36.68</td>\n",
       "      <td>78.65</td>\n",
       "      <td>1.46</td>\n",
       "      <td>5.20</td>\n",
       "      <td>5.85</td>\n",
       "      <td>...</td>\n",
       "      <td>Fortaleza</td>\n",
       "      <td>-3.7275</td>\n",
       "      <td>-38.5275</td>\n",
       "      <td>Brazil</td>\n",
       "      <td>BR</td>\n",
       "      <td>BRA</td>\n",
       "      <td>Ceará</td>\n",
       "      <td>admin</td>\n",
       "      <td>2452185.0</td>\n",
       "      <td>1076567885</td>\n",
       "    </tr>\n",
       "    <tr>\n",
       "      <th>3</th>\n",
       "      <td>Mexico City</td>\n",
       "      <td>75.07</td>\n",
       "      <td>24.28</td>\n",
       "      <td>61.76</td>\n",
       "      <td>18.95</td>\n",
       "      <td>27.91</td>\n",
       "      <td>77.86</td>\n",
       "      <td>1.60</td>\n",
       "      <td>3.20</td>\n",
       "      <td>7.47</td>\n",
       "      <td>...</td>\n",
       "      <td>Mexico City</td>\n",
       "      <td>19.4333</td>\n",
       "      <td>-99.1333</td>\n",
       "      <td>Mexico</td>\n",
       "      <td>MX</td>\n",
       "      <td>MEX</td>\n",
       "      <td>Ciudad de México</td>\n",
       "      <td>primary</td>\n",
       "      <td>20996000.0</td>\n",
       "      <td>1484247881</td>\n",
       "    </tr>\n",
       "    <tr>\n",
       "      <th>4</th>\n",
       "      <td>Detroit</td>\n",
       "      <td>70.63</td>\n",
       "      <td>73.81</td>\n",
       "      <td>63.05</td>\n",
       "      <td>83.45</td>\n",
       "      <td>50.99</td>\n",
       "      <td>76.69</td>\n",
       "      <td>1.96</td>\n",
       "      <td>5.56</td>\n",
       "      <td>7.85</td>\n",
       "      <td>...</td>\n",
       "      <td>Detroit</td>\n",
       "      <td>42.3834</td>\n",
       "      <td>-83.1024</td>\n",
       "      <td>United States</td>\n",
       "      <td>US</td>\n",
       "      <td>USA</td>\n",
       "      <td>Michigan</td>\n",
       "      <td>NaN</td>\n",
       "      <td>3506126.0</td>\n",
       "      <td>1840003971</td>\n",
       "    </tr>\n",
       "  </tbody>\n",
       "</table>\n",
       "<p>5 rows × 24 columns</p>\n",
       "</div>"
      ],
      "text/plain": [
       "           City  Movehub Rating  Purchase Power  Health Care  Pollution  \\\n",
       "0       Caracas           65.18           11.25        44.44      83.45   \n",
       "1  Johannesburg           84.08           53.99        59.98      47.39   \n",
       "2     Fortaleza           80.17           52.28        45.46      66.32   \n",
       "3   Mexico City           75.07           24.28        61.76      18.95   \n",
       "4       Detroit           70.63           73.81        63.05      83.45   \n",
       "\n",
       "   Quality of Life  Crime Rating  Cappuccino  Cinema   Wine  ...  \\\n",
       "0             8.61         85.70        1.80    9.12  11.97  ...   \n",
       "1            51.26         83.93        1.16    3.46   3.53  ...   \n",
       "2            36.68         78.65        1.46    5.20   5.85  ...   \n",
       "3            27.91         77.86        1.60    3.20   7.47  ...   \n",
       "4            50.99         76.69        1.96    5.56   7.85  ...   \n",
       "\n",
       "     city_ascii      lat      lng        country iso2  iso3        admin_name  \\\n",
       "0       Caracas  10.5000 -66.9333      Venezuela   VE   VEN  Distrito Capital   \n",
       "1  Johannesburg -26.2044  28.0416   South Africa   ZA   ZAF           Gauteng   \n",
       "2     Fortaleza  -3.7275 -38.5275         Brazil   BR   BRA             Ceará   \n",
       "3   Mexico City  19.4333 -99.1333         Mexico   MX   MEX  Ciudad de México   \n",
       "4       Detroit  42.3834 -83.1024  United States   US   USA          Michigan   \n",
       "\n",
       "   capital  population          id  \n",
       "0  primary   1943901.0  1862748204  \n",
       "1    admin   4434827.0  1710550792  \n",
       "2    admin   2452185.0  1076567885  \n",
       "3  primary  20996000.0  1484247881  \n",
       "4      NaN   3506126.0  1840003971  \n",
       "\n",
       "[5 rows x 24 columns]"
      ]
     },
     "execution_count": 12,
     "metadata": {},
     "output_type": "execute_result"
    }
   ],
   "source": [
    "FD = Final_df.copy()\n",
    "Final_df.head()"
   ]
  },
  {
   "cell_type": "markdown",
   "id": "faefb872",
   "metadata": {},
   "source": [
    "# Label Encoding"
   ]
  },
  {
   "cell_type": "code",
   "execution_count": 13,
   "id": "4f25c8c7",
   "metadata": {},
   "outputs": [
    {
     "data": {
      "text/plain": [
       "City                      object\n",
       "Movehub Rating           float64\n",
       "Purchase Power           float64\n",
       "Health Care              float64\n",
       "Pollution                float64\n",
       "Quality of Life          float64\n",
       "Crime Rating             float64\n",
       "Cappuccino               float64\n",
       "Cinema                   float64\n",
       "Wine                     float64\n",
       "Gasoline                 float64\n",
       "Avg Rent                 float64\n",
       "Avg Disposable Income    float64\n",
       "Country                   object\n",
       "city_ascii                object\n",
       "lat                      float64\n",
       "lng                      float64\n",
       "country                   object\n",
       "iso2                      object\n",
       "iso3                      object\n",
       "admin_name                object\n",
       "capital                   object\n",
       "population               float64\n",
       "id                         int64\n",
       "dtype: object"
      ]
     },
     "execution_count": 13,
     "metadata": {},
     "output_type": "execute_result"
    }
   ],
   "source": [
    "Final_df.dtypes"
   ]
  },
  {
   "cell_type": "code",
   "execution_count": null,
   "id": "a4b8f80d",
   "metadata": {},
   "outputs": [],
   "source": []
  },
  {
   "cell_type": "code",
   "execution_count": null,
   "id": "96e811f6",
   "metadata": {},
   "outputs": [],
   "source": []
  },
  {
   "cell_type": "code",
   "execution_count": 14,
   "id": "75688140",
   "metadata": {},
   "outputs": [],
   "source": [
    "from sklearn import preprocessing\n",
    "label_encoder = preprocessing.LabelEncoder()"
   ]
  },
  {
   "cell_type": "code",
   "execution_count": 15,
   "id": "4798f226",
   "metadata": {},
   "outputs": [],
   "source": [
    "Final_df['City'] = label_encoder.fit_transform(Final_df['City'])\n",
    "Final_df['Country'] = label_encoder.fit_transform(Final_df['Country'])\n",
    "Final_df['city_ascii'] = label_encoder.fit_transform(Final_df['city_ascii'])\n",
    "Final_df['country'] = label_encoder.fit_transform(Final_df['country'])\n",
    "Final_df['iso2'] = label_encoder.fit_transform(Final_df['iso2'])\n",
    "Final_df['iso3'] = label_encoder.fit_transform(Final_df['iso3'])\n",
    "Final_df['admin_name'] = label_encoder.fit_transform(Final_df['admin_name'])\n",
    "Final_df['capital'] = label_encoder.fit_transform(Final_df['capital'])"
   ]
  },
  {
   "cell_type": "code",
   "execution_count": 16,
   "id": "72e90f82",
   "metadata": {},
   "outputs": [
    {
     "data": {
      "text/plain": [
       "City                       int32\n",
       "Movehub Rating           float64\n",
       "Purchase Power           float64\n",
       "Health Care              float64\n",
       "Pollution                float64\n",
       "Quality of Life          float64\n",
       "Crime Rating             float64\n",
       "Cappuccino               float64\n",
       "Cinema                   float64\n",
       "Wine                     float64\n",
       "Gasoline                 float64\n",
       "Avg Rent                 float64\n",
       "Avg Disposable Income    float64\n",
       "Country                    int32\n",
       "city_ascii                 int32\n",
       "lat                      float64\n",
       "lng                      float64\n",
       "country                    int32\n",
       "iso2                       int32\n",
       "iso3                       int32\n",
       "admin_name                 int32\n",
       "capital                    int32\n",
       "population               float64\n",
       "id                         int64\n",
       "dtype: object"
      ]
     },
     "execution_count": 16,
     "metadata": {},
     "output_type": "execute_result"
    }
   ],
   "source": [
    "Final_df.dtypes"
   ]
  },
  {
   "cell_type": "markdown",
   "id": "a06ea7ee",
   "metadata": {},
   "source": [
    "# Scalling"
   ]
  },
  {
   "cell_type": "code",
   "execution_count": 17,
   "id": "d6cb031e",
   "metadata": {},
   "outputs": [],
   "source": [
    "from sklearn import preprocessing"
   ]
  },
  {
   "cell_type": "code",
   "execution_count": 18,
   "id": "9c2ccd0c",
   "metadata": {},
   "outputs": [],
   "source": [
    "from sklearn.preprocessing import StandardScaler"
   ]
  },
  {
   "cell_type": "code",
   "execution_count": 19,
   "id": "87f0da68",
   "metadata": {},
   "outputs": [],
   "source": [
    "final_df = Final_df.drop(['lat','lng','id'],axis=1)\n",
    "scaler = StandardScaler()\n",
    "scaled_df = pd.DataFrame(scaler.fit_transform(final_df),columns=final_df.columns)"
   ]
  },
  {
   "cell_type": "code",
   "execution_count": 20,
   "id": "a4c07033",
   "metadata": {},
   "outputs": [
    {
     "data": {
      "text/html": [
       "<div>\n",
       "<style scoped>\n",
       "    .dataframe tbody tr th:only-of-type {\n",
       "        vertical-align: middle;\n",
       "    }\n",
       "\n",
       "    .dataframe tbody tr th {\n",
       "        vertical-align: top;\n",
       "    }\n",
       "\n",
       "    .dataframe thead th {\n",
       "        text-align: right;\n",
       "    }\n",
       "</style>\n",
       "<table border=\"1\" class=\"dataframe\">\n",
       "  <thead>\n",
       "    <tr style=\"text-align: right;\">\n",
       "      <th></th>\n",
       "      <th>City</th>\n",
       "      <th>Movehub Rating</th>\n",
       "      <th>Purchase Power</th>\n",
       "      <th>Health Care</th>\n",
       "      <th>Pollution</th>\n",
       "      <th>Quality of Life</th>\n",
       "      <th>Crime Rating</th>\n",
       "      <th>Cappuccino</th>\n",
       "      <th>Cinema</th>\n",
       "      <th>Wine</th>\n",
       "      <th>...</th>\n",
       "      <th>Avg Rent</th>\n",
       "      <th>Avg Disposable Income</th>\n",
       "      <th>Country</th>\n",
       "      <th>city_ascii</th>\n",
       "      <th>country</th>\n",
       "      <th>iso2</th>\n",
       "      <th>iso3</th>\n",
       "      <th>admin_name</th>\n",
       "      <th>capital</th>\n",
       "      <th>population</th>\n",
       "    </tr>\n",
       "  </thead>\n",
       "  <tbody>\n",
       "    <tr>\n",
       "      <th>0</th>\n",
       "      <td>-0.904962</td>\n",
       "      <td>-2.176614</td>\n",
       "      <td>-1.700733</td>\n",
       "      <td>-1.481790</td>\n",
       "      <td>1.486996</td>\n",
       "      <td>-2.307348</td>\n",
       "      <td>2.775615</td>\n",
       "      <td>-0.268757</td>\n",
       "      <td>0.353678</td>\n",
       "      <td>1.378240</td>\n",
       "      <td>...</td>\n",
       "      <td>0.759228</td>\n",
       "      <td>-0.985740</td>\n",
       "      <td>1.351622</td>\n",
       "      <td>-0.904962</td>\n",
       "      <td>1.370744</td>\n",
       "      <td>1.576895</td>\n",
       "      <td>1.562330</td>\n",
       "      <td>-0.825137</td>\n",
       "      <td>0.379202</td>\n",
       "      <td>-0.332191</td>\n",
       "    </tr>\n",
       "    <tr>\n",
       "      <th>1</th>\n",
       "      <td>-0.068115</td>\n",
       "      <td>0.663846</td>\n",
       "      <td>0.405923</td>\n",
       "      <td>-0.430037</td>\n",
       "      <td>0.085325</td>\n",
       "      <td>-0.370363</td>\n",
       "      <td>2.664960</td>\n",
       "      <td>-1.122781</td>\n",
       "      <td>-0.576549</td>\n",
       "      <td>-1.040494</td>\n",
       "      <td>...</td>\n",
       "      <td>-0.617552</td>\n",
       "      <td>-0.279118</td>\n",
       "      <td>0.822140</td>\n",
       "      <td>-0.068115</td>\n",
       "      <td>0.844637</td>\n",
       "      <td>1.662693</td>\n",
       "      <td>1.647375</td>\n",
       "      <td>-0.697807</td>\n",
       "      <td>-1.308248</td>\n",
       "      <td>0.044584</td>\n",
       "    </tr>\n",
       "    <tr>\n",
       "      <th>2</th>\n",
       "      <td>-0.437885</td>\n",
       "      <td>0.076217</td>\n",
       "      <td>0.321637</td>\n",
       "      <td>-1.412756</td>\n",
       "      <td>0.821144</td>\n",
       "      <td>-1.032526</td>\n",
       "      <td>2.334869</td>\n",
       "      <td>-0.722457</td>\n",
       "      <td>-0.290578</td>\n",
       "      <td>-0.375629</td>\n",
       "      <td>...</td>\n",
       "      <td>-0.699629</td>\n",
       "      <td>-0.124931</td>\n",
       "      <td>-1.336520</td>\n",
       "      <td>-0.437885</td>\n",
       "      <td>-1.300263</td>\n",
       "      <td>-1.211532</td>\n",
       "      <td>-1.159087</td>\n",
       "      <td>-0.973688</td>\n",
       "      <td>-1.308248</td>\n",
       "      <td>-0.255309</td>\n",
       "    </tr>\n",
       "    <tr>\n",
       "      <th>3</th>\n",
       "      <td>0.437885</td>\n",
       "      <td>-0.690257</td>\n",
       "      <td>-1.058484</td>\n",
       "      <td>-0.309566</td>\n",
       "      <td>-1.020152</td>\n",
       "      <td>-1.430823</td>\n",
       "      <td>2.285480</td>\n",
       "      <td>-0.535639</td>\n",
       "      <td>-0.619280</td>\n",
       "      <td>0.088630</td>\n",
       "      <td>...</td>\n",
       "      <td>-0.556080</td>\n",
       "      <td>-0.920466</td>\n",
       "      <td>-0.033178</td>\n",
       "      <td>0.437885</td>\n",
       "      <td>-0.005229</td>\n",
       "      <td>0.418626</td>\n",
       "      <td>0.371710</td>\n",
       "      <td>-0.910023</td>\n",
       "      <td>0.379202</td>\n",
       "      <td>2.549614</td>\n",
       "    </tr>\n",
       "    <tr>\n",
       "      <th>4</th>\n",
       "      <td>-0.613039</td>\n",
       "      <td>-1.357539</td>\n",
       "      <td>1.382851</td>\n",
       "      <td>-0.222258</td>\n",
       "      <td>1.486996</td>\n",
       "      <td>-0.382626</td>\n",
       "      <td>2.212335</td>\n",
       "      <td>-0.055251</td>\n",
       "      <td>-0.231412</td>\n",
       "      <td>0.197531</td>\n",
       "      <td>...</td>\n",
       "      <td>-0.726415</td>\n",
       "      <td>0.524708</td>\n",
       "      <td>1.270163</td>\n",
       "      <td>-0.613039</td>\n",
       "      <td>1.289805</td>\n",
       "      <td>1.491098</td>\n",
       "      <td>1.519808</td>\n",
       "      <td>0.235941</td>\n",
       "      <td>1.222927</td>\n",
       "      <td>-0.095890</td>\n",
       "    </tr>\n",
       "  </tbody>\n",
       "</table>\n",
       "<p>5 rows × 21 columns</p>\n",
       "</div>"
      ],
      "text/plain": [
       "       City  Movehub Rating  Purchase Power  Health Care  Pollution  \\\n",
       "0 -0.904962       -2.176614       -1.700733    -1.481790   1.486996   \n",
       "1 -0.068115        0.663846        0.405923    -0.430037   0.085325   \n",
       "2 -0.437885        0.076217        0.321637    -1.412756   0.821144   \n",
       "3  0.437885       -0.690257       -1.058484    -0.309566  -1.020152   \n",
       "4 -0.613039       -1.357539        1.382851    -0.222258   1.486996   \n",
       "\n",
       "   Quality of Life  Crime Rating  Cappuccino    Cinema      Wine  ...  \\\n",
       "0        -2.307348      2.775615   -0.268757  0.353678  1.378240  ...   \n",
       "1        -0.370363      2.664960   -1.122781 -0.576549 -1.040494  ...   \n",
       "2        -1.032526      2.334869   -0.722457 -0.290578 -0.375629  ...   \n",
       "3        -1.430823      2.285480   -0.535639 -0.619280  0.088630  ...   \n",
       "4        -0.382626      2.212335   -0.055251 -0.231412  0.197531  ...   \n",
       "\n",
       "   Avg Rent  Avg Disposable Income   Country  city_ascii   country      iso2  \\\n",
       "0  0.759228              -0.985740  1.351622   -0.904962  1.370744  1.576895   \n",
       "1 -0.617552              -0.279118  0.822140   -0.068115  0.844637  1.662693   \n",
       "2 -0.699629              -0.124931 -1.336520   -0.437885 -1.300263 -1.211532   \n",
       "3 -0.556080              -0.920466 -0.033178    0.437885 -0.005229  0.418626   \n",
       "4 -0.726415               0.524708  1.270163   -0.613039  1.289805  1.491098   \n",
       "\n",
       "       iso3  admin_name   capital  population  \n",
       "0  1.562330   -0.825137  0.379202   -0.332191  \n",
       "1  1.647375   -0.697807 -1.308248    0.044584  \n",
       "2 -1.159087   -0.973688 -1.308248   -0.255309  \n",
       "3  0.371710   -0.910023  0.379202    2.549614  \n",
       "4  1.519808    0.235941  1.222927   -0.095890  \n",
       "\n",
       "[5 rows x 21 columns]"
      ]
     },
     "execution_count": 20,
     "metadata": {},
     "output_type": "execute_result"
    }
   ],
   "source": [
    "scaled_df.head()"
   ]
  },
  {
   "cell_type": "code",
   "execution_count": null,
   "id": "9b7eaa5e",
   "metadata": {},
   "outputs": [],
   "source": []
  },
  {
   "cell_type": "markdown",
   "id": "404c16f9",
   "metadata": {},
   "source": [
    "# TASK2"
   ]
  },
  {
   "cell_type": "code",
   "execution_count": 21,
   "id": "bd77238b",
   "metadata": {},
   "outputs": [
    {
     "name": "stdout",
     "output_type": "stream",
     "text": [
      "For n_clusters = 2 The average silhouette_score is : 0.18319546488694172\n",
      "For n_clusters = 3 The average silhouette_score is : 0.176016270239076\n",
      "For n_clusters = 4 The average silhouette_score is : 0.1413321114306662\n",
      "For n_clusters = 5 The average silhouette_score is : 0.1268926632999926\n",
      "For n_clusters = 6 The average silhouette_score is : 0.1292403220236448\n",
      "For n_clusters = 7 The average silhouette_score is : 0.1376775089251006\n"
     ]
    },
    {
     "data": {
      "image/png": "[encoded data removed]",
      "text/plain": [
       "<Figure size 432x288 with 1 Axes>"
      ]
     },
     "metadata": {
      "needs_background": "light"
     },
     "output_type": "display_data"
    },
    {
     "data": {
      "image/png": "[encoded data removed]",
      "text/plain": [
       "<Figure size 432x288 with 1 Axes>"
      ]
     },
     "metadata": {
      "needs_background": "light"
     },
     "output_type": "display_data"
    },
    {
     "data": {
      "image/png": "[encoded data removed]",
      "text/plain": [
       "<Figure size 432x288 with 1 Axes>"
      ]
     },
     "metadata": {
      "needs_background": "light"
     },
     "output_type": "display_data"
    },
    {
     "data": {
      "image/png": "[encoded data removed]",
      "text/plain": [
       "<Figure size 432x288 with 1 Axes>"
      ]
     },
     "metadata": {
      "needs_background": "light"
     },
     "output_type": "display_data"
    },
    {
     "data": {
      "image/png": "[encoded data removed]",
      "text/plain": [
       "<Figure size 432x288 with 1 Axes>"
      ]
     },
     "metadata": {
      "needs_background": "light"
     },
     "output_type": "display_data"
    },
    {
     "data": {
      "image/png": "[encoded data removed]",
      "text/plain": [
       "<Figure size 432x288 with 1 Axes>"
      ]
     },
     "metadata": {
      "needs_background": "light"
     },
     "output_type": "display_data"
    }
   ],
   "source": [
    "from sklearn.metrics import silhouette_samples, silhouette_score\n",
    "import matplotlib.cm as cm\n",
    "import numpy as np\n",
    "\n",
    "range_n_clusters = [2, 3, 4, 5, 6, 7]\n",
    "\n",
    "for n_clusters in range_n_clusters:\n",
    "    # Create a subplot with 1 row and 2 columns\n",
    "    fig, ax1 = plt.subplots(1, 1)\n",
    "    ax1.set_xlim([-0.1, 1])\n",
    "    ax1.set_ylim([0, len(scaled_df) + (n_clusters + 1) * 10])\n",
    "\n",
    "    clusterer = KMeans(n_clusters=n_clusters, random_state=10)\n",
    "    cluster_labels = clusterer.fit_predict(scaled_df)\n",
    "\n",
    "    silhouette_avg = silhouette_score(scaled_df, cluster_labels)\n",
    "    print(\"For n_clusters =\", n_clusters,\n",
    "          \"The average silhouette_score is :\", silhouette_avg)\n",
    "\n",
    "    # Compute the silhouette scores for each sample\n",
    "    sample_silhouette_values = silhouette_samples(scaled_df, cluster_labels)\n",
    "\n",
    "    y_lower = 10\n",
    "    for i in range(n_clusters):\n",
    "        ith_cluster_silhouette_values = sample_silhouette_values[cluster_labels == i]\n",
    "\n",
    "        ith_cluster_silhouette_values.sort()\n",
    "\n",
    "        size_cluster_i = ith_cluster_silhouette_values.shape[0]\n",
    "        y_upper = y_lower + size_cluster_i\n",
    "\n",
    "        color = cm.nipy_spectral(float(i) / n_clusters)\n",
    "        ax1.fill_betweenx(np.arange(y_lower, y_upper),\n",
    "                          0, ith_cluster_silhouette_values,\n",
    "                          facecolor=color, edgecolor=color, alpha=0.7)\n",
    "\n",
    "        # Label the silhouette plots with their cluster numbers at the middle\n",
    "        ax1.text(-0.05, y_lower + 0.5 * size_cluster_i, str(i))\n",
    "\n",
    "        # Compute the new y_lower for next plot\n",
    "        y_lower = y_upper + 10  # 10 for the 0 samples\n",
    "\n",
    "    ax1.set_xlabel(\"The silhouette coefficient values\")\n",
    "    ax1.set_ylabel(\"Cluster label\")\n",
    "    # The vertical line for average silhouette score of all the values\n",
    "    ax1.axvline(x=silhouette_avg, color=\"red\", linestyle=\"--\")\n",
    "    ax1.set_yticks([])  # Clear the yaxis labels / ticks\n",
    "    ax1.set_xticks([-0.1, 0, 0.2, 0.4, 0.6, 0.8, 1])\n",
    "\n",
    "plt.show()"
   ]
  },
  {
   "cell_type": "markdown",
   "id": "672938da",
   "metadata": {},
   "source": [
    "# Hence best n_clusters is two"
   ]
  },
  {
   "cell_type": "code",
   "execution_count": null,
   "id": "7687227d",
   "metadata": {},
   "outputs": [],
   "source": []
  },
  {
   "cell_type": "markdown",
   "id": "bfff3e1a",
   "metadata": {},
   "source": [
    "# TASK3"
   ]
  },
  {
   "cell_type": "markdown",
   "id": "092be3a1",
   "metadata": {},
   "source": [
    "#### For Two clusters"
   ]
  },
  {
   "cell_type": "code",
   "execution_count": 22,
   "id": "04053047",
   "metadata": {},
   "outputs": [
    {
     "data": {
      "text/plain": [
       "KMeans(n_clusters=2)"
      ]
     },
     "execution_count": 22,
     "metadata": {},
     "output_type": "execute_result"
    }
   ],
   "source": [
    "Kmeans_model = KMeans(n_clusters=2)\n",
    "Kmeans_model.fit(scaled_df)"
   ]
  },
  {
   "cell_type": "code",
   "execution_count": 23,
   "id": "379e34b5",
   "metadata": {},
   "outputs": [
    {
     "data": {
      "text/plain": [
       "array([[-0.02679296, -0.92530431, -0.94987015, -0.54635434,  0.43576141,\n",
       "        -0.98868424,  0.4049381 , -0.78241397, -0.43928177, -0.23057244,\n",
       "        -0.28001862, -0.64070902, -0.98451491, -0.22566688, -0.02679296,\n",
       "        -0.15324895,  0.12244703,  0.11017011, -0.0620331 , -0.08311283,\n",
       "         0.34724004],\n",
       "       [ 0.01862749,  0.64330681,  0.66038591,  0.37984635, -0.30295793,\n",
       "         0.68737095, -0.2815284 ,  0.543964  ,  0.30540542,  0.16030274,\n",
       "         0.19467961,  0.44544532,  0.68447227,  0.15689221,  0.01862749,\n",
       "         0.10654451, -0.08512984, -0.07659446,  0.04312777,  0.05778321,\n",
       "        -0.2414145 ]])"
      ]
     },
     "execution_count": 23,
     "metadata": {},
     "output_type": "execute_result"
    }
   ],
   "source": [
    "cluster_centroid = Kmeans_model.cluster_centers_\n",
    "cluster_centroid"
   ]
  },
  {
   "cell_type": "code",
   "execution_count": 24,
   "id": "a1f685d9",
   "metadata": {},
   "outputs": [
    {
     "data": {
      "text/plain": [
       "178"
      ]
     },
     "execution_count": 24,
     "metadata": {},
     "output_type": "execute_result"
    }
   ],
   "source": [
    "labels = Kmeans_model.labels_\n",
    "len(labels)"
   ]
  },
  {
   "cell_type": "code",
   "execution_count": 25,
   "id": "98ded9fa",
   "metadata": {},
   "outputs": [],
   "source": [
    "FD['Labels'] = labels "
   ]
  },
  {
   "cell_type": "code",
   "execution_count": 26,
   "id": "78006677",
   "metadata": {},
   "outputs": [],
   "source": [
    "g = FD.groupby('Labels')"
   ]
  },
  {
   "cell_type": "code",
   "execution_count": 27,
   "id": "708c0866",
   "metadata": {},
   "outputs": [
    {
     "data": {
      "text/plain": [
       "array(['Rotterdam', 'Las Vegas', 'Cape Town', 'Los Angeles', 'Houston',\n",
       "       'Glasgow', 'Dallas', 'Baltimore', 'Milan', 'Atlanta', 'Orlando',\n",
       "       'Chicago', 'Geneva', 'Brussels', 'Paris', 'Christchurch',\n",
       "       'Auckland', 'London', 'Perth', 'Muscat', 'Melbourne', 'Dublin',\n",
       "       'Birmingham', 'New York', 'Lyon', 'Nice', 'Toulouse', 'Strasbourg',\n",
       "       'Marseille', 'Haifa', 'Jerusalem', 'Brisbane', 'Nottingham',\n",
       "       'Honolulu', 'Alicante', 'Gold Coast', 'Bristol', 'Austin',\n",
       "       'Victoria', 'New Orleans', 'Seattle', 'Regina', 'Adelaide',\n",
       "       'Helsinki', 'Boston', 'Canberra', 'Madrid', 'Nicosia', 'Cork',\n",
       "       'Hamilton', 'Lausanne', 'Oslo', 'Belfast', 'Brighton', 'Darwin',\n",
       "       'Sydney', 'Copenhagen', 'Riyadh', 'Edmonton', 'Edinburgh',\n",
       "       'Charlotte', 'Indianapolis', 'Newark', 'Vancouver', 'The Hague',\n",
       "       'Amsterdam', 'Utrecht', 'Calgary', 'Leeds', 'Liverpool', 'Basel',\n",
       "       'Vienna', 'Toronto', 'Wellington', 'Doha', 'Cologne', 'Valencia',\n",
       "       'Stockholm', 'Gothenburg', 'Hamburg', 'Nashville', 'Aberdeen',\n",
       "       'Leicester', 'Oxford', 'Cambridge', 'Manchester', 'Berlin',\n",
       "       'Stuttgart', 'Limassol', 'Ottawa', 'Venice', 'Seoul', 'Stavanger',\n",
       "       'Singapore', 'Trondheim', 'Manama', 'Dubai', 'Luxembourg',\n",
       "       'Bergen', 'Hong Kong', 'Aachen', 'Dresden', 'Munich', 'Tokyo',\n",
       "       'Abu Dhabi'], dtype=object)"
      ]
     },
     "execution_count": 27,
     "metadata": {},
     "output_type": "execute_result"
    }
   ],
   "source": [
    "g.get_group(1).City.unique()"
   ]
  },
  {
   "cell_type": "code",
   "execution_count": 28,
   "id": "4e18d13d",
   "metadata": {},
   "outputs": [
    {
     "data": {
      "text/plain": [
       "array(['Rotterdam', 'Las Vegas', 'Cape Town', 'Los Angeles', 'Houston',\n",
       "       'Glasgow', 'Dallas', 'Baltimore', 'Milan', 'Atlanta', 'Orlando',\n",
       "       'Chicago', 'Geneva', 'Brussels', 'Paris', 'Christchurch',\n",
       "       'Auckland', 'London', 'Perth', 'Muscat', 'Melbourne', 'Dublin',\n",
       "       'Birmingham', 'New York', 'Lyon', 'Nice', 'Toulouse', 'Strasbourg',\n",
       "       'Marseille', 'Haifa', 'Jerusalem', 'Brisbane', 'Nottingham',\n",
       "       'Honolulu', 'Alicante', 'Gold Coast', 'Bristol', 'Austin',\n",
       "       'Victoria', 'New Orleans', 'Seattle', 'Regina', 'Adelaide',\n",
       "       'Helsinki', 'Boston', 'Canberra', 'Madrid', 'Nicosia', 'Cork',\n",
       "       'Hamilton', 'Lausanne', 'Oslo', 'Belfast', 'Brighton', 'Darwin',\n",
       "       'Sydney', 'Copenhagen', 'Riyadh', 'Edmonton', 'Edinburgh',\n",
       "       'Charlotte', 'Indianapolis', 'Newark', 'Vancouver', 'The Hague',\n",
       "       'Amsterdam', 'Utrecht', 'Calgary', 'Leeds', 'Liverpool', 'Basel',\n",
       "       'Vienna', 'Toronto', 'Wellington', 'Doha', 'Cologne', 'Valencia',\n",
       "       'Stockholm', 'Gothenburg', 'Hamburg', 'Nashville', 'Aberdeen',\n",
       "       'Leicester', 'Oxford', 'Cambridge', 'Manchester', 'Berlin',\n",
       "       'Stuttgart', 'Limassol', 'Ottawa', 'Venice', 'Seoul', 'Stavanger',\n",
       "       'Singapore', 'Trondheim', 'Manama', 'Dubai', 'Luxembourg',\n",
       "       'Bergen', 'Hong Kong', 'Aachen', 'Dresden', 'Munich', 'Tokyo',\n",
       "       'Abu Dhabi'], dtype=object)"
      ]
     },
     "execution_count": 28,
     "metadata": {},
     "output_type": "execute_result"
    }
   ],
   "source": [
    "g.get_group(1).City.unique()"
   ]
  },
  {
   "cell_type": "code",
   "execution_count": null,
   "id": "e5e86569",
   "metadata": {},
   "outputs": [],
   "source": []
  },
  {
   "cell_type": "code",
   "execution_count": null,
   "id": "2d5cb9e1",
   "metadata": {},
   "outputs": [],
   "source": []
  },
  {
   "cell_type": "code",
   "execution_count": 29,
   "id": "613cccd9",
   "metadata": {},
   "outputs": [],
   "source": [
    "x = Kmeans_model.cluster_centers_[0][6:8]\n",
    "y = Kmeans_model.cluster_centers_[1][6:8]"
   ]
  },
  {
   "cell_type": "code",
   "execution_count": 30,
   "id": "ef54b28e",
   "metadata": {},
   "outputs": [
    {
     "data": {
      "image/png": "[encoded data removed]",
      "text/plain": [
       "<Figure size 432x288 with 1 Axes>"
      ]
     },
     "metadata": {
      "needs_background": "light"
     },
     "output_type": "display_data"
    }
   ],
   "source": [
    "centroid_colors=['red','green']\n",
    "c=0\n",
    "plt.scatter(scaled_df['Crime Rating'], scaled_df['Cappuccino'], marker='.', c='orange')\n",
    "for i,j in zip(x,y):\n",
    "    plt.scatter(i, j, s=50, c=centroid_colors[c], marker='s')\n",
    "    c=c+1\n",
    "plt.show()"
   ]
  },
  {
   "cell_type": "markdown",
   "id": "834b4026",
   "metadata": {},
   "source": [
    "### for four clusters"
   ]
  },
  {
   "cell_type": "code",
   "execution_count": 31,
   "id": "cee9e7e9",
   "metadata": {},
   "outputs": [
    {
     "data": {
      "text/plain": [
       "KMeans(n_clusters=4)"
      ]
     },
     "execution_count": 31,
     "metadata": {},
     "output_type": "execute_result"
    }
   ],
   "source": [
    "Kmeans_model = KMeans(n_clusters=4)\n",
    "Kmeans_model.fit(scaled_df)"
   ]
  },
  {
   "cell_type": "code",
   "execution_count": 32,
   "id": "6b944b33",
   "metadata": {},
   "outputs": [
    {
     "data": {
      "text/plain": [
       "array([[ 0.02861993, -0.91427546, -0.95268417, -0.73999311,  0.65134834,\n",
       "        -0.99917214,  0.20193007, -0.90495732, -0.50805289, -0.18235612,\n",
       "        -0.44042804, -0.82776842, -1.08580654, -0.97834088,  0.02861993,\n",
       "        -0.96698231, -0.71314787, -0.72761202,  0.03620848,  0.00697063,\n",
       "         0.56752916],\n",
       "       [ 0.03231579,  0.61848131,  0.51695909,  0.48936399, -0.47825885,\n",
       "         0.67799622, -0.42346598,  0.54638807,  0.25117136,  0.06885292,\n",
       "         0.56336241,  0.42780677,  0.65454949, -0.14128746,  0.03231579,\n",
       "        -0.21857008, -0.54421599, -0.5385784 ,  0.04232682, -0.01661936,\n",
       "        -0.30802587],\n",
       "       [-0.00819434, -0.90627711, -0.99083968, -0.37279337,  0.22113665,\n",
       "        -0.98191132,  0.51673793, -0.68277561, -0.38321998, -0.28497923,\n",
       "        -0.13994833, -0.49768793, -0.93607861,  0.44056914, -0.00819434,\n",
       "         0.58158296,  0.87583741,  0.86407204, -0.21753028, -0.1980833 ,\n",
       "         0.16618778],\n",
       "       [-0.13117086,  0.61707639,  1.12677933, -0.01250278,  0.32759724,\n",
       "         0.65467156,  0.31196324,  0.49826356,  0.4596511 ,  0.45808929,\n",
       "        -1.01359062,  0.49615676,  0.77879606,  1.11864987, -0.13117086,\n",
       "         1.1392569 ,  1.40186804,  1.42115685,  0.14426361,  0.34545328,\n",
       "        -0.02644125]])"
      ]
     },
     "execution_count": 32,
     "metadata": {},
     "output_type": "execute_result"
    }
   ],
   "source": [
    "cluster_centroid = Kmeans_model.cluster_centers_\n",
    "cluster_centroid"
   ]
  },
  {
   "cell_type": "code",
   "execution_count": 33,
   "id": "4d57642e",
   "metadata": {},
   "outputs": [
    {
     "data": {
      "text/plain": [
       "178"
      ]
     },
     "execution_count": 33,
     "metadata": {},
     "output_type": "execute_result"
    }
   ],
   "source": [
    "labels = Kmeans_model.labels_\n",
    "len(labels)"
   ]
  },
  {
   "cell_type": "code",
   "execution_count": 34,
   "id": "bcda141a",
   "metadata": {},
   "outputs": [],
   "source": [
    "FD['Labels'] = labels "
   ]
  },
  {
   "cell_type": "code",
   "execution_count": 35,
   "id": "aec87160",
   "metadata": {},
   "outputs": [],
   "source": [
    "g = FD.groupby('Labels')"
   ]
  },
  {
   "cell_type": "code",
   "execution_count": 36,
   "id": "02bc7400",
   "metadata": {},
   "outputs": [
    {
     "data": {
      "text/plain": [
       "array(['Fortaleza', 'Porto Alegre', 'Gurgaon', 'Santo Domingo',\n",
       "       'Buenos Aires', 'Dhaka', 'Athens', 'Tehran', 'Delhi', 'Bangalore',\n",
       "       'Belo Horizonte', 'Gaborone', 'Cairo', 'Quito', 'Jakarta', 'Sofia',\n",
       "       'Tirana', 'Beijing', 'Curitiba', 'Santiago', 'Pune', 'Baku',\n",
       "       'Varna', 'Mumbai', 'Prague', 'Budapest', 'Chennai', 'Zagreb',\n",
       "       'Vadodara', 'Minsk', 'Addis Ababa', 'Indore', 'Kochi', 'Shanghai'],\n",
       "      dtype=object)"
      ]
     },
     "execution_count": 36,
     "metadata": {},
     "output_type": "execute_result"
    }
   ],
   "source": [
    "g.get_group(0).City.unique()"
   ]
  },
  {
   "cell_type": "code",
   "execution_count": 37,
   "id": "443a19be",
   "metadata": {},
   "outputs": [
    {
     "data": {
      "text/plain": [
       "array(['Caracas', 'Johannesburg', 'Mexico City', 'Karachi', 'Nairobi',\n",
       "       'Kuala Lumpur', 'Pretoria', 'Manila', 'Lima', 'Rome', 'Lagos',\n",
       "       'Saint Petersburg', 'Naples', 'Kharkiv', 'Moscow', 'Lahore',\n",
       "       'Hanoi', 'Montevideo', 'Colombo', 'Ulaanbaatar', 'Amman', 'Bogota',\n",
       "       'Antalya', 'Barcelona', 'Lisbon', 'Casablanca', 'Belgrade',\n",
       "       'Chiang Mai', 'Porto', 'Bangkok', 'Bratislava', 'Bucharest',\n",
       "       'Ljubljana', 'Warsaw', 'Vilnius', 'Valencia', 'Braga', 'Taipei'],\n",
       "      dtype=object)"
      ]
     },
     "execution_count": 37,
     "metadata": {},
     "output_type": "execute_result"
    }
   ],
   "source": [
    "g.get_group(2).City.unique()"
   ]
  },
  {
   "cell_type": "code",
   "execution_count": 38,
   "id": "fceb111f",
   "metadata": {},
   "outputs": [
    {
     "data": {
      "text/plain": [
       "array(['Caracas', 'Johannesburg', 'Mexico City', 'Karachi', 'Nairobi',\n",
       "       'Kuala Lumpur', 'Pretoria', 'Manila', 'Lima', 'Rome', 'Lagos',\n",
       "       'Saint Petersburg', 'Naples', 'Kharkiv', 'Moscow', 'Lahore',\n",
       "       'Hanoi', 'Montevideo', 'Colombo', 'Ulaanbaatar', 'Amman', 'Bogota',\n",
       "       'Antalya', 'Barcelona', 'Lisbon', 'Casablanca', 'Belgrade',\n",
       "       'Chiang Mai', 'Porto', 'Bangkok', 'Bratislava', 'Bucharest',\n",
       "       'Ljubljana', 'Warsaw', 'Vilnius', 'Valencia', 'Braga', 'Taipei'],\n",
       "      dtype=object)"
      ]
     },
     "execution_count": 38,
     "metadata": {},
     "output_type": "execute_result"
    }
   ],
   "source": [
    "g.get_group(2).City.unique()"
   ]
  },
  {
   "cell_type": "code",
   "execution_count": 39,
   "id": "a3135117",
   "metadata": {},
   "outputs": [
    {
     "data": {
      "text/plain": [
       "array(['Detroit', 'Las Vegas', 'Cape Town', 'Los Angeles', 'Houston',\n",
       "       'Dallas', 'Baltimore', 'Atlanta', 'Orlando', 'Chicago', 'Muscat',\n",
       "       'New York', 'Honolulu', 'Austin', 'New Orleans', 'Seattle',\n",
       "       'Boston', 'Riyadh', 'Charlotte', 'Indianapolis', 'Newark', 'Doha',\n",
       "       'Gothenburg', 'Nashville', 'Singapore'], dtype=object)"
      ]
     },
     "execution_count": 39,
     "metadata": {},
     "output_type": "execute_result"
    }
   ],
   "source": [
    "g.get_group(3).City.unique()"
   ]
  },
  {
   "cell_type": "code",
   "execution_count": 40,
   "id": "489c2e88",
   "metadata": {},
   "outputs": [
    {
     "data": {
      "image/png": "[encoded data removed]",
      "text/plain": [
       "<Figure size 432x288 with 1 Axes>"
      ]
     },
     "metadata": {
      "needs_background": "light"
     },
     "output_type": "display_data"
    }
   ],
   "source": [
    "centroid_colors=['red','green','purple','blue']\n",
    "c=0\n",
    "plt.scatter(scaled_df['Crime Rating'], scaled_df['Cappuccino'], marker='*', c='tan')\n",
    "for i,j in Kmeans_model.cluster_centers_[:,6:8]:\n",
    "    plt.scatter(i, j, s=50, c=centroid_colors[c], marker='s')\n",
    "    c=c+1\n",
    "plt.show()"
   ]
  },
  {
   "cell_type": "code",
   "execution_count": null,
   "id": "d5ee177b",
   "metadata": {},
   "outputs": [],
   "source": []
  },
  {
   "cell_type": "code",
   "execution_count": null,
   "id": "d826b1b7",
   "metadata": {},
   "outputs": [],
   "source": []
  },
  {
   "cell_type": "code",
   "execution_count": null,
   "id": "dbd0d76c",
   "metadata": {},
   "outputs": [],
   "source": []
  }
 ],
 "metadata": {
  "kernelspec": {
   "display_name": "Python 3 (ipykernel)",
   "language": "python",
   "name": "python3"
  },
  "language_info": {
   "codemirror_mode": {
    "name": "ipython",
    "version": 3
   },
   "file_extension": ".py",
   "mimetype": "text/x-python",
   "name": "python",
   "nbconvert_exporter": "python",
   "pygments_lexer": "ipython3",
   "version": "3.9.12"
  }
 },
 "nbformat": 4,
 "nbformat_minor": 5
}
