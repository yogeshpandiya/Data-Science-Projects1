{
 "cells": [
  {
   "cell_type": "markdown",
   "id": "a087f2b4",
   "metadata": {},
   "source": [
    "## TASK1"
   ]
  },
  {
   "cell_type": "code",
   "execution_count": 1,
   "id": "22ffbd81",
   "metadata": {},
   "outputs": [],
   "source": [
    "import numpy as np\n",
    "import pandas as pd\n",
    "import matplotlib.pyplot as plt\n",
    "import seaborn as sns \n",
    "\n",
    "from sklearn import preprocessing \n",
    "from sklearn.preprocessing import MinMaxScaler, StandardScaler\n",
    "from sklearn.model_selection import train_test_split"
   ]
  },
  {
   "cell_type": "code",
   "execution_count": 2,
   "id": "0a9b4d3b",
   "metadata": {},
   "outputs": [],
   "source": [
    "df = pd.read_csv('DS2_C6_S1_Insurance_Data_Challenge.csv')"
   ]
  },
  {
   "cell_type": "code",
   "execution_count": 3,
   "id": "1c3633c7",
   "metadata": {},
   "outputs": [
    {
     "data": {
      "text/html": [
       "<div>\n",
       "<style scoped>\n",
       "    .dataframe tbody tr th:only-of-type {\n",
       "        vertical-align: middle;\n",
       "    }\n",
       "\n",
       "    .dataframe tbody tr th {\n",
       "        vertical-align: top;\n",
       "    }\n",
       "\n",
       "    .dataframe thead th {\n",
       "        text-align: right;\n",
       "    }\n",
       "</style>\n",
       "<table border=\"1\" class=\"dataframe\">\n",
       "  <thead>\n",
       "    <tr style=\"text-align: right;\">\n",
       "      <th></th>\n",
       "      <th>age</th>\n",
       "      <th>sex</th>\n",
       "      <th>bmi</th>\n",
       "      <th>children</th>\n",
       "      <th>smoker</th>\n",
       "      <th>region</th>\n",
       "      <th>charges</th>\n",
       "    </tr>\n",
       "  </thead>\n",
       "  <tbody>\n",
       "    <tr>\n",
       "      <th>0</th>\n",
       "      <td>19</td>\n",
       "      <td>female</td>\n",
       "      <td>27.900</td>\n",
       "      <td>0</td>\n",
       "      <td>yes</td>\n",
       "      <td>southwest</td>\n",
       "      <td>16884.92400</td>\n",
       "    </tr>\n",
       "    <tr>\n",
       "      <th>1</th>\n",
       "      <td>18</td>\n",
       "      <td>male</td>\n",
       "      <td>33.770</td>\n",
       "      <td>1</td>\n",
       "      <td>no</td>\n",
       "      <td>southeast</td>\n",
       "      <td>1725.55230</td>\n",
       "    </tr>\n",
       "    <tr>\n",
       "      <th>2</th>\n",
       "      <td>28</td>\n",
       "      <td>male</td>\n",
       "      <td>33.000</td>\n",
       "      <td>3</td>\n",
       "      <td>no</td>\n",
       "      <td>southeast</td>\n",
       "      <td>4449.46200</td>\n",
       "    </tr>\n",
       "    <tr>\n",
       "      <th>3</th>\n",
       "      <td>33</td>\n",
       "      <td>male</td>\n",
       "      <td>22.705</td>\n",
       "      <td>0</td>\n",
       "      <td>no</td>\n",
       "      <td>northwest</td>\n",
       "      <td>21984.47061</td>\n",
       "    </tr>\n",
       "    <tr>\n",
       "      <th>4</th>\n",
       "      <td>32</td>\n",
       "      <td>male</td>\n",
       "      <td>28.880</td>\n",
       "      <td>0</td>\n",
       "      <td>no</td>\n",
       "      <td>northwest</td>\n",
       "      <td>3866.85520</td>\n",
       "    </tr>\n",
       "  </tbody>\n",
       "</table>\n",
       "</div>"
      ],
      "text/plain": [
       "   age     sex     bmi  children smoker     region      charges\n",
       "0   19  female  27.900         0    yes  southwest  16884.92400\n",
       "1   18    male  33.770         1     no  southeast   1725.55230\n",
       "2   28    male  33.000         3     no  southeast   4449.46200\n",
       "3   33    male  22.705         0     no  northwest  21984.47061\n",
       "4   32    male  28.880         0     no  northwest   3866.85520"
      ]
     },
     "execution_count": 3,
     "metadata": {},
     "output_type": "execute_result"
    }
   ],
   "source": [
    "df.head()"
   ]
  },
  {
   "cell_type": "code",
   "execution_count": null,
   "id": "9616c616",
   "metadata": {},
   "outputs": [],
   "source": []
  },
  {
   "cell_type": "markdown",
   "id": "2cbdde2e",
   "metadata": {},
   "source": [
    "## Task2"
   ]
  },
  {
   "cell_type": "code",
   "execution_count": 4,
   "id": "bc1a29b9",
   "metadata": {},
   "outputs": [
    {
     "data": {
      "text/plain": [
       "Index(['age', 'sex', 'bmi', 'children', 'smoker', 'region', 'charges'], dtype='object')"
      ]
     },
     "execution_count": 4,
     "metadata": {},
     "output_type": "execute_result"
    }
   ],
   "source": [
    "df.columns"
   ]
  },
  {
   "cell_type": "code",
   "execution_count": 5,
   "id": "c6e035a0",
   "metadata": {},
   "outputs": [
    {
     "data": {
      "text/plain": [
       "(1338, 7)"
      ]
     },
     "execution_count": 5,
     "metadata": {},
     "output_type": "execute_result"
    }
   ],
   "source": [
    "df.shape"
   ]
  },
  {
   "cell_type": "code",
   "execution_count": 6,
   "id": "1235c606",
   "metadata": {},
   "outputs": [
    {
     "data": {
      "text/html": [
       "<div>\n",
       "<style scoped>\n",
       "    .dataframe tbody tr th:only-of-type {\n",
       "        vertical-align: middle;\n",
       "    }\n",
       "\n",
       "    .dataframe tbody tr th {\n",
       "        vertical-align: top;\n",
       "    }\n",
       "\n",
       "    .dataframe thead th {\n",
       "        text-align: right;\n",
       "    }\n",
       "</style>\n",
       "<table border=\"1\" class=\"dataframe\">\n",
       "  <thead>\n",
       "    <tr style=\"text-align: right;\">\n",
       "      <th></th>\n",
       "      <th>age</th>\n",
       "      <th>bmi</th>\n",
       "      <th>children</th>\n",
       "      <th>charges</th>\n",
       "    </tr>\n",
       "  </thead>\n",
       "  <tbody>\n",
       "    <tr>\n",
       "      <th>count</th>\n",
       "      <td>1338.000000</td>\n",
       "      <td>1338.000000</td>\n",
       "      <td>1338.000000</td>\n",
       "      <td>1338.000000</td>\n",
       "    </tr>\n",
       "    <tr>\n",
       "      <th>mean</th>\n",
       "      <td>39.207025</td>\n",
       "      <td>30.663397</td>\n",
       "      <td>1.094918</td>\n",
       "      <td>13270.422265</td>\n",
       "    </tr>\n",
       "    <tr>\n",
       "      <th>std</th>\n",
       "      <td>14.049960</td>\n",
       "      <td>6.098187</td>\n",
       "      <td>1.205493</td>\n",
       "      <td>12110.011237</td>\n",
       "    </tr>\n",
       "    <tr>\n",
       "      <th>min</th>\n",
       "      <td>18.000000</td>\n",
       "      <td>15.960000</td>\n",
       "      <td>0.000000</td>\n",
       "      <td>1121.873900</td>\n",
       "    </tr>\n",
       "    <tr>\n",
       "      <th>25%</th>\n",
       "      <td>27.000000</td>\n",
       "      <td>26.296250</td>\n",
       "      <td>0.000000</td>\n",
       "      <td>4740.287150</td>\n",
       "    </tr>\n",
       "    <tr>\n",
       "      <th>50%</th>\n",
       "      <td>39.000000</td>\n",
       "      <td>30.400000</td>\n",
       "      <td>1.000000</td>\n",
       "      <td>9382.033000</td>\n",
       "    </tr>\n",
       "    <tr>\n",
       "      <th>75%</th>\n",
       "      <td>51.000000</td>\n",
       "      <td>34.693750</td>\n",
       "      <td>2.000000</td>\n",
       "      <td>16639.912515</td>\n",
       "    </tr>\n",
       "    <tr>\n",
       "      <th>max</th>\n",
       "      <td>64.000000</td>\n",
       "      <td>53.130000</td>\n",
       "      <td>5.000000</td>\n",
       "      <td>63770.428010</td>\n",
       "    </tr>\n",
       "  </tbody>\n",
       "</table>\n",
       "</div>"
      ],
      "text/plain": [
       "               age          bmi     children       charges\n",
       "count  1338.000000  1338.000000  1338.000000   1338.000000\n",
       "mean     39.207025    30.663397     1.094918  13270.422265\n",
       "std      14.049960     6.098187     1.205493  12110.011237\n",
       "min      18.000000    15.960000     0.000000   1121.873900\n",
       "25%      27.000000    26.296250     0.000000   4740.287150\n",
       "50%      39.000000    30.400000     1.000000   9382.033000\n",
       "75%      51.000000    34.693750     2.000000  16639.912515\n",
       "max      64.000000    53.130000     5.000000  63770.428010"
      ]
     },
     "execution_count": 6,
     "metadata": {},
     "output_type": "execute_result"
    }
   ],
   "source": [
    "df.describe()"
   ]
  },
  {
   "cell_type": "code",
   "execution_count": null,
   "id": "3dd2fbc2",
   "metadata": {},
   "outputs": [],
   "source": []
  },
  {
   "cell_type": "markdown",
   "id": "b135dd44",
   "metadata": {},
   "source": [
    "## TASK3"
   ]
  },
  {
   "cell_type": "code",
   "execution_count": 7,
   "id": "c35b6c3d",
   "metadata": {},
   "outputs": [
    {
     "data": {
      "text/plain": [
       "age         0\n",
       "sex         0\n",
       "bmi         0\n",
       "children    0\n",
       "smoker      0\n",
       "region      0\n",
       "charges     0\n",
       "dtype: int64"
      ]
     },
     "execution_count": 7,
     "metadata": {},
     "output_type": "execute_result"
    }
   ],
   "source": [
    "df.isna().sum()"
   ]
  },
  {
   "cell_type": "code",
   "execution_count": null,
   "id": "ecda0d40",
   "metadata": {},
   "outputs": [],
   "source": []
  },
  {
   "cell_type": "markdown",
   "id": "adf9c8f2",
   "metadata": {},
   "source": [
    "## TASK4"
   ]
  },
  {
   "cell_type": "code",
   "execution_count": 8,
   "id": "2846c7e0",
   "metadata": {},
   "outputs": [
    {
     "data": {
      "text/plain": [
       "age           int64\n",
       "sex          object\n",
       "bmi         float64\n",
       "children      int64\n",
       "smoker       object\n",
       "region       object\n",
       "charges     float64\n",
       "dtype: object"
      ]
     },
     "execution_count": 8,
     "metadata": {},
     "output_type": "execute_result"
    }
   ],
   "source": [
    "df.dtypes"
   ]
  },
  {
   "cell_type": "code",
   "execution_count": null,
   "id": "c874e748",
   "metadata": {},
   "outputs": [],
   "source": []
  },
  {
   "cell_type": "code",
   "execution_count": 9,
   "id": "ae6f22f5",
   "metadata": {},
   "outputs": [],
   "source": [
    "df[['sex','smoker','region']]= df[['sex','smoker','region']].astype('category')"
   ]
  },
  {
   "cell_type": "code",
   "execution_count": 10,
   "id": "3e109494",
   "metadata": {},
   "outputs": [
    {
     "data": {
      "text/plain": [
       "age            int64\n",
       "sex         category\n",
       "bmi          float64\n",
       "children       int64\n",
       "smoker      category\n",
       "region      category\n",
       "charges      float64\n",
       "dtype: object"
      ]
     },
     "execution_count": 10,
     "metadata": {},
     "output_type": "execute_result"
    }
   ],
   "source": [
    "df.dtypes"
   ]
  },
  {
   "cell_type": "code",
   "execution_count": null,
   "id": "74f59ef5",
   "metadata": {},
   "outputs": [],
   "source": []
  },
  {
   "cell_type": "code",
   "execution_count": 11,
   "id": "136f8059",
   "metadata": {},
   "outputs": [],
   "source": [
    "label_encoder = preprocessing.LabelEncoder()"
   ]
  },
  {
   "cell_type": "code",
   "execution_count": 12,
   "id": "8e6a277a",
   "metadata": {},
   "outputs": [],
   "source": [
    "df['sex_encode']= label_encoder.fit_transform(df['sex'])\n",
    "df['smoker_encode']= label_encoder.fit_transform(df['smoker'])\n",
    "df['region_encode']= label_encoder.fit_transform(df['region'])"
   ]
  },
  {
   "cell_type": "code",
   "execution_count": null,
   "id": "abbc9373",
   "metadata": {},
   "outputs": [],
   "source": []
  },
  {
   "cell_type": "code",
   "execution_count": 13,
   "id": "578e3abe",
   "metadata": {},
   "outputs": [],
   "source": [
    "def feature_scale(scale):\n",
    "    numerics = ['int16', 'int32', 'int64', 'float16', 'float32', 'float64']\n",
    "    new_Insurance_df = df.select_dtypes(include=numerics)\n",
    "    if scale == 'minmax':\n",
    "        scaler = MinMaxScaler()\n",
    "    else:\n",
    "        scaler = StandardScaler()\n",
    "    df_scaled = pd.DataFrame(scaler.fit_transform(new_Insurance_df.to_numpy()),columns=new_Insurance_df.columns)\n",
    "    return df_scaled"
   ]
  },
  {
   "cell_type": "code",
   "execution_count": 14,
   "id": "39daed5c",
   "metadata": {},
   "outputs": [
    {
     "data": {
      "text/html": [
       "<div>\n",
       "<style scoped>\n",
       "    .dataframe tbody tr th:only-of-type {\n",
       "        vertical-align: middle;\n",
       "    }\n",
       "\n",
       "    .dataframe tbody tr th {\n",
       "        vertical-align: top;\n",
       "    }\n",
       "\n",
       "    .dataframe thead th {\n",
       "        text-align: right;\n",
       "    }\n",
       "</style>\n",
       "<table border=\"1\" class=\"dataframe\">\n",
       "  <thead>\n",
       "    <tr style=\"text-align: right;\">\n",
       "      <th></th>\n",
       "      <th>age</th>\n",
       "      <th>bmi</th>\n",
       "      <th>children</th>\n",
       "      <th>charges</th>\n",
       "      <th>sex_encode</th>\n",
       "      <th>smoker_encode</th>\n",
       "      <th>region_encode</th>\n",
       "    </tr>\n",
       "  </thead>\n",
       "  <tbody>\n",
       "    <tr>\n",
       "      <th>0</th>\n",
       "      <td>0.021739</td>\n",
       "      <td>0.321227</td>\n",
       "      <td>0.0</td>\n",
       "      <td>0.251611</td>\n",
       "      <td>0.0</td>\n",
       "      <td>1.0</td>\n",
       "      <td>1.000000</td>\n",
       "    </tr>\n",
       "    <tr>\n",
       "      <th>1</th>\n",
       "      <td>0.000000</td>\n",
       "      <td>0.479150</td>\n",
       "      <td>0.2</td>\n",
       "      <td>0.009636</td>\n",
       "      <td>1.0</td>\n",
       "      <td>0.0</td>\n",
       "      <td>0.666667</td>\n",
       "    </tr>\n",
       "    <tr>\n",
       "      <th>2</th>\n",
       "      <td>0.217391</td>\n",
       "      <td>0.458434</td>\n",
       "      <td>0.6</td>\n",
       "      <td>0.053115</td>\n",
       "      <td>1.0</td>\n",
       "      <td>0.0</td>\n",
       "      <td>0.666667</td>\n",
       "    </tr>\n",
       "    <tr>\n",
       "      <th>3</th>\n",
       "      <td>0.326087</td>\n",
       "      <td>0.181464</td>\n",
       "      <td>0.0</td>\n",
       "      <td>0.333010</td>\n",
       "      <td>1.0</td>\n",
       "      <td>0.0</td>\n",
       "      <td>0.333333</td>\n",
       "    </tr>\n",
       "    <tr>\n",
       "      <th>4</th>\n",
       "      <td>0.304348</td>\n",
       "      <td>0.347592</td>\n",
       "      <td>0.0</td>\n",
       "      <td>0.043816</td>\n",
       "      <td>1.0</td>\n",
       "      <td>0.0</td>\n",
       "      <td>0.333333</td>\n",
       "    </tr>\n",
       "    <tr>\n",
       "      <th>...</th>\n",
       "      <td>...</td>\n",
       "      <td>...</td>\n",
       "      <td>...</td>\n",
       "      <td>...</td>\n",
       "      <td>...</td>\n",
       "      <td>...</td>\n",
       "      <td>...</td>\n",
       "    </tr>\n",
       "    <tr>\n",
       "      <th>1333</th>\n",
       "      <td>0.695652</td>\n",
       "      <td>0.403820</td>\n",
       "      <td>0.6</td>\n",
       "      <td>0.151299</td>\n",
       "      <td>1.0</td>\n",
       "      <td>0.0</td>\n",
       "      <td>0.333333</td>\n",
       "    </tr>\n",
       "    <tr>\n",
       "      <th>1334</th>\n",
       "      <td>0.000000</td>\n",
       "      <td>0.429379</td>\n",
       "      <td>0.0</td>\n",
       "      <td>0.017305</td>\n",
       "      <td>0.0</td>\n",
       "      <td>0.0</td>\n",
       "      <td>0.000000</td>\n",
       "    </tr>\n",
       "    <tr>\n",
       "      <th>1335</th>\n",
       "      <td>0.000000</td>\n",
       "      <td>0.562012</td>\n",
       "      <td>0.0</td>\n",
       "      <td>0.008108</td>\n",
       "      <td>0.0</td>\n",
       "      <td>0.0</td>\n",
       "      <td>0.666667</td>\n",
       "    </tr>\n",
       "    <tr>\n",
       "      <th>1336</th>\n",
       "      <td>0.065217</td>\n",
       "      <td>0.264730</td>\n",
       "      <td>0.0</td>\n",
       "      <td>0.014144</td>\n",
       "      <td>0.0</td>\n",
       "      <td>0.0</td>\n",
       "      <td>1.000000</td>\n",
       "    </tr>\n",
       "    <tr>\n",
       "      <th>1337</th>\n",
       "      <td>0.934783</td>\n",
       "      <td>0.352704</td>\n",
       "      <td>0.0</td>\n",
       "      <td>0.447249</td>\n",
       "      <td>0.0</td>\n",
       "      <td>1.0</td>\n",
       "      <td>0.333333</td>\n",
       "    </tr>\n",
       "  </tbody>\n",
       "</table>\n",
       "<p>1338 rows × 7 columns</p>\n",
       "</div>"
      ],
      "text/plain": [
       "           age       bmi  children   charges  sex_encode  smoker_encode  \\\n",
       "0     0.021739  0.321227       0.0  0.251611         0.0            1.0   \n",
       "1     0.000000  0.479150       0.2  0.009636         1.0            0.0   \n",
       "2     0.217391  0.458434       0.6  0.053115         1.0            0.0   \n",
       "3     0.326087  0.181464       0.0  0.333010         1.0            0.0   \n",
       "4     0.304348  0.347592       0.0  0.043816         1.0            0.0   \n",
       "...        ...       ...       ...       ...         ...            ...   \n",
       "1333  0.695652  0.403820       0.6  0.151299         1.0            0.0   \n",
       "1334  0.000000  0.429379       0.0  0.017305         0.0            0.0   \n",
       "1335  0.000000  0.562012       0.0  0.008108         0.0            0.0   \n",
       "1336  0.065217  0.264730       0.0  0.014144         0.0            0.0   \n",
       "1337  0.934783  0.352704       0.0  0.447249         0.0            1.0   \n",
       "\n",
       "      region_encode  \n",
       "0          1.000000  \n",
       "1          0.666667  \n",
       "2          0.666667  \n",
       "3          0.333333  \n",
       "4          0.333333  \n",
       "...             ...  \n",
       "1333       0.333333  \n",
       "1334       0.000000  \n",
       "1335       0.666667  \n",
       "1336       1.000000  \n",
       "1337       0.333333  \n",
       "\n",
       "[1338 rows x 7 columns]"
      ]
     },
     "execution_count": 14,
     "metadata": {},
     "output_type": "execute_result"
    }
   ],
   "source": [
    "scale = 'minmax' #standard\n",
    "Insurance_df_scaled=feature_scale(scale)\n",
    "Insurance_df_scaled"
   ]
  },
  {
   "cell_type": "code",
   "execution_count": 15,
   "id": "6463fa53",
   "metadata": {},
   "outputs": [
    {
     "data": {
      "text/html": [
       "<style type=\"text/css\">\n",
       "#T_dbbfc_row0_col0, #T_dbbfc_row1_col1, #T_dbbfc_row2_col2, #T_dbbfc_row3_col3, #T_dbbfc_row4_col4, #T_dbbfc_row5_col5, #T_dbbfc_row6_col6 {\n",
       "  background-color: #b40426;\n",
       "  color: #f1f1f1;\n",
       "}\n",
       "#T_dbbfc_row0_col1 {\n",
       "  background-color: #5b7ae5;\n",
       "  color: #f1f1f1;\n",
       "}\n",
       "#T_dbbfc_row0_col2, #T_dbbfc_row2_col5 {\n",
       "  background-color: #445acc;\n",
       "  color: #f1f1f1;\n",
       "}\n",
       "#T_dbbfc_row0_col3 {\n",
       "  background-color: #9fbfff;\n",
       "  color: #000000;\n",
       "}\n",
       "#T_dbbfc_row0_col4, #T_dbbfc_row0_col5, #T_dbbfc_row3_col6, #T_dbbfc_row5_col0, #T_dbbfc_row5_col1, #T_dbbfc_row5_col2, #T_dbbfc_row6_col3 {\n",
       "  background-color: #3b4cc0;\n",
       "  color: #f1f1f1;\n",
       "}\n",
       "#T_dbbfc_row0_col6, #T_dbbfc_row2_col1, #T_dbbfc_row4_col2, #T_dbbfc_row4_col6, #T_dbbfc_row6_col2 {\n",
       "  background-color: #3d50c3;\n",
       "  color: #f1f1f1;\n",
       "}\n",
       "#T_dbbfc_row1_col0 {\n",
       "  background-color: #6384eb;\n",
       "  color: #f1f1f1;\n",
       "}\n",
       "#T_dbbfc_row1_col2, #T_dbbfc_row4_col0, #T_dbbfc_row5_col6 {\n",
       "  background-color: #3c4ec2;\n",
       "  color: #f1f1f1;\n",
       "}\n",
       "#T_dbbfc_row1_col3 {\n",
       "  background-color: #7da0f9;\n",
       "  color: #f1f1f1;\n",
       "}\n",
       "#T_dbbfc_row1_col4, #T_dbbfc_row2_col0, #T_dbbfc_row4_col3 {\n",
       "  background-color: #4e68d8;\n",
       "  color: #f1f1f1;\n",
       "}\n",
       "#T_dbbfc_row1_col5 {\n",
       "  background-color: #4358cb;\n",
       "  color: #f1f1f1;\n",
       "}\n",
       "#T_dbbfc_row1_col6 {\n",
       "  background-color: #6e90f2;\n",
       "  color: #f1f1f1;\n",
       "}\n",
       "#T_dbbfc_row2_col3 {\n",
       "  background-color: #506bda;\n",
       "  color: #f1f1f1;\n",
       "}\n",
       "#T_dbbfc_row2_col4 {\n",
       "  background-color: #455cce;\n",
       "  color: #f1f1f1;\n",
       "}\n",
       "#T_dbbfc_row2_col6, #T_dbbfc_row6_col5 {\n",
       "  background-color: #4055c8;\n",
       "  color: #f1f1f1;\n",
       "}\n",
       "#T_dbbfc_row3_col0 {\n",
       "  background-color: #a3c2fe;\n",
       "  color: #000000;\n",
       "}\n",
       "#T_dbbfc_row3_col1 {\n",
       "  background-color: #7a9df8;\n",
       "  color: #f1f1f1;\n",
       "}\n",
       "#T_dbbfc_row3_col2 {\n",
       "  background-color: #4c66d6;\n",
       "  color: #f1f1f1;\n",
       "}\n",
       "#T_dbbfc_row3_col4 {\n",
       "  background-color: #516ddb;\n",
       "  color: #f1f1f1;\n",
       "}\n",
       "#T_dbbfc_row3_col5 {\n",
       "  background-color: #ef886b;\n",
       "  color: #f1f1f1;\n",
       "}\n",
       "#T_dbbfc_row4_col1 {\n",
       "  background-color: #465ecf;\n",
       "  color: #f1f1f1;\n",
       "}\n",
       "#T_dbbfc_row4_col5 {\n",
       "  background-color: #5977e3;\n",
       "  color: #f1f1f1;\n",
       "}\n",
       "#T_dbbfc_row5_col3 {\n",
       "  background-color: #f08a6c;\n",
       "  color: #f1f1f1;\n",
       "}\n",
       "#T_dbbfc_row5_col4 {\n",
       "  background-color: #5875e1;\n",
       "  color: #f1f1f1;\n",
       "}\n",
       "#T_dbbfc_row6_col0, #T_dbbfc_row6_col4 {\n",
       "  background-color: #4257c9;\n",
       "  color: #f1f1f1;\n",
       "}\n",
       "#T_dbbfc_row6_col1 {\n",
       "  background-color: #6b8df0;\n",
       "  color: #f1f1f1;\n",
       "}\n",
       "</style>\n",
       "<table id=\"T_dbbfc\">\n",
       "  <thead>\n",
       "    <tr>\n",
       "      <th class=\"blank level0\" >&nbsp;</th>\n",
       "      <th id=\"T_dbbfc_level0_col0\" class=\"col_heading level0 col0\" >age</th>\n",
       "      <th id=\"T_dbbfc_level0_col1\" class=\"col_heading level0 col1\" >bmi</th>\n",
       "      <th id=\"T_dbbfc_level0_col2\" class=\"col_heading level0 col2\" >children</th>\n",
       "      <th id=\"T_dbbfc_level0_col3\" class=\"col_heading level0 col3\" >charges</th>\n",
       "      <th id=\"T_dbbfc_level0_col4\" class=\"col_heading level0 col4\" >sex_encode</th>\n",
       "      <th id=\"T_dbbfc_level0_col5\" class=\"col_heading level0 col5\" >smoker_encode</th>\n",
       "      <th id=\"T_dbbfc_level0_col6\" class=\"col_heading level0 col6\" >region_encode</th>\n",
       "    </tr>\n",
       "  </thead>\n",
       "  <tbody>\n",
       "    <tr>\n",
       "      <th id=\"T_dbbfc_level0_row0\" class=\"row_heading level0 row0\" >age</th>\n",
       "      <td id=\"T_dbbfc_row0_col0\" class=\"data row0 col0\" >1.000000</td>\n",
       "      <td id=\"T_dbbfc_row0_col1\" class=\"data row0 col1\" >0.109272</td>\n",
       "      <td id=\"T_dbbfc_row0_col2\" class=\"data row0 col2\" >0.042469</td>\n",
       "      <td id=\"T_dbbfc_row0_col3\" class=\"data row0 col3\" >0.299008</td>\n",
       "      <td id=\"T_dbbfc_row0_col4\" class=\"data row0 col4\" >-0.020856</td>\n",
       "      <td id=\"T_dbbfc_row0_col5\" class=\"data row0 col5\" >-0.025019</td>\n",
       "      <td id=\"T_dbbfc_row0_col6\" class=\"data row0 col6\" >0.002127</td>\n",
       "    </tr>\n",
       "    <tr>\n",
       "      <th id=\"T_dbbfc_level0_row1\" class=\"row_heading level0 row1\" >bmi</th>\n",
       "      <td id=\"T_dbbfc_row1_col0\" class=\"data row1 col0\" >0.109272</td>\n",
       "      <td id=\"T_dbbfc_row1_col1\" class=\"data row1 col1\" >1.000000</td>\n",
       "      <td id=\"T_dbbfc_row1_col2\" class=\"data row1 col2\" >0.012759</td>\n",
       "      <td id=\"T_dbbfc_row1_col3\" class=\"data row1 col3\" >0.198341</td>\n",
       "      <td id=\"T_dbbfc_row1_col4\" class=\"data row1 col4\" >0.046371</td>\n",
       "      <td id=\"T_dbbfc_row1_col5\" class=\"data row1 col5\" >0.003750</td>\n",
       "      <td id=\"T_dbbfc_row1_col6\" class=\"data row1 col6\" >0.157566</td>\n",
       "    </tr>\n",
       "    <tr>\n",
       "      <th id=\"T_dbbfc_level0_row2\" class=\"row_heading level0 row2\" >children</th>\n",
       "      <td id=\"T_dbbfc_row2_col0\" class=\"data row2 col0\" >0.042469</td>\n",
       "      <td id=\"T_dbbfc_row2_col1\" class=\"data row2 col1\" >0.012759</td>\n",
       "      <td id=\"T_dbbfc_row2_col2\" class=\"data row2 col2\" >1.000000</td>\n",
       "      <td id=\"T_dbbfc_row2_col3\" class=\"data row2 col3\" >0.067998</td>\n",
       "      <td id=\"T_dbbfc_row2_col4\" class=\"data row2 col4\" >0.017163</td>\n",
       "      <td id=\"T_dbbfc_row2_col5\" class=\"data row2 col5\" >0.007673</td>\n",
       "      <td id=\"T_dbbfc_row2_col6\" class=\"data row2 col6\" >0.016569</td>\n",
       "    </tr>\n",
       "    <tr>\n",
       "      <th id=\"T_dbbfc_level0_row3\" class=\"row_heading level0 row3\" >charges</th>\n",
       "      <td id=\"T_dbbfc_row3_col0\" class=\"data row3 col0\" >0.299008</td>\n",
       "      <td id=\"T_dbbfc_row3_col1\" class=\"data row3 col1\" >0.198341</td>\n",
       "      <td id=\"T_dbbfc_row3_col2\" class=\"data row3 col2\" >0.067998</td>\n",
       "      <td id=\"T_dbbfc_row3_col3\" class=\"data row3 col3\" >1.000000</td>\n",
       "      <td id=\"T_dbbfc_row3_col4\" class=\"data row3 col4\" >0.057292</td>\n",
       "      <td id=\"T_dbbfc_row3_col5\" class=\"data row3 col5\" >0.787251</td>\n",
       "      <td id=\"T_dbbfc_row3_col6\" class=\"data row3 col6\" >-0.006208</td>\n",
       "    </tr>\n",
       "    <tr>\n",
       "      <th id=\"T_dbbfc_level0_row4\" class=\"row_heading level0 row4\" >sex_encode</th>\n",
       "      <td id=\"T_dbbfc_row4_col0\" class=\"data row4 col0\" >-0.020856</td>\n",
       "      <td id=\"T_dbbfc_row4_col1\" class=\"data row4 col1\" >0.046371</td>\n",
       "      <td id=\"T_dbbfc_row4_col2\" class=\"data row4 col2\" >0.017163</td>\n",
       "      <td id=\"T_dbbfc_row4_col3\" class=\"data row4 col3\" >0.057292</td>\n",
       "      <td id=\"T_dbbfc_row4_col4\" class=\"data row4 col4\" >1.000000</td>\n",
       "      <td id=\"T_dbbfc_row4_col5\" class=\"data row4 col5\" >0.076185</td>\n",
       "      <td id=\"T_dbbfc_row4_col6\" class=\"data row4 col6\" >0.004588</td>\n",
       "    </tr>\n",
       "    <tr>\n",
       "      <th id=\"T_dbbfc_level0_row5\" class=\"row_heading level0 row5\" >smoker_encode</th>\n",
       "      <td id=\"T_dbbfc_row5_col0\" class=\"data row5 col0\" >-0.025019</td>\n",
       "      <td id=\"T_dbbfc_row5_col1\" class=\"data row5 col1\" >0.003750</td>\n",
       "      <td id=\"T_dbbfc_row5_col2\" class=\"data row5 col2\" >0.007673</td>\n",
       "      <td id=\"T_dbbfc_row5_col3\" class=\"data row5 col3\" >0.787251</td>\n",
       "      <td id=\"T_dbbfc_row5_col4\" class=\"data row5 col4\" >0.076185</td>\n",
       "      <td id=\"T_dbbfc_row5_col5\" class=\"data row5 col5\" >1.000000</td>\n",
       "      <td id=\"T_dbbfc_row5_col6\" class=\"data row5 col6\" >-0.002181</td>\n",
       "    </tr>\n",
       "    <tr>\n",
       "      <th id=\"T_dbbfc_level0_row6\" class=\"row_heading level0 row6\" >region_encode</th>\n",
       "      <td id=\"T_dbbfc_row6_col0\" class=\"data row6 col0\" >0.002127</td>\n",
       "      <td id=\"T_dbbfc_row6_col1\" class=\"data row6 col1\" >0.157566</td>\n",
       "      <td id=\"T_dbbfc_row6_col2\" class=\"data row6 col2\" >0.016569</td>\n",
       "      <td id=\"T_dbbfc_row6_col3\" class=\"data row6 col3\" >-0.006208</td>\n",
       "      <td id=\"T_dbbfc_row6_col4\" class=\"data row6 col4\" >0.004588</td>\n",
       "      <td id=\"T_dbbfc_row6_col5\" class=\"data row6 col5\" >-0.002181</td>\n",
       "      <td id=\"T_dbbfc_row6_col6\" class=\"data row6 col6\" >1.000000</td>\n",
       "    </tr>\n",
       "  </tbody>\n",
       "</table>\n"
      ],
      "text/plain": [
       "<pandas.io.formats.style.Styler at 0x29125850f70>"
      ]
     },
     "execution_count": 15,
     "metadata": {},
     "output_type": "execute_result"
    }
   ],
   "source": [
    "corr=Insurance_df_scaled.corr()\n",
    "corr.style.background_gradient(cmap='coolwarm')"
   ]
  },
  {
   "cell_type": "code",
   "execution_count": 16,
   "id": "00077d41",
   "metadata": {},
   "outputs": [
    {
     "data": {
      "image/png": "[encoded data removed]",
      "text/plain": [
       "<Figure size 432x288 with 2 Axes>"
      ]
     },
     "metadata": {
      "needs_background": "light"
     },
     "output_type": "display_data"
    }
   ],
   "source": [
    "new_df_scaled=Insurance_df_scaled[['age','children', 'charges','sex_encode', 'smoker_encode', 'region_encode',]]\n",
    "hm = sns.heatmap(new_df_scaled.corr(), annot = True)\n",
    "plt.show()"
   ]
  },
  {
   "cell_type": "code",
   "execution_count": null,
   "id": "a905bf81",
   "metadata": {},
   "outputs": [],
   "source": []
  },
  {
   "cell_type": "markdown",
   "id": "1cd6f9c5",
   "metadata": {},
   "source": [
    "## TASK5"
   ]
  },
  {
   "cell_type": "code",
   "execution_count": 17,
   "id": "cc69a56f",
   "metadata": {},
   "outputs": [
    {
     "name": "stdout",
     "output_type": "stream",
     "text": [
      "Shape of new dataframes - (936, 6) , (401, 6)\n"
     ]
    }
   ],
   "source": [
    "Insurance_df_c=new_df_scaled\n",
    "train_num=int(1338*0.7)\n",
    "Insurance_df_train = Insurance_df_c.iloc[:train_num,:]\n",
    "Insurance_df_test = Insurance_df_c.iloc[(train_num+1):,:]\n",
    "print(\"Shape of new dataframes - {} , {}\".format(Insurance_df_train.shape, Insurance_df_test.shape))"
   ]
  },
  {
   "cell_type": "code",
   "execution_count": null,
   "id": "5f53ab35",
   "metadata": {},
   "outputs": [],
   "source": []
  },
  {
   "cell_type": "code",
   "execution_count": 18,
   "id": "c3bb964e",
   "metadata": {},
   "outputs": [
    {
     "name": "stdout",
     "output_type": "stream",
     "text": [
      "Shape of new dataframes - (936, 6) , (402, 6)\n"
     ]
    }
   ],
   "source": [
    "y = Insurance_df_scaled['smoker_encode']\n",
    "X = Insurance_df_scaled[['sex_encode','region_encode','charges','age','bmi','children']]\n",
    "X_train, X_test, y_train, y_test = train_test_split(X, y, test_size=0.3, random_state=20)\n",
    "print(\"Shape of new dataframes - {} , {}\".format(X_train.shape, X_test.shape))"
   ]
  },
  {
   "cell_type": "code",
   "execution_count": null,
   "id": "6d7add6f",
   "metadata": {},
   "outputs": [],
   "source": []
  },
  {
   "cell_type": "markdown",
   "id": "7c0ce5d9",
   "metadata": {},
   "source": [
    "## TASK6"
   ]
  },
  {
   "cell_type": "code",
   "execution_count": 19,
   "id": "4d9a5f6f",
   "metadata": {},
   "outputs": [
    {
     "data": {
      "image/png": "[encoded data removed]",
      "text/plain": [
       "<Figure size 1440x720 with 8 Axes>"
      ]
     },
     "metadata": {
      "needs_background": "light"
     },
     "output_type": "display_data"
    }
   ],
   "source": [
    "numerics = ['int16', 'int32', 'int64', 'float16', 'float32', 'float64']\n",
    "new_Insurance_df = df.select_dtypes(include=numerics)\n",
    "numeric_cols=new_Insurance_df.columns\n",
    "num_cols=4\n",
    "n_bins = 50\n",
    "# compute number of rows for plot\n",
    "num_rows= int(len(numeric_cols)/num_cols)+1\n",
    "# setting canvas for plotting\n",
    "fig, axs = plt.subplots(num_rows, num_cols, tight_layout=True,figsize=(20,10))\n",
    "# plotting the numerical columns\n",
    "for col, ax in zip(numeric_cols,axs.flatten()[:len(numeric_cols)]):\n",
    "    ax.hist(new_Insurance_df[col],bins=n_bins,density=True)\n",
    "    ax.set_title(col)\n",
    "plt.show()\n"
   ]
  },
  {
   "cell_type": "code",
   "execution_count": null,
   "id": "f6680249",
   "metadata": {},
   "outputs": [],
   "source": []
  }
 ],
 "metadata": {
  "kernelspec": {
   "display_name": "Python 3 (ipykernel)",
   "language": "python",
   "name": "python3"
  },
  "language_info": {
   "codemirror_mode": {
    "name": "ipython",
    "version": 3
   },
   "file_extension": ".py",
   "mimetype": "text/x-python",
   "name": "python",
   "nbconvert_exporter": "python",
   "pygments_lexer": "ipython3",
   "version": "3.9.12"
  }
 },
 "nbformat": 4,
 "nbformat_minor": 5
}
