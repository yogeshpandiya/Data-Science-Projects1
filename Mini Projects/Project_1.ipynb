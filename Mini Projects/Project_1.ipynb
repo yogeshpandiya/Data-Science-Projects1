{
 "cells": [
  {
   "cell_type": "markdown",
   "id": "4598ccc5",
   "metadata": {},
   "source": [
    "# Regressor Model for Sales Prediciton \n"
   ]
  },
  {
   "cell_type": "markdown",
   "id": "359d388f",
   "metadata": {},
   "source": [
    "## Business Objective : To predict the sales of different item on the basis of there perevious sales data "
   ]
  },
  {
   "cell_type": "markdown",
   "id": "e0080176",
   "metadata": {},
   "source": [
    "### Loading Library"
   ]
  },
  {
   "cell_type": "code",
   "execution_count": 78,
   "id": "b6e034f9",
   "metadata": {},
   "outputs": [],
   "source": [
    "import numpy as np\n",
    "import pandas as pd\n",
    "import matplotlib.pyplot as plt\n",
    "import seaborn as sns \n",
    "\n",
    "from sklearn import preprocessing \n",
    "from sklearn.preprocessing import MinMaxScaler, StandardScaler\n",
    "from sklearn.model_selection import train_test_split"
   ]
  },
  {
   "cell_type": "markdown",
   "id": "3ec4c2ad",
   "metadata": {},
   "source": [
    "### Loading Data"
   ]
  },
  {
   "cell_type": "code",
   "execution_count": 79,
   "id": "df4ebf16",
   "metadata": {},
   "outputs": [],
   "source": [
    "df = pd.read_csv('DS3_C6_S1_Regression_StoreSales_Data_Project.csv')\n",
    "df1=df.copy() # to use in ml"
   ]
  },
  {
   "cell_type": "code",
   "execution_count": 80,
   "id": "a9cfa06d",
   "metadata": {},
   "outputs": [
    {
     "data": {
      "text/html": [
       "<div>\n",
       "<style scoped>\n",
       "    .dataframe tbody tr th:only-of-type {\n",
       "        vertical-align: middle;\n",
       "    }\n",
       "\n",
       "    .dataframe tbody tr th {\n",
       "        vertical-align: top;\n",
       "    }\n",
       "\n",
       "    .dataframe thead th {\n",
       "        text-align: right;\n",
       "    }\n",
       "</style>\n",
       "<table border=\"1\" class=\"dataframe\">\n",
       "  <thead>\n",
       "    <tr style=\"text-align: right;\">\n",
       "      <th></th>\n",
       "      <th>Item_Identifier</th>\n",
       "      <th>Item_Weight</th>\n",
       "      <th>Item_Fat_Content</th>\n",
       "      <th>Item_Visibility</th>\n",
       "      <th>Item_Type</th>\n",
       "      <th>Item_MRP</th>\n",
       "      <th>Outlet_Identifier</th>\n",
       "      <th>Outlet_Establishment_Year</th>\n",
       "      <th>Outlet_Size</th>\n",
       "      <th>Outlet_Location_Type</th>\n",
       "      <th>Outlet_Type</th>\n",
       "      <th>Item_Outlet_Sales</th>\n",
       "    </tr>\n",
       "  </thead>\n",
       "  <tbody>\n",
       "    <tr>\n",
       "      <th>0</th>\n",
       "      <td>FDA15</td>\n",
       "      <td>9.30</td>\n",
       "      <td>Low Fat</td>\n",
       "      <td>0.016047</td>\n",
       "      <td>Dairy</td>\n",
       "      <td>249.8092</td>\n",
       "      <td>OUT049</td>\n",
       "      <td>1999</td>\n",
       "      <td>Medium</td>\n",
       "      <td>Tier 1</td>\n",
       "      <td>Supermarket Type1</td>\n",
       "      <td>3735.1380</td>\n",
       "    </tr>\n",
       "    <tr>\n",
       "      <th>1</th>\n",
       "      <td>DRC01</td>\n",
       "      <td>5.92</td>\n",
       "      <td>Regular</td>\n",
       "      <td>0.019278</td>\n",
       "      <td>Soft Drinks</td>\n",
       "      <td>48.2692</td>\n",
       "      <td>OUT018</td>\n",
       "      <td>2009</td>\n",
       "      <td>Medium</td>\n",
       "      <td>Tier 3</td>\n",
       "      <td>Supermarket Type2</td>\n",
       "      <td>443.4228</td>\n",
       "    </tr>\n",
       "    <tr>\n",
       "      <th>2</th>\n",
       "      <td>FDN15</td>\n",
       "      <td>17.50</td>\n",
       "      <td>Low Fat</td>\n",
       "      <td>0.016760</td>\n",
       "      <td>Meat</td>\n",
       "      <td>141.6180</td>\n",
       "      <td>OUT049</td>\n",
       "      <td>1999</td>\n",
       "      <td>Medium</td>\n",
       "      <td>Tier 1</td>\n",
       "      <td>Supermarket Type1</td>\n",
       "      <td>2097.2700</td>\n",
       "    </tr>\n",
       "    <tr>\n",
       "      <th>3</th>\n",
       "      <td>FDX07</td>\n",
       "      <td>19.20</td>\n",
       "      <td>Regular</td>\n",
       "      <td>0.074402</td>\n",
       "      <td>Fruits and Vegetables</td>\n",
       "      <td>182.0950</td>\n",
       "      <td>OUT010</td>\n",
       "      <td>1998</td>\n",
       "      <td>Medium</td>\n",
       "      <td>Tier 3</td>\n",
       "      <td>Grocery Store</td>\n",
       "      <td>732.3800</td>\n",
       "    </tr>\n",
       "    <tr>\n",
       "      <th>4</th>\n",
       "      <td>NCD19</td>\n",
       "      <td>8.93</td>\n",
       "      <td>Low Fat</td>\n",
       "      <td>0.064299</td>\n",
       "      <td>Household</td>\n",
       "      <td>53.8614</td>\n",
       "      <td>OUT013</td>\n",
       "      <td>1987</td>\n",
       "      <td>High</td>\n",
       "      <td>Tier 3</td>\n",
       "      <td>Supermarket Type1</td>\n",
       "      <td>994.7052</td>\n",
       "    </tr>\n",
       "  </tbody>\n",
       "</table>\n",
       "</div>"
      ],
      "text/plain": [
       "  Item_Identifier  Item_Weight Item_Fat_Content  Item_Visibility  \\\n",
       "0           FDA15         9.30          Low Fat         0.016047   \n",
       "1           DRC01         5.92          Regular         0.019278   \n",
       "2           FDN15        17.50          Low Fat         0.016760   \n",
       "3           FDX07        19.20          Regular         0.074402   \n",
       "4           NCD19         8.93          Low Fat         0.064299   \n",
       "\n",
       "               Item_Type  Item_MRP Outlet_Identifier  \\\n",
       "0                  Dairy  249.8092            OUT049   \n",
       "1            Soft Drinks   48.2692            OUT018   \n",
       "2                   Meat  141.6180            OUT049   \n",
       "3  Fruits and Vegetables  182.0950            OUT010   \n",
       "4              Household   53.8614            OUT013   \n",
       "\n",
       "   Outlet_Establishment_Year Outlet_Size Outlet_Location_Type  \\\n",
       "0                       1999      Medium               Tier 1   \n",
       "1                       2009      Medium               Tier 3   \n",
       "2                       1999      Medium               Tier 1   \n",
       "3                       1998      Medium               Tier 3   \n",
       "4                       1987        High               Tier 3   \n",
       "\n",
       "         Outlet_Type  Item_Outlet_Sales  \n",
       "0  Supermarket Type1          3735.1380  \n",
       "1  Supermarket Type2           443.4228  \n",
       "2  Supermarket Type1          2097.2700  \n",
       "3      Grocery Store           732.3800  \n",
       "4  Supermarket Type1           994.7052  "
      ]
     },
     "execution_count": 80,
     "metadata": {},
     "output_type": "execute_result"
    }
   ],
   "source": [
    "df.head()"
   ]
  },
  {
   "cell_type": "code",
   "execution_count": 81,
   "id": "9c2a004f",
   "metadata": {},
   "outputs": [
    {
     "data": {
      "text/plain": [
       "(14204, 12)"
      ]
     },
     "execution_count": 81,
     "metadata": {},
     "output_type": "execute_result"
    }
   ],
   "source": [
    "df.shape"
   ]
  },
  {
   "cell_type": "code",
   "execution_count": 82,
   "id": "6cf85e1d",
   "metadata": {},
   "outputs": [
    {
     "data": {
      "text/html": [
       "<div>\n",
       "<style scoped>\n",
       "    .dataframe tbody tr th:only-of-type {\n",
       "        vertical-align: middle;\n",
       "    }\n",
       "\n",
       "    .dataframe tbody tr th {\n",
       "        vertical-align: top;\n",
       "    }\n",
       "\n",
       "    .dataframe thead th {\n",
       "        text-align: right;\n",
       "    }\n",
       "</style>\n",
       "<table border=\"1\" class=\"dataframe\">\n",
       "  <thead>\n",
       "    <tr style=\"text-align: right;\">\n",
       "      <th></th>\n",
       "      <th>Item_Weight</th>\n",
       "      <th>Item_Visibility</th>\n",
       "      <th>Item_MRP</th>\n",
       "      <th>Outlet_Establishment_Year</th>\n",
       "      <th>Item_Outlet_Sales</th>\n",
       "    </tr>\n",
       "  </thead>\n",
       "  <tbody>\n",
       "    <tr>\n",
       "      <th>count</th>\n",
       "      <td>14204.000000</td>\n",
       "      <td>14204.000000</td>\n",
       "      <td>14204.000000</td>\n",
       "      <td>14204.000000</td>\n",
       "      <td>8523.000000</td>\n",
       "    </tr>\n",
       "    <tr>\n",
       "      <th>mean</th>\n",
       "      <td>12.793380</td>\n",
       "      <td>0.070301</td>\n",
       "      <td>141.004977</td>\n",
       "      <td>1997.830681</td>\n",
       "      <td>2181.288914</td>\n",
       "    </tr>\n",
       "    <tr>\n",
       "      <th>std</th>\n",
       "      <td>4.651716</td>\n",
       "      <td>0.048621</td>\n",
       "      <td>62.086938</td>\n",
       "      <td>8.371664</td>\n",
       "      <td>1706.499616</td>\n",
       "    </tr>\n",
       "    <tr>\n",
       "      <th>min</th>\n",
       "      <td>4.555000</td>\n",
       "      <td>0.003575</td>\n",
       "      <td>31.290000</td>\n",
       "      <td>1985.000000</td>\n",
       "      <td>33.290000</td>\n",
       "    </tr>\n",
       "    <tr>\n",
       "      <th>25%</th>\n",
       "      <td>8.710000</td>\n",
       "      <td>0.033143</td>\n",
       "      <td>94.012000</td>\n",
       "      <td>1987.000000</td>\n",
       "      <td>834.247400</td>\n",
       "    </tr>\n",
       "    <tr>\n",
       "      <th>50%</th>\n",
       "      <td>12.600000</td>\n",
       "      <td>0.062347</td>\n",
       "      <td>142.247000</td>\n",
       "      <td>1999.000000</td>\n",
       "      <td>1794.331000</td>\n",
       "    </tr>\n",
       "    <tr>\n",
       "      <th>75%</th>\n",
       "      <td>16.750000</td>\n",
       "      <td>0.094037</td>\n",
       "      <td>185.855600</td>\n",
       "      <td>2004.000000</td>\n",
       "      <td>3101.296400</td>\n",
       "    </tr>\n",
       "    <tr>\n",
       "      <th>max</th>\n",
       "      <td>21.350000</td>\n",
       "      <td>0.328391</td>\n",
       "      <td>266.888400</td>\n",
       "      <td>2009.000000</td>\n",
       "      <td>13086.964800</td>\n",
       "    </tr>\n",
       "  </tbody>\n",
       "</table>\n",
       "</div>"
      ],
      "text/plain": [
       "        Item_Weight  Item_Visibility      Item_MRP  Outlet_Establishment_Year  \\\n",
       "count  14204.000000     14204.000000  14204.000000               14204.000000   \n",
       "mean      12.793380         0.070301    141.004977                1997.830681   \n",
       "std        4.651716         0.048621     62.086938                   8.371664   \n",
       "min        4.555000         0.003575     31.290000                1985.000000   \n",
       "25%        8.710000         0.033143     94.012000                1987.000000   \n",
       "50%       12.600000         0.062347    142.247000                1999.000000   \n",
       "75%       16.750000         0.094037    185.855600                2004.000000   \n",
       "max       21.350000         0.328391    266.888400                2009.000000   \n",
       "\n",
       "       Item_Outlet_Sales  \n",
       "count        8523.000000  \n",
       "mean         2181.288914  \n",
       "std          1706.499616  \n",
       "min            33.290000  \n",
       "25%           834.247400  \n",
       "50%          1794.331000  \n",
       "75%          3101.296400  \n",
       "max         13086.964800  "
      ]
     },
     "execution_count": 82,
     "metadata": {},
     "output_type": "execute_result"
    }
   ],
   "source": [
    "df.describe()"
   ]
  },
  {
   "cell_type": "code",
   "execution_count": 83,
   "id": "565d627e",
   "metadata": {},
   "outputs": [
    {
     "data": {
      "text/plain": [
       "Item_Identifier               object\n",
       "Item_Weight                  float64\n",
       "Item_Fat_Content              object\n",
       "Item_Visibility              float64\n",
       "Item_Type                     object\n",
       "Item_MRP                     float64\n",
       "Outlet_Identifier             object\n",
       "Outlet_Establishment_Year      int64\n",
       "Outlet_Size                   object\n",
       "Outlet_Location_Type          object\n",
       "Outlet_Type                   object\n",
       "Item_Outlet_Sales            float64\n",
       "dtype: object"
      ]
     },
     "execution_count": 83,
     "metadata": {},
     "output_type": "execute_result"
    }
   ],
   "source": [
    "df.dtypes"
   ]
  },
  {
   "cell_type": "markdown",
   "id": "3b525a89",
   "metadata": {},
   "source": [
    "## checking if there is any missing values"
   ]
  },
  {
   "cell_type": "code",
   "execution_count": 84,
   "id": "6d635839",
   "metadata": {},
   "outputs": [
    {
     "data": {
      "text/plain": [
       "Item_Identifier                 0\n",
       "Item_Weight                     0\n",
       "Item_Fat_Content                0\n",
       "Item_Visibility                 0\n",
       "Item_Type                       0\n",
       "Item_MRP                        0\n",
       "Outlet_Identifier               0\n",
       "Outlet_Establishment_Year       0\n",
       "Outlet_Size                     0\n",
       "Outlet_Location_Type            0\n",
       "Outlet_Type                     0\n",
       "Item_Outlet_Sales            5681\n",
       "dtype: int64"
      ]
     },
     "execution_count": 84,
     "metadata": {},
     "output_type": "execute_result"
    }
   ],
   "source": [
    "df.isnull().sum()    "
   ]
  },
  {
   "cell_type": "markdown",
   "id": "d2a91075",
   "metadata": {},
   "source": [
    "### As we can see Missing values in target variable so not doing any missing value treatment "
   ]
  },
  {
   "cell_type": "markdown",
   "id": "2ff75040",
   "metadata": {},
   "source": [
    "# EDA"
   ]
  },
  {
   "cell_type": "markdown",
   "id": "a34012ac",
   "metadata": {},
   "source": [
    "### Univariate Analysis"
   ]
  },
  {
   "cell_type": "code",
   "execution_count": 88,
   "id": "af6056b2",
   "metadata": {},
   "outputs": [
    {
     "data": {
      "image/png": "[encoded data removed]",
      "text/plain": [
       "<Figure size 1440x576 with 6 Axes>"
      ]
     },
     "metadata": {
      "needs_background": "light"
     },
     "output_type": "display_data"
    }
   ],
   "source": [
    "numerics=['int16','int32','int64','float16','float32','float64'] #list of all numeric type in daataframe\n",
    "con_df=df.select_dtypes(include=numerics) # create dataframe for all numeric type\n",
    "con_cols=con_df.columns # taking colums \n",
    "num_cols=3  # how many column we want in subplot \n",
    "n_bins=20 # bin size for histogram \n",
    "num_rows=int(len(con_cols)/num_cols)+1     #rows for subplot\n",
    "figs,axes =plt.subplots(num_rows,num_cols,tight_layout=True,figsize=(20,8))\n",
    "\n",
    "for col ,ax in zip(con_cols,axes.flatten()):  #used flatten to make it one dimensinol\n",
    "    sns.histplot(con_df[col],bins=n_bins,kde=True,ax=ax,color='tan',edgecolor='lime') \n",
    "    ax.set_title(col)\n",
    "plt.show()"
   ]
  },
  {
   "cell_type": "code",
   "execution_count": 89,
   "id": "40cfbaa4",
   "metadata": {},
   "outputs": [
    {
     "data": {
      "image/png": "[encoded data removed]",
      "text/plain": [
       "<Figure size 1440x576 with 6 Axes>"
      ]
     },
     "metadata": {
      "needs_background": "light"
     },
     "output_type": "display_data"
    }
   ],
   "source": [
    "numerics=['int16','int32','int64','float16','float32','float64'] #list of all numeric type in daataframe\n",
    "con_df=df.select_dtypes(include=numerics) # create dataframe for all numeric type\n",
    "con_cols=con_df.columns # taking colums \n",
    "num_cols=3  # how many column we want in subplot \n",
    "n_bins=20 # bin size for histogram \n",
    "num_rows=int(len(con_cols)/num_cols)+1     #rows for subplot\n",
    "\n",
    "figs,axes =plt.subplots(num_rows,num_cols,tight_layout=True,figsize=(20,8))\n",
    "\n",
    "for col ,ax in zip(con_cols,axes.flatten()):\n",
    "    sns.boxplot(y=con_df[col],ax=ax,color='tan')\n",
    "    ax.set_title(col)\n",
    "plt.show()"
   ]
  },
  {
   "cell_type": "markdown",
   "id": "8d7277e0",
   "metadata": {},
   "source": [
    "## Interpretation: \n",
    "    \n",
    "    Item weight - Most of the items weight fall in between 8-16 \n",
    "    Item Visibility - Visibility for most products lie between .4-.10 but some of the product have the visibility of .20+\n",
    "    Item MRP - Most of the items MRP is in between 100-190\n",
    "    Establishment - Mostly outlets are established between 1987 - 2003\n",
    "    Outlest Sales - Sales for most of the product is somewhere around 200\n",
    "    \n",
    "    "
   ]
  },
  {
   "cell_type": "code",
   "execution_count": 135,
   "id": "b72598bc",
   "metadata": {},
   "outputs": [
    {
     "data": {
      "image/png": "[encoded data removed]",
      "text/plain": [
       "<Figure size 432x288 with 1 Axes>"
      ]
     },
     "metadata": {},
     "output_type": "display_data"
    }
   ],
   "source": [
    "d2=df.groupby('Outlet_Type').sum() #used groupby function to get the total sales Outlet_Type wise \n",
    "d2=d2.reset_index()\n",
    "plt.pie(d2['Item_Outlet_Sales'],labels=list(df['Outlet_Type'].unique()));"
   ]
  },
  {
   "cell_type": "markdown",
   "id": "662b5b8e",
   "metadata": {},
   "source": [
    "### Interpretation: From the above pie chart we can see Supermarket Type2 genrating maximum sales"
   ]
  },
  {
   "cell_type": "markdown",
   "id": "dbdd30df",
   "metadata": {},
   "source": [
    "## Bivariate "
   ]
  },
  {
   "cell_type": "code",
   "execution_count": 91,
   "id": "9e8e7f26",
   "metadata": {},
   "outputs": [
    {
     "data": {
      "image/png": "[encoded data removed]",
      "text/plain": [
       "<Figure size 720x360 with 1 Axes>"
      ]
     },
     "metadata": {
      "needs_background": "light"
     },
     "output_type": "display_data"
    }
   ],
   "source": [
    "e1 = df.groupby('Outlet_Establishment_Year').sum() #used groupby function to get the total sales , Outlet_Establishment_Year wise\n",
    "e1.reset_index(inplace=True)\n",
    "sns.catplot(data = e1, x= 'Outlet_Establishment_Year', y= 'Item_Outlet_Sales', kind = 'bar', ci= False, aspect=2);"
   ]
  },
  {
   "cell_type": "markdown",
   "id": "3b981491",
   "metadata": {},
   "source": [
    "### Interpretation: The First Established(1985) outlet is giving higher sales compaired to all other outlet Established after 1985 and least sales are from 1998 ones"
   ]
  },
  {
   "cell_type": "markdown",
   "id": "41eeccd1",
   "metadata": {},
   "source": [
    "## Total sales of different item type"
   ]
  },
  {
   "cell_type": "code",
   "execution_count": 93,
   "id": "516b1253",
   "metadata": {},
   "outputs": [
    {
     "data": {
      "image/png": "[encoded data removed]",
      "text/plain": [
       "<Figure size 1440x360 with 1 Axes>"
      ]
     },
     "metadata": {
      "needs_background": "light"
     },
     "output_type": "display_data"
    }
   ],
   "source": [
    "e1 = df.groupby('Item_Type').sum()\n",
    "e1.reset_index(inplace=True)\n",
    "sns.catplot(data = e1, x= 'Item_Type', y= 'Item_Outlet_Sales', kind = 'bar', ci= False, aspect=4 );"
   ]
  },
  {
   "cell_type": "markdown",
   "id": "14ef7f09",
   "metadata": {},
   "source": [
    "## Total sales of different item yearly"
   ]
  },
  {
   "cell_type": "code",
   "execution_count": 94,
   "id": "d0216818",
   "metadata": {},
   "outputs": [
    {
     "data": {
      "application/vnd.jupyter.widget-view+json": {
       "model_id": "9c39cd02b26c474e9372140d81047f22",
       "version_major": 2,
       "version_minor": 0
      },
      "text/plain": [
       "interactive(children=(SelectionSlider(description='Years', options=(1999, 2009, 1998, 1987, 1985, 2002, 2007, …"
      ]
     },
     "metadata": {},
     "output_type": "display_data"
    }
   ],
   "source": [
    "from ipywidgets import interact\n",
    "import ipywidgets as widgets\n",
    "from ipywidgets import interactive\n",
    "import matplotlib.pyplot as plt\n",
    "import numpy as np\n",
    "import matplotlib\n",
    "\n",
    "def f(Years):\n",
    "    df1= df[df['Outlet_Establishment_Year'] ==Years]\n",
    "    e1 = df1.groupby('Item_Type').sum()\n",
    "    e1.reset_index(inplace=True)\n",
    "    sns.catplot(data = e1, x= 'Item_Type', y= 'Item_Outlet_Sales', kind = 'bar', ci= False,aspect=4);\n",
    "\n",
    "interactive_plot = interactive(f, Years = widgets.SelectionSlider(options = df.Outlet_Establishment_Year.unique() ))\n",
    "output = interactive_plot.children[-1]\n",
    "output.layout.height = '550px'\n",
    "interactive_plot"
   ]
  },
  {
   "cell_type": "markdown",
   "id": "0ec7b95a",
   "metadata": {},
   "source": [
    "### Interpretation; From the above chart we can see that most of revenue is genrated by these products ['Fruits and Vegitables', 'Snack Food', 'Household', 'Frozen food', 'Dairy','Canned','Baking Goods'] on top of these is Fruits/Vegiee and Snacks \n",
    "\n",
    "### Seafoods is giving the least total sales over the years"
   ]
  },
  {
   "cell_type": "markdown",
   "id": "0b77f1e2",
   "metadata": {},
   "source": [
    "## how sales if differ by fat content over the year"
   ]
  },
  {
   "cell_type": "code",
   "execution_count": 95,
   "id": "3ad6885c",
   "metadata": {},
   "outputs": [
    {
     "data": {
      "application/vnd.jupyter.widget-view+json": {
       "model_id": "d2697552470c423ca56dedef64a8b7a2",
       "version_major": 2,
       "version_minor": 0
      },
      "text/plain": [
       "interactive(children=(SelectionSlider(description='Years', options=(1999, 2009, 1998, 1987, 1985, 2002, 2007, …"
      ]
     },
     "metadata": {},
     "output_type": "display_data"
    }
   ],
   "source": [
    "from ipywidgets import interact\n",
    "import ipywidgets as widgets\n",
    "from ipywidgets import interactive\n",
    "import matplotlib.pyplot as plt\n",
    "import numpy as np\n",
    "import matplotlib\n",
    "\n",
    "def f(Years):\n",
    "    df1= df[df['Outlet_Establishment_Year'] ==Years]\n",
    "    e1 = df1.groupby('Item_Fat_Content').sum()\n",
    "    e1.reset_index(inplace=True)\n",
    "    sns.catplot(data = e1, x= 'Item_Fat_Content', y= 'Item_Outlet_Sales', kind = 'bar', ci= False);\n",
    "\n",
    "interactive_plot = interactive(f, Years = widgets.SelectionSlider(options = df.Outlet_Establishment_Year.unique() ))\n",
    "output = interactive_plot.children[-1]\n",
    "output.layout.height = '550px'\n",
    "interactive_plot"
   ]
  },
  {
   "cell_type": "markdown",
   "id": "669ca016",
   "metadata": {},
   "source": [
    "### Interpretation = As we can see over the years mostly people consumer low fat produts more then regular ones and low fat products giving us higher revenue"
   ]
  },
  {
   "cell_type": "markdown",
   "id": "695486c7",
   "metadata": {},
   "source": [
    "## Multivariate"
   ]
  },
  {
   "cell_type": "code",
   "execution_count": 136,
   "id": "ee3a1b4a",
   "metadata": {},
   "outputs": [
    {
     "data": {
      "image/png": "[encoded data removed]",
      "text/plain": [
       "<Figure size 473.75x360 with 1 Axes>"
      ]
     },
     "metadata": {
      "needs_background": "light"
     },
     "output_type": "display_data"
    }
   ],
   "source": [
    "sns.catplot(data = df, x= 'Outlet_Size', y= 'Item_Outlet_Sales', kind = 'bar', ci= False, hue='Outlet_Location_Type');"
   ]
  },
  {
   "cell_type": "markdown",
   "id": "5f7e48cb",
   "metadata": {},
   "source": [
    "### Interpretation:Outlet in Tier1 and Tier2 and Tier3 location genrating almost equal amount of sales however if the size of outlet is small then Tier1 location wont give much of Total Sales "
   ]
  },
  {
   "cell_type": "code",
   "execution_count": null,
   "id": "2973f542",
   "metadata": {},
   "outputs": [],
   "source": []
  },
  {
   "cell_type": "markdown",
   "id": "71a52958",
   "metadata": {},
   "source": [
    "# Data Preprocessing "
   ]
  },
  {
   "cell_type": "code",
   "execution_count": 137,
   "id": "01492678",
   "metadata": {},
   "outputs": [],
   "source": [
    "label_encoder = preprocessing.LabelEncoder() # to change the categorical value to numeric \n",
    "df1['Item_Fat_Content'] = label_encoder.fit_transform(df1['Item_Fat_Content'])\n",
    "df1['Item_Type'] = label_encoder.fit_transform(df1['Item_Type'])\n",
    "df1['Outlet_Identifier'] = label_encoder.fit_transform(df1['Outlet_Identifier'])\n",
    "df1['Outlet_Size'] = label_encoder.fit_transform(df1['Outlet_Size'])\n",
    "df1['Outlet_Location_Type'] = label_encoder.fit_transform(df1['Outlet_Location_Type'])\n",
    "df1['Outlet_Type'] = label_encoder.fit_transform(df1['Outlet_Type'])"
   ]
  },
  {
   "cell_type": "code",
   "execution_count": 98,
   "id": "3e1fe31a",
   "metadata": {},
   "outputs": [],
   "source": [
    "Final_test = df1[df1['Item_Outlet_Sales'].isna()].drop('Item_Identifier',axis=1) # Droping the Item_Identifier becuase it unique ID and does not corelating with sales "
   ]
  },
  {
   "cell_type": "code",
   "execution_count": 99,
   "id": "bc7cd07e",
   "metadata": {},
   "outputs": [],
   "source": [
    "Final_df = df1[df1['Item_Outlet_Sales'].notnull()].drop('Item_Identifier',axis=1)"
   ]
  },
  {
   "cell_type": "markdown",
   "id": "bd3b62ca",
   "metadata": {},
   "source": [
    "# Scaling"
   ]
  },
  {
   "cell_type": "code",
   "execution_count": 138,
   "id": "df112642",
   "metadata": {},
   "outputs": [
    {
     "data": {
      "text/html": [
       "<div>\n",
       "<style scoped>\n",
       "    .dataframe tbody tr th:only-of-type {\n",
       "        vertical-align: middle;\n",
       "    }\n",
       "\n",
       "    .dataframe tbody tr th {\n",
       "        vertical-align: top;\n",
       "    }\n",
       "\n",
       "    .dataframe thead th {\n",
       "        text-align: right;\n",
       "    }\n",
       "</style>\n",
       "<table border=\"1\" class=\"dataframe\">\n",
       "  <thead>\n",
       "    <tr style=\"text-align: right;\">\n",
       "      <th></th>\n",
       "      <th>Item_Fat_Content</th>\n",
       "      <th>Item_Visibility</th>\n",
       "      <th>Item_Type</th>\n",
       "      <th>Item_MRP</th>\n",
       "      <th>Outlet_Identifier</th>\n",
       "      <th>Outlet_Establishment_Year</th>\n",
       "      <th>Outlet_Size</th>\n",
       "      <th>Outlet_Location_Type</th>\n",
       "      <th>Outlet_Type</th>\n",
       "    </tr>\n",
       "  </thead>\n",
       "  <tbody>\n",
       "    <tr>\n",
       "      <th>0</th>\n",
       "      <td>0.0</td>\n",
       "      <td>0.038399</td>\n",
       "      <td>0.266667</td>\n",
       "      <td>0.927507</td>\n",
       "      <td>1.000000</td>\n",
       "      <td>0.583333</td>\n",
       "      <td>0.5</td>\n",
       "      <td>0.0</td>\n",
       "      <td>0.333333</td>\n",
       "    </tr>\n",
       "    <tr>\n",
       "      <th>1</th>\n",
       "      <td>1.0</td>\n",
       "      <td>0.048346</td>\n",
       "      <td>0.933333</td>\n",
       "      <td>0.072068</td>\n",
       "      <td>0.333333</td>\n",
       "      <td>1.000000</td>\n",
       "      <td>0.5</td>\n",
       "      <td>1.0</td>\n",
       "      <td>0.666667</td>\n",
       "    </tr>\n",
       "    <tr>\n",
       "      <th>2</th>\n",
       "      <td>0.0</td>\n",
       "      <td>0.040593</td>\n",
       "      <td>0.666667</td>\n",
       "      <td>0.468288</td>\n",
       "      <td>1.000000</td>\n",
       "      <td>0.583333</td>\n",
       "      <td>0.5</td>\n",
       "      <td>0.0</td>\n",
       "      <td>0.333333</td>\n",
       "    </tr>\n",
       "    <tr>\n",
       "      <th>3</th>\n",
       "      <td>1.0</td>\n",
       "      <td>0.218055</td>\n",
       "      <td>0.400000</td>\n",
       "      <td>0.640093</td>\n",
       "      <td>0.000000</td>\n",
       "      <td>0.541667</td>\n",
       "      <td>0.5</td>\n",
       "      <td>1.0</td>\n",
       "      <td>0.000000</td>\n",
       "    </tr>\n",
       "    <tr>\n",
       "      <th>4</th>\n",
       "      <td>0.0</td>\n",
       "      <td>0.186950</td>\n",
       "      <td>0.600000</td>\n",
       "      <td>0.095805</td>\n",
       "      <td>0.111111</td>\n",
       "      <td>0.083333</td>\n",
       "      <td>0.0</td>\n",
       "      <td>1.0</td>\n",
       "      <td>0.333333</td>\n",
       "    </tr>\n",
       "  </tbody>\n",
       "</table>\n",
       "</div>"
      ],
      "text/plain": [
       "   Item_Fat_Content  Item_Visibility  Item_Type  Item_MRP  Outlet_Identifier  \\\n",
       "0               0.0         0.038399   0.266667  0.927507           1.000000   \n",
       "1               1.0         0.048346   0.933333  0.072068           0.333333   \n",
       "2               0.0         0.040593   0.666667  0.468288           1.000000   \n",
       "3               1.0         0.218055   0.400000  0.640093           0.000000   \n",
       "4               0.0         0.186950   0.600000  0.095805           0.111111   \n",
       "\n",
       "   Outlet_Establishment_Year  Outlet_Size  Outlet_Location_Type  Outlet_Type  \n",
       "0                   0.583333          0.5                   0.0     0.333333  \n",
       "1                   1.000000          0.5                   1.0     0.666667  \n",
       "2                   0.583333          0.5                   0.0     0.333333  \n",
       "3                   0.541667          0.5                   1.0     0.000000  \n",
       "4                   0.083333          0.0                   1.0     0.333333  "
      ]
     },
     "execution_count": 138,
     "metadata": {},
     "output_type": "execute_result"
    }
   ],
   "source": [
    "X = Final_df.iloc[:,1:10]\n",
    "y = Final_df.iloc[:,10]\n",
    "scaler = MinMaxScaler() # to scale the data data between 0-1\n",
    "X= pd.DataFrame(scaler.fit_transform(X), columns = X.columns)\n",
    "X.head()"
   ]
  },
  {
   "cell_type": "code",
   "execution_count": 101,
   "id": "445157f8",
   "metadata": {},
   "outputs": [
    {
     "data": {
      "image/png": "[encoded data removed]",
      "text/plain": [
       "<Figure size 864x504 with 2 Axes>"
      ]
     },
     "metadata": {
      "needs_background": "light"
     },
     "output_type": "display_data"
    }
   ],
   "source": [
    "plt.figure(figsize=(12,7))\n",
    "sns.heatmap(Final_df.corr(),annot=True);"
   ]
  },
  {
   "cell_type": "markdown",
   "id": "cf836176",
   "metadata": {},
   "source": [
    "#### from the above heatmap we can see all the features can be considered as mostly they are corelation  "
   ]
  },
  {
   "cell_type": "markdown",
   "id": "61026761",
   "metadata": {},
   "source": [
    "# TEST Train Split"
   ]
  },
  {
   "cell_type": "code",
   "execution_count": 102,
   "id": "d34eac15",
   "metadata": {},
   "outputs": [],
   "source": [
    "from sklearn.model_selection import train_test_split\n",
    "X_train,X_test,y_train, y_test= train_test_split(X,y,train_size=0.7) "
   ]
  },
  {
   "cell_type": "markdown",
   "id": "c8379855",
   "metadata": {},
   "source": [
    "# Base line Model"
   ]
  },
  {
   "cell_type": "code",
   "execution_count": 103,
   "id": "b2bd0f8d",
   "metadata": {},
   "outputs": [],
   "source": [
    "from sklearn.linear_model import Ridge # Using ridge model to add PENALTY (alpha)"
   ]
  },
  {
   "cell_type": "code",
   "execution_count": 104,
   "id": "762c6933",
   "metadata": {},
   "outputs": [],
   "source": [
    "ridge_model = Ridge(alpha = 10)"
   ]
  },
  {
   "cell_type": "code",
   "execution_count": 105,
   "id": "ea8f910f",
   "metadata": {},
   "outputs": [
    {
     "data": {
      "text/plain": [
       "Ridge(alpha=10)"
      ]
     },
     "execution_count": 105,
     "metadata": {},
     "output_type": "execute_result"
    }
   ],
   "source": [
    "ridge_model.fit(X_train, y_train) #this contain all the features "
   ]
  },
  {
   "cell_type": "code",
   "execution_count": 106,
   "id": "83667cd5",
   "metadata": {},
   "outputs": [],
   "source": [
    "test_prediction = ridge_model.predict(X_test)"
   ]
  },
  {
   "cell_type": "code",
   "execution_count": 107,
   "id": "de2106bf",
   "metadata": {},
   "outputs": [
    {
     "name": "stdout",
     "output_type": "stream",
     "text": [
      "coefficient of determination: 0.5025845776078641 \n",
      "\n"
     ]
    }
   ],
   "source": [
    "s_r_sq=ridge_model.score(X_test, y_test)\n",
    "print('coefficient of determination:', s_r_sq ,'\\n') #to check how well independent variable in model explain the variation in target variable "
   ]
  },
  {
   "cell_type": "code",
   "execution_count": 127,
   "id": "1dc07b38",
   "metadata": {},
   "outputs": [
    {
     "name": "stdout",
     "output_type": "stream",
     "text": [
      "MSE 1403282.068598713\n",
      "RMSE 1184.6020718362404\n"
     ]
    }
   ],
   "source": [
    "from sklearn.metrics import mean_squared_error\n",
    "MSE = mean_squared_error(y_test,test_prediction)\n",
    "RMSE = np.sqrt(MSE)\n",
    "print('MSE',MSE)\n",
    "print('RMSE',RMSE)"
   ]
  },
  {
   "cell_type": "markdown",
   "id": "393bc837",
   "metadata": {},
   "source": [
    "### Second Model RdgeCV"
   ]
  },
  {
   "cell_type": "code",
   "execution_count": 110,
   "id": "49f4fca5",
   "metadata": {},
   "outputs": [],
   "source": [
    "from sklearn.linear_model import RidgeCV"
   ]
  },
  {
   "cell_type": "code",
   "execution_count": 111,
   "id": "296a0499",
   "metadata": {},
   "outputs": [],
   "source": [
    "ridge_cv_model = RidgeCV(alphas = (0.1, 1.0, 10.0), scoring= 'neg_mean_absolute_error')"
   ]
  },
  {
   "cell_type": "code",
   "execution_count": 112,
   "id": "4554ba7e",
   "metadata": {},
   "outputs": [
    {
     "data": {
      "text/plain": [
       "RidgeCV(alphas=array([ 0.1,  1. , 10. ]), scoring='neg_mean_absolute_error')"
      ]
     },
     "execution_count": 112,
     "metadata": {},
     "output_type": "execute_result"
    }
   ],
   "source": [
    "ridge_cv_model.fit(X_train, y_train)"
   ]
  },
  {
   "cell_type": "code",
   "execution_count": 113,
   "id": "f5682b39",
   "metadata": {},
   "outputs": [
    {
     "data": {
      "text/plain": [
       "10.0"
      ]
     },
     "execution_count": 113,
     "metadata": {},
     "output_type": "execute_result"
    }
   ],
   "source": [
    "ridge_cv_model.alpha_"
   ]
  },
  {
   "cell_type": "code",
   "execution_count": 114,
   "id": "646fa89d",
   "metadata": {},
   "outputs": [],
   "source": [
    "R_test_prediction = ridge_cv_model.predict(X_test)"
   ]
  },
  {
   "cell_type": "code",
   "execution_count": 115,
   "id": "8dd0bf88",
   "metadata": {},
   "outputs": [
    {
     "name": "stdout",
     "output_type": "stream",
     "text": [
      "coefficient of determination: 0.5025845776078629 \n",
      "\n"
     ]
    }
   ],
   "source": [
    "s_r_sq=ridge_cv_model.score(X_test, y_test)\n",
    "print('coefficient of determination:', s_r_sq ,'\\n')"
   ]
  },
  {
   "cell_type": "code",
   "execution_count": 128,
   "id": "1313a827",
   "metadata": {},
   "outputs": [
    {
     "name": "stdout",
     "output_type": "stream",
     "text": [
      "MSE 1403282.0685987163\n",
      "RMSE 1184.6020718362417\n"
     ]
    }
   ],
   "source": [
    "from sklearn.metrics import mean_squared_error\n",
    "MSE = mean_squared_error(y_test,R_test_prediction)\n",
    "RMSE = np.sqrt(MSE)\n",
    "print('MSE',MSE)\n",
    "print('RMSE',RMSE)"
   ]
  },
  {
   "cell_type": "markdown",
   "id": "aea0a585",
   "metadata": {},
   "source": [
    "### Third Model - RandomForestRegressor Using Grid Search"
   ]
  },
  {
   "cell_type": "code",
   "execution_count": null,
   "id": "552c588f",
   "metadata": {},
   "outputs": [],
   "source": []
  },
  {
   "cell_type": "code",
   "execution_count": 118,
   "id": "a32623db",
   "metadata": {},
   "outputs": [],
   "source": [
    "from sklearn.ensemble import RandomForestRegressor"
   ]
  },
  {
   "cell_type": "code",
   "execution_count": 119,
   "id": "29591d27",
   "metadata": {},
   "outputs": [],
   "source": [
    "model=RandomForestRegressor()"
   ]
  },
  {
   "cell_type": "code",
   "execution_count": 120,
   "id": "cd71b0fe",
   "metadata": {},
   "outputs": [],
   "source": [
    "params = {\n",
    "    'max_depth': [2,3,5,10,20],\n",
    "    'min_samples_leaf': [5,10,20,50,100,200],\n",
    "    'n_estimators': [10,25,30,50,100,200]\n",
    "}"
   ]
  },
  {
   "cell_type": "code",
   "execution_count": 121,
   "id": "99e9130f",
   "metadata": {},
   "outputs": [],
   "source": [
    "from sklearn.model_selection import GridSearchCV"
   ]
  },
  {
   "cell_type": "code",
   "execution_count": 122,
   "id": "b8d21e86",
   "metadata": {},
   "outputs": [],
   "source": [
    "# Instantiate the grid search model\n",
    "grid_search = GridSearchCV(estimator=model,\n",
    "                           param_grid=params,\n",
    "                           cv = 4,\n",
    "                           n_jobs=-1, verbose=1, scoring=\"r2\")\n",
    "\n"
   ]
  },
  {
   "cell_type": "code",
   "execution_count": 123,
   "id": "9e35c2e0",
   "metadata": {},
   "outputs": [
    {
     "name": "stdout",
     "output_type": "stream",
     "text": [
      "Fitting 4 folds for each of 180 candidates, totalling 720 fits\n"
     ]
    },
    {
     "data": {
      "text/plain": [
       "GridSearchCV(cv=4, estimator=RandomForestRegressor(), n_jobs=-1,\n",
       "             param_grid={'max_depth': [2, 3, 5, 10, 20],\n",
       "                         'min_samples_leaf': [5, 10, 20, 50, 100, 200],\n",
       "                         'n_estimators': [10, 25, 30, 50, 100, 200]},\n",
       "             scoring='r2', verbose=1)"
      ]
     },
     "execution_count": 123,
     "metadata": {},
     "output_type": "execute_result"
    }
   ],
   "source": [
    "grid_search.fit(X_train, y_train)"
   ]
  },
  {
   "cell_type": "code",
   "execution_count": 124,
   "id": "b46df323",
   "metadata": {},
   "outputs": [
    {
     "data": {
      "text/plain": [
       "0.5916329515648326"
      ]
     },
     "execution_count": 124,
     "metadata": {},
     "output_type": "execute_result"
    }
   ],
   "source": [
    "grid_search.best_score_ "
   ]
  },
  {
   "cell_type": "code",
   "execution_count": 125,
   "id": "fdcc1a20",
   "metadata": {},
   "outputs": [],
   "source": [
    "G_Prediction_RF = grid_search.predict(X_test)"
   ]
  },
  {
   "cell_type": "code",
   "execution_count": 129,
   "id": "77a08408",
   "metadata": {},
   "outputs": [
    {
     "name": "stdout",
     "output_type": "stream",
     "text": [
      "MSE 1107034.3900867777\n",
      "RMSE 1052.1570177909653\n"
     ]
    }
   ],
   "source": [
    "from sklearn.metrics import mean_squared_error\n",
    "MSE = mean_squared_error(y_test,G_Prediction_RF)\n",
    "RMSE = np.sqrt(MSE)\n",
    "print('MSE',MSE)\n",
    "print('RMSE',RMSE)"
   ]
  },
  {
   "cell_type": "markdown",
   "id": "cce8c93e",
   "metadata": {},
   "source": [
    "### Fourth Model DecisionTreeRegressor"
   ]
  },
  {
   "cell_type": "code",
   "execution_count": 45,
   "id": "e2afcdb8",
   "metadata": {},
   "outputs": [],
   "source": [
    "from sklearn.tree import DecisionTreeRegressor\n",
    "dt = DecisionTreeRegressor(max_depth=8,\n",
    "             min_samples_leaf=0.13,\n",
    "            random_state=3)"
   ]
  },
  {
   "cell_type": "code",
   "execution_count": 46,
   "id": "ab594f33",
   "metadata": {},
   "outputs": [
    {
     "data": {
      "text/plain": [
       "DecisionTreeRegressor(max_depth=8, min_samples_leaf=0.13, random_state=3)"
      ]
     },
     "execution_count": 46,
     "metadata": {},
     "output_type": "execute_result"
    }
   ],
   "source": [
    "dt.fit(X_train,y_train)"
   ]
  },
  {
   "cell_type": "code",
   "execution_count": 47,
   "id": "6d3f4b45",
   "metadata": {},
   "outputs": [
    {
     "name": "stdout",
     "output_type": "stream",
     "text": [
      "coefficient of determination: 0.36659679830158143 \n",
      "\n"
     ]
    }
   ],
   "source": [
    "s_r_sq=dt.score(X_test, y_test)\n",
    "print('coefficient of determination:', s_r_sq ,'\\n')"
   ]
  },
  {
   "cell_type": "code",
   "execution_count": 48,
   "id": "902264f8",
   "metadata": {},
   "outputs": [],
   "source": [
    "params = {\n",
    "    'max_depth': [2,3,5,7,8,10,20],\n",
    "    'min_samples_leaf': [5,10,20,40,50,75,85,100,200],\n",
    "    'max_features':[None,\"auto\", \"sqrt\", \"log2\"]\n",
    "}\n",
    "# Instantiate the grid search model\n",
    "grid_search_1 = GridSearchCV(estimator=dt,\n",
    "                           param_grid=params,\n",
    "                           cv = 6,\n",
    "                           n_jobs=-1, verbose=1, scoring=\"r2\")"
   ]
  },
  {
   "cell_type": "code",
   "execution_count": 49,
   "id": "05233437",
   "metadata": {},
   "outputs": [
    {
     "name": "stdout",
     "output_type": "stream",
     "text": [
      "Fitting 6 folds for each of 252 candidates, totalling 1512 fits\n"
     ]
    },
    {
     "data": {
      "text/plain": [
       "GridSearchCV(cv=6,\n",
       "             estimator=DecisionTreeRegressor(max_depth=8, min_samples_leaf=0.13,\n",
       "                                             random_state=3),\n",
       "             n_jobs=-1,\n",
       "             param_grid={'max_depth': [2, 3, 5, 7, 8, 10, 20],\n",
       "                         'max_features': [None, 'auto', 'sqrt', 'log2'],\n",
       "                         'min_samples_leaf': [5, 10, 20, 40, 50, 75, 85, 100,\n",
       "                                              200]},\n",
       "             scoring='r2', verbose=1)"
      ]
     },
     "execution_count": 49,
     "metadata": {},
     "output_type": "execute_result"
    }
   ],
   "source": [
    "grid_search_1.fit(X_train, y_train)"
   ]
  },
  {
   "cell_type": "code",
   "execution_count": 50,
   "id": "efda9047",
   "metadata": {},
   "outputs": [
    {
     "data": {
      "text/plain": [
       "0.6007749573078556"
      ]
     },
     "execution_count": 50,
     "metadata": {},
     "output_type": "execute_result"
    }
   ],
   "source": [
    "grid_search_1.best_score_"
   ]
  },
  {
   "cell_type": "code",
   "execution_count": 51,
   "id": "8f824ae6",
   "metadata": {},
   "outputs": [],
   "source": [
    "G_Prediction_DT = grid_search_1.predict(X_test)"
   ]
  },
  {
   "cell_type": "code",
   "execution_count": 130,
   "id": "a96c03f7",
   "metadata": {},
   "outputs": [
    {
     "name": "stdout",
     "output_type": "stream",
     "text": [
      "MSE 4684041.275937115\n",
      "RMSE 2164.2646039560677\n"
     ]
    }
   ],
   "source": [
    "from sklearn.metrics import mean_squared_error\n",
    "MSE = mean_squared_error(y_test,G_Prediction_DT)\n",
    "RMSE = np.sqrt(MSE)\n",
    "print('MSE',MSE)\n",
    "print('RMSE',RMSE)"
   ]
  },
  {
   "cell_type": "markdown",
   "id": "1eb94e09",
   "metadata": {},
   "source": [
    "### Ensembling - Stacking "
   ]
  },
  {
   "cell_type": "code",
   "execution_count": null,
   "id": "c00aa5f1",
   "metadata": {},
   "outputs": [],
   "source": []
  },
  {
   "cell_type": "code",
   "execution_count": 52,
   "id": "8b1ab868",
   "metadata": {},
   "outputs": [
    {
     "data": {
      "text/html": [
       "<div>\n",
       "<style scoped>\n",
       "    .dataframe tbody tr th:only-of-type {\n",
       "        vertical-align: middle;\n",
       "    }\n",
       "\n",
       "    .dataframe tbody tr th {\n",
       "        vertical-align: top;\n",
       "    }\n",
       "\n",
       "    .dataframe thead th {\n",
       "        text-align: right;\n",
       "    }\n",
       "</style>\n",
       "<table border=\"1\" class=\"dataframe\">\n",
       "  <thead>\n",
       "    <tr style=\"text-align: right;\">\n",
       "      <th></th>\n",
       "      <th>RR</th>\n",
       "      <th>R_CV</th>\n",
       "      <th>RF_G_Search</th>\n",
       "      <th>DTR_G_Search</th>\n",
       "    </tr>\n",
       "  </thead>\n",
       "  <tbody>\n",
       "    <tr>\n",
       "      <th>0</th>\n",
       "      <td>1725.834453</td>\n",
       "      <td>1725.834453</td>\n",
       "      <td>2052.952211</td>\n",
       "      <td>1987.146493</td>\n",
       "    </tr>\n",
       "    <tr>\n",
       "      <th>1</th>\n",
       "      <td>4007.828028</td>\n",
       "      <td>4007.828028</td>\n",
       "      <td>4724.874386</td>\n",
       "      <td>4903.544630</td>\n",
       "    </tr>\n",
       "    <tr>\n",
       "      <th>2</th>\n",
       "      <td>2354.722023</td>\n",
       "      <td>2354.722023</td>\n",
       "      <td>1857.188389</td>\n",
       "      <td>1987.146493</td>\n",
       "    </tr>\n",
       "    <tr>\n",
       "      <th>3</th>\n",
       "      <td>1365.010638</td>\n",
       "      <td>1365.010638</td>\n",
       "      <td>1220.990418</td>\n",
       "      <td>1009.941973</td>\n",
       "    </tr>\n",
       "    <tr>\n",
       "      <th>4</th>\n",
       "      <td>800.045608</td>\n",
       "      <td>800.045608</td>\n",
       "      <td>905.571910</td>\n",
       "      <td>1009.941973</td>\n",
       "    </tr>\n",
       "  </tbody>\n",
       "</table>\n",
       "</div>"
      ],
      "text/plain": [
       "            RR         R_CV  RF_G_Search  DTR_G_Search\n",
       "0  1725.834453  1725.834453  2052.952211   1987.146493\n",
       "1  4007.828028  4007.828028  4724.874386   4903.544630\n",
       "2  2354.722023  2354.722023  1857.188389   1987.146493\n",
       "3  1365.010638  1365.010638  1220.990418   1009.941973\n",
       "4   800.045608   800.045608   905.571910   1009.941973"
      ]
     },
     "execution_count": 52,
     "metadata": {},
     "output_type": "execute_result"
    }
   ],
   "source": [
    "Test_prediction = {\n",
    "    'RR': test_prediction,\n",
    "    'R_CV': R_test_prediction,\n",
    "    'RF_G_Search': G_Prediction_RF,\n",
    "    'DTR_G_Search': G_Prediction_DT\n",
    "    \n",
    "}\n",
    "Test_prediction  = pd.DataFrame(Test_prediction) \n",
    "Test_prediction.head()"
   ]
  },
  {
   "cell_type": "code",
   "execution_count": 53,
   "id": "d8096753",
   "metadata": {},
   "outputs": [],
   "source": [
    "from sklearn.linear_model import LinearRegression\n",
    "smodel = LinearRegression()"
   ]
  },
  {
   "cell_type": "code",
   "execution_count": 54,
   "id": "b4c6d2e7",
   "metadata": {},
   "outputs": [
    {
     "data": {
      "text/plain": [
       "LinearRegression()"
      ]
     },
     "execution_count": 54,
     "metadata": {},
     "output_type": "execute_result"
    }
   ],
   "source": [
    "smodel.fit(Test_prediction,y_test)"
   ]
  },
  {
   "cell_type": "code",
   "execution_count": 55,
   "id": "1e142ee2",
   "metadata": {},
   "outputs": [
    {
     "data": {
      "text/plain": [
       "0.5906043320480103"
      ]
     },
     "execution_count": 55,
     "metadata": {},
     "output_type": "execute_result"
    }
   ],
   "source": [
    "smodel.score(Test_prediction,y_test)"
   ]
  },
  {
   "cell_type": "code",
   "execution_count": 56,
   "id": "3ee1ffc7",
   "metadata": {},
   "outputs": [
    {
     "data": {
      "text/plain": [
       "array([2088.28479332, 4634.99528042, 1791.52016282, ..., 3502.89579745,\n",
       "        299.2463113 ,  301.15327822])"
      ]
     },
     "execution_count": 56,
     "metadata": {},
     "output_type": "execute_result"
    }
   ],
   "source": [
    "final_prediction = smodel.predict(Test_prediction) \n",
    "final_prediction "
   ]
  },
  {
   "cell_type": "markdown",
   "id": "a2d22609",
   "metadata": {},
   "source": [
    "## After Comparing Accuracy of Different Model We got to know that best accuracy we are getting Stacking "
   ]
  },
  {
   "cell_type": "markdown",
   "id": "f8153970",
   "metadata": {},
   "source": [
    "## So we consider 'smodel' is our final model for Prediction"
   ]
  },
  {
   "cell_type": "code",
   "execution_count": null,
   "id": "e9378275",
   "metadata": {},
   "outputs": [],
   "source": []
  },
  {
   "cell_type": "code",
   "execution_count": 57,
   "id": "c3e94685",
   "metadata": {},
   "outputs": [],
   "source": [
    "from sklearn.ensemble import StackingRegressor"
   ]
  },
  {
   "cell_type": "code",
   "execution_count": 58,
   "id": "1c2a2aba",
   "metadata": {},
   "outputs": [],
   "source": [
    "estimators = [\n",
    "    ('lr', ridge_model),\n",
    "    ('r_cv', ridge_cv_model),\n",
    "    ('rfr',grid_search),\n",
    "    ('dt',grid_search_1)\n",
    "]"
   ]
  },
  {
   "cell_type": "code",
   "execution_count": 59,
   "id": "e46b9f40",
   "metadata": {},
   "outputs": [],
   "source": [
    "reg = StackingRegressor(\n",
    "    estimators=estimators,\n",
    "    final_estimator=LinearRegression(),\n",
    "    n_jobs=-1,\n",
    ")"
   ]
  },
  {
   "cell_type": "code",
   "execution_count": 60,
   "id": "86a621e3",
   "metadata": {},
   "outputs": [
    {
     "data": {
      "text/plain": [
       "StackingRegressor(estimators=[('lr', Ridge(alpha=10)),\n",
       "                              ('r_cv',\n",
       "                               RidgeCV(alphas=array([ 0.1,  1. , 10. ]),\n",
       "                                       scoring='neg_mean_absolute_error')),\n",
       "                              ('rfr',\n",
       "                               GridSearchCV(cv=4,\n",
       "                                            estimator=RandomForestRegressor(),\n",
       "                                            n_jobs=-1,\n",
       "                                            param_grid={'max_depth': [2, 3, 5,\n",
       "                                                                      10, 20],\n",
       "                                                        'min_samples_leaf': [5,\n",
       "                                                                             10,\n",
       "                                                                             20,\n",
       "                                                                             50,\n",
       "                                                                             100,\n",
       "                                                                             200],\n",
       "                                                        'n_estimators': [10, 25,\n",
       "                                                                         30, 50,\n",
       "                                                                         100,\n",
       "                                                                         200]},\n",
       "                                            scoring='r2', verbose=1)),\n",
       "                              ('dt',\n",
       "                               GridSearchCV(cv=6,\n",
       "                                            estimator=DecisionTreeRegressor(max_depth=8,\n",
       "                                                                            min_samples_leaf=0.13,\n",
       "                                                                            random_state=3),\n",
       "                                            n_jobs=-1,\n",
       "                                            param_grid={'max_depth': [2, 3, 5,\n",
       "                                                                      7, 8, 10,\n",
       "                                                                      20],\n",
       "                                                        'max_features': [None,\n",
       "                                                                         'auto',\n",
       "                                                                         'sqrt',\n",
       "                                                                         'log2'],\n",
       "                                                        'min_samples_leaf': [5,\n",
       "                                                                             10,\n",
       "                                                                             20,\n",
       "                                                                             40,\n",
       "                                                                             50,\n",
       "                                                                             75,\n",
       "                                                                             85,\n",
       "                                                                             100,\n",
       "                                                                             200]},\n",
       "                                            scoring='r2', verbose=1))],\n",
       "                  final_estimator=LinearRegression(), n_jobs=-1)"
      ]
     },
     "execution_count": 60,
     "metadata": {},
     "output_type": "execute_result"
    }
   ],
   "source": [
    "reg.fit(X_train, y_train)"
   ]
  },
  {
   "cell_type": "code",
   "execution_count": 61,
   "id": "849dc9aa",
   "metadata": {},
   "outputs": [
    {
     "data": {
      "text/plain": [
       "0.5866169721391299"
      ]
     },
     "execution_count": 61,
     "metadata": {},
     "output_type": "execute_result"
    }
   ],
   "source": [
    "reg.score(X_test, y_test)"
   ]
  },
  {
   "cell_type": "code",
   "execution_count": 62,
   "id": "5012a44d",
   "metadata": {},
   "outputs": [
    {
     "data": {
      "text/plain": [
       "array([2037.00271303, 4925.98979911, 1886.59596676, ..., 3734.82052589,\n",
       "        308.33259781,  313.61155256])"
      ]
     },
     "execution_count": 62,
     "metadata": {},
     "output_type": "execute_result"
    }
   ],
   "source": [
    "predictions = reg.predict(X_test)\n",
    "predictions"
   ]
  },
  {
   "cell_type": "code",
   "execution_count": 63,
   "id": "1953a33c",
   "metadata": {},
   "outputs": [
    {
     "data": {
      "text/plain": [
       "0.5866169721391299"
      ]
     },
     "execution_count": 63,
     "metadata": {},
     "output_type": "execute_result"
    }
   ],
   "source": [
    "reg.score(X_test, y_test) # gives R^2"
   ]
  },
  {
   "cell_type": "code",
   "execution_count": 131,
   "id": "5681bf15",
   "metadata": {},
   "outputs": [
    {
     "name": "stdout",
     "output_type": "stream",
     "text": [
      "MSE 4732986.306986475\n",
      "RMSE 2175.542761470451\n"
     ]
    }
   ],
   "source": [
    "from sklearn.metrics import mean_squared_error\n",
    "MSE = mean_squared_error(y_test,predictions)\n",
    "RMSE = np.sqrt(MSE)\n",
    "print('MSE',MSE)\n",
    "print('RMSE',RMSE)"
   ]
  },
  {
   "cell_type": "code",
   "execution_count": 64,
   "id": "9b53e3e9",
   "metadata": {},
   "outputs": [
    {
     "data": {
      "text/plain": [
       "array([2037.00271303, 4925.98979911, 1886.59596676, ..., 3734.82052589,\n",
       "        308.33259781,  313.61155256])"
      ]
     },
     "execution_count": 64,
     "metadata": {},
     "output_type": "execute_result"
    }
   ],
   "source": [
    "reg.predict(X_test)"
   ]
  },
  {
   "cell_type": "code",
   "execution_count": null,
   "id": "883252d6",
   "metadata": {},
   "outputs": [],
   "source": []
  },
  {
   "cell_type": "markdown",
   "id": "1fd3dc04",
   "metadata": {},
   "source": [
    "# Predition on unknown data"
   ]
  },
  {
   "cell_type": "code",
   "execution_count": 65,
   "id": "95871eed",
   "metadata": {},
   "outputs": [
    {
     "name": "stderr",
     "output_type": "stream",
     "text": [
      "C:\\Users\\yogesh\\anaconda3\\lib\\site-packages\\sklearn\\preprocessing\\_data.py:461: RuntimeWarning: All-NaN slice encountered\n",
      "  data_min = np.nanmin(X, axis=0)\n",
      "C:\\Users\\yogesh\\anaconda3\\lib\\site-packages\\sklearn\\preprocessing\\_data.py:462: RuntimeWarning: All-NaN slice encountered\n",
      "  data_max = np.nanmax(X, axis=0)\n"
     ]
    },
    {
     "data": {
      "text/plain": [
       "array([1587.95521208, 1428.8408941 ,  611.96497424, ..., 1902.70482785,\n",
       "       3669.42346599, 1152.04276269])"
      ]
     },
     "execution_count": 65,
     "metadata": {},
     "output_type": "execute_result"
    }
   ],
   "source": [
    "scaler = MinMaxScaler()\n",
    "Final_test= pd.DataFrame(scaler.fit_transform(Final_test), columns = Final_test.columns)\n",
    "Final_test = Final_test.iloc[:,1:10]\n",
    "reg.predict(Final_test)"
   ]
  },
  {
   "cell_type": "code",
   "execution_count": null,
   "id": "24b274c4",
   "metadata": {},
   "outputs": [],
   "source": []
  },
  {
   "cell_type": "markdown",
   "id": "98edbdf1",
   "metadata": {},
   "source": [
    "# Feature Importance "
   ]
  },
  {
   "cell_type": "code",
   "execution_count": 66,
   "id": "3babf2d4",
   "metadata": {},
   "outputs": [],
   "source": [
    "from sklearn.inspection import  permutation_importance"
   ]
  },
  {
   "cell_type": "code",
   "execution_count": 67,
   "id": "afede4e9",
   "metadata": {},
   "outputs": [],
   "source": [
    "a = permutation_importance(reg,X_test,y_test).importances_mean\n",
    "b=X_test.columns"
   ]
  },
  {
   "cell_type": "code",
   "execution_count": 68,
   "id": "eeb97ec7",
   "metadata": {
    "scrolled": true
   },
   "outputs": [
    {
     "data": {
      "text/html": [
       "<div>\n",
       "<style scoped>\n",
       "    .dataframe tbody tr th:only-of-type {\n",
       "        vertical-align: middle;\n",
       "    }\n",
       "\n",
       "    .dataframe tbody tr th {\n",
       "        vertical-align: top;\n",
       "    }\n",
       "\n",
       "    .dataframe thead th {\n",
       "        text-align: right;\n",
       "    }\n",
       "</style>\n",
       "<table border=\"1\" class=\"dataframe\">\n",
       "  <thead>\n",
       "    <tr style=\"text-align: right;\">\n",
       "      <th></th>\n",
       "      <th>Feature Importance</th>\n",
       "    </tr>\n",
       "  </thead>\n",
       "  <tbody>\n",
       "    <tr>\n",
       "      <th>Item_Fat_Content</th>\n",
       "      <td>-0.000132</td>\n",
       "    </tr>\n",
       "    <tr>\n",
       "      <th>Item_Visibility</th>\n",
       "      <td>-0.000077</td>\n",
       "    </tr>\n",
       "    <tr>\n",
       "      <th>Item_Type</th>\n",
       "      <td>0.000017</td>\n",
       "    </tr>\n",
       "    <tr>\n",
       "      <th>Item_MRP</th>\n",
       "      <td>0.740532</td>\n",
       "    </tr>\n",
       "    <tr>\n",
       "      <th>Outlet_Identifier</th>\n",
       "      <td>-0.000335</td>\n",
       "    </tr>\n",
       "    <tr>\n",
       "      <th>Outlet_Establishment_Year</th>\n",
       "      <td>0.028122</td>\n",
       "    </tr>\n",
       "    <tr>\n",
       "      <th>Outlet_Size</th>\n",
       "      <td>-0.000104</td>\n",
       "    </tr>\n",
       "    <tr>\n",
       "      <th>Outlet_Location_Type</th>\n",
       "      <td>-0.000526</td>\n",
       "    </tr>\n",
       "    <tr>\n",
       "      <th>Outlet_Type</th>\n",
       "      <td>0.524787</td>\n",
       "    </tr>\n",
       "  </tbody>\n",
       "</table>\n",
       "</div>"
      ],
      "text/plain": [
       "                           Feature Importance\n",
       "Item_Fat_Content                    -0.000132\n",
       "Item_Visibility                     -0.000077\n",
       "Item_Type                            0.000017\n",
       "Item_MRP                             0.740532\n",
       "Outlet_Identifier                   -0.000335\n",
       "Outlet_Establishment_Year            0.028122\n",
       "Outlet_Size                         -0.000104\n",
       "Outlet_Location_Type                -0.000526\n",
       "Outlet_Type                          0.524787"
      ]
     },
     "execution_count": 68,
     "metadata": {},
     "output_type": "execute_result"
    }
   ],
   "source": [
    "pd.DataFrame(a,b,columns=['Feature Importance'])"
   ]
  },
  {
   "cell_type": "code",
   "execution_count": 69,
   "id": "ac41999a",
   "metadata": {},
   "outputs": [
    {
     "data": {
      "image/png": "[encoded data removed]",
      "text/plain": [
       "<Figure size 432x288 with 2 Axes>"
      ]
     },
     "metadata": {
      "needs_background": "light"
     },
     "output_type": "display_data"
    }
   ],
   "source": [
    "sns.heatmap(pd.DataFrame(a,b,columns=['Feature Importance']),annot=True);"
   ]
  },
  {
   "cell_type": "markdown",
   "id": "262b5c31",
   "metadata": {},
   "source": [
    "# Bunisess Solution"
   ]
  },
  {
   "cell_type": "markdown",
   "id": "9c9de866",
   "metadata": {},
   "source": [
    "### From the above model we have predicted the sales of diffrent products which were not available earlier. \n",
    "\n",
    "### The factors that mostly affecting the sales is Item MRP, Fat Contant, Location of outlet.\n",
    "\n",
    "### If outlet is Supermarket Type2 in Tier one location and have the product which contain low fat mostly fruits/Vegiee including household product and snack foods with MRP of 110-190 there will be chances of higher sales "
   ]
  },
  {
   "cell_type": "markdown",
   "id": "c4fea4bd",
   "metadata": {},
   "source": [
    "# Predicted sales"
   ]
  },
  {
   "cell_type": "code",
   "execution_count": 70,
   "id": "1fc4dd9a",
   "metadata": {},
   "outputs": [
    {
     "data": {
      "text/plain": [
       "array([1587.95521208, 1428.8408941 ,  611.96497424, ..., 1902.70482785,\n",
       "       3669.42346599, 1152.04276269])"
      ]
     },
     "execution_count": 70,
     "metadata": {},
     "output_type": "execute_result"
    }
   ],
   "source": [
    "reg.predict(Final_test) "
   ]
  },
  {
   "cell_type": "code",
   "execution_count": null,
   "id": "f0423c74",
   "metadata": {},
   "outputs": [],
   "source": []
  },
  {
   "cell_type": "code",
   "execution_count": null,
   "id": "00b26d32",
   "metadata": {},
   "outputs": [],
   "source": []
  },
  {
   "cell_type": "code",
   "execution_count": null,
   "id": "a8913f00",
   "metadata": {},
   "outputs": [],
   "source": []
  }
 ],
 "metadata": {
  "kernelspec": {
   "display_name": "Python 3 (ipykernel)",
   "language": "python",
   "name": "python3"
  },
  "language_info": {
   "codemirror_mode": {
    "name": "ipython",
    "version": 3
   },
   "file_extension": ".py",
   "mimetype": "text/x-python",
   "name": "python",
   "nbconvert_exporter": "python",
   "pygments_lexer": "ipython3",
   "version": "3.9.12"
  }
 },
 "nbformat": 4,
 "nbformat_minor": 5
}
