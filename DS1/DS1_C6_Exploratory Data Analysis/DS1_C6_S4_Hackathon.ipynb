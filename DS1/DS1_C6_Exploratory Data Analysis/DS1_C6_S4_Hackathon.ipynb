{
 "cells": [
  {
   "cell_type": "markdown",
   "id": "bfa3ece1",
   "metadata": {},
   "source": [
    "# Importing Data and Packages"
   ]
  },
  {
   "cell_type": "code",
   "execution_count": 1,
   "id": "0b618aab",
   "metadata": {},
   "outputs": [],
   "source": [
    "import matplotlib.pyplot as plt             # to visualize\n",
    "from tabulate import tabulate               # to print the table\n",
    "import matplotlib as mat                    # to visualize \n",
    "import seaborn as sns                       # to visualize\n",
    "import pandas as pd                         # for data reading\n",
    "import numpy as np                          # for numerical computation\n",
    "import statistics as st"
   ]
  },
  {
   "cell_type": "code",
   "execution_count": 52,
   "id": "102441e7",
   "metadata": {},
   "outputs": [],
   "source": [
    "Data = pd.read_csv('data (2).csv')"
   ]
  },
  {
   "cell_type": "code",
   "execution_count": 53,
   "id": "47935a34",
   "metadata": {},
   "outputs": [
    {
     "data": {
      "text/html": [
       "<div>\n",
       "<style scoped>\n",
       "    .dataframe tbody tr th:only-of-type {\n",
       "        vertical-align: middle;\n",
       "    }\n",
       "\n",
       "    .dataframe tbody tr th {\n",
       "        vertical-align: top;\n",
       "    }\n",
       "\n",
       "    .dataframe thead th {\n",
       "        text-align: right;\n",
       "    }\n",
       "</style>\n",
       "<table border=\"1\" class=\"dataframe\">\n",
       "  <thead>\n",
       "    <tr style=\"text-align: right;\">\n",
       "      <th></th>\n",
       "      <th>SK_ID_CURR</th>\n",
       "      <th>TARGET</th>\n",
       "      <th>NAME_CONTRACT_TYPE</th>\n",
       "      <th>GENDER</th>\n",
       "      <th>Car</th>\n",
       "      <th>House</th>\n",
       "      <th>CNT_CHILDREN</th>\n",
       "      <th>AMT_INCOME_TOTAL</th>\n",
       "      <th>AMT_CREDIT</th>\n",
       "      <th>AMT_GOODS_PRICE</th>\n",
       "      <th>...</th>\n",
       "      <th>DAYS_EMPLOYED</th>\n",
       "      <th>MOBILE</th>\n",
       "      <th>WORK_PHONE</th>\n",
       "      <th>HOME_PHONE</th>\n",
       "      <th>MOBILE_REACHABLE</th>\n",
       "      <th>FLAG_EMAIL</th>\n",
       "      <th>OCCUPATION_TYPE</th>\n",
       "      <th>CNT_FAM_MEMBERS</th>\n",
       "      <th>APPLICATION_DAY</th>\n",
       "      <th>TOTAL_DOC_SUBMITTED</th>\n",
       "    </tr>\n",
       "  </thead>\n",
       "  <tbody>\n",
       "    <tr>\n",
       "      <th>0</th>\n",
       "      <td>100002</td>\n",
       "      <td>1</td>\n",
       "      <td>Cash loans</td>\n",
       "      <td>M</td>\n",
       "      <td>N</td>\n",
       "      <td>Y</td>\n",
       "      <td>0</td>\n",
       "      <td>202500.0</td>\n",
       "      <td>406597.5</td>\n",
       "      <td>351000.0</td>\n",
       "      <td>...</td>\n",
       "      <td>-637</td>\n",
       "      <td>1</td>\n",
       "      <td>1</td>\n",
       "      <td>0</td>\n",
       "      <td>1</td>\n",
       "      <td>0</td>\n",
       "      <td>Laborers</td>\n",
       "      <td>1.0</td>\n",
       "      <td>WEDNESDAY</td>\n",
       "      <td>1</td>\n",
       "    </tr>\n",
       "    <tr>\n",
       "      <th>1</th>\n",
       "      <td>100003</td>\n",
       "      <td>0</td>\n",
       "      <td>Cash loans</td>\n",
       "      <td>F</td>\n",
       "      <td>N</td>\n",
       "      <td>N</td>\n",
       "      <td>0</td>\n",
       "      <td>270000.0</td>\n",
       "      <td>1293502.5</td>\n",
       "      <td>1129500.0</td>\n",
       "      <td>...</td>\n",
       "      <td>-1188</td>\n",
       "      <td>1</td>\n",
       "      <td>1</td>\n",
       "      <td>0</td>\n",
       "      <td>1</td>\n",
       "      <td>0</td>\n",
       "      <td>Core staff</td>\n",
       "      <td>2.0</td>\n",
       "      <td>MONDAY</td>\n",
       "      <td>1</td>\n",
       "    </tr>\n",
       "    <tr>\n",
       "      <th>2</th>\n",
       "      <td>100004</td>\n",
       "      <td>0</td>\n",
       "      <td>Revolving loans</td>\n",
       "      <td>M</td>\n",
       "      <td>Y</td>\n",
       "      <td>Y</td>\n",
       "      <td>0</td>\n",
       "      <td>67500.0</td>\n",
       "      <td>135000.0</td>\n",
       "      <td>135000.0</td>\n",
       "      <td>...</td>\n",
       "      <td>-225</td>\n",
       "      <td>1</td>\n",
       "      <td>1</td>\n",
       "      <td>1</td>\n",
       "      <td>1</td>\n",
       "      <td>0</td>\n",
       "      <td>Laborers</td>\n",
       "      <td>1.0</td>\n",
       "      <td>MONDAY</td>\n",
       "      <td>0</td>\n",
       "    </tr>\n",
       "    <tr>\n",
       "      <th>3</th>\n",
       "      <td>100006</td>\n",
       "      <td>0</td>\n",
       "      <td>Cash loans</td>\n",
       "      <td>F</td>\n",
       "      <td>N</td>\n",
       "      <td>Y</td>\n",
       "      <td>0</td>\n",
       "      <td>135000.0</td>\n",
       "      <td>312682.5</td>\n",
       "      <td>297000.0</td>\n",
       "      <td>...</td>\n",
       "      <td>-3039</td>\n",
       "      <td>1</td>\n",
       "      <td>1</td>\n",
       "      <td>0</td>\n",
       "      <td>1</td>\n",
       "      <td>0</td>\n",
       "      <td>Laborers</td>\n",
       "      <td>2.0</td>\n",
       "      <td>WEDNESDAY</td>\n",
       "      <td>1</td>\n",
       "    </tr>\n",
       "    <tr>\n",
       "      <th>4</th>\n",
       "      <td>100007</td>\n",
       "      <td>0</td>\n",
       "      <td>Cash loans</td>\n",
       "      <td>M</td>\n",
       "      <td>N</td>\n",
       "      <td>Y</td>\n",
       "      <td>0</td>\n",
       "      <td>121500.0</td>\n",
       "      <td>513000.0</td>\n",
       "      <td>513000.0</td>\n",
       "      <td>...</td>\n",
       "      <td>-3038</td>\n",
       "      <td>1</td>\n",
       "      <td>1</td>\n",
       "      <td>0</td>\n",
       "      <td>1</td>\n",
       "      <td>0</td>\n",
       "      <td>Core staff</td>\n",
       "      <td>1.0</td>\n",
       "      <td>THURSDAY</td>\n",
       "      <td>1</td>\n",
       "    </tr>\n",
       "    <tr>\n",
       "      <th>...</th>\n",
       "      <td>...</td>\n",
       "      <td>...</td>\n",
       "      <td>...</td>\n",
       "      <td>...</td>\n",
       "      <td>...</td>\n",
       "      <td>...</td>\n",
       "      <td>...</td>\n",
       "      <td>...</td>\n",
       "      <td>...</td>\n",
       "      <td>...</td>\n",
       "      <td>...</td>\n",
       "      <td>...</td>\n",
       "      <td>...</td>\n",
       "      <td>...</td>\n",
       "      <td>...</td>\n",
       "      <td>...</td>\n",
       "      <td>...</td>\n",
       "      <td>...</td>\n",
       "      <td>...</td>\n",
       "      <td>...</td>\n",
       "      <td>...</td>\n",
       "    </tr>\n",
       "    <tr>\n",
       "      <th>99995</th>\n",
       "      <td>216086</td>\n",
       "      <td>0</td>\n",
       "      <td>Cash loans</td>\n",
       "      <td>F</td>\n",
       "      <td>N</td>\n",
       "      <td>Y</td>\n",
       "      <td>1</td>\n",
       "      <td>157500.0</td>\n",
       "      <td>755190.0</td>\n",
       "      <td>675000.0</td>\n",
       "      <td>...</td>\n",
       "      <td>-232</td>\n",
       "      <td>1</td>\n",
       "      <td>1</td>\n",
       "      <td>1</td>\n",
       "      <td>1</td>\n",
       "      <td>0</td>\n",
       "      <td>Sales staff</td>\n",
       "      <td>3.0</td>\n",
       "      <td>MONDAY</td>\n",
       "      <td>1</td>\n",
       "    </tr>\n",
       "    <tr>\n",
       "      <th>99996</th>\n",
       "      <td>216087</td>\n",
       "      <td>0</td>\n",
       "      <td>Cash loans</td>\n",
       "      <td>F</td>\n",
       "      <td>N</td>\n",
       "      <td>Y</td>\n",
       "      <td>1</td>\n",
       "      <td>225000.0</td>\n",
       "      <td>284400.0</td>\n",
       "      <td>225000.0</td>\n",
       "      <td>...</td>\n",
       "      <td>-182</td>\n",
       "      <td>1</td>\n",
       "      <td>1</td>\n",
       "      <td>0</td>\n",
       "      <td>1</td>\n",
       "      <td>0</td>\n",
       "      <td>Managers</td>\n",
       "      <td>3.0</td>\n",
       "      <td>TUESDAY</td>\n",
       "      <td>1</td>\n",
       "    </tr>\n",
       "    <tr>\n",
       "      <th>99997</th>\n",
       "      <td>216088</td>\n",
       "      <td>0</td>\n",
       "      <td>Cash loans</td>\n",
       "      <td>F</td>\n",
       "      <td>Y</td>\n",
       "      <td>Y</td>\n",
       "      <td>0</td>\n",
       "      <td>135000.0</td>\n",
       "      <td>1262583.0</td>\n",
       "      <td>1102500.0</td>\n",
       "      <td>...</td>\n",
       "      <td>-4805</td>\n",
       "      <td>1</td>\n",
       "      <td>1</td>\n",
       "      <td>0</td>\n",
       "      <td>1</td>\n",
       "      <td>0</td>\n",
       "      <td>Sales staff</td>\n",
       "      <td>2.0</td>\n",
       "      <td>TUESDAY</td>\n",
       "      <td>1</td>\n",
       "    </tr>\n",
       "    <tr>\n",
       "      <th>99998</th>\n",
       "      <td>216089</td>\n",
       "      <td>0</td>\n",
       "      <td>Cash loans</td>\n",
       "      <td>F</td>\n",
       "      <td>Y</td>\n",
       "      <td>N</td>\n",
       "      <td>0</td>\n",
       "      <td>135000.0</td>\n",
       "      <td>225000.0</td>\n",
       "      <td>225000.0</td>\n",
       "      <td>...</td>\n",
       "      <td>-340</td>\n",
       "      <td>1</td>\n",
       "      <td>1</td>\n",
       "      <td>0</td>\n",
       "      <td>1</td>\n",
       "      <td>0</td>\n",
       "      <td>Sales staff</td>\n",
       "      <td>2.0</td>\n",
       "      <td>FRIDAY</td>\n",
       "      <td>2</td>\n",
       "    </tr>\n",
       "    <tr>\n",
       "      <th>99999</th>\n",
       "      <td>216090</td>\n",
       "      <td>0</td>\n",
       "      <td>Revolving loans</td>\n",
       "      <td>M</td>\n",
       "      <td>Y</td>\n",
       "      <td>Y</td>\n",
       "      <td>0</td>\n",
       "      <td>202500.0</td>\n",
       "      <td>337500.0</td>\n",
       "      <td>337500.0</td>\n",
       "      <td>...</td>\n",
       "      <td>-3230</td>\n",
       "      <td>1</td>\n",
       "      <td>1</td>\n",
       "      <td>1</td>\n",
       "      <td>1</td>\n",
       "      <td>0</td>\n",
       "      <td>Drivers</td>\n",
       "      <td>2.0</td>\n",
       "      <td>SATURDAY</td>\n",
       "      <td>0</td>\n",
       "    </tr>\n",
       "  </tbody>\n",
       "</table>\n",
       "<p>100000 rows × 24 columns</p>\n",
       "</div>"
      ],
      "text/plain": [
       "       SK_ID_CURR  TARGET NAME_CONTRACT_TYPE GENDER Car House  CNT_CHILDREN  \\\n",
       "0          100002       1         Cash loans      M   N     Y             0   \n",
       "1          100003       0         Cash loans      F   N     N             0   \n",
       "2          100004       0    Revolving loans      M   Y     Y             0   \n",
       "3          100006       0         Cash loans      F   N     Y             0   \n",
       "4          100007       0         Cash loans      M   N     Y             0   \n",
       "...           ...     ...                ...    ...  ..   ...           ...   \n",
       "99995      216086       0         Cash loans      F   N     Y             1   \n",
       "99996      216087       0         Cash loans      F   N     Y             1   \n",
       "99997      216088       0         Cash loans      F   Y     Y             0   \n",
       "99998      216089       0         Cash loans      F   Y     N             0   \n",
       "99999      216090       0    Revolving loans      M   Y     Y             0   \n",
       "\n",
       "       AMT_INCOME_TOTAL  AMT_CREDIT  AMT_GOODS_PRICE  ... DAYS_EMPLOYED  \\\n",
       "0              202500.0    406597.5         351000.0  ...          -637   \n",
       "1              270000.0   1293502.5        1129500.0  ...         -1188   \n",
       "2               67500.0    135000.0         135000.0  ...          -225   \n",
       "3              135000.0    312682.5         297000.0  ...         -3039   \n",
       "4              121500.0    513000.0         513000.0  ...         -3038   \n",
       "...                 ...         ...              ...  ...           ...   \n",
       "99995          157500.0    755190.0         675000.0  ...          -232   \n",
       "99996          225000.0    284400.0         225000.0  ...          -182   \n",
       "99997          135000.0   1262583.0        1102500.0  ...         -4805   \n",
       "99998          135000.0    225000.0         225000.0  ...          -340   \n",
       "99999          202500.0    337500.0         337500.0  ...         -3230   \n",
       "\n",
       "      MOBILE WORK_PHONE HOME_PHONE  MOBILE_REACHABLE  FLAG_EMAIL  \\\n",
       "0          1          1          0                 1           0   \n",
       "1          1          1          0                 1           0   \n",
       "2          1          1          1                 1           0   \n",
       "3          1          1          0                 1           0   \n",
       "4          1          1          0                 1           0   \n",
       "...      ...        ...        ...               ...         ...   \n",
       "99995      1          1          1                 1           0   \n",
       "99996      1          1          0                 1           0   \n",
       "99997      1          1          0                 1           0   \n",
       "99998      1          1          0                 1           0   \n",
       "99999      1          1          1                 1           0   \n",
       "\n",
       "       OCCUPATION_TYPE  CNT_FAM_MEMBERS  APPLICATION_DAY  TOTAL_DOC_SUBMITTED  \n",
       "0             Laborers              1.0        WEDNESDAY                    1  \n",
       "1           Core staff              2.0           MONDAY                    1  \n",
       "2             Laborers              1.0           MONDAY                    0  \n",
       "3             Laborers              2.0        WEDNESDAY                    1  \n",
       "4           Core staff              1.0         THURSDAY                    1  \n",
       "...                ...              ...              ...                  ...  \n",
       "99995      Sales staff              3.0           MONDAY                    1  \n",
       "99996         Managers              3.0          TUESDAY                    1  \n",
       "99997      Sales staff              2.0          TUESDAY                    1  \n",
       "99998      Sales staff              2.0           FRIDAY                    2  \n",
       "99999          Drivers              2.0         SATURDAY                    0  \n",
       "\n",
       "[100000 rows x 24 columns]"
      ]
     },
     "execution_count": 53,
     "metadata": {},
     "output_type": "execute_result"
    }
   ],
   "source": [
    "Data"
   ]
  },
  {
   "cell_type": "markdown",
   "id": "a530f774",
   "metadata": {},
   "source": [
    "# Dataset information"
   ]
  },
  {
   "cell_type": "code",
   "execution_count": 4,
   "id": "6a70bc07",
   "metadata": {},
   "outputs": [
    {
     "name": "stdout",
     "output_type": "stream",
     "text": [
      "<class 'pandas.core.frame.DataFrame'>\n",
      "RangeIndex: 100000 entries, 0 to 99999\n",
      "Data columns (total 24 columns):\n",
      " #   Column               Non-Null Count   Dtype  \n",
      "---  ------               --------------   -----  \n",
      " 0   SK_ID_CURR           100000 non-null  int64  \n",
      " 1   TARGET               100000 non-null  int64  \n",
      " 2   NAME_CONTRACT_TYPE   100000 non-null  object \n",
      " 3   GENDER               100000 non-null  object \n",
      " 4   Car                  100000 non-null  object \n",
      " 5   House                100000 non-null  object \n",
      " 6   CNT_CHILDREN         100000 non-null  int64  \n",
      " 7   AMT_INCOME_TOTAL     100000 non-null  float64\n",
      " 8   AMT_CREDIT           100000 non-null  float64\n",
      " 9   AMT_GOODS_PRICE      99919 non-null   float64\n",
      " 10  NAME_TYPE_SUITE      99595 non-null   object \n",
      " 11  NAME_INCOME_TYPE     100000 non-null  object \n",
      " 12  NAME_EDUCATION_TYPE  100000 non-null  object \n",
      " 13  NAME_FAMILY_STATUS   100000 non-null  object \n",
      " 14  DAYS_EMPLOYED        100000 non-null  int64  \n",
      " 15  MOBILE               100000 non-null  int64  \n",
      " 16  WORK_PHONE           100000 non-null  int64  \n",
      " 17  HOME_PHONE           100000 non-null  int64  \n",
      " 18  MOBILE_REACHABLE     100000 non-null  int64  \n",
      " 19  FLAG_EMAIL           100000 non-null  int64  \n",
      " 20  OCCUPATION_TYPE      68776 non-null   object \n",
      " 21  CNT_FAM_MEMBERS      99999 non-null   float64\n",
      " 22  APPLICATION_DAY      100000 non-null  object \n",
      " 23  TOTAL_DOC_SUBMITTED  100000 non-null  int64  \n",
      "dtypes: float64(4), int64(10), object(10)\n",
      "memory usage: 18.3+ MB\n"
     ]
    }
   ],
   "source": [
    "Data.info()"
   ]
  },
  {
   "cell_type": "markdown",
   "id": "73c5b9a9",
   "metadata": {},
   "source": [
    "# Checking if there are null values in any columns\n"
   ]
  },
  {
   "cell_type": "code",
   "execution_count": 5,
   "id": "b0932e35",
   "metadata": {},
   "outputs": [
    {
     "data": {
      "text/plain": [
       "SK_ID_CURR                 0\n",
       "TARGET                     0\n",
       "NAME_CONTRACT_TYPE         0\n",
       "GENDER                     0\n",
       "Car                        0\n",
       "House                      0\n",
       "CNT_CHILDREN               0\n",
       "AMT_INCOME_TOTAL           0\n",
       "AMT_CREDIT                 0\n",
       "AMT_GOODS_PRICE           81\n",
       "NAME_TYPE_SUITE          405\n",
       "NAME_INCOME_TYPE           0\n",
       "NAME_EDUCATION_TYPE        0\n",
       "NAME_FAMILY_STATUS         0\n",
       "DAYS_EMPLOYED              0\n",
       "MOBILE                     0\n",
       "WORK_PHONE                 0\n",
       "HOME_PHONE                 0\n",
       "MOBILE_REACHABLE           0\n",
       "FLAG_EMAIL                 0\n",
       "OCCUPATION_TYPE        31224\n",
       "CNT_FAM_MEMBERS            1\n",
       "APPLICATION_DAY            0\n",
       "TOTAL_DOC_SUBMITTED        0\n",
       "dtype: int64"
      ]
     },
     "execution_count": 5,
     "metadata": {},
     "output_type": "execute_result"
    }
   ],
   "source": [
    "Data.isna().sum()"
   ]
  },
  {
   "cell_type": "code",
   "execution_count": null,
   "id": "2b132df9",
   "metadata": {},
   "outputs": [],
   "source": []
  },
  {
   "cell_type": "code",
   "execution_count": null,
   "id": "482143e2",
   "metadata": {},
   "outputs": [],
   "source": []
  },
  {
   "cell_type": "markdown",
   "id": "b537639e",
   "metadata": {},
   "source": [
    "# Null Value Treatment"
   ]
  },
  {
   "cell_type": "markdown",
   "id": "f1d82677",
   "metadata": {},
   "source": [
    "## First I'm Treating OCCUPATION_TYPE Column because it has 30% of null value"
   ]
  },
  {
   "cell_type": "code",
   "execution_count": null,
   "id": "a87dbdcc",
   "metadata": {},
   "outputs": [],
   "source": []
  },
  {
   "cell_type": "markdown",
   "id": "b3ecb10d",
   "metadata": {},
   "source": [
    "### To fill NA with accurate value i did null value treatment in below steps"
   ]
  },
  {
   "cell_type": "markdown",
   "id": "e97cbac3",
   "metadata": {},
   "source": [
    "### Step1: In first step i filtered all the data which does NOT have any NULL values with respect to 'OCCUPATION_TYPE' column "
   ]
  },
  {
   "cell_type": "code",
   "execution_count": 6,
   "id": "20287d81",
   "metadata": {},
   "outputs": [
    {
     "data": {
      "text/html": [
       "<div>\n",
       "<style scoped>\n",
       "    .dataframe tbody tr th:only-of-type {\n",
       "        vertical-align: middle;\n",
       "    }\n",
       "\n",
       "    .dataframe tbody tr th {\n",
       "        vertical-align: top;\n",
       "    }\n",
       "\n",
       "    .dataframe thead th {\n",
       "        text-align: right;\n",
       "    }\n",
       "</style>\n",
       "<table border=\"1\" class=\"dataframe\">\n",
       "  <thead>\n",
       "    <tr style=\"text-align: right;\">\n",
       "      <th></th>\n",
       "      <th>SK_ID_CURR</th>\n",
       "      <th>TARGET</th>\n",
       "      <th>NAME_CONTRACT_TYPE</th>\n",
       "      <th>GENDER</th>\n",
       "      <th>Car</th>\n",
       "      <th>House</th>\n",
       "      <th>CNT_CHILDREN</th>\n",
       "      <th>AMT_INCOME_TOTAL</th>\n",
       "      <th>AMT_CREDIT</th>\n",
       "      <th>AMT_GOODS_PRICE</th>\n",
       "      <th>...</th>\n",
       "      <th>DAYS_EMPLOYED</th>\n",
       "      <th>MOBILE</th>\n",
       "      <th>WORK_PHONE</th>\n",
       "      <th>HOME_PHONE</th>\n",
       "      <th>MOBILE_REACHABLE</th>\n",
       "      <th>FLAG_EMAIL</th>\n",
       "      <th>OCCUPATION_TYPE</th>\n",
       "      <th>CNT_FAM_MEMBERS</th>\n",
       "      <th>APPLICATION_DAY</th>\n",
       "      <th>TOTAL_DOC_SUBMITTED</th>\n",
       "    </tr>\n",
       "  </thead>\n",
       "  <tbody>\n",
       "    <tr>\n",
       "      <th>0</th>\n",
       "      <td>100002</td>\n",
       "      <td>1</td>\n",
       "      <td>Cash loans</td>\n",
       "      <td>M</td>\n",
       "      <td>N</td>\n",
       "      <td>Y</td>\n",
       "      <td>0</td>\n",
       "      <td>202500.0</td>\n",
       "      <td>406597.5</td>\n",
       "      <td>351000.0</td>\n",
       "      <td>...</td>\n",
       "      <td>-637</td>\n",
       "      <td>1</td>\n",
       "      <td>1</td>\n",
       "      <td>0</td>\n",
       "      <td>1</td>\n",
       "      <td>0</td>\n",
       "      <td>Laborers</td>\n",
       "      <td>1.0</td>\n",
       "      <td>WEDNESDAY</td>\n",
       "      <td>1</td>\n",
       "    </tr>\n",
       "    <tr>\n",
       "      <th>1</th>\n",
       "      <td>100003</td>\n",
       "      <td>0</td>\n",
       "      <td>Cash loans</td>\n",
       "      <td>F</td>\n",
       "      <td>N</td>\n",
       "      <td>N</td>\n",
       "      <td>0</td>\n",
       "      <td>270000.0</td>\n",
       "      <td>1293502.5</td>\n",
       "      <td>1129500.0</td>\n",
       "      <td>...</td>\n",
       "      <td>-1188</td>\n",
       "      <td>1</td>\n",
       "      <td>1</td>\n",
       "      <td>0</td>\n",
       "      <td>1</td>\n",
       "      <td>0</td>\n",
       "      <td>Core staff</td>\n",
       "      <td>2.0</td>\n",
       "      <td>MONDAY</td>\n",
       "      <td>1</td>\n",
       "    </tr>\n",
       "    <tr>\n",
       "      <th>2</th>\n",
       "      <td>100004</td>\n",
       "      <td>0</td>\n",
       "      <td>Revolving loans</td>\n",
       "      <td>M</td>\n",
       "      <td>Y</td>\n",
       "      <td>Y</td>\n",
       "      <td>0</td>\n",
       "      <td>67500.0</td>\n",
       "      <td>135000.0</td>\n",
       "      <td>135000.0</td>\n",
       "      <td>...</td>\n",
       "      <td>-225</td>\n",
       "      <td>1</td>\n",
       "      <td>1</td>\n",
       "      <td>1</td>\n",
       "      <td>1</td>\n",
       "      <td>0</td>\n",
       "      <td>Laborers</td>\n",
       "      <td>1.0</td>\n",
       "      <td>MONDAY</td>\n",
       "      <td>0</td>\n",
       "    </tr>\n",
       "    <tr>\n",
       "      <th>3</th>\n",
       "      <td>100006</td>\n",
       "      <td>0</td>\n",
       "      <td>Cash loans</td>\n",
       "      <td>F</td>\n",
       "      <td>N</td>\n",
       "      <td>Y</td>\n",
       "      <td>0</td>\n",
       "      <td>135000.0</td>\n",
       "      <td>312682.5</td>\n",
       "      <td>297000.0</td>\n",
       "      <td>...</td>\n",
       "      <td>-3039</td>\n",
       "      <td>1</td>\n",
       "      <td>1</td>\n",
       "      <td>0</td>\n",
       "      <td>1</td>\n",
       "      <td>0</td>\n",
       "      <td>Laborers</td>\n",
       "      <td>2.0</td>\n",
       "      <td>WEDNESDAY</td>\n",
       "      <td>1</td>\n",
       "    </tr>\n",
       "    <tr>\n",
       "      <th>4</th>\n",
       "      <td>100007</td>\n",
       "      <td>0</td>\n",
       "      <td>Cash loans</td>\n",
       "      <td>M</td>\n",
       "      <td>N</td>\n",
       "      <td>Y</td>\n",
       "      <td>0</td>\n",
       "      <td>121500.0</td>\n",
       "      <td>513000.0</td>\n",
       "      <td>513000.0</td>\n",
       "      <td>...</td>\n",
       "      <td>-3038</td>\n",
       "      <td>1</td>\n",
       "      <td>1</td>\n",
       "      <td>0</td>\n",
       "      <td>1</td>\n",
       "      <td>0</td>\n",
       "      <td>Core staff</td>\n",
       "      <td>1.0</td>\n",
       "      <td>THURSDAY</td>\n",
       "      <td>1</td>\n",
       "    </tr>\n",
       "  </tbody>\n",
       "</table>\n",
       "<p>5 rows × 24 columns</p>\n",
       "</div>"
      ],
      "text/plain": [
       "   SK_ID_CURR  TARGET NAME_CONTRACT_TYPE GENDER Car House  CNT_CHILDREN  \\\n",
       "0      100002       1         Cash loans      M   N     Y             0   \n",
       "1      100003       0         Cash loans      F   N     N             0   \n",
       "2      100004       0    Revolving loans      M   Y     Y             0   \n",
       "3      100006       0         Cash loans      F   N     Y             0   \n",
       "4      100007       0         Cash loans      M   N     Y             0   \n",
       "\n",
       "   AMT_INCOME_TOTAL  AMT_CREDIT  AMT_GOODS_PRICE  ... DAYS_EMPLOYED MOBILE  \\\n",
       "0          202500.0    406597.5         351000.0  ...          -637      1   \n",
       "1          270000.0   1293502.5        1129500.0  ...         -1188      1   \n",
       "2           67500.0    135000.0         135000.0  ...          -225      1   \n",
       "3          135000.0    312682.5         297000.0  ...         -3039      1   \n",
       "4          121500.0    513000.0         513000.0  ...         -3038      1   \n",
       "\n",
       "  WORK_PHONE HOME_PHONE  MOBILE_REACHABLE  FLAG_EMAIL  OCCUPATION_TYPE  \\\n",
       "0          1          0                 1           0         Laborers   \n",
       "1          1          0                 1           0       Core staff   \n",
       "2          1          1                 1           0         Laborers   \n",
       "3          1          0                 1           0         Laborers   \n",
       "4          1          0                 1           0       Core staff   \n",
       "\n",
       "   CNT_FAM_MEMBERS  APPLICATION_DAY  TOTAL_DOC_SUBMITTED  \n",
       "0              1.0        WEDNESDAY                    1  \n",
       "1              2.0           MONDAY                    1  \n",
       "2              1.0           MONDAY                    0  \n",
       "3              2.0        WEDNESDAY                    1  \n",
       "4              1.0         THURSDAY                    1  \n",
       "\n",
       "[5 rows x 24 columns]"
      ]
     },
     "execution_count": 6,
     "metadata": {},
     "output_type": "execute_result"
    }
   ],
   "source": [
    "A =Data[Data['OCCUPATION_TYPE'].notnull()]\n",
    "A.head()"
   ]
  },
  {
   "cell_type": "markdown",
   "id": "2eb88570",
   "metadata": {},
   "source": [
    "### Step2: I looked for mode on the basis of education for example which EDUCATION_TYPE mostly prefer Most Job"
   ]
  },
  {
   "cell_type": "markdown",
   "id": "2a4001e9",
   "metadata": {},
   "source": [
    "### Step3: Again i sub categorize with GENDER for example which gender of any education mostly preferred which kind of job"
   ]
  },
  {
   "cell_type": "code",
   "execution_count": 7,
   "id": "4204bb5f",
   "metadata": {},
   "outputs": [],
   "source": [
    "Dict_M= {} #dictionary for male employee on the basis of education \n",
    "Dict_F={}  #dictionary for Female employee on the basis of education \n",
    "Dict_XNA = {} #dictionary for XNA employee on the basis of education "
   ]
  },
  {
   "cell_type": "code",
   "execution_count": null,
   "id": "f0df7a08",
   "metadata": {},
   "outputs": [],
   "source": []
  },
  {
   "cell_type": "markdown",
   "id": "2a66ee98",
   "metadata": {},
   "source": [
    "#### To Accomplished the STEP 2 and STEP 3 i used For loop`"
   ]
  },
  {
   "cell_type": "code",
   "execution_count": 8,
   "id": "ac3f41ef",
   "metadata": {},
   "outputs": [],
   "source": [
    "E= Data.NAME_EDUCATION_TYPE.unique()\n",
    "B=Data[Data['OCCUPATION_TYPE'].notnull()]\n",
    "for i in E:\n",
    "    A =B['OCCUPATION_TYPE'][(B['NAME_EDUCATION_TYPE']==i) & (B['GENDER']=='M')]\n",
    "    occ= st.mode(A)\n",
    "    Dict_M.update({i:occ})\n",
    "\n",
    "for i in E:\n",
    "    A =B['OCCUPATION_TYPE'][(B['NAME_EDUCATION_TYPE']==i) & (B['GENDER']=='F')]\n",
    "    occ= st.mode(A)\n",
    "    Dict_F.update({i:occ})\n",
    "\n",
    "for i in E:\n",
    "    A =B['OCCUPATION_TYPE'][(B['NAME_EDUCATION_TYPE']==i) & (B['GENDER']=='XNA')]\n",
    "    if len(A.index)==0:\n",
    "        pass\n",
    "    else:\n",
    "        occ= st.mode(A)\n",
    "        Dict_XNA.update({i:occ})\n"
   ]
  },
  {
   "cell_type": "code",
   "execution_count": 9,
   "id": "fe5e7575",
   "metadata": {},
   "outputs": [
    {
     "name": "stdout",
     "output_type": "stream",
     "text": [
      "{'Secondary / secondary special': 'Laborers', 'Higher education': 'Managers', 'Incomplete higher': 'Laborers', 'Lower secondary': 'Laborers', 'Academic degree': 'Managers'}\n"
     ]
    }
   ],
   "source": [
    "print(Dict_M) # here we have mode of male customer education wise"
   ]
  },
  {
   "cell_type": "code",
   "execution_count": 10,
   "id": "b2c62138",
   "metadata": {},
   "outputs": [
    {
     "name": "stdout",
     "output_type": "stream",
     "text": [
      "{'Secondary / secondary special': 'Sales staff', 'Higher education': 'Core staff', 'Incomplete higher': 'Sales staff', 'Lower secondary': 'Laborers', 'Academic degree': 'Managers'}\n"
     ]
    }
   ],
   "source": [
    "print(Dict_F) # here we have mode of Female customer education wise"
   ]
  },
  {
   "cell_type": "code",
   "execution_count": 11,
   "id": "8f651559",
   "metadata": {},
   "outputs": [
    {
     "name": "stdout",
     "output_type": "stream",
     "text": [
      "{'Secondary / secondary special': 'Low-skill Laborers', 'Higher education': 'Core staff'}\n"
     ]
    }
   ],
   "source": [
    "print(Dict_XNA) # here we have mode of XNA customer education wise"
   ]
  },
  {
   "cell_type": "markdown",
   "id": "f7509718",
   "metadata": {},
   "source": [
    "### Step4  Now we got the perfect value to fill in this step we will fill our NA values with Above Data"
   ]
  },
  {
   "cell_type": "code",
   "execution_count": 12,
   "id": "ccfd4221",
   "metadata": {},
   "outputs": [],
   "source": [
    "M = [Dict_M,Dict_F, Dict_XNA]"
   ]
  },
  {
   "cell_type": "code",
   "execution_count": null,
   "id": "38eed427",
   "metadata": {},
   "outputs": [],
   "source": []
  },
  {
   "cell_type": "code",
   "execution_count": 13,
   "id": "f62f3e01",
   "metadata": {},
   "outputs": [],
   "source": [
    "#With the help of below one loop i saved a lot of time and possiblity of minor error and 99% of null values got rectified"
   ]
  },
  {
   "cell_type": "code",
   "execution_count": 14,
   "id": "f2449e01",
   "metadata": {},
   "outputs": [
    {
     "name": "stderr",
     "output_type": "stream",
     "text": [
      "C:\\Users\\yogesh\\AppData\\Local\\Temp\\ipykernel_9576\\1990915185.py:8: SettingWithCopyWarning: \n",
      "A value is trying to be set on a copy of a slice from a DataFrame\n",
      "\n",
      "See the caveats in the documentation: https://pandas.pydata.org/pandas-docs/stable/user_guide/indexing.html#returning-a-view-versus-a-copy\n",
      "  Data['OCCUPATION_TYPE'][(Data['NAME_EDUCATION_TYPE']==j\n"
     ]
    }
   ],
   "source": [
    "I=0  ## Using it as counter to fetch the value from list of dictionary above\n",
    "\n",
    "\n",
    "for i in Data.GENDER.unique(): # runing first loop for to get all the gender present in dataset\n",
    "    \n",
    "    for j in M[I]: ## M[I] will give us first diction and i in this loop will give us value of that dictionar\n",
    "        \n",
    "        Data['OCCUPATION_TYPE'][(Data['NAME_EDUCATION_TYPE']==j\n",
    "                                )&(Data['GENDER']==i\n",
    "                                  ) &(Data['OCCUPATION_TYPE']\n",
    "                                     ).isnull()] = M[I][j] ## using M[I][J] To get the Dictionry from list and values here J is working as key\n",
    "        \n",
    "    I+=1   #to increase the value of counter\n"
   ]
  },
  {
   "cell_type": "code",
   "execution_count": 15,
   "id": "9e888b52",
   "metadata": {},
   "outputs": [
    {
     "data": {
      "text/plain": [
       "SK_ID_CURR               0\n",
       "TARGET                   0\n",
       "NAME_CONTRACT_TYPE       0\n",
       "GENDER                   0\n",
       "Car                      0\n",
       "House                    0\n",
       "CNT_CHILDREN             0\n",
       "AMT_INCOME_TOTAL         0\n",
       "AMT_CREDIT               0\n",
       "AMT_GOODS_PRICE         81\n",
       "NAME_TYPE_SUITE        405\n",
       "NAME_INCOME_TYPE         0\n",
       "NAME_EDUCATION_TYPE      0\n",
       "NAME_FAMILY_STATUS       0\n",
       "DAYS_EMPLOYED            0\n",
       "MOBILE                   0\n",
       "WORK_PHONE               0\n",
       "HOME_PHONE               0\n",
       "MOBILE_REACHABLE         0\n",
       "FLAG_EMAIL               0\n",
       "OCCUPATION_TYPE          0\n",
       "CNT_FAM_MEMBERS          1\n",
       "APPLICATION_DAY          0\n",
       "TOTAL_DOC_SUBMITTED      0\n",
       "dtype: int64"
      ]
     },
     "execution_count": 15,
     "metadata": {},
     "output_type": "execute_result"
    }
   ],
   "source": [
    "Data.isna().sum()"
   ]
  },
  {
   "cell_type": "markdown",
   "id": "0825ed85",
   "metadata": {},
   "source": [
    "### Step5 : As we can see 99% percent of our data is now filled so in the final step we drop few rows which won't effect Information"
   ]
  },
  {
   "cell_type": "code",
   "execution_count": 16,
   "id": "8ba09702",
   "metadata": {},
   "outputs": [
    {
     "data": {
      "text/html": [
       "<div>\n",
       "<style scoped>\n",
       "    .dataframe tbody tr th:only-of-type {\n",
       "        vertical-align: middle;\n",
       "    }\n",
       "\n",
       "    .dataframe tbody tr th {\n",
       "        vertical-align: top;\n",
       "    }\n",
       "\n",
       "    .dataframe thead th {\n",
       "        text-align: right;\n",
       "    }\n",
       "</style>\n",
       "<table border=\"1\" class=\"dataframe\">\n",
       "  <thead>\n",
       "    <tr style=\"text-align: right;\">\n",
       "      <th></th>\n",
       "      <th>SK_ID_CURR</th>\n",
       "      <th>TARGET</th>\n",
       "      <th>NAME_CONTRACT_TYPE</th>\n",
       "      <th>GENDER</th>\n",
       "      <th>Car</th>\n",
       "      <th>House</th>\n",
       "      <th>CNT_CHILDREN</th>\n",
       "      <th>AMT_INCOME_TOTAL</th>\n",
       "      <th>AMT_CREDIT</th>\n",
       "      <th>AMT_GOODS_PRICE</th>\n",
       "      <th>...</th>\n",
       "      <th>DAYS_EMPLOYED</th>\n",
       "      <th>MOBILE</th>\n",
       "      <th>WORK_PHONE</th>\n",
       "      <th>HOME_PHONE</th>\n",
       "      <th>MOBILE_REACHABLE</th>\n",
       "      <th>FLAG_EMAIL</th>\n",
       "      <th>OCCUPATION_TYPE</th>\n",
       "      <th>CNT_FAM_MEMBERS</th>\n",
       "      <th>APPLICATION_DAY</th>\n",
       "      <th>TOTAL_DOC_SUBMITTED</th>\n",
       "    </tr>\n",
       "  </thead>\n",
       "  <tbody>\n",
       "    <tr>\n",
       "      <th>0</th>\n",
       "      <td>100002</td>\n",
       "      <td>1</td>\n",
       "      <td>Cash loans</td>\n",
       "      <td>M</td>\n",
       "      <td>N</td>\n",
       "      <td>Y</td>\n",
       "      <td>0</td>\n",
       "      <td>202500.0</td>\n",
       "      <td>406597.5</td>\n",
       "      <td>351000.0</td>\n",
       "      <td>...</td>\n",
       "      <td>-637</td>\n",
       "      <td>1</td>\n",
       "      <td>1</td>\n",
       "      <td>0</td>\n",
       "      <td>1</td>\n",
       "      <td>0</td>\n",
       "      <td>Laborers</td>\n",
       "      <td>1.0</td>\n",
       "      <td>WEDNESDAY</td>\n",
       "      <td>1</td>\n",
       "    </tr>\n",
       "    <tr>\n",
       "      <th>1</th>\n",
       "      <td>100003</td>\n",
       "      <td>0</td>\n",
       "      <td>Cash loans</td>\n",
       "      <td>F</td>\n",
       "      <td>N</td>\n",
       "      <td>N</td>\n",
       "      <td>0</td>\n",
       "      <td>270000.0</td>\n",
       "      <td>1293502.5</td>\n",
       "      <td>1129500.0</td>\n",
       "      <td>...</td>\n",
       "      <td>-1188</td>\n",
       "      <td>1</td>\n",
       "      <td>1</td>\n",
       "      <td>0</td>\n",
       "      <td>1</td>\n",
       "      <td>0</td>\n",
       "      <td>Core staff</td>\n",
       "      <td>2.0</td>\n",
       "      <td>MONDAY</td>\n",
       "      <td>1</td>\n",
       "    </tr>\n",
       "    <tr>\n",
       "      <th>2</th>\n",
       "      <td>100004</td>\n",
       "      <td>0</td>\n",
       "      <td>Revolving loans</td>\n",
       "      <td>M</td>\n",
       "      <td>Y</td>\n",
       "      <td>Y</td>\n",
       "      <td>0</td>\n",
       "      <td>67500.0</td>\n",
       "      <td>135000.0</td>\n",
       "      <td>135000.0</td>\n",
       "      <td>...</td>\n",
       "      <td>-225</td>\n",
       "      <td>1</td>\n",
       "      <td>1</td>\n",
       "      <td>1</td>\n",
       "      <td>1</td>\n",
       "      <td>0</td>\n",
       "      <td>Laborers</td>\n",
       "      <td>1.0</td>\n",
       "      <td>MONDAY</td>\n",
       "      <td>0</td>\n",
       "    </tr>\n",
       "    <tr>\n",
       "      <th>3</th>\n",
       "      <td>100006</td>\n",
       "      <td>0</td>\n",
       "      <td>Cash loans</td>\n",
       "      <td>F</td>\n",
       "      <td>N</td>\n",
       "      <td>Y</td>\n",
       "      <td>0</td>\n",
       "      <td>135000.0</td>\n",
       "      <td>312682.5</td>\n",
       "      <td>297000.0</td>\n",
       "      <td>...</td>\n",
       "      <td>-3039</td>\n",
       "      <td>1</td>\n",
       "      <td>1</td>\n",
       "      <td>0</td>\n",
       "      <td>1</td>\n",
       "      <td>0</td>\n",
       "      <td>Laborers</td>\n",
       "      <td>2.0</td>\n",
       "      <td>WEDNESDAY</td>\n",
       "      <td>1</td>\n",
       "    </tr>\n",
       "    <tr>\n",
       "      <th>4</th>\n",
       "      <td>100007</td>\n",
       "      <td>0</td>\n",
       "      <td>Cash loans</td>\n",
       "      <td>M</td>\n",
       "      <td>N</td>\n",
       "      <td>Y</td>\n",
       "      <td>0</td>\n",
       "      <td>121500.0</td>\n",
       "      <td>513000.0</td>\n",
       "      <td>513000.0</td>\n",
       "      <td>...</td>\n",
       "      <td>-3038</td>\n",
       "      <td>1</td>\n",
       "      <td>1</td>\n",
       "      <td>0</td>\n",
       "      <td>1</td>\n",
       "      <td>0</td>\n",
       "      <td>Core staff</td>\n",
       "      <td>1.0</td>\n",
       "      <td>THURSDAY</td>\n",
       "      <td>1</td>\n",
       "    </tr>\n",
       "    <tr>\n",
       "      <th>...</th>\n",
       "      <td>...</td>\n",
       "      <td>...</td>\n",
       "      <td>...</td>\n",
       "      <td>...</td>\n",
       "      <td>...</td>\n",
       "      <td>...</td>\n",
       "      <td>...</td>\n",
       "      <td>...</td>\n",
       "      <td>...</td>\n",
       "      <td>...</td>\n",
       "      <td>...</td>\n",
       "      <td>...</td>\n",
       "      <td>...</td>\n",
       "      <td>...</td>\n",
       "      <td>...</td>\n",
       "      <td>...</td>\n",
       "      <td>...</td>\n",
       "      <td>...</td>\n",
       "      <td>...</td>\n",
       "      <td>...</td>\n",
       "      <td>...</td>\n",
       "    </tr>\n",
       "    <tr>\n",
       "      <th>99995</th>\n",
       "      <td>216086</td>\n",
       "      <td>0</td>\n",
       "      <td>Cash loans</td>\n",
       "      <td>F</td>\n",
       "      <td>N</td>\n",
       "      <td>Y</td>\n",
       "      <td>1</td>\n",
       "      <td>157500.0</td>\n",
       "      <td>755190.0</td>\n",
       "      <td>675000.0</td>\n",
       "      <td>...</td>\n",
       "      <td>-232</td>\n",
       "      <td>1</td>\n",
       "      <td>1</td>\n",
       "      <td>1</td>\n",
       "      <td>1</td>\n",
       "      <td>0</td>\n",
       "      <td>Sales staff</td>\n",
       "      <td>3.0</td>\n",
       "      <td>MONDAY</td>\n",
       "      <td>1</td>\n",
       "    </tr>\n",
       "    <tr>\n",
       "      <th>99996</th>\n",
       "      <td>216087</td>\n",
       "      <td>0</td>\n",
       "      <td>Cash loans</td>\n",
       "      <td>F</td>\n",
       "      <td>N</td>\n",
       "      <td>Y</td>\n",
       "      <td>1</td>\n",
       "      <td>225000.0</td>\n",
       "      <td>284400.0</td>\n",
       "      <td>225000.0</td>\n",
       "      <td>...</td>\n",
       "      <td>-182</td>\n",
       "      <td>1</td>\n",
       "      <td>1</td>\n",
       "      <td>0</td>\n",
       "      <td>1</td>\n",
       "      <td>0</td>\n",
       "      <td>Managers</td>\n",
       "      <td>3.0</td>\n",
       "      <td>TUESDAY</td>\n",
       "      <td>1</td>\n",
       "    </tr>\n",
       "    <tr>\n",
       "      <th>99997</th>\n",
       "      <td>216088</td>\n",
       "      <td>0</td>\n",
       "      <td>Cash loans</td>\n",
       "      <td>F</td>\n",
       "      <td>Y</td>\n",
       "      <td>Y</td>\n",
       "      <td>0</td>\n",
       "      <td>135000.0</td>\n",
       "      <td>1262583.0</td>\n",
       "      <td>1102500.0</td>\n",
       "      <td>...</td>\n",
       "      <td>-4805</td>\n",
       "      <td>1</td>\n",
       "      <td>1</td>\n",
       "      <td>0</td>\n",
       "      <td>1</td>\n",
       "      <td>0</td>\n",
       "      <td>Sales staff</td>\n",
       "      <td>2.0</td>\n",
       "      <td>TUESDAY</td>\n",
       "      <td>1</td>\n",
       "    </tr>\n",
       "    <tr>\n",
       "      <th>99998</th>\n",
       "      <td>216089</td>\n",
       "      <td>0</td>\n",
       "      <td>Cash loans</td>\n",
       "      <td>F</td>\n",
       "      <td>Y</td>\n",
       "      <td>N</td>\n",
       "      <td>0</td>\n",
       "      <td>135000.0</td>\n",
       "      <td>225000.0</td>\n",
       "      <td>225000.0</td>\n",
       "      <td>...</td>\n",
       "      <td>-340</td>\n",
       "      <td>1</td>\n",
       "      <td>1</td>\n",
       "      <td>0</td>\n",
       "      <td>1</td>\n",
       "      <td>0</td>\n",
       "      <td>Sales staff</td>\n",
       "      <td>2.0</td>\n",
       "      <td>FRIDAY</td>\n",
       "      <td>2</td>\n",
       "    </tr>\n",
       "    <tr>\n",
       "      <th>99999</th>\n",
       "      <td>216090</td>\n",
       "      <td>0</td>\n",
       "      <td>Revolving loans</td>\n",
       "      <td>M</td>\n",
       "      <td>Y</td>\n",
       "      <td>Y</td>\n",
       "      <td>0</td>\n",
       "      <td>202500.0</td>\n",
       "      <td>337500.0</td>\n",
       "      <td>337500.0</td>\n",
       "      <td>...</td>\n",
       "      <td>-3230</td>\n",
       "      <td>1</td>\n",
       "      <td>1</td>\n",
       "      <td>1</td>\n",
       "      <td>1</td>\n",
       "      <td>0</td>\n",
       "      <td>Drivers</td>\n",
       "      <td>2.0</td>\n",
       "      <td>SATURDAY</td>\n",
       "      <td>0</td>\n",
       "    </tr>\n",
       "  </tbody>\n",
       "</table>\n",
       "<p>99595 rows × 24 columns</p>\n",
       "</div>"
      ],
      "text/plain": [
       "       SK_ID_CURR  TARGET NAME_CONTRACT_TYPE GENDER Car House  CNT_CHILDREN  \\\n",
       "0          100002       1         Cash loans      M   N     Y             0   \n",
       "1          100003       0         Cash loans      F   N     N             0   \n",
       "2          100004       0    Revolving loans      M   Y     Y             0   \n",
       "3          100006       0         Cash loans      F   N     Y             0   \n",
       "4          100007       0         Cash loans      M   N     Y             0   \n",
       "...           ...     ...                ...    ...  ..   ...           ...   \n",
       "99995      216086       0         Cash loans      F   N     Y             1   \n",
       "99996      216087       0         Cash loans      F   N     Y             1   \n",
       "99997      216088       0         Cash loans      F   Y     Y             0   \n",
       "99998      216089       0         Cash loans      F   Y     N             0   \n",
       "99999      216090       0    Revolving loans      M   Y     Y             0   \n",
       "\n",
       "       AMT_INCOME_TOTAL  AMT_CREDIT  AMT_GOODS_PRICE  ... DAYS_EMPLOYED  \\\n",
       "0              202500.0    406597.5         351000.0  ...          -637   \n",
       "1              270000.0   1293502.5        1129500.0  ...         -1188   \n",
       "2               67500.0    135000.0         135000.0  ...          -225   \n",
       "3              135000.0    312682.5         297000.0  ...         -3039   \n",
       "4              121500.0    513000.0         513000.0  ...         -3038   \n",
       "...                 ...         ...              ...  ...           ...   \n",
       "99995          157500.0    755190.0         675000.0  ...          -232   \n",
       "99996          225000.0    284400.0         225000.0  ...          -182   \n",
       "99997          135000.0   1262583.0        1102500.0  ...         -4805   \n",
       "99998          135000.0    225000.0         225000.0  ...          -340   \n",
       "99999          202500.0    337500.0         337500.0  ...         -3230   \n",
       "\n",
       "      MOBILE WORK_PHONE HOME_PHONE  MOBILE_REACHABLE  FLAG_EMAIL  \\\n",
       "0          1          1          0                 1           0   \n",
       "1          1          1          0                 1           0   \n",
       "2          1          1          1                 1           0   \n",
       "3          1          1          0                 1           0   \n",
       "4          1          1          0                 1           0   \n",
       "...      ...        ...        ...               ...         ...   \n",
       "99995      1          1          1                 1           0   \n",
       "99996      1          1          0                 1           0   \n",
       "99997      1          1          0                 1           0   \n",
       "99998      1          1          0                 1           0   \n",
       "99999      1          1          1                 1           0   \n",
       "\n",
       "       OCCUPATION_TYPE  CNT_FAM_MEMBERS  APPLICATION_DAY  TOTAL_DOC_SUBMITTED  \n",
       "0             Laborers              1.0        WEDNESDAY                    1  \n",
       "1           Core staff              2.0           MONDAY                    1  \n",
       "2             Laborers              1.0           MONDAY                    0  \n",
       "3             Laborers              2.0        WEDNESDAY                    1  \n",
       "4           Core staff              1.0         THURSDAY                    1  \n",
       "...                ...              ...              ...                  ...  \n",
       "99995      Sales staff              3.0           MONDAY                    1  \n",
       "99996         Managers              3.0          TUESDAY                    1  \n",
       "99997      Sales staff              2.0          TUESDAY                    1  \n",
       "99998      Sales staff              2.0           FRIDAY                    2  \n",
       "99999          Drivers              2.0         SATURDAY                    0  \n",
       "\n",
       "[99595 rows x 24 columns]"
      ]
     },
     "execution_count": 16,
     "metadata": {},
     "output_type": "execute_result"
    }
   ],
   "source": [
    "Data.dropna()"
   ]
  },
  {
   "cell_type": "code",
   "execution_count": 17,
   "id": "99535f99",
   "metadata": {},
   "outputs": [
    {
     "name": "stdout",
     "output_type": "stream",
     "text": [
      "<class 'pandas.core.frame.DataFrame'>\n",
      "RangeIndex: 100000 entries, 0 to 99999\n",
      "Data columns (total 24 columns):\n",
      " #   Column               Non-Null Count   Dtype  \n",
      "---  ------               --------------   -----  \n",
      " 0   SK_ID_CURR           100000 non-null  int64  \n",
      " 1   TARGET               100000 non-null  int64  \n",
      " 2   NAME_CONTRACT_TYPE   100000 non-null  object \n",
      " 3   GENDER               100000 non-null  object \n",
      " 4   Car                  100000 non-null  object \n",
      " 5   House                100000 non-null  object \n",
      " 6   CNT_CHILDREN         100000 non-null  int64  \n",
      " 7   AMT_INCOME_TOTAL     100000 non-null  float64\n",
      " 8   AMT_CREDIT           100000 non-null  float64\n",
      " 9   AMT_GOODS_PRICE      99919 non-null   float64\n",
      " 10  NAME_TYPE_SUITE      99595 non-null   object \n",
      " 11  NAME_INCOME_TYPE     100000 non-null  object \n",
      " 12  NAME_EDUCATION_TYPE  100000 non-null  object \n",
      " 13  NAME_FAMILY_STATUS   100000 non-null  object \n",
      " 14  DAYS_EMPLOYED        100000 non-null  int64  \n",
      " 15  MOBILE               100000 non-null  int64  \n",
      " 16  WORK_PHONE           100000 non-null  int64  \n",
      " 17  HOME_PHONE           100000 non-null  int64  \n",
      " 18  MOBILE_REACHABLE     100000 non-null  int64  \n",
      " 19  FLAG_EMAIL           100000 non-null  int64  \n",
      " 20  OCCUPATION_TYPE      100000 non-null  object \n",
      " 21  CNT_FAM_MEMBERS      99999 non-null   float64\n",
      " 22  APPLICATION_DAY      100000 non-null  object \n",
      " 23  TOTAL_DOC_SUBMITTED  100000 non-null  int64  \n",
      "dtypes: float64(4), int64(10), object(10)\n",
      "memory usage: 18.3+ MB\n"
     ]
    }
   ],
   "source": [
    "Data.info()"
   ]
  },
  {
   "cell_type": "markdown",
   "id": "11860c5d",
   "metadata": {},
   "source": [
    "# Separating Categorical and Numerical Variables\n"
   ]
  },
  {
   "cell_type": "code",
   "execution_count": 68,
   "id": "92d774f4",
   "metadata": {},
   "outputs": [
    {
     "name": "stdout",
     "output_type": "stream",
     "text": [
      "categorical          continuous\n",
      "-------------------  ----------------\n",
      "TARGET               SK_ID_CURR\n",
      "NAME_CONTRACT_TYPE   AMT_INCOME_TOTAL\n",
      "GENDER               AMT_CREDIT\n",
      "Car                  AMT_GOODS_PRICE\n",
      "House                DAYS_EMPLOYED\n",
      "CNT_CHILDREN\n",
      "NAME_TYPE_SUITE\n",
      "NAME_INCOME_TYPE\n",
      "NAME_EDUCATION_TYPE\n",
      "NAME_FAMILY_STATUS\n",
      "MOBILE\n",
      "WORK_PHONE\n",
      "HOME_PHONE\n",
      "MOBILE_REACHABLE\n",
      "FLAG_EMAIL\n",
      "OCCUPATION_TYPE\n",
      "CNT_FAM_MEMBERS\n",
      "APPLICATION_DAY\n",
      "TOTAL_DOC_SUBMITTED\n"
     ]
    }
   ],
   "source": [
    "# Separating out the categorical and continuous variables\n",
    "def seprate_data_types(Data):\n",
    "    categorical = []\n",
    "    continuous = []\n",
    "    for column in Data.columns:                # looping on the number of columns\n",
    "        if Data[column].nunique() < 100:       # nunique:  returns unique values in the column,\n",
    "                                                    #here 100 is the hyperparamter and can be changed\n",
    "            categorical.append(column)\n",
    "        else:\n",
    "            continuous.append(column)\n",
    "            \n",
    "    return categorical, continuous \n",
    "\n",
    "seprate_data_types(Data)         # Calling the function\n",
    "\n",
    "# # Tabulate is a package used to print the list, dict or any data sets in a proper format; in table format\n",
    "from tabulate import tabulate\n",
    "table = [categorical, continuous]\n",
    "print(tabulate({\"Categorical\":categorical,\n",
    "                \"continuous\": continuous}, headers = [\"categorical\", \"continuous\"]))"
   ]
  },
  {
   "cell_type": "code",
   "execution_count": 19,
   "id": "e5eb32a2",
   "metadata": {},
   "outputs": [
    {
     "data": {
      "text/plain": [
       "169426.07027325002"
      ]
     },
     "execution_count": 19,
     "metadata": {},
     "output_type": "execute_result"
    }
   ],
   "source": [
    "Data[\"AMT_INCOME_TOTAL\"].mean()"
   ]
  },
  {
   "cell_type": "markdown",
   "id": "f507b106",
   "metadata": {},
   "source": [
    "# Outlier Treatment"
   ]
  },
  {
   "cell_type": "code",
   "execution_count": 21,
   "id": "95d8e27b",
   "metadata": {},
   "outputs": [],
   "source": [
    "Mean = int((Data[\"AMT_INCOME_TOTAL\"].mean()))\n",
    "index=Data[Data[\"AMT_INCOME_TOTAL\"] >250000].index\n",
    "for i in index:\n",
    "    Data.loc[i, \"AMT_INCOME_TOTAL\"] = Mean"
   ]
  },
  {
   "cell_type": "code",
   "execution_count": null,
   "id": "4cfbb9e9",
   "metadata": {},
   "outputs": [],
   "source": []
  },
  {
   "cell_type": "code",
   "execution_count": 22,
   "id": "c7b23f30",
   "metadata": {},
   "outputs": [],
   "source": [
    "Mean = int(Data[\"CNT_CHILDREN\"].mean())\n",
    "# accessing the data higher than 6\n",
    "index=Data[Data[\"CNT_CHILDREN\"] >4].index\n",
    "for i in index:\n",
    "    Data.loc[i, \"CNT_CHILDREN\"] = Mean"
   ]
  },
  {
   "cell_type": "code",
   "execution_count": 23,
   "id": "85d55d2f",
   "metadata": {},
   "outputs": [],
   "source": [
    "Data=Data[['SK_ID_CURR', 'TARGET', 'NAME_CONTRACT_TYPE', 'GENDER', 'Car', 'House',\n",
    "       'CNT_CHILDREN', 'AMT_INCOME_TOTAL', 'AMT_CREDIT', 'AMT_GOODS_PRICE',\n",
    "       'NAME_TYPE_SUITE', 'NAME_INCOME_TYPE', 'NAME_EDUCATION_TYPE',\n",
    "       'NAME_FAMILY_STATUS', 'MOBILE_REACHABLE', 'OCCUPATION_TYPE',\n",
    "       'CNT_FAM_MEMBERS', 'TOTAL_DOC_SUBMITTED']]"
   ]
  },
  {
   "cell_type": "code",
   "execution_count": 54,
   "id": "f2fc317c",
   "metadata": {},
   "outputs": [],
   "source": [
    "Def = Data[Data['TARGET']==1] #Default Customers"
   ]
  },
  {
   "cell_type": "markdown",
   "id": "3a5d7afb",
   "metadata": {},
   "source": [
    "# Univariate Analysis"
   ]
  },
  {
   "cell_type": "code",
   "execution_count": null,
   "id": "169c3aae",
   "metadata": {},
   "outputs": [],
   "source": []
  },
  {
   "cell_type": "markdown",
   "id": "83cc87aa",
   "metadata": {},
   "source": [
    "# Target Analysis "
   ]
  },
  {
   "cell_type": "markdown",
   "id": "13423ff0",
   "metadata": {},
   "source": [
    "#### To check percent of default customers in our dataset"
   ]
  },
  {
   "cell_type": "code",
   "execution_count": 24,
   "id": "51a14be6",
   "metadata": {},
   "outputs": [
    {
     "data": {
      "image/png": "[encoded data removed]",
      "text/plain": [
       "<Figure size 1080x504 with 2 Axes>"
      ]
     },
     "metadata": {
      "needs_background": "light"
     },
     "output_type": "display_data"
    }
   ],
   "source": [
    "df=Data\n",
    "fig, ax = plt.subplots(1, 2, figsize = (15, 7))\n",
    "ax[0].set_title(\"Count of Target\")  \n",
    "ax[1].set_title(\"Percent of Target\")  # Set the title of the graph\n",
    "percentage = df[\"TARGET\"].value_counts()         # value_counts: returns the count of values in series: return series\n",
    "labels = list(df[\"TARGET\"].value_counts().index) # Converting the index of value counts into list\n",
    "\n",
    "sns.countplot(x = df[\"TARGET\"], ax = ax[0])\n",
    "plt.pie(percentage,labels = labels, autopct= \"%0.2f%%\")  # autopct: to print the percentage on pie wedge. 2 decimal points used \n",
    "\n",
    "plt.show()"
   ]
  },
  {
   "cell_type": "markdown",
   "id": "5e4b83dd",
   "metadata": {},
   "source": [
    "### Interpretation: From the above dataset we can analyze that 91% of  __Gold Atlantis__  cutomers repayed there loan on time"
   ]
  },
  {
   "cell_type": "code",
   "execution_count": null,
   "id": "0436be32",
   "metadata": {},
   "outputs": [],
   "source": []
  },
  {
   "cell_type": "markdown",
   "id": "c649f3e1",
   "metadata": {},
   "source": [
    "# GENDER Analysis"
   ]
  },
  {
   "cell_type": "code",
   "execution_count": 25,
   "id": "49019f91",
   "metadata": {},
   "outputs": [
    {
     "data": {
      "image/png": "[encoded data removed]",
      "text/plain": [
       "<Figure size 1080x504 with 2 Axes>"
      ]
     },
     "metadata": {
      "needs_background": "light"
     },
     "output_type": "display_data"
    }
   ],
   "source": [
    "df=Data\n",
    "fig, ax = plt.subplots(1, 2, figsize = (15, 7))\n",
    "ax[0].set_title(\"Count of GENDER\")  \n",
    "ax[1].set_title(\"Percent of GENDER \")  # Set the title of the graph\n",
    "percentage = df[\"GENDER\"].value_counts()         # value_counts: returns the count of values in series: return series\n",
    "labels = list(df[\"GENDER\"].value_counts().index) # Converting the index of value counts into list\n",
    "\n",
    "sns.countplot(x = df[\"GENDER\"], ax = ax[0])\n",
    "plt.pie(percentage,labels = labels, autopct= \"%0.2f%%\")  # autopct: to print the percentage on pie wedge. 2 decimal points used \n",
    "\n",
    "plt.show()"
   ]
  },
  {
   "cell_type": "markdown",
   "id": "30fa3d7d",
   "metadata": {},
   "source": [
    "## Interpretation: From the above chart we can see that majority of Gold Atlantis customers are Females"
   ]
  },
  {
   "cell_type": "code",
   "execution_count": 26,
   "id": "0a82b5bb",
   "metadata": {},
   "outputs": [
    {
     "data": {
      "image/png": "[encoded data removed]",
      "text/plain": [
       "<Figure size 1440x504 with 2 Axes>"
      ]
     },
     "metadata": {
      "needs_background": "light"
     },
     "output_type": "display_data"
    }
   ],
   "source": [
    "df=Data\n",
    "fig, ax = plt.subplots(1, 2, figsize = (20, 7))\n",
    "ax[0].set_title(\"Count of Family status of the client\")  \n",
    "ax[1].set_title(\"Percent of Family status of the client\")  # Set the title of the graph\n",
    "percentage = df[\"NAME_FAMILY_STATUS\"].value_counts()         # value_counts: returns the count of values in series: return series\n",
    "labels = list(df[\"NAME_FAMILY_STATUS\"].value_counts().index) # Converting the index of value counts into list\n",
    "\n",
    "sns.countplot(x = df[\"NAME_FAMILY_STATUS\"], ax = ax[0])\n",
    "plt.pie(percentage,labels = labels, autopct= \"%0.2f%%\")  # autopct: to print the percentage on pie wedge. 2 decimal points used \n",
    "\n",
    "plt.show()"
   ]
  },
  {
   "cell_type": "markdown",
   "id": "9cd83d98",
   "metadata": {},
   "source": [
    "# Interpretation: Most of the customers are married"
   ]
  },
  {
   "cell_type": "code",
   "execution_count": 27,
   "id": "4190b837",
   "metadata": {},
   "outputs": [
    {
     "data": {
      "text/plain": [
       "Index(['SK_ID_CURR', 'TARGET', 'NAME_CONTRACT_TYPE', 'GENDER', 'Car', 'House',\n",
       "       'CNT_CHILDREN', 'AMT_INCOME_TOTAL', 'AMT_CREDIT', 'AMT_GOODS_PRICE',\n",
       "       'NAME_TYPE_SUITE', 'NAME_INCOME_TYPE', 'NAME_EDUCATION_TYPE',\n",
       "       'NAME_FAMILY_STATUS', 'MOBILE_REACHABLE', 'OCCUPATION_TYPE',\n",
       "       'CNT_FAM_MEMBERS', 'TOTAL_DOC_SUBMITTED'],\n",
       "      dtype='object')"
      ]
     },
     "execution_count": 27,
     "metadata": {},
     "output_type": "execute_result"
    }
   ],
   "source": [
    "Data.columns"
   ]
  },
  {
   "cell_type": "code",
   "execution_count": null,
   "id": "7f905d55",
   "metadata": {},
   "outputs": [],
   "source": []
  },
  {
   "cell_type": "code",
   "execution_count": null,
   "id": "f54d510e",
   "metadata": {},
   "outputs": [],
   "source": []
  },
  {
   "cell_type": "code",
   "execution_count": 28,
   "id": "68811e24",
   "metadata": {},
   "outputs": [
    {
     "data": {
      "image/png": "[encoded data removed]",
      "text/plain": [
       "<Figure size 1080x504 with 1 Axes>"
      ]
     },
     "metadata": {
      "needs_background": "light"
     },
     "output_type": "display_data"
    }
   ],
   "source": [
    "df=Data\n",
    "percentage = df[\"NAME_INCOME_TYPE\"].value_counts()         # value_counts: returns the count of values in series: return series\n",
    "labels = list(df[\"NAME_INCOME_TYPE\"].value_counts().index) # Converting the index of value counts into list\n",
    "\n",
    "plt.figure(figsize=(15,7))\n",
    "sns.countplot(x = df[\"NAME_INCOME_TYPE\"])\n",
    "\n",
    "plt.show()"
   ]
  },
  {
   "cell_type": "markdown",
   "id": "a0b778b2",
   "metadata": {},
   "source": [
    "# Interpretation: Most of the customer are working professional"
   ]
  },
  {
   "cell_type": "code",
   "execution_count": 29,
   "id": "8ee96f40",
   "metadata": {},
   "outputs": [
    {
     "data": {
      "image/png": "[encoded data removed]",
      "text/plain": [
       "<Figure size 1440x504 with 2 Axes>"
      ]
     },
     "metadata": {
      "needs_background": "light"
     },
     "output_type": "display_data"
    }
   ],
   "source": [
    "df=Data\n",
    "fig, ax = plt.subplots(1, 2, figsize = (20, 7))\n",
    "ax[0].set_title(\"Count of NAME_TYPE_SUITE\")  \n",
    "ax[1].set_title(\"Percent of NAME_TYPE_SUITE\")  # Set the title of the graph\n",
    "percentage = df[\"NAME_TYPE_SUITE\"].value_counts()         # value_counts: returns the count of values in series: return series\n",
    "labels = list(df[\"NAME_TYPE_SUITE\"].value_counts().index) # Converting the index of value counts into list\n",
    "\n",
    "sns.countplot(x = df[\"NAME_TYPE_SUITE\"], ax = ax[0])\n",
    "plt.pie(percentage,labels = labels, autopct= \"%0.2f%%\")  # autopct: to print the percentage on pie wedge. 2 decimal points used \n",
    "\n",
    "plt.show()"
   ]
  },
  {
   "cell_type": "markdown",
   "id": "d5a8ecb8",
   "metadata": {},
   "source": [
    "# Most of the customers are unaccompained"
   ]
  },
  {
   "cell_type": "code",
   "execution_count": 30,
   "id": "1b3b36ea",
   "metadata": {},
   "outputs": [
    {
     "data": {
      "text/plain": [
       "Index(['SK_ID_CURR', 'TARGET', 'NAME_CONTRACT_TYPE', 'GENDER', 'Car', 'House',\n",
       "       'CNT_CHILDREN', 'AMT_INCOME_TOTAL', 'AMT_CREDIT', 'AMT_GOODS_PRICE',\n",
       "       'NAME_TYPE_SUITE', 'NAME_INCOME_TYPE', 'NAME_EDUCATION_TYPE',\n",
       "       'NAME_FAMILY_STATUS', 'MOBILE_REACHABLE', 'OCCUPATION_TYPE',\n",
       "       'CNT_FAM_MEMBERS', 'TOTAL_DOC_SUBMITTED'],\n",
       "      dtype='object')"
      ]
     },
     "execution_count": 30,
     "metadata": {},
     "output_type": "execute_result"
    }
   ],
   "source": [
    "Data.columns"
   ]
  },
  {
   "cell_type": "code",
   "execution_count": null,
   "id": "641f0e2c",
   "metadata": {},
   "outputs": [],
   "source": []
  },
  {
   "cell_type": "markdown",
   "id": "367c35e8",
   "metadata": {},
   "source": [
    "# Bi Variate"
   ]
  },
  {
   "cell_type": "code",
   "execution_count": 31,
   "id": "6e686b25",
   "metadata": {},
   "outputs": [
    {
     "data": {
      "image/png": "[encoded data removed]",
      "text/plain": [
       "<Figure size 1080x504 with 1 Axes>"
      ]
     },
     "metadata": {
      "needs_background": "light"
     },
     "output_type": "display_data"
    }
   ],
   "source": [
    "plt.figure(figsize=(15, 7))\n",
    "sns.countplot( data = Data, x= 'NAME_EDUCATION_TYPE',hue =\"TARGET\")\n",
    "plt.show()"
   ]
  },
  {
   "cell_type": "markdown",
   "id": "52ab5333",
   "metadata": {},
   "source": [
    "# As we can see Cusotmers Secondrary Education have chances of defauls"
   ]
  },
  {
   "cell_type": "code",
   "execution_count": 32,
   "id": "9205d238",
   "metadata": {},
   "outputs": [
    {
     "data": {
      "image/png": "[encoded data removed]",
      "text/plain": [
       "<Figure size 1080x504 with 1 Axes>"
      ]
     },
     "metadata": {
      "needs_background": "light"
     },
     "output_type": "display_data"
    }
   ],
   "source": [
    "plt.figure(figsize=(15, 7))\n",
    "sns.countplot( data = Data, x= 'GENDER',hue =\"TARGET\")\n",
    "plt.show()"
   ]
  },
  {
   "cell_type": "markdown",
   "id": "c6a3b6a5",
   "metadata": {},
   "source": [
    "# As we can see Male are most like to be Defaultors"
   ]
  },
  {
   "cell_type": "code",
   "execution_count": 51,
   "id": "a5a46e21",
   "metadata": {},
   "outputs": [
    {
     "data": {
      "image/png": "[encoded data removed]",
      "text/plain": [
       "<Figure size 1080x504 with 1 Axes>"
      ]
     },
     "metadata": {
      "needs_background": "light"
     },
     "output_type": "display_data"
    }
   ],
   "source": [
    "plt.figure(figsize=(15, 7))\n",
    "sns.countplot( data = Data, hue= 'TARGET',x =\"NAME_CONTRACT_TYPE\")\n",
    "plt.show()"
   ]
  },
  {
   "cell_type": "markdown",
   "id": "14ddc3a9",
   "metadata": {},
   "source": [
    "# Interpretation: As we can see most of the customers borrwed the cash loan"
   ]
  },
  {
   "cell_type": "code",
   "execution_count": 34,
   "id": "b0c7fb86",
   "metadata": {},
   "outputs": [
    {
     "data": {
      "text/html": [
       "<div>\n",
       "<style scoped>\n",
       "    .dataframe tbody tr th:only-of-type {\n",
       "        vertical-align: middle;\n",
       "    }\n",
       "\n",
       "    .dataframe tbody tr th {\n",
       "        vertical-align: top;\n",
       "    }\n",
       "\n",
       "    .dataframe thead th {\n",
       "        text-align: right;\n",
       "    }\n",
       "</style>\n",
       "<table border=\"1\" class=\"dataframe\">\n",
       "  <thead>\n",
       "    <tr style=\"text-align: right;\">\n",
       "      <th></th>\n",
       "      <th>SK_ID_CURR</th>\n",
       "      <th>TARGET</th>\n",
       "      <th>NAME_CONTRACT_TYPE</th>\n",
       "      <th>GENDER</th>\n",
       "      <th>Car</th>\n",
       "      <th>House</th>\n",
       "      <th>CNT_CHILDREN</th>\n",
       "      <th>AMT_INCOME_TOTAL</th>\n",
       "      <th>AMT_CREDIT</th>\n",
       "      <th>AMT_GOODS_PRICE</th>\n",
       "      <th>NAME_TYPE_SUITE</th>\n",
       "      <th>NAME_INCOME_TYPE</th>\n",
       "      <th>NAME_EDUCATION_TYPE</th>\n",
       "      <th>NAME_FAMILY_STATUS</th>\n",
       "      <th>MOBILE_REACHABLE</th>\n",
       "      <th>OCCUPATION_TYPE</th>\n",
       "      <th>CNT_FAM_MEMBERS</th>\n",
       "      <th>TOTAL_DOC_SUBMITTED</th>\n",
       "    </tr>\n",
       "  </thead>\n",
       "  <tbody>\n",
       "    <tr>\n",
       "      <th>0</th>\n",
       "      <td>100002</td>\n",
       "      <td>1</td>\n",
       "      <td>Cash loans</td>\n",
       "      <td>M</td>\n",
       "      <td>N</td>\n",
       "      <td>Y</td>\n",
       "      <td>0</td>\n",
       "      <td>202500.0</td>\n",
       "      <td>406597.5</td>\n",
       "      <td>351000.0</td>\n",
       "      <td>Unaccompanied</td>\n",
       "      <td>Working</td>\n",
       "      <td>Secondary / secondary special</td>\n",
       "      <td>Single / not married</td>\n",
       "      <td>1</td>\n",
       "      <td>Laborers</td>\n",
       "      <td>1.0</td>\n",
       "      <td>1</td>\n",
       "    </tr>\n",
       "    <tr>\n",
       "      <th>1</th>\n",
       "      <td>100003</td>\n",
       "      <td>0</td>\n",
       "      <td>Cash loans</td>\n",
       "      <td>F</td>\n",
       "      <td>N</td>\n",
       "      <td>N</td>\n",
       "      <td>0</td>\n",
       "      <td>169426.0</td>\n",
       "      <td>1293502.5</td>\n",
       "      <td>1129500.0</td>\n",
       "      <td>Family</td>\n",
       "      <td>State servant</td>\n",
       "      <td>Higher education</td>\n",
       "      <td>Married</td>\n",
       "      <td>1</td>\n",
       "      <td>Core staff</td>\n",
       "      <td>2.0</td>\n",
       "      <td>1</td>\n",
       "    </tr>\n",
       "    <tr>\n",
       "      <th>2</th>\n",
       "      <td>100004</td>\n",
       "      <td>0</td>\n",
       "      <td>Revolving loans</td>\n",
       "      <td>M</td>\n",
       "      <td>Y</td>\n",
       "      <td>Y</td>\n",
       "      <td>0</td>\n",
       "      <td>67500.0</td>\n",
       "      <td>135000.0</td>\n",
       "      <td>135000.0</td>\n",
       "      <td>Unaccompanied</td>\n",
       "      <td>Working</td>\n",
       "      <td>Secondary / secondary special</td>\n",
       "      <td>Single / not married</td>\n",
       "      <td>1</td>\n",
       "      <td>Laborers</td>\n",
       "      <td>1.0</td>\n",
       "      <td>0</td>\n",
       "    </tr>\n",
       "    <tr>\n",
       "      <th>3</th>\n",
       "      <td>100006</td>\n",
       "      <td>0</td>\n",
       "      <td>Cash loans</td>\n",
       "      <td>F</td>\n",
       "      <td>N</td>\n",
       "      <td>Y</td>\n",
       "      <td>0</td>\n",
       "      <td>135000.0</td>\n",
       "      <td>312682.5</td>\n",
       "      <td>297000.0</td>\n",
       "      <td>Unaccompanied</td>\n",
       "      <td>Working</td>\n",
       "      <td>Secondary / secondary special</td>\n",
       "      <td>Civil marriage</td>\n",
       "      <td>1</td>\n",
       "      <td>Laborers</td>\n",
       "      <td>2.0</td>\n",
       "      <td>1</td>\n",
       "    </tr>\n",
       "    <tr>\n",
       "      <th>4</th>\n",
       "      <td>100007</td>\n",
       "      <td>0</td>\n",
       "      <td>Cash loans</td>\n",
       "      <td>M</td>\n",
       "      <td>N</td>\n",
       "      <td>Y</td>\n",
       "      <td>0</td>\n",
       "      <td>121500.0</td>\n",
       "      <td>513000.0</td>\n",
       "      <td>513000.0</td>\n",
       "      <td>Unaccompanied</td>\n",
       "      <td>Working</td>\n",
       "      <td>Secondary / secondary special</td>\n",
       "      <td>Single / not married</td>\n",
       "      <td>1</td>\n",
       "      <td>Core staff</td>\n",
       "      <td>1.0</td>\n",
       "      <td>1</td>\n",
       "    </tr>\n",
       "    <tr>\n",
       "      <th>...</th>\n",
       "      <td>...</td>\n",
       "      <td>...</td>\n",
       "      <td>...</td>\n",
       "      <td>...</td>\n",
       "      <td>...</td>\n",
       "      <td>...</td>\n",
       "      <td>...</td>\n",
       "      <td>...</td>\n",
       "      <td>...</td>\n",
       "      <td>...</td>\n",
       "      <td>...</td>\n",
       "      <td>...</td>\n",
       "      <td>...</td>\n",
       "      <td>...</td>\n",
       "      <td>...</td>\n",
       "      <td>...</td>\n",
       "      <td>...</td>\n",
       "      <td>...</td>\n",
       "    </tr>\n",
       "    <tr>\n",
       "      <th>99995</th>\n",
       "      <td>216086</td>\n",
       "      <td>0</td>\n",
       "      <td>Cash loans</td>\n",
       "      <td>F</td>\n",
       "      <td>N</td>\n",
       "      <td>Y</td>\n",
       "      <td>1</td>\n",
       "      <td>157500.0</td>\n",
       "      <td>755190.0</td>\n",
       "      <td>675000.0</td>\n",
       "      <td>Unaccompanied</td>\n",
       "      <td>Working</td>\n",
       "      <td>Secondary / secondary special</td>\n",
       "      <td>Married</td>\n",
       "      <td>1</td>\n",
       "      <td>Sales staff</td>\n",
       "      <td>3.0</td>\n",
       "      <td>1</td>\n",
       "    </tr>\n",
       "    <tr>\n",
       "      <th>99996</th>\n",
       "      <td>216087</td>\n",
       "      <td>0</td>\n",
       "      <td>Cash loans</td>\n",
       "      <td>F</td>\n",
       "      <td>N</td>\n",
       "      <td>Y</td>\n",
       "      <td>1</td>\n",
       "      <td>225000.0</td>\n",
       "      <td>284400.0</td>\n",
       "      <td>225000.0</td>\n",
       "      <td>Unaccompanied</td>\n",
       "      <td>Commercial associate</td>\n",
       "      <td>Higher education</td>\n",
       "      <td>Married</td>\n",
       "      <td>1</td>\n",
       "      <td>Managers</td>\n",
       "      <td>3.0</td>\n",
       "      <td>1</td>\n",
       "    </tr>\n",
       "    <tr>\n",
       "      <th>99997</th>\n",
       "      <td>216088</td>\n",
       "      <td>0</td>\n",
       "      <td>Cash loans</td>\n",
       "      <td>F</td>\n",
       "      <td>Y</td>\n",
       "      <td>Y</td>\n",
       "      <td>0</td>\n",
       "      <td>135000.0</td>\n",
       "      <td>1262583.0</td>\n",
       "      <td>1102500.0</td>\n",
       "      <td>Family</td>\n",
       "      <td>Commercial associate</td>\n",
       "      <td>Secondary / secondary special</td>\n",
       "      <td>Married</td>\n",
       "      <td>1</td>\n",
       "      <td>Sales staff</td>\n",
       "      <td>2.0</td>\n",
       "      <td>1</td>\n",
       "    </tr>\n",
       "    <tr>\n",
       "      <th>99998</th>\n",
       "      <td>216089</td>\n",
       "      <td>0</td>\n",
       "      <td>Cash loans</td>\n",
       "      <td>F</td>\n",
       "      <td>Y</td>\n",
       "      <td>N</td>\n",
       "      <td>0</td>\n",
       "      <td>135000.0</td>\n",
       "      <td>225000.0</td>\n",
       "      <td>225000.0</td>\n",
       "      <td>Unaccompanied</td>\n",
       "      <td>Commercial associate</td>\n",
       "      <td>Secondary / secondary special</td>\n",
       "      <td>Civil marriage</td>\n",
       "      <td>1</td>\n",
       "      <td>Sales staff</td>\n",
       "      <td>2.0</td>\n",
       "      <td>2</td>\n",
       "    </tr>\n",
       "    <tr>\n",
       "      <th>99999</th>\n",
       "      <td>216090</td>\n",
       "      <td>0</td>\n",
       "      <td>Revolving loans</td>\n",
       "      <td>M</td>\n",
       "      <td>Y</td>\n",
       "      <td>Y</td>\n",
       "      <td>0</td>\n",
       "      <td>202500.0</td>\n",
       "      <td>337500.0</td>\n",
       "      <td>337500.0</td>\n",
       "      <td>Unaccompanied</td>\n",
       "      <td>Working</td>\n",
       "      <td>Secondary / secondary special</td>\n",
       "      <td>Married</td>\n",
       "      <td>1</td>\n",
       "      <td>Drivers</td>\n",
       "      <td>2.0</td>\n",
       "      <td>0</td>\n",
       "    </tr>\n",
       "  </tbody>\n",
       "</table>\n",
       "<p>100000 rows × 18 columns</p>\n",
       "</div>"
      ],
      "text/plain": [
       "       SK_ID_CURR  TARGET NAME_CONTRACT_TYPE GENDER Car House  CNT_CHILDREN  \\\n",
       "0          100002       1         Cash loans      M   N     Y             0   \n",
       "1          100003       0         Cash loans      F   N     N             0   \n",
       "2          100004       0    Revolving loans      M   Y     Y             0   \n",
       "3          100006       0         Cash loans      F   N     Y             0   \n",
       "4          100007       0         Cash loans      M   N     Y             0   \n",
       "...           ...     ...                ...    ...  ..   ...           ...   \n",
       "99995      216086       0         Cash loans      F   N     Y             1   \n",
       "99996      216087       0         Cash loans      F   N     Y             1   \n",
       "99997      216088       0         Cash loans      F   Y     Y             0   \n",
       "99998      216089       0         Cash loans      F   Y     N             0   \n",
       "99999      216090       0    Revolving loans      M   Y     Y             0   \n",
       "\n",
       "       AMT_INCOME_TOTAL  AMT_CREDIT  AMT_GOODS_PRICE NAME_TYPE_SUITE  \\\n",
       "0              202500.0    406597.5         351000.0   Unaccompanied   \n",
       "1              169426.0   1293502.5        1129500.0          Family   \n",
       "2               67500.0    135000.0         135000.0   Unaccompanied   \n",
       "3              135000.0    312682.5         297000.0   Unaccompanied   \n",
       "4              121500.0    513000.0         513000.0   Unaccompanied   \n",
       "...                 ...         ...              ...             ...   \n",
       "99995          157500.0    755190.0         675000.0   Unaccompanied   \n",
       "99996          225000.0    284400.0         225000.0   Unaccompanied   \n",
       "99997          135000.0   1262583.0        1102500.0          Family   \n",
       "99998          135000.0    225000.0         225000.0   Unaccompanied   \n",
       "99999          202500.0    337500.0         337500.0   Unaccompanied   \n",
       "\n",
       "           NAME_INCOME_TYPE            NAME_EDUCATION_TYPE  \\\n",
       "0                   Working  Secondary / secondary special   \n",
       "1             State servant               Higher education   \n",
       "2                   Working  Secondary / secondary special   \n",
       "3                   Working  Secondary / secondary special   \n",
       "4                   Working  Secondary / secondary special   \n",
       "...                     ...                            ...   \n",
       "99995               Working  Secondary / secondary special   \n",
       "99996  Commercial associate               Higher education   \n",
       "99997  Commercial associate  Secondary / secondary special   \n",
       "99998  Commercial associate  Secondary / secondary special   \n",
       "99999               Working  Secondary / secondary special   \n",
       "\n",
       "         NAME_FAMILY_STATUS  MOBILE_REACHABLE OCCUPATION_TYPE  \\\n",
       "0      Single / not married                 1        Laborers   \n",
       "1                   Married                 1      Core staff   \n",
       "2      Single / not married                 1        Laborers   \n",
       "3            Civil marriage                 1        Laborers   \n",
       "4      Single / not married                 1      Core staff   \n",
       "...                     ...               ...             ...   \n",
       "99995               Married                 1     Sales staff   \n",
       "99996               Married                 1        Managers   \n",
       "99997               Married                 1     Sales staff   \n",
       "99998        Civil marriage                 1     Sales staff   \n",
       "99999               Married                 1         Drivers   \n",
       "\n",
       "       CNT_FAM_MEMBERS  TOTAL_DOC_SUBMITTED  \n",
       "0                  1.0                    1  \n",
       "1                  2.0                    1  \n",
       "2                  1.0                    0  \n",
       "3                  2.0                    1  \n",
       "4                  1.0                    1  \n",
       "...                ...                  ...  \n",
       "99995              3.0                    1  \n",
       "99996              3.0                    1  \n",
       "99997              2.0                    1  \n",
       "99998              2.0                    2  \n",
       "99999              2.0                    0  \n",
       "\n",
       "[100000 rows x 18 columns]"
      ]
     },
     "execution_count": 34,
     "metadata": {},
     "output_type": "execute_result"
    }
   ],
   "source": [
    "Data"
   ]
  },
  {
   "cell_type": "code",
   "execution_count": 39,
   "id": "511e445e",
   "metadata": {},
   "outputs": [
    {
     "data": {
      "image/png": "[encoded data removed]",
      "text/plain": [
       "<Figure size 767x360 with 1 Axes>"
      ]
     },
     "metadata": {
      "needs_background": "light"
     },
     "output_type": "display_data"
    }
   ],
   "source": [
    "sns.relplot(data = Data.sample(10000), x= 'AMT_INCOME_TOTAL', y= 'AMT_CREDIT' , kind = 'line', \n",
    "           aspect = 2, ci = False, hue = 'TARGET');"
   ]
  },
  {
   "cell_type": "markdown",
   "id": "1a14ce5c",
   "metadata": {},
   "source": [
    "### Interpretation: Amt credit and Income wont have any relations"
   ]
  },
  {
   "cell_type": "code",
   "execution_count": 67,
   "id": "33a40eb9",
   "metadata": {},
   "outputs": [
    {
     "data": {
      "image/png": "[encoded data removed]",
      "text/plain": [
       "<Figure size 720x504 with 1 Axes>"
      ]
     },
     "metadata": {
      "needs_background": "light"
     },
     "output_type": "display_data"
    }
   ],
   "source": [
    "plt.figure(figsize=(10, 7))\n",
    "sns.countplot( data = Def ,x =\"Car\")\n",
    "plt.show()"
   ]
  },
  {
   "cell_type": "markdown",
   "id": "aafc2ca3",
   "metadata": {},
   "source": [
    "### From the above chart we can see most of the Default Client Dosent Have Car"
   ]
  },
  {
   "cell_type": "code",
   "execution_count": null,
   "id": "86227741",
   "metadata": {},
   "outputs": [],
   "source": []
  },
  {
   "cell_type": "code",
   "execution_count": 66,
   "id": "ef3ce3c7",
   "metadata": {},
   "outputs": [
    {
     "data": {
      "image/png": "[encoded data removed]",
      "text/plain": [
       "<Figure size 1800x504 with 1 Axes>"
      ]
     },
     "metadata": {
      "needs_background": "light"
     },
     "output_type": "display_data"
    }
   ],
   "source": [
    "plt.figure(figsize=(25, 7))\n",
    "sns.countplot( data = Def ,x =\"OCCUPATION_TYPE\")\n",
    "plt.show()"
   ]
  },
  {
   "cell_type": "markdown",
   "id": "b2e368f1",
   "metadata": {},
   "source": [
    "### Interpretation: Mostly laborers are not defaulter "
   ]
  },
  {
   "cell_type": "code",
   "execution_count": null,
   "id": "f07495c1",
   "metadata": {},
   "outputs": [],
   "source": []
  },
  {
   "cell_type": "code",
   "execution_count": null,
   "id": "a3e7e616",
   "metadata": {},
   "outputs": [],
   "source": []
  },
  {
   "cell_type": "code",
   "execution_count": null,
   "id": "39c78cb2",
   "metadata": {},
   "outputs": [],
   "source": []
  },
  {
   "cell_type": "markdown",
   "id": "eeb5a7ed",
   "metadata": {},
   "source": [
    "# Conclusion Insights"
   ]
  },
  {
   "cell_type": "markdown",
   "id": "58b46a28",
   "metadata": {},
   "source": [
    "## Majority of Customers Paying loan on time.\n"
   ]
  },
  {
   "cell_type": "markdown",
   "id": "7a725050",
   "metadata": {},
   "source": [
    "## There is majority of womens in the dataset who are the customers of Gold Atlantis Org.\n"
   ]
  },
  {
   "cell_type": "markdown",
   "id": "bead8390",
   "metadata": {},
   "source": [
    "## Most of the male customers have faced in repaying the loans\n"
   ]
  },
  {
   "cell_type": "markdown",
   "id": "1ffd3038",
   "metadata": {},
   "source": [
    "## Most of the defaultors have the loan amount greater than income\n"
   ]
  },
  {
   "cell_type": "markdown",
   "id": "1fe9bac5",
   "metadata": {},
   "source": [
    "## Most of the defaulter are like to borrow cash Loan "
   ]
  },
  {
   "cell_type": "markdown",
   "id": "5d8166b2",
   "metadata": {},
   "source": [
    "## Most of the customers are married around 65%"
   ]
  },
  {
   "cell_type": "markdown",
   "id": "9b08d8a8",
   "metadata": {},
   "source": [
    "## Most of the customers are unaccompained around 81%"
   ]
  },
  {
   "cell_type": "code",
   "execution_count": null,
   "id": "9b13efbc",
   "metadata": {},
   "outputs": [],
   "source": []
  },
  {
   "cell_type": "markdown",
   "id": "e1b92e5e",
   "metadata": {},
   "source": [
    "# Who is most likely to be defaultor?"
   ]
  },
  {
   "cell_type": "markdown",
   "id": "c1f2574e",
   "metadata": {},
   "source": [
    "## Answer: The customers who are male with greater loan amount then the income and unaccompained and  does not have any colletral borrowing cash loan are most likely to be defaultors"
   ]
  },
  {
   "cell_type": "code",
   "execution_count": null,
   "id": "476621ee",
   "metadata": {},
   "outputs": [],
   "source": []
  }
 ],
 "metadata": {
  "kernelspec": {
   "display_name": "Python 3 (ipykernel)",
   "language": "python",
   "name": "python3"
  },
  "language_info": {
   "codemirror_mode": {
    "name": "ipython",
    "version": 3
   },
   "file_extension": ".py",
   "mimetype": "text/x-python",
   "name": "python",
   "nbconvert_exporter": "python",
   "pygments_lexer": "ipython3",
   "version": "3.9.12"
  }
 },
 "nbformat": 4,
 "nbformat_minor": 5
}
