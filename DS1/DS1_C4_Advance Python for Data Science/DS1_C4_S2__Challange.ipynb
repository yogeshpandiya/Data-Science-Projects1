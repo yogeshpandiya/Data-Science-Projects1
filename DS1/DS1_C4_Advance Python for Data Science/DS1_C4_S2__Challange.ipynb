{
 "cells": [
  {
   "cell_type": "code",
   "execution_count": 2,
   "id": "27ed2f03",
   "metadata": {},
   "outputs": [],
   "source": [
    "import pandas as pd\n",
    "import numpy as np"
   ]
  },
  {
   "cell_type": "code",
   "execution_count": null,
   "id": "545dfcb0",
   "metadata": {},
   "outputs": [],
   "source": []
  },
  {
   "cell_type": "markdown",
   "id": "c46291d4",
   "metadata": {},
   "source": [
    "# TASK1"
   ]
  },
  {
   "cell_type": "code",
   "execution_count": 3,
   "id": "0f164f1e",
   "metadata": {},
   "outputs": [
    {
     "data": {
      "text/plain": [
       "101    46895\n",
       "102    37963\n",
       "103    32090\n",
       "104    43119\n",
       "105    46070\n",
       "106    46465\n",
       "107    41509\n",
       "108    48710\n",
       "109    46118\n",
       "110    38403\n",
       "111    41387\n",
       "112    37097\n",
       "113    44529\n",
       "114    37527\n",
       "115    40038\n",
       "116    32540\n",
       "117    39069\n",
       "118    46377\n",
       "119    32894\n",
       "120    37624\n",
       "dtype: int32"
      ]
     },
     "execution_count": 3,
     "metadata": {},
     "output_type": "execute_result"
    }
   ],
   "source": [
    "Price = np.random.randint(30000,50000,20)\n",
    "Cars = pd.Series(Price, index=np.arange(101,121))\n",
    "Cars"
   ]
  },
  {
   "cell_type": "code",
   "execution_count": null,
   "id": "c703ad84",
   "metadata": {},
   "outputs": [],
   "source": []
  },
  {
   "cell_type": "markdown",
   "id": "9c061ce2",
   "metadata": {},
   "source": [
    "# TASK2"
   ]
  },
  {
   "cell_type": "code",
   "execution_count": 4,
   "id": "e3a63d97",
   "metadata": {},
   "outputs": [
    {
     "name": "stdout",
     "output_type": "stream",
     "text": [
      "Number of cars price more than 40000 are: 11\n",
      "101    46895\n",
      "104    43119\n",
      "105    46070\n",
      "106    46465\n",
      "107    41509\n",
      "108    48710\n",
      "109    46118\n",
      "111    41387\n",
      "113    44529\n",
      "115    40038\n",
      "118    46377\n",
      "dtype: int32\n"
     ]
    }
   ],
   "source": [
    "A = Cars[Cars>=40000]\n",
    "print('Number of cars price more than 40000 are:',A.count())\n",
    "print(A)"
   ]
  },
  {
   "cell_type": "code",
   "execution_count": null,
   "id": "2b77fdb6",
   "metadata": {},
   "outputs": [],
   "source": []
  },
  {
   "cell_type": "markdown",
   "id": "0e36e831",
   "metadata": {},
   "source": [
    "# TASK3"
   ]
  },
  {
   "cell_type": "code",
   "execution_count": 5,
   "id": "74fe66e7",
   "metadata": {},
   "outputs": [
    {
     "name": "stdout",
     "output_type": "stream",
     "text": [
      "Modle \t Price\n",
      "111    41387\n",
      "112    37097\n",
      "113    44529\n",
      "114    37527\n",
      "115    40038\n",
      "116    32540\n",
      "dtype: int32\n",
      "Maximum price of Car from 111 to 116 Model Number is: 44529\n"
     ]
    }
   ],
   "source": [
    "B = Cars[10:16]\n",
    "print('Modle','\\t','Price')\n",
    "print(B)\n",
    "print('Maximum price of Car from 111 to 116 Model Number is:',max(B))"
   ]
  },
  {
   "cell_type": "code",
   "execution_count": null,
   "id": "16330535",
   "metadata": {},
   "outputs": [],
   "source": []
  },
  {
   "cell_type": "markdown",
   "id": "c0fecf0e",
   "metadata": {},
   "source": [
    "# TASK4"
   ]
  },
  {
   "cell_type": "code",
   "execution_count": 6,
   "id": "0ec4b4b3",
   "metadata": {},
   "outputs": [
    {
     "name": "stdout",
     "output_type": "stream",
     "text": [
      "There are 9 cars priced at between $30000 and $40000\n",
      "102    37963\n",
      "103    32090\n",
      "110    38403\n",
      "112    37097\n",
      "114    37527\n",
      "116    32540\n",
      "117    39069\n",
      "119    32894\n",
      "120    37624\n",
      "dtype: int32\n"
     ]
    }
   ],
   "source": [
    "C = Cars[Cars<=40000]\n",
    "print('There are {0} cars priced at between $30000 and $40000'.format(C.count()))\n",
    "print(C)"
   ]
  },
  {
   "cell_type": "code",
   "execution_count": null,
   "id": "ada83042",
   "metadata": {},
   "outputs": [],
   "source": []
  },
  {
   "cell_type": "markdown",
   "id": "97a4fad6",
   "metadata": {},
   "source": [
    "# TASK5"
   ]
  },
  {
   "cell_type": "code",
   "execution_count": 7,
   "id": "5196a5c6",
   "metadata": {},
   "outputs": [
    {
     "name": "stdout",
     "output_type": "stream",
     "text": [
      "There are 10 cars with a price greater than the average price of the car\n",
      "101    46895\n",
      "104    43119\n",
      "105    46070\n",
      "106    46465\n",
      "107    41509\n",
      "108    48710\n",
      "109    46118\n",
      "111    41387\n",
      "113    44529\n",
      "118    46377\n",
      "dtype: int32\n"
     ]
    }
   ],
   "source": [
    "D = Cars[Cars>Cars.mean()]\n",
    "print('There are {0} cars with a price greater than the average price of the car'.format(D.count()))\n",
    "print(D)"
   ]
  },
  {
   "cell_type": "code",
   "execution_count": null,
   "id": "50a1885e",
   "metadata": {},
   "outputs": [],
   "source": []
  },
  {
   "cell_type": "markdown",
   "id": "a511a0e3",
   "metadata": {},
   "source": [
    "# TASK6"
   ]
  },
  {
   "cell_type": "code",
   "execution_count": 8,
   "id": "619758ad",
   "metadata": {},
   "outputs": [
    {
     "data": {
      "text/plain": [
       "101    46895\n",
       "102    37963\n",
       "103    32090\n",
       "104    43119\n",
       "105    46070\n",
       "106    46465\n",
       "107    41509\n",
       "108    48710\n",
       "109    46118\n",
       "110    38403\n",
       "111    41387\n",
       "112    37097\n",
       "113    44529\n",
       "114    37527\n",
       "115    40038\n",
       "116    32540\n",
       "117    39069\n",
       "118    46377\n",
       "119    32894\n",
       "120    37624\n",
       "201    34000\n",
       "202    45000\n",
       "203    54000\n",
       "dtype: int64"
      ]
     },
     "execution_count": 8,
     "metadata": {},
     "output_type": "execute_result"
    }
   ],
   "source": [
    "Data = {201:34000,202:45000,203:54000}\n",
    "Data_Series=pd.Series(Data)\n",
    "pd.concat([Cars,Data_Series])"
   ]
  },
  {
   "cell_type": "code",
   "execution_count": null,
   "id": "ef432766",
   "metadata": {},
   "outputs": [],
   "source": []
  },
  {
   "cell_type": "markdown",
   "id": "76872582",
   "metadata": {},
   "source": [
    "# TASK7"
   ]
  },
  {
   "cell_type": "code",
   "execution_count": 9,
   "id": "30966e4d",
   "metadata": {},
   "outputs": [
    {
     "data": {
      "text/html": [
       "<div>\n",
       "<style scoped>\n",
       "    .dataframe tbody tr th:only-of-type {\n",
       "        vertical-align: middle;\n",
       "    }\n",
       "\n",
       "    .dataframe tbody tr th {\n",
       "        vertical-align: top;\n",
       "    }\n",
       "\n",
       "    .dataframe thead th {\n",
       "        text-align: right;\n",
       "    }\n",
       "</style>\n",
       "<table border=\"1\" class=\"dataframe\">\n",
       "  <thead>\n",
       "    <tr style=\"text-align: right;\">\n",
       "      <th></th>\n",
       "      <th>Before Disount</th>\n",
       "      <th>After Discount</th>\n",
       "    </tr>\n",
       "  </thead>\n",
       "  <tbody>\n",
       "    <tr>\n",
       "      <th>101</th>\n",
       "      <td>46895</td>\n",
       "      <td>42205.5</td>\n",
       "    </tr>\n",
       "    <tr>\n",
       "      <th>104</th>\n",
       "      <td>43119</td>\n",
       "      <td>38807.1</td>\n",
       "    </tr>\n",
       "    <tr>\n",
       "      <th>105</th>\n",
       "      <td>46070</td>\n",
       "      <td>41463.0</td>\n",
       "    </tr>\n",
       "    <tr>\n",
       "      <th>106</th>\n",
       "      <td>46465</td>\n",
       "      <td>41818.5</td>\n",
       "    </tr>\n",
       "    <tr>\n",
       "      <th>107</th>\n",
       "      <td>41509</td>\n",
       "      <td>37358.1</td>\n",
       "    </tr>\n",
       "    <tr>\n",
       "      <th>108</th>\n",
       "      <td>48710</td>\n",
       "      <td>43839.0</td>\n",
       "    </tr>\n",
       "    <tr>\n",
       "      <th>109</th>\n",
       "      <td>46118</td>\n",
       "      <td>41506.2</td>\n",
       "    </tr>\n",
       "    <tr>\n",
       "      <th>111</th>\n",
       "      <td>41387</td>\n",
       "      <td>37248.3</td>\n",
       "    </tr>\n",
       "    <tr>\n",
       "      <th>113</th>\n",
       "      <td>44529</td>\n",
       "      <td>40076.1</td>\n",
       "    </tr>\n",
       "    <tr>\n",
       "      <th>115</th>\n",
       "      <td>40038</td>\n",
       "      <td>36034.2</td>\n",
       "    </tr>\n",
       "    <tr>\n",
       "      <th>118</th>\n",
       "      <td>46377</td>\n",
       "      <td>41739.3</td>\n",
       "    </tr>\n",
       "  </tbody>\n",
       "</table>\n",
       "</div>"
      ],
      "text/plain": [
       "     Before Disount  After Discount\n",
       "101           46895         42205.5\n",
       "104           43119         38807.1\n",
       "105           46070         41463.0\n",
       "106           46465         41818.5\n",
       "107           41509         37358.1\n",
       "108           48710         43839.0\n",
       "109           46118         41506.2\n",
       "111           41387         37248.3\n",
       "113           44529         40076.1\n",
       "115           40038         36034.2\n",
       "118           46377         41739.3"
      ]
     },
     "execution_count": 9,
     "metadata": {},
     "output_type": "execute_result"
    }
   ],
   "source": [
    "E = Cars[Cars>=40000]\n",
    "X=E-(E*0.1)\n",
    "E.name='Before Disount'\n",
    "X.name='After Discount'\n",
    "pd.concat([E,X],axis=1)\n"
   ]
  },
  {
   "cell_type": "code",
   "execution_count": null,
   "id": "8ce6f61d",
   "metadata": {},
   "outputs": [],
   "source": []
  },
  {
   "cell_type": "markdown",
   "id": "9a2356a8",
   "metadata": {},
   "source": [
    "# TASK8"
   ]
  },
  {
   "cell_type": "code",
   "execution_count": 10,
   "id": "8cf7801e",
   "metadata": {},
   "outputs": [
    {
     "name": "stdout",
     "output_type": "stream",
     "text": [
      "Number of Cars with a price between $30000 and $40000 Before Dicount is 9 and After Discount 13\n"
     ]
    }
   ],
   "source": [
    "F = Cars[Cars<=40000] # BEFORE DISCOUNT \n",
    "Cars.update(pd.Series(list(X.values), index = X.index))\n",
    "G = Cars[Cars<=40000] #AFTER Discount\n",
    "print('Number of Cars with a price between $30000 and $40000 Before Dicount is {0} and After Discount {1}'.format(F.count(),G.count()))"
   ]
  },
  {
   "cell_type": "code",
   "execution_count": null,
   "id": "b4e8cb3f",
   "metadata": {},
   "outputs": [],
   "source": []
  },
  {
   "cell_type": "markdown",
   "id": "9cf6fe08",
   "metadata": {},
   "source": [
    "# TASK9"
   ]
  },
  {
   "cell_type": "code",
   "execution_count": 11,
   "id": "aa4fc35b",
   "metadata": {},
   "outputs": [
    {
     "name": "stdout",
     "output_type": "stream",
     "text": [
      "List of Five Least Expensive Cars\n"
     ]
    },
    {
     "data": {
      "text/plain": [
       "103    32090.0\n",
       "116    32540.0\n",
       "119    32894.0\n",
       "115    36034.2\n",
       "112    37097.0\n",
       "dtype: float64"
      ]
     },
     "execution_count": 11,
     "metadata": {},
     "output_type": "execute_result"
    }
   ],
   "source": [
    "H=Cars.sort_values()\n",
    "print('List of Five Least Expensive Cars')\n",
    "H[0:5]"
   ]
  },
  {
   "cell_type": "code",
   "execution_count": null,
   "id": "aff507c4",
   "metadata": {},
   "outputs": [],
   "source": []
  },
  {
   "cell_type": "code",
   "execution_count": null,
   "id": "bfbd25a8",
   "metadata": {},
   "outputs": [],
   "source": []
  },
  {
   "cell_type": "code",
   "execution_count": null,
   "id": "d9fa7496",
   "metadata": {},
   "outputs": [],
   "source": []
  },
  {
   "cell_type": "code",
   "execution_count": null,
   "id": "d5cb77ca",
   "metadata": {},
   "outputs": [],
   "source": []
  }
 ],
 "metadata": {
  "kernelspec": {
   "display_name": "Python 3 (ipykernel)",
   "language": "python",
   "name": "python3"
  },
  "language_info": {
   "codemirror_mode": {
    "name": "ipython",
    "version": 3
   },
   "file_extension": ".py",
   "mimetype": "text/x-python",
   "name": "python",
   "nbconvert_exporter": "python",
   "pygments_lexer": "ipython3",
   "version": "3.9.12"
  }
 },
 "nbformat": 4,
 "nbformat_minor": 5
}
