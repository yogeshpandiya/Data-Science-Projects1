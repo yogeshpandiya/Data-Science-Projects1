{
 "cells": [
  {
   "cell_type": "code",
   "execution_count": 16,
   "id": "c345ec6e",
   "metadata": {},
   "outputs": [],
   "source": [
    "import mysql.connector as sql"
   ]
  },
  {
   "cell_type": "code",
   "execution_count": 17,
   "id": "ff9e1e27",
   "metadata": {},
   "outputs": [],
   "source": [
    "db = sql.connect(host='localhost', user='root',password='mysql',database='hr') "
   ]
  },
  {
   "cell_type": "code",
   "execution_count": 18,
   "id": "7133136a",
   "metadata": {},
   "outputs": [],
   "source": [
    "mcr =  db.cursor()"
   ]
  },
  {
   "cell_type": "markdown",
   "id": "22ee975f",
   "metadata": {},
   "source": [
    "# TASK1"
   ]
  },
  {
   "cell_type": "code",
   "execution_count": 19,
   "id": "d6b08d09",
   "metadata": {},
   "outputs": [
    {
     "data": {
      "text/plain": [
       "[('Belgium', 'Europe'),\n",
       " ('Switzerland', 'Europe'),\n",
       " ('Germany', 'Europe'),\n",
       " ('Denmark', 'Europe'),\n",
       " ('France', 'Europe'),\n",
       " ('Italy', 'Europe'),\n",
       " ('Netherlands', 'Europe'),\n",
       " ('United Kingdom', 'Europe'),\n",
       " ('Argentina', 'Americas'),\n",
       " ('Brazil', 'Americas'),\n",
       " ('Canada', 'Americas'),\n",
       " ('Mexico', 'Americas'),\n",
       " ('United States of America', 'Americas'),\n",
       " ('Australia', 'Asia'),\n",
       " ('China', 'Asia'),\n",
       " ('HongKong', 'Asia'),\n",
       " ('India', 'Asia'),\n",
       " ('Japan', 'Asia'),\n",
       " ('Singapore', 'Asia'),\n",
       " ('Egypt', 'Middle East and Africa'),\n",
       " ('Israel', 'Middle East and Africa'),\n",
       " ('Kuwait', 'Middle East and Africa'),\n",
       " ('Nigeria', 'Middle East and Africa'),\n",
       " ('Zambia', 'Middle East and Africa'),\n",
       " ('Zimbabwe', 'Middle East and Africa')]"
      ]
     },
     "execution_count": 19,
     "metadata": {},
     "output_type": "execute_result"
    }
   ],
   "source": [
    "sql = \"select country_name, region_name from countries\\\n",
    "    join  regions on  countries.region_id = regions.region_id\\\n",
    "    group by country_name\"\n",
    "mcr.execute(sql)\n",
    "res = mcr.fetchall()\n",
    "res"
   ]
  },
  {
   "cell_type": "code",
   "execution_count": null,
   "id": "9c92ebce",
   "metadata": {},
   "outputs": [],
   "source": []
  },
  {
   "cell_type": "code",
   "execution_count": null,
   "id": "25cd38b4",
   "metadata": {},
   "outputs": [],
   "source": []
  },
  {
   "cell_type": "markdown",
   "id": "79dedd90",
   "metadata": {},
   "source": [
    "# TASK2"
   ]
  },
  {
   "cell_type": "code",
   "execution_count": 20,
   "id": "c9e0df69",
   "metadata": {},
   "outputs": [],
   "source": [
    "import pandas as pd"
   ]
  },
  {
   "cell_type": "code",
   "execution_count": 79,
   "id": "2eb2df3c",
   "metadata": {},
   "outputs": [
    {
     "name": "stderr",
     "output_type": "stream",
     "text": [
      "C:\\Users\\yogesh\\anaconda3\\lib\\site-packages\\pandas\\io\\sql.py:761: UserWarning: pandas only support SQLAlchemy connectable(engine/connection) ordatabase string URI or sqlite3 DBAPI2 connectionother DBAPI2 objects are not tested, please consider using SQLAlchemy\n",
      "  warnings.warn(\n"
     ]
    }
   ],
   "source": [
    "New_Table = pd.read_sql_query(\"select country_id as 'Countries' ,count(employee_id) as 'Number of Employee' from employees\\\n",
    "    join departments on  employees.department_id= departments.department_id\\\n",
    "    join  locations on locations.location_id = departments.location_id \\\n",
    "    group by country_id\\\n",
    "    order by count(employee_id) desc\",db)"
   ]
  },
  {
   "cell_type": "code",
   "execution_count": 80,
   "id": "2b0a7621",
   "metadata": {},
   "outputs": [
    {
     "data": {
      "text/html": [
       "<div>\n",
       "<style scoped>\n",
       "    .dataframe tbody tr th:only-of-type {\n",
       "        vertical-align: middle;\n",
       "    }\n",
       "\n",
       "    .dataframe tbody tr th {\n",
       "        vertical-align: top;\n",
       "    }\n",
       "\n",
       "    .dataframe thead th {\n",
       "        text-align: right;\n",
       "    }\n",
       "</style>\n",
       "<table border=\"1\" class=\"dataframe\">\n",
       "  <thead>\n",
       "    <tr style=\"text-align: right;\">\n",
       "      <th></th>\n",
       "      <th>Countries</th>\n",
       "      <th>Number of Employee</th>\n",
       "    </tr>\n",
       "  </thead>\n",
       "  <tbody>\n",
       "    <tr>\n",
       "      <th>0</th>\n",
       "      <td>US</td>\n",
       "      <td>68</td>\n",
       "    </tr>\n",
       "    <tr>\n",
       "      <th>1</th>\n",
       "      <td>UK</td>\n",
       "      <td>35</td>\n",
       "    </tr>\n",
       "    <tr>\n",
       "      <th>2</th>\n",
       "      <td>CA</td>\n",
       "      <td>2</td>\n",
       "    </tr>\n",
       "    <tr>\n",
       "      <th>3</th>\n",
       "      <td>DE</td>\n",
       "      <td>1</td>\n",
       "    </tr>\n",
       "  </tbody>\n",
       "</table>\n",
       "</div>"
      ],
      "text/plain": [
       "  Countries  Number of Employee\n",
       "0        US                  68\n",
       "1        UK                  35\n",
       "2        CA                   2\n",
       "3        DE                   1"
      ]
     },
     "execution_count": 80,
     "metadata": {},
     "output_type": "execute_result"
    }
   ],
   "source": [
    "New_Table"
   ]
  },
  {
   "cell_type": "code",
   "execution_count": 81,
   "id": "a3e8cbc1",
   "metadata": {},
   "outputs": [],
   "source": [
    "from sqlalchemy import create_engine"
   ]
  },
  {
   "cell_type": "code",
   "execution_count": 82,
   "id": "adc7fb11",
   "metadata": {},
   "outputs": [],
   "source": [
    "# Create SQLAlchemy engine to connect to MySQL Database\n",
    "engine = create_engine(\"mysql+pymysql://{user}:{pw}@{host}/{db}\"\n",
    ".format(host='localhost', user='root',pw='mysql',db='hr'))"
   ]
  },
  {
   "cell_type": "code",
   "execution_count": 83,
   "id": "d76666d5",
   "metadata": {},
   "outputs": [
    {
     "data": {
      "text/plain": [
       "4"
      ]
     },
     "execution_count": 83,
     "metadata": {},
     "output_type": "execute_result"
    }
   ],
   "source": [
    "New_Table.to_sql('new_table', engine, index=False) # employee details is the name of the table "
   ]
  },
  {
   "cell_type": "code",
   "execution_count": null,
   "id": "35a6d28b",
   "metadata": {},
   "outputs": [],
   "source": []
  },
  {
   "cell_type": "markdown",
   "id": "f852a620",
   "metadata": {},
   "source": [
    "# TASK3"
   ]
  },
  {
   "cell_type": "code",
   "execution_count": 34,
   "id": "f216422d",
   "metadata": {},
   "outputs": [],
   "source": [
    "import mysql.connector as sql\n",
    "db = sql.connect(host='localhost', user='root',password='mysql',database='hr') \n",
    "mcr =  db.cursor()\n",
    "Country_Wise = \"select country_id as 'Countries' ,count(employee_id) as 'Number of Employee' from employees\\\n",
    "    join departments on  employees.department_id= departments.department_id\\\n",
    "    join  locations on locations.location_id = departments.location_id \\\n",
    "    group by country_id\\\n",
    "    order by count(employee_id) desc\"\n",
    "mcr.execute(Country_Wise)\n",
    "count_wise=mcr.fetchall()\n",
    "City_Wise = \"select city as 'City' ,count(employee_id) as 'Number of Employee' from employees\\\n",
    "    join departments on  employees.department_id= departments.department_id\\\n",
    "    join  locations on locations.location_id = departments.location_id \\\n",
    "    group by city\\\n",
    "    order by count(employee_id) desc\"\n",
    "mcr.execute(City_Wise)\n",
    "city_wise=mcr.fetchall()\n"
   ]
  },
  {
   "cell_type": "code",
   "execution_count": 37,
   "id": "bee0afa0",
   "metadata": {},
   "outputs": [],
   "source": [
    "A= pd.DataFrame(count_wise,columns=['Country','Employee Count'])\n",
    "B= pd.DataFrame(city_wise,columns=['City','Employee Count'])"
   ]
  },
  {
   "cell_type": "code",
   "execution_count": 44,
   "id": "29c6fc66",
   "metadata": {},
   "outputs": [],
   "source": [
    "import matplotlib.pyplot as plt        "
   ]
  },
  {
   "cell_type": "code",
   "execution_count": 57,
   "id": "e8d22df9",
   "metadata": {},
   "outputs": [
    {
     "data": {
      "image/png": "[encoded data removed]",
      "text/plain": [
       "<Figure size 864x432 with 1 Axes>"
      ]
     },
     "metadata": {
      "needs_background": "light"
     },
     "output_type": "display_data"
    }
   ],
   "source": [
    "plt.figure(figsize=(12,6))\n",
    "plt.bar(A['Country'], A['Employee Count'])       # To build bar chart\n",
    "plt.title(\"Country wise Employee Count\")         # Title name\n",
    "plt.show()"
   ]
  },
  {
   "cell_type": "code",
   "execution_count": 55,
   "id": "25a13b26",
   "metadata": {},
   "outputs": [
    {
     "data": {
      "image/png": "[encoded data removed]",
      "text/plain": [
       "<Figure size 864x432 with 1 Axes>"
      ]
     },
     "metadata": {
      "needs_background": "light"
     },
     "output_type": "display_data"
    }
   ],
   "source": [
    "plt.figure(figsize=(12,6))\n",
    "plt.bar(B['City'], B['Employee Count']) \n",
    "plt.title(\"City wise Employee Count\")         # Title name\n",
    "plt.show()"
   ]
  },
  {
   "cell_type": "code",
   "execution_count": null,
   "id": "690a6b1d",
   "metadata": {},
   "outputs": [],
   "source": [
    "\n"
   ]
  },
  {
   "cell_type": "code",
   "execution_count": null,
   "id": "b680575e",
   "metadata": {},
   "outputs": [],
   "source": []
  },
  {
   "cell_type": "code",
   "execution_count": null,
   "id": "090de008",
   "metadata": {},
   "outputs": [],
   "source": []
  }
 ],
 "metadata": {
  "kernelspec": {
   "display_name": "Python 3 (ipykernel)",
   "language": "python",
   "name": "python3"
  },
  "language_info": {
   "codemirror_mode": {
    "name": "ipython",
    "version": 3
   },
   "file_extension": ".py",
   "mimetype": "text/x-python",
   "name": "python",
   "nbconvert_exporter": "python",
   "pygments_lexer": "ipython3",
   "version": "3.9.12"
  }
 },
 "nbformat": 4,
 "nbformat_minor": 5
}
