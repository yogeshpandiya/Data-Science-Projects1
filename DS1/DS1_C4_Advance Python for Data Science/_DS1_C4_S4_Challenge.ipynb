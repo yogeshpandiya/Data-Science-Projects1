{
 "cells": [
  {
   "cell_type": "code",
   "execution_count": 1,
   "id": "84e1cfad",
   "metadata": {},
   "outputs": [],
   "source": [
    "import pandas as pd\n",
    "import numpy as np"
   ]
  },
  {
   "cell_type": "code",
   "execution_count": 2,
   "id": "1fc7037b",
   "metadata": {},
   "outputs": [],
   "source": [
    "Data = pd.read_csv('DS1_C4_S4_Car_Prices_Data_Challenge.csv')"
   ]
  },
  {
   "cell_type": "markdown",
   "id": "279a6389",
   "metadata": {},
   "source": [
    "# Task1"
   ]
  },
  {
   "cell_type": "code",
   "execution_count": 3,
   "id": "2038cb75",
   "metadata": {},
   "outputs": [
    {
     "data": {
      "text/html": [
       "<div>\n",
       "<style scoped>\n",
       "    .dataframe tbody tr th:only-of-type {\n",
       "        vertical-align: middle;\n",
       "    }\n",
       "\n",
       "    .dataframe tbody tr th {\n",
       "        vertical-align: top;\n",
       "    }\n",
       "\n",
       "    .dataframe thead th {\n",
       "        text-align: right;\n",
       "    }\n",
       "</style>\n",
       "<table border=\"1\" class=\"dataframe\">\n",
       "  <thead>\n",
       "    <tr style=\"text-align: right;\">\n",
       "      <th></th>\n",
       "      <th>sellingprice</th>\n",
       "    </tr>\n",
       "    <tr>\n",
       "      <th>make</th>\n",
       "      <th></th>\n",
       "    </tr>\n",
       "  </thead>\n",
       "  <tbody>\n",
       "    <tr>\n",
       "      <th>Mercedes-Benz</th>\n",
       "      <td>1</td>\n",
       "    </tr>\n",
       "    <tr>\n",
       "      <th>Isuzu</th>\n",
       "      <td>1</td>\n",
       "    </tr>\n",
       "    <tr>\n",
       "      <th>Ford</th>\n",
       "      <td>1</td>\n",
       "    </tr>\n",
       "    <tr>\n",
       "      <th>Hyundai</th>\n",
       "      <td>100</td>\n",
       "    </tr>\n",
       "    <tr>\n",
       "      <th>Pontiac</th>\n",
       "      <td>100</td>\n",
       "    </tr>\n",
       "  </tbody>\n",
       "</table>\n",
       "</div>"
      ],
      "text/plain": [
       "               sellingprice\n",
       "make                       \n",
       "Mercedes-Benz             1\n",
       "Isuzu                     1\n",
       "Ford                      1\n",
       "Hyundai                 100\n",
       "Pontiac                 100"
      ]
     },
     "execution_count": 3,
     "metadata": {},
     "output_type": "execute_result"
    }
   ],
   "source": [
    "Data[['sellingprice','make']].groupby(['make']).min().sort_values(by='sellingprice').head()"
   ]
  },
  {
   "cell_type": "code",
   "execution_count": 4,
   "id": "431b12fa",
   "metadata": {},
   "outputs": [],
   "source": [
    "X= Data[['sellingprice','make']].loc[(Data['year']==2015)].sort_values(by=\"sellingprice\")"
   ]
  },
  {
   "cell_type": "code",
   "execution_count": 5,
   "id": "3ba0214d",
   "metadata": {},
   "outputs": [
    {
     "data": {
      "text/html": [
       "<div>\n",
       "<style scoped>\n",
       "    .dataframe tbody tr th:only-of-type {\n",
       "        vertical-align: middle;\n",
       "    }\n",
       "\n",
       "    .dataframe tbody tr th {\n",
       "        vertical-align: top;\n",
       "    }\n",
       "\n",
       "    .dataframe thead th {\n",
       "        text-align: right;\n",
       "    }\n",
       "</style>\n",
       "<table border=\"1\" class=\"dataframe\">\n",
       "  <thead>\n",
       "    <tr style=\"text-align: right;\">\n",
       "      <th></th>\n",
       "      <th>sellingprice</th>\n",
       "    </tr>\n",
       "    <tr>\n",
       "      <th>make</th>\n",
       "      <th></th>\n",
       "    </tr>\n",
       "  </thead>\n",
       "  <tbody>\n",
       "    <tr>\n",
       "      <th>Chevrolet</th>\n",
       "      <td>1100</td>\n",
       "    </tr>\n",
       "    <tr>\n",
       "      <th>Ford</th>\n",
       "      <td>1250</td>\n",
       "    </tr>\n",
       "    <tr>\n",
       "      <th>Nissan</th>\n",
       "      <td>1400</td>\n",
       "    </tr>\n",
       "    <tr>\n",
       "      <th>FIAT</th>\n",
       "      <td>2000</td>\n",
       "    </tr>\n",
       "    <tr>\n",
       "      <th>Hyundai</th>\n",
       "      <td>2000</td>\n",
       "    </tr>\n",
       "  </tbody>\n",
       "</table>\n",
       "</div>"
      ],
      "text/plain": [
       "           sellingprice\n",
       "make                   \n",
       "Chevrolet          1100\n",
       "Ford               1250\n",
       "Nissan             1400\n",
       "FIAT               2000\n",
       "Hyundai            2000"
      ]
     },
     "execution_count": 5,
     "metadata": {},
     "output_type": "execute_result"
    }
   ],
   "source": [
    "X.groupby(['make']).min().sort_values(by='sellingprice').head(5)"
   ]
  },
  {
   "cell_type": "markdown",
   "id": "2e5551c9",
   "metadata": {},
   "source": [
    "# TASK2"
   ]
  },
  {
   "cell_type": "code",
   "execution_count": 6,
   "id": "4d2c8386",
   "metadata": {},
   "outputs": [
    {
     "name": "stdout",
     "output_type": "stream",
     "text": [
      "There is a -58.35% difference in selling price of year 2010 with year 2015\n"
     ]
    }
   ],
   "source": [
    "a = Data[(Data['make']=='BMW') & (Data['condition']>4.5 )& (Data['year']==2010)].sellingprice.mean()\n",
    "b = Data[(Data['make']=='BMW') & (Data['condition']>4.5 )& (Data['year']==2015)].sellingprice.mean()\n",
    "c= a-b\n",
    "d=(a+b)/2\n",
    "e=c/d*100\n",
    "print('There is a {0}% difference in selling price of year 2010 with year 2015'.format( round(e,2)))"
   ]
  },
  {
   "cell_type": "code",
   "execution_count": null,
   "id": "d12561b9",
   "metadata": {},
   "outputs": [],
   "source": []
  },
  {
   "cell_type": "markdown",
   "id": "59ff242f",
   "metadata": {},
   "source": [
    "# TASK3"
   ]
  },
  {
   "cell_type": "code",
   "execution_count": 7,
   "id": "916e88ed",
   "metadata": {},
   "outputs": [
    {
     "name": "stdout",
     "output_type": "stream",
     "text": [
      "\n",
      "15858.52005549485\n",
      "11189.776545228522\n",
      "\n",
      " The difference in the car whole sale price of grey interior is 4669 less then black interior\n"
     ]
    }
   ],
   "source": [
    "a = Data[(Data['interior']=='black')].mmr.mean()\n",
    "b = Data[(Data['interior']=='gray')].mmr.mean()\n",
    "print()\n",
    "print(a)\n",
    "print(b)\n",
    "print('\\n','The difference in the car whole sale price of grey interior is {0} less then black interior'.format(round(a-b)))"
   ]
  },
  {
   "cell_type": "code",
   "execution_count": 8,
   "id": "ae6a11e1",
   "metadata": {},
   "outputs": [],
   "source": [
    "#another way to do it is by using groupby"
   ]
  },
  {
   "cell_type": "code",
   "execution_count": 9,
   "id": "dc45e113",
   "metadata": {},
   "outputs": [
    {
     "name": "stdout",
     "output_type": "stream",
     "text": [
      "\n",
      "interior\n",
      "black    15858.520055\n",
      "gray     11189.776545\n",
      "Name: mmr, dtype: float64\n",
      "\n",
      " The difference in the car whole sale price of grey interior is -4669 less then black interior\n"
     ]
    }
   ],
   "source": [
    "x= Data.groupby('interior')['mmr'].mean().loc[['black','gray']]\n",
    "print()\n",
    "print(x)\n",
    "print('\\n','The difference in the car whole sale price of grey interior is {0} less then black interior'.format(round(x.diff()[1])))"
   ]
  },
  {
   "cell_type": "code",
   "execution_count": null,
   "id": "a02c903d",
   "metadata": {},
   "outputs": [],
   "source": []
  },
  {
   "cell_type": "markdown",
   "id": "c48b5e5e",
   "metadata": {},
   "source": [
    "# TASK4"
   ]
  },
  {
   "cell_type": "code",
   "execution_count": 10,
   "id": "4ad842ab",
   "metadata": {},
   "outputs": [
    {
     "name": "stdout",
     "output_type": "stream",
     "text": [
      "\n",
      " white colour of car people drive most often from year 2013 t0 2015 \n",
      " \n",
      "\n",
      "color\n",
      "beige         1691\n",
      "black        35742\n",
      "blue         13803\n",
      "brown         2684\n",
      "burgundy      2489\n",
      "charcoal       187\n",
      "gold          1750\n",
      "gray         29538\n",
      "green         2096\n",
      "lime             8\n",
      "off-white      376\n",
      "orange         585\n",
      "pink            29\n",
      "purple         397\n",
      "red          17312\n",
      "silver       26221\n",
      "turquoise       35\n",
      "white        40237\n",
      "yellow         262\n",
      "—            12857\n",
      "Name: saledate, dtype: int64\n"
     ]
    }
   ],
   "source": [
    "a = Data.loc[Data['year'].between(2013,2015)].sort_values(by='year')\n",
    "b= a.groupby('color')['saledate'].count()\n",
    "\n",
    "print('\\n',b.idxmax(),'colour of car people drive most often from year 2013 t0 2015','\\n','\\n')\n",
    "print(b)"
   ]
  },
  {
   "cell_type": "code",
   "execution_count": null,
   "id": "a4da84f1",
   "metadata": {},
   "outputs": [],
   "source": []
  },
  {
   "cell_type": "markdown",
   "id": "7dbc5f4b",
   "metadata": {},
   "source": [
    "# TASK5"
   ]
  },
  {
   "cell_type": "code",
   "execution_count": 11,
   "id": "8ebaa503",
   "metadata": {},
   "outputs": [],
   "source": [
    "a = Data[(Data['saledate']=='Fri Dec 19 2014 09:00:00 GMT-0800 (PST)') & (Data['body']=='SUV')]\n",
    "b = Data[(Data['saledate']=='Thu Jan 15 2015 04:30:00 GMT-0800 (PST)') & (Data['body']=='SUV')]"
   ]
  },
  {
   "cell_type": "code",
   "execution_count": 12,
   "id": "2652f78a",
   "metadata": {},
   "outputs": [
    {
     "name": "stdout",
     "output_type": "stream",
     "text": [
      "Fri Dec 19 2014 09:00:00 GMT-0800 (PST) sales count 569 \n",
      " Thu Jan 15 2015 04:30:00 GMT-0800 (PST) count 310 \n",
      " 58.93 percent difference\n"
     ]
    }
   ],
   "source": [
    "x=a['saledate'].count()\n",
    "y=b['saledate'].count()\n",
    "\n",
    "c= x-y\n",
    "d=(x+y)/2\n",
    "e=c/d*100\n",
    "print('Fri Dec 19 2014 09:00:00 GMT-0800 (PST) sales count',x,'\\n','Thu Jan 15 2015 04:30:00 GMT-0800 (PST) count', y, '\\n', round(e,2), 'percent difference')"
   ]
  },
  {
   "cell_type": "code",
   "execution_count": null,
   "id": "ae643f8d",
   "metadata": {},
   "outputs": [],
   "source": []
  },
  {
   "cell_type": "markdown",
   "id": "7e256b5d",
   "metadata": {},
   "source": [
    "# TASK6"
   ]
  },
  {
   "cell_type": "code",
   "execution_count": 13,
   "id": "9f71ccd5",
   "metadata": {},
   "outputs": [
    {
     "data": {
      "text/html": [
       "<div>\n",
       "<style scoped>\n",
       "    .dataframe tbody tr th:only-of-type {\n",
       "        vertical-align: middle;\n",
       "    }\n",
       "\n",
       "    .dataframe tbody tr th {\n",
       "        vertical-align: top;\n",
       "    }\n",
       "\n",
       "    .dataframe thead th {\n",
       "        text-align: right;\n",
       "    }\n",
       "</style>\n",
       "<table border=\"1\" class=\"dataframe\">\n",
       "  <thead>\n",
       "    <tr style=\"text-align: right;\">\n",
       "      <th></th>\n",
       "      <th>year</th>\n",
       "      <th>make</th>\n",
       "      <th>model</th>\n",
       "      <th>trim</th>\n",
       "      <th>body</th>\n",
       "      <th>transmission</th>\n",
       "      <th>vin</th>\n",
       "      <th>state</th>\n",
       "      <th>condition</th>\n",
       "      <th>odometer</th>\n",
       "      <th>color</th>\n",
       "      <th>interior</th>\n",
       "      <th>seller</th>\n",
       "      <th>mmr</th>\n",
       "      <th>sellingprice</th>\n",
       "      <th>Discounted_Price</th>\n",
       "      <th>saledate</th>\n",
       "    </tr>\n",
       "  </thead>\n",
       "  <tbody>\n",
       "    <tr>\n",
       "      <th>0</th>\n",
       "      <td>2015</td>\n",
       "      <td>Kia</td>\n",
       "      <td>Sorento</td>\n",
       "      <td>LX</td>\n",
       "      <td>SUV</td>\n",
       "      <td>automatic</td>\n",
       "      <td>5xyktca69fg566472</td>\n",
       "      <td>ca</td>\n",
       "      <td>5.0</td>\n",
       "      <td>16639.0</td>\n",
       "      <td>white</td>\n",
       "      <td>black</td>\n",
       "      <td>kia motors america, inc</td>\n",
       "      <td>20500</td>\n",
       "      <td>21500</td>\n",
       "      <td>17200.0</td>\n",
       "      <td>Tue Dec 16 2014 12:30:00 GMT-0800 (PST)</td>\n",
       "    </tr>\n",
       "    <tr>\n",
       "      <th>1</th>\n",
       "      <td>2015</td>\n",
       "      <td>Kia</td>\n",
       "      <td>Sorento</td>\n",
       "      <td>LX</td>\n",
       "      <td>SUV</td>\n",
       "      <td>automatic</td>\n",
       "      <td>5xyktca69fg561319</td>\n",
       "      <td>ca</td>\n",
       "      <td>5.0</td>\n",
       "      <td>9393.0</td>\n",
       "      <td>white</td>\n",
       "      <td>beige</td>\n",
       "      <td>kia motors america, inc</td>\n",
       "      <td>20800</td>\n",
       "      <td>21500</td>\n",
       "      <td>17200.0</td>\n",
       "      <td>Tue Dec 16 2014 12:30:00 GMT-0800 (PST)</td>\n",
       "    </tr>\n",
       "    <tr>\n",
       "      <th>2</th>\n",
       "      <td>2014</td>\n",
       "      <td>BMW</td>\n",
       "      <td>3 Series</td>\n",
       "      <td>328i SULEV</td>\n",
       "      <td>Sedan</td>\n",
       "      <td>automatic</td>\n",
       "      <td>wba3c1c51ek116351</td>\n",
       "      <td>ca</td>\n",
       "      <td>4.5</td>\n",
       "      <td>1331.0</td>\n",
       "      <td>gray</td>\n",
       "      <td>black</td>\n",
       "      <td>financial services remarketing (lease)</td>\n",
       "      <td>31900</td>\n",
       "      <td>30000</td>\n",
       "      <td>24000.0</td>\n",
       "      <td>Thu Jan 15 2015 04:30:00 GMT-0800 (PST)</td>\n",
       "    </tr>\n",
       "    <tr>\n",
       "      <th>3</th>\n",
       "      <td>2015</td>\n",
       "      <td>Volvo</td>\n",
       "      <td>S60</td>\n",
       "      <td>T5</td>\n",
       "      <td>Sedan</td>\n",
       "      <td>automatic</td>\n",
       "      <td>yv1612tb4f1310987</td>\n",
       "      <td>ca</td>\n",
       "      <td>4.1</td>\n",
       "      <td>14282.0</td>\n",
       "      <td>white</td>\n",
       "      <td>black</td>\n",
       "      <td>volvo na rep/world omni</td>\n",
       "      <td>27500</td>\n",
       "      <td>27750</td>\n",
       "      <td>22200.0</td>\n",
       "      <td>Thu Jan 29 2015 04:30:00 GMT-0800 (PST)</td>\n",
       "    </tr>\n",
       "    <tr>\n",
       "      <th>4</th>\n",
       "      <td>2014</td>\n",
       "      <td>BMW</td>\n",
       "      <td>6 Series Gran Coupe</td>\n",
       "      <td>650i</td>\n",
       "      <td>Sedan</td>\n",
       "      <td>automatic</td>\n",
       "      <td>wba6b2c57ed129731</td>\n",
       "      <td>ca</td>\n",
       "      <td>4.3</td>\n",
       "      <td>2641.0</td>\n",
       "      <td>gray</td>\n",
       "      <td>black</td>\n",
       "      <td>financial services remarketing (lease)</td>\n",
       "      <td>66000</td>\n",
       "      <td>67000</td>\n",
       "      <td>53600.0</td>\n",
       "      <td>Thu Dec 18 2014 12:30:00 GMT-0800 (PST)</td>\n",
       "    </tr>\n",
       "    <tr>\n",
       "      <th>...</th>\n",
       "      <td>...</td>\n",
       "      <td>...</td>\n",
       "      <td>...</td>\n",
       "      <td>...</td>\n",
       "      <td>...</td>\n",
       "      <td>...</td>\n",
       "      <td>...</td>\n",
       "      <td>...</td>\n",
       "      <td>...</td>\n",
       "      <td>...</td>\n",
       "      <td>...</td>\n",
       "      <td>...</td>\n",
       "      <td>...</td>\n",
       "      <td>...</td>\n",
       "      <td>...</td>\n",
       "      <td>...</td>\n",
       "      <td>...</td>\n",
       "    </tr>\n",
       "    <tr>\n",
       "      <th>558832</th>\n",
       "      <td>2015</td>\n",
       "      <td>Kia</td>\n",
       "      <td>K900</td>\n",
       "      <td>Luxury</td>\n",
       "      <td>Sedan</td>\n",
       "      <td>NaN</td>\n",
       "      <td>knalw4d4xf6019304</td>\n",
       "      <td>in</td>\n",
       "      <td>4.5</td>\n",
       "      <td>18255.0</td>\n",
       "      <td>silver</td>\n",
       "      <td>black</td>\n",
       "      <td>avis corporation</td>\n",
       "      <td>35300</td>\n",
       "      <td>33000</td>\n",
       "      <td>26400.0</td>\n",
       "      <td>Thu Jul 09 2015 07:00:00 GMT-0700 (PDT)</td>\n",
       "    </tr>\n",
       "    <tr>\n",
       "      <th>558833</th>\n",
       "      <td>2012</td>\n",
       "      <td>Ram</td>\n",
       "      <td>2500</td>\n",
       "      <td>Power Wagon</td>\n",
       "      <td>Crew Cab</td>\n",
       "      <td>automatic</td>\n",
       "      <td>3c6td5et6cg112407</td>\n",
       "      <td>wa</td>\n",
       "      <td>5.0</td>\n",
       "      <td>54393.0</td>\n",
       "      <td>white</td>\n",
       "      <td>black</td>\n",
       "      <td>i -5 uhlmann rv</td>\n",
       "      <td>30200</td>\n",
       "      <td>30800</td>\n",
       "      <td>24640.0</td>\n",
       "      <td>Wed Jul 08 2015 09:30:00 GMT-0700 (PDT)</td>\n",
       "    </tr>\n",
       "    <tr>\n",
       "      <th>558834</th>\n",
       "      <td>2012</td>\n",
       "      <td>BMW</td>\n",
       "      <td>X5</td>\n",
       "      <td>xDrive35d</td>\n",
       "      <td>SUV</td>\n",
       "      <td>automatic</td>\n",
       "      <td>5uxzw0c58cl668465</td>\n",
       "      <td>ca</td>\n",
       "      <td>4.8</td>\n",
       "      <td>50561.0</td>\n",
       "      <td>black</td>\n",
       "      <td>black</td>\n",
       "      <td>financial services remarketing (lease)</td>\n",
       "      <td>29800</td>\n",
       "      <td>34000</td>\n",
       "      <td>27200.0</td>\n",
       "      <td>Wed Jul 08 2015 09:30:00 GMT-0700 (PDT)</td>\n",
       "    </tr>\n",
       "    <tr>\n",
       "      <th>558835</th>\n",
       "      <td>2015</td>\n",
       "      <td>Nissan</td>\n",
       "      <td>Altima</td>\n",
       "      <td>2.5 S</td>\n",
       "      <td>sedan</td>\n",
       "      <td>automatic</td>\n",
       "      <td>1n4al3ap0fc216050</td>\n",
       "      <td>ga</td>\n",
       "      <td>3.8</td>\n",
       "      <td>16658.0</td>\n",
       "      <td>white</td>\n",
       "      <td>black</td>\n",
       "      <td>enterprise vehicle exchange / tra / rental / t...</td>\n",
       "      <td>15100</td>\n",
       "      <td>11100</td>\n",
       "      <td>8880.0</td>\n",
       "      <td>Thu Jul 09 2015 06:45:00 GMT-0700 (PDT)</td>\n",
       "    </tr>\n",
       "    <tr>\n",
       "      <th>558836</th>\n",
       "      <td>2014</td>\n",
       "      <td>Ford</td>\n",
       "      <td>F-150</td>\n",
       "      <td>XLT</td>\n",
       "      <td>SuperCrew</td>\n",
       "      <td>automatic</td>\n",
       "      <td>1ftfw1et2eke87277</td>\n",
       "      <td>ca</td>\n",
       "      <td>3.4</td>\n",
       "      <td>15008.0</td>\n",
       "      <td>gray</td>\n",
       "      <td>gray</td>\n",
       "      <td>ford motor credit company,llc pd</td>\n",
       "      <td>29600</td>\n",
       "      <td>26700</td>\n",
       "      <td>24030.0</td>\n",
       "      <td>Thu May 28 2015 05:30:00 GMT-0700 (PDT)</td>\n",
       "    </tr>\n",
       "  </tbody>\n",
       "</table>\n",
       "<p>558837 rows × 17 columns</p>\n",
       "</div>"
      ],
      "text/plain": [
       "        year    make                model         trim       body  \\\n",
       "0       2015     Kia              Sorento           LX        SUV   \n",
       "1       2015     Kia              Sorento           LX        SUV   \n",
       "2       2014     BMW             3 Series   328i SULEV      Sedan   \n",
       "3       2015   Volvo                  S60           T5      Sedan   \n",
       "4       2014     BMW  6 Series Gran Coupe         650i      Sedan   \n",
       "...      ...     ...                  ...          ...        ...   \n",
       "558832  2015     Kia                 K900       Luxury      Sedan   \n",
       "558833  2012     Ram                 2500  Power Wagon   Crew Cab   \n",
       "558834  2012     BMW                   X5    xDrive35d        SUV   \n",
       "558835  2015  Nissan               Altima        2.5 S      sedan   \n",
       "558836  2014    Ford                F-150          XLT  SuperCrew   \n",
       "\n",
       "       transmission                vin state  condition  odometer   color  \\\n",
       "0         automatic  5xyktca69fg566472    ca        5.0   16639.0   white   \n",
       "1         automatic  5xyktca69fg561319    ca        5.0    9393.0   white   \n",
       "2         automatic  wba3c1c51ek116351    ca        4.5    1331.0    gray   \n",
       "3         automatic  yv1612tb4f1310987    ca        4.1   14282.0   white   \n",
       "4         automatic  wba6b2c57ed129731    ca        4.3    2641.0    gray   \n",
       "...             ...                ...   ...        ...       ...     ...   \n",
       "558832          NaN  knalw4d4xf6019304    in        4.5   18255.0  silver   \n",
       "558833    automatic  3c6td5et6cg112407    wa        5.0   54393.0   white   \n",
       "558834    automatic  5uxzw0c58cl668465    ca        4.8   50561.0   black   \n",
       "558835    automatic  1n4al3ap0fc216050    ga        3.8   16658.0   white   \n",
       "558836    automatic  1ftfw1et2eke87277    ca        3.4   15008.0    gray   \n",
       "\n",
       "       interior                                             seller    mmr  \\\n",
       "0         black                            kia motors america, inc  20500   \n",
       "1         beige                            kia motors america, inc  20800   \n",
       "2         black             financial services remarketing (lease)  31900   \n",
       "3         black                            volvo na rep/world omni  27500   \n",
       "4         black             financial services remarketing (lease)  66000   \n",
       "...         ...                                                ...    ...   \n",
       "558832    black                                   avis corporation  35300   \n",
       "558833    black                                    i -5 uhlmann rv  30200   \n",
       "558834    black             financial services remarketing (lease)  29800   \n",
       "558835    black  enterprise vehicle exchange / tra / rental / t...  15100   \n",
       "558836     gray                   ford motor credit company,llc pd  29600   \n",
       "\n",
       "        sellingprice  Discounted_Price  \\\n",
       "0              21500           17200.0   \n",
       "1              21500           17200.0   \n",
       "2              30000           24000.0   \n",
       "3              27750           22200.0   \n",
       "4              67000           53600.0   \n",
       "...              ...               ...   \n",
       "558832         33000           26400.0   \n",
       "558833         30800           24640.0   \n",
       "558834         34000           27200.0   \n",
       "558835         11100            8880.0   \n",
       "558836         26700           24030.0   \n",
       "\n",
       "                                       saledate  \n",
       "0       Tue Dec 16 2014 12:30:00 GMT-0800 (PST)  \n",
       "1       Tue Dec 16 2014 12:30:00 GMT-0800 (PST)  \n",
       "2       Thu Jan 15 2015 04:30:00 GMT-0800 (PST)  \n",
       "3       Thu Jan 29 2015 04:30:00 GMT-0800 (PST)  \n",
       "4       Thu Dec 18 2014 12:30:00 GMT-0800 (PST)  \n",
       "...                                         ...  \n",
       "558832  Thu Jul 09 2015 07:00:00 GMT-0700 (PDT)  \n",
       "558833  Wed Jul 08 2015 09:30:00 GMT-0700 (PDT)  \n",
       "558834  Wed Jul 08 2015 09:30:00 GMT-0700 (PDT)  \n",
       "558835  Thu Jul 09 2015 06:45:00 GMT-0700 (PDT)  \n",
       "558836  Thu May 28 2015 05:30:00 GMT-0700 (PDT)  \n",
       "\n",
       "[558837 rows x 17 columns]"
      ]
     },
     "execution_count": 13,
     "metadata": {},
     "output_type": "execute_result"
    }
   ],
   "source": [
    "Data.insert(15,'Discounted_Price', Data.sellingprice - Data.sellingprice*0.2)\n",
    "Data.loc[Data['make']=='Ford','Discounted_Price'] = Data.sellingprice - Data.sellingprice*0.1\n",
    "Data.loc[Data['make']=='Chevrolet','Discounted_Price']  = Data.sellingprice - Data.sellingprice*0.1\n",
    "Data"
   ]
  },
  {
   "cell_type": "code",
   "execution_count": null,
   "id": "cb8afe56",
   "metadata": {},
   "outputs": [],
   "source": []
  },
  {
   "cell_type": "markdown",
   "id": "b626b580",
   "metadata": {},
   "source": [
    "# TASK7"
   ]
  },
  {
   "cell_type": "code",
   "execution_count": 14,
   "id": "219d861a",
   "metadata": {},
   "outputs": [],
   "source": [
    "Data1 = Data.drop(['saledate','vin'],axis=1)"
   ]
  },
  {
   "cell_type": "code",
   "execution_count": 15,
   "id": "0a7d10b9",
   "metadata": {},
   "outputs": [
    {
     "data": {
      "text/plain": [
       "year                    0\n",
       "make                10301\n",
       "model               10399\n",
       "trim                10651\n",
       "body                13195\n",
       "transmission        65353\n",
       "state                   1\n",
       "condition           11794\n",
       "odometer               94\n",
       "color                 749\n",
       "interior              749\n",
       "seller                  0\n",
       "mmr                     0\n",
       "sellingprice            0\n",
       "Discounted_Price        0\n",
       "dtype: int64"
      ]
     },
     "execution_count": 15,
     "metadata": {},
     "output_type": "execute_result"
    }
   ],
   "source": [
    "Data1.isnull().sum()"
   ]
  },
  {
   "cell_type": "code",
   "execution_count": 16,
   "id": "db45d54a",
   "metadata": {},
   "outputs": [
    {
     "name": "stdout",
     "output_type": "stream",
     "text": [
      "<class 'pandas.core.frame.DataFrame'>\n",
      "RangeIndex: 558837 entries, 0 to 558836\n",
      "Data columns (total 15 columns):\n",
      " #   Column            Non-Null Count   Dtype  \n",
      "---  ------            --------------   -----  \n",
      " 0   year              558837 non-null  int64  \n",
      " 1   make              548536 non-null  object \n",
      " 2   model             548438 non-null  object \n",
      " 3   trim              548186 non-null  object \n",
      " 4   body              545642 non-null  object \n",
      " 5   transmission      493484 non-null  object \n",
      " 6   state             558836 non-null  object \n",
      " 7   condition         547043 non-null  float64\n",
      " 8   odometer          558743 non-null  float64\n",
      " 9   color             558088 non-null  object \n",
      " 10  interior          558088 non-null  object \n",
      " 11  seller            558837 non-null  object \n",
      " 12  mmr               558837 non-null  int64  \n",
      " 13  sellingprice      558837 non-null  int64  \n",
      " 14  Discounted_Price  558837 non-null  float64\n",
      "dtypes: float64(3), int64(3), object(9)\n",
      "memory usage: 64.0+ MB\n"
     ]
    }
   ],
   "source": [
    "Data1.info()"
   ]
  },
  {
   "cell_type": "code",
   "execution_count": 17,
   "id": "192fa238",
   "metadata": {},
   "outputs": [],
   "source": [
    "Data1[['make','model','trim','body','transmission','state','condition','odometer','color','interior']]=Data1.loc[:,['make','model','trim','body','transmission','state','condition','odometer','color','interior']].fillna({'make':Data1.make.mode()[0],'model': Data1.model.mode()[0],'trim': Data1.trim.mode()[0],'body':Data1.body.mode()[0] ,'transmission':Data1.transmission.mode()[0] ,'state':Data1.state.mode()[0] ,'condition':Data1.condition.mode()[0] ,'odometer':Data1.odometer.mode()[0],'color':Data1.color.mode()[0],'interior':Data1.interior.mode()[0]})"
   ]
  },
  {
   "cell_type": "code",
   "execution_count": 18,
   "id": "0648bc01",
   "metadata": {},
   "outputs": [
    {
     "data": {
      "text/plain": [
       "year                0\n",
       "make                0\n",
       "model               0\n",
       "trim                0\n",
       "body                0\n",
       "transmission        0\n",
       "state               0\n",
       "condition           0\n",
       "odometer            0\n",
       "color               0\n",
       "interior            0\n",
       "seller              0\n",
       "mmr                 0\n",
       "sellingprice        0\n",
       "Discounted_Price    0\n",
       "dtype: int64"
      ]
     },
     "execution_count": 18,
     "metadata": {},
     "output_type": "execute_result"
    }
   ],
   "source": [
    "Data1.isnull().sum()"
   ]
  },
  {
   "cell_type": "code",
   "execution_count": null,
   "id": "883f53ae",
   "metadata": {},
   "outputs": [],
   "source": []
  },
  {
   "cell_type": "code",
   "execution_count": null,
   "id": "6c5c3e36",
   "metadata": {},
   "outputs": [],
   "source": []
  }
 ],
 "metadata": {
  "kernelspec": {
   "display_name": "Python 3 (ipykernel)",
   "language": "python",
   "name": "python3"
  },
  "language_info": {
   "codemirror_mode": {
    "name": "ipython",
    "version": 3
   },
   "file_extension": ".py",
   "mimetype": "text/x-python",
   "name": "python",
   "nbconvert_exporter": "python",
   "pygments_lexer": "ipython3",
   "version": "3.9.12"
  }
 },
 "nbformat": 4,
 "nbformat_minor": 5
}
