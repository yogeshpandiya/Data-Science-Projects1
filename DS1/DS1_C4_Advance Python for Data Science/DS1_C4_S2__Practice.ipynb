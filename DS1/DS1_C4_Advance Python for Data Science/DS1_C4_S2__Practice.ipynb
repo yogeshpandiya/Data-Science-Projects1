{
 "cells": [
  {
   "cell_type": "code",
   "execution_count": 1,
   "id": "c2aeac3b",
   "metadata": {},
   "outputs": [],
   "source": [
    "import numpy as np\n",
    "import pandas as pd"
   ]
  },
  {
   "cell_type": "markdown",
   "id": "972960c8",
   "metadata": {},
   "source": [
    "# TASK1"
   ]
  },
  {
   "cell_type": "code",
   "execution_count": 2,
   "id": "4c506dec",
   "metadata": {},
   "outputs": [
    {
     "data": {
      "text/plain": [
       "0     1001\n",
       "1     1002\n",
       "2     1003\n",
       "3     1004\n",
       "4     1005\n",
       "5     1006\n",
       "6     1007\n",
       "7     1008\n",
       "8     1009\n",
       "9     1010\n",
       "10    1011\n",
       "11    1012\n",
       "12    1013\n",
       "13    1014\n",
       "14    1015\n",
       "15    1016\n",
       "16    1017\n",
       "17    1018\n",
       "18    1019\n",
       "19    1020\n",
       "20    1021\n",
       "21    1022\n",
       "22    1023\n",
       "23    1024\n",
       "24    1025\n",
       "25    1026\n",
       "26    1027\n",
       "27    1028\n",
       "28    1029\n",
       "29    1030\n",
       "30    1031\n",
       "31    1032\n",
       "32    1033\n",
       "33    1034\n",
       "34    1035\n",
       "35    1036\n",
       "36    1037\n",
       "37    1038\n",
       "38    1039\n",
       "39    1040\n",
       "dtype: int32"
      ]
     },
     "execution_count": 2,
     "metadata": {},
     "output_type": "execute_result"
    }
   ],
   "source": [
    "student_id = pd.Series(np.arange(1001,1041)) \n",
    "student_id\n"
   ]
  },
  {
   "cell_type": "code",
   "execution_count": null,
   "id": "ccb362ca",
   "metadata": {},
   "outputs": [],
   "source": []
  },
  {
   "cell_type": "markdown",
   "id": "6e7c221f",
   "metadata": {},
   "source": [
    "# TASK2"
   ]
  },
  {
   "cell_type": "code",
   "execution_count": 3,
   "id": "330787b1",
   "metadata": {},
   "outputs": [
    {
     "data": {
      "text/plain": [
       "1001    76\n",
       "1002    51\n",
       "1003    88\n",
       "1004    55\n",
       "1005    57\n",
       "1006    92\n",
       "1007    85\n",
       "1008    70\n",
       "1009    78\n",
       "1010    86\n",
       "1011    68\n",
       "1012    61\n",
       "1013    94\n",
       "1014    81\n",
       "1015    72\n",
       "1016    86\n",
       "1017    59\n",
       "1018    65\n",
       "1019    87\n",
       "1020    94\n",
       "1021    52\n",
       "1022    77\n",
       "1023    78\n",
       "1024    78\n",
       "1025    85\n",
       "1026    89\n",
       "1027    81\n",
       "1028    67\n",
       "1029    78\n",
       "1030    55\n",
       "1031    78\n",
       "1032    78\n",
       "1033    57\n",
       "1034    53\n",
       "1035    74\n",
       "1036    83\n",
       "1037    61\n",
       "1038    54\n",
       "1039    83\n",
       "1040    63\n",
       "Name: Level1 Math Marks, dtype: int32"
      ]
     },
     "execution_count": 3,
     "metadata": {},
     "output_type": "execute_result"
    }
   ],
   "source": [
    "Lvl1_Maths_Mark = np.random.randint(50,95,40)\n",
    "#Lvl1_Maths_Mark one dimensional array for student marks\n",
    "mm= pd.Series(Lvl1_Maths_Mark,index=student_id, name='Level1 Math Marks') #series for storing student data\n",
    "mm"
   ]
  },
  {
   "cell_type": "code",
   "execution_count": null,
   "id": "ca9cb070",
   "metadata": {},
   "outputs": [],
   "source": []
  },
  {
   "cell_type": "markdown",
   "id": "e9dde045",
   "metadata": {},
   "source": [
    "# TASK3"
   ]
  },
  {
   "cell_type": "code",
   "execution_count": 4,
   "id": "f274cd32",
   "metadata": {},
   "outputs": [
    {
     "data": {
      "text/plain": [
       "1001    54\n",
       "1002    60\n",
       "1003    41\n",
       "1004    71\n",
       "1005    86\n",
       "1006    57\n",
       "1007    65\n",
       "1008    75\n",
       "1009    73\n",
       "1010    74\n",
       "1011    43\n",
       "1012    51\n",
       "1013    47\n",
       "1014    64\n",
       "1015    58\n",
       "1016    93\n",
       "1017    58\n",
       "1018    92\n",
       "1019    64\n",
       "1020    48\n",
       "1021    70\n",
       "1022    57\n",
       "1023    90\n",
       "1024    62\n",
       "1025    41\n",
       "1026    77\n",
       "1027    82\n",
       "1028    40\n",
       "1029    91\n",
       "1030    82\n",
       "1031    78\n",
       "1032    40\n",
       "1033    45\n",
       "1034    74\n",
       "1035    79\n",
       "1036    55\n",
       "1037    89\n",
       "1038    63\n",
       "1039    73\n",
       "1040    84\n",
       "Name: Level1 Physics Marks, dtype: int32"
      ]
     },
     "execution_count": 4,
     "metadata": {},
     "output_type": "execute_result"
    }
   ],
   "source": [
    "Lvl1_Physics_Mark = np.random.randint(40,95,40)\n",
    "#Lvl1_Maths_Mark one dimensional array for student marks\n",
    "pm=pd.Series(Lvl1_Physics_Mark,index=student_id,name='Level1 Physics Marks') #series for storing student data\n",
    "pm"
   ]
  },
  {
   "cell_type": "code",
   "execution_count": null,
   "id": "c13a723c",
   "metadata": {},
   "outputs": [],
   "source": []
  },
  {
   "cell_type": "markdown",
   "id": "077aed2a",
   "metadata": {},
   "source": [
    "# TASK4"
   ]
  },
  {
   "cell_type": "code",
   "execution_count": 5,
   "id": "64bcc662",
   "metadata": {},
   "outputs": [],
   "source": [
    "Level1_Total_Marks = mm+pm\n",
    "Level1_Total_Marks.name = 'Level1 Total Marks'\n"
   ]
  },
  {
   "cell_type": "code",
   "execution_count": 6,
   "id": "937f7009",
   "metadata": {},
   "outputs": [
    {
     "data": {
      "text/plain": [
       "1007    150\n",
       "1009    151\n",
       "1010    160\n",
       "1016    179\n",
       "1018    157\n",
       "1019    151\n",
       "1023    168\n",
       "1026    166\n",
       "1027    163\n",
       "1029    169\n",
       "1031    156\n",
       "1035    153\n",
       "1037    150\n",
       "1039    156\n",
       "Name: Level1 Total Marks, dtype: int32"
      ]
     },
     "execution_count": 6,
     "metadata": {},
     "output_type": "execute_result"
    }
   ],
   "source": [
    "Qulified_Students = Level1_Total_Marks[(Level1_Total_Marks>=150)]\n",
    "Qulified_Students"
   ]
  },
  {
   "cell_type": "code",
   "execution_count": null,
   "id": "a880378e",
   "metadata": {},
   "outputs": [],
   "source": []
  },
  {
   "cell_type": "markdown",
   "id": "b5adaed7",
   "metadata": {},
   "source": [
    "# TASK5"
   ]
  },
  {
   "cell_type": "code",
   "execution_count": 7,
   "id": "8c4d0a3e",
   "metadata": {},
   "outputs": [],
   "source": [
    "Lvl2_Maths_Mark = np.random.randint(50,100,40)\n",
    "Lvl2_Physics_Mark = np.random.randint(30,100,40)\n",
    "Level2_Total_Marks = pd.Series(Lvl2_Maths_Mark+Lvl2_Physics_Mark,index=student_id,name='Level 2 Total Marks')\n",
    "\n",
    "l2mm = pd.Series(Lvl2_Maths_Mark,index=student_id,name='Level2 Math Marks') # TO CREATE FINAL DATAFRAME for Task9 - No use in this task\n",
    "l2pm = pd.Series(Lvl2_Physics_Mark,index=student_id, name='Level3 Physics Marks')  # TO CREATE FINAL DATAFRAME for Task9 - No use in this task"
   ]
  },
  {
   "cell_type": "code",
   "execution_count": 8,
   "id": "18f01a89",
   "metadata": {},
   "outputs": [
    {
     "data": {
      "text/plain": [
       "1001    270\n",
       "1002    259\n",
       "1003    248\n",
       "1004    256\n",
       "1005    261\n",
       "1006    274\n",
       "1007    296\n",
       "1008    297\n",
       "1009    303\n",
       "1010    280\n",
       "1011    254\n",
       "1012    261\n",
       "1013    263\n",
       "1014    241\n",
       "1015    228\n",
       "1016    292\n",
       "1017    250\n",
       "1018    307\n",
       "1019    282\n",
       "1020    265\n",
       "1021    260\n",
       "1022    263\n",
       "1023    358\n",
       "1024    234\n",
       "1025    264\n",
       "1026    342\n",
       "1027    284\n",
       "1028    239\n",
       "1029    278\n",
       "1030    265\n",
       "1031    275\n",
       "1032    269\n",
       "1033    270\n",
       "1034    271\n",
       "1035    324\n",
       "1036    272\n",
       "1037    330\n",
       "1038    273\n",
       "1039    274\n",
       "1040    329\n",
       "dtype: int32"
      ]
     },
     "execution_count": 8,
     "metadata": {},
     "output_type": "execute_result"
    }
   ],
   "source": [
    "Total_marks = Level1_Total_Marks+Level2_Total_Marks\n",
    "Total_marks"
   ]
  },
  {
   "cell_type": "code",
   "execution_count": null,
   "id": "0b06bf29",
   "metadata": {},
   "outputs": [],
   "source": []
  },
  {
   "cell_type": "markdown",
   "id": "e7277453",
   "metadata": {},
   "source": [
    "# TASK6"
   ]
  },
  {
   "cell_type": "code",
   "execution_count": 9,
   "id": "0bc352f7",
   "metadata": {},
   "outputs": [
    {
     "data": {
      "text/plain": [
       "1009    303\n",
       "1018    307\n",
       "1023    358\n",
       "1026    342\n",
       "1035    324\n",
       "1037    330\n",
       "1040    329\n",
       "dtype: int32"
      ]
     },
     "execution_count": 9,
     "metadata": {},
     "output_type": "execute_result"
    }
   ],
   "source": [
    "Qulified_Students_4Screaning = Total_marks[(Total_marks>=300)]\n",
    "Qulified_Students_4Screaning"
   ]
  },
  {
   "cell_type": "code",
   "execution_count": null,
   "id": "a225cf77",
   "metadata": {},
   "outputs": [],
   "source": []
  },
  {
   "cell_type": "markdown",
   "id": "913cc0de",
   "metadata": {},
   "source": [
    "# TASK7"
   ]
  },
  {
   "cell_type": "code",
   "execution_count": 10,
   "id": "106f640f",
   "metadata": {},
   "outputs": [],
   "source": [
    "Screaning_Maths_Mark = np.random.randint(50,100,40)\n",
    "Screaning_Physics_Mark = np.random.randint(50,100,40)\n",
    "Screaning_Total_Marks = pd.Series(Screaning_Maths_Mark+Screaning_Physics_Mark,index=student_id,name=\"Total Screening Marks\")\n",
    "\n",
    "smm = pd.Series(Screaning_Maths_Mark,index=student_id, name=\"Screening Math Marks\")\n",
    "spm = pd.Series(Screaning_Physics_Mark,index=student_id, name=\"Screening Physics Marks\")\n"
   ]
  },
  {
   "cell_type": "code",
   "execution_count": 11,
   "id": "edfa4f30",
   "metadata": {},
   "outputs": [],
   "source": [
    "Final_Score = (Screaning_Total_Marks*0.4) + (Total_marks*0.6)"
   ]
  },
  {
   "cell_type": "code",
   "execution_count": 12,
   "id": "b65fecad",
   "metadata": {},
   "outputs": [
    {
     "data": {
      "text/plain": [
       "1001    223.6\n",
       "1002    210.2\n",
       "1003    210.0\n",
       "1004    203.6\n",
       "1005    203.0\n",
       "1006    237.6\n",
       "1007    224.0\n",
       "1008    228.2\n",
       "1009    227.4\n",
       "1010    219.2\n",
       "1011    201.2\n",
       "1012    220.6\n",
       "1013    220.2\n",
       "1014    192.2\n",
       "1015    196.8\n",
       "1016    223.2\n",
       "1017    206.4\n",
       "1018    239.8\n",
       "1019    211.2\n",
       "1020    214.2\n",
       "1021    212.0\n",
       "1022    210.6\n",
       "1023    262.0\n",
       "1024    200.4\n",
       "1025    220.4\n",
       "1026    282.4\n",
       "1027    222.8\n",
       "1028    191.0\n",
       "1029    215.2\n",
       "1030    211.0\n",
       "1031    209.0\n",
       "1032    217.4\n",
       "1033    222.8\n",
       "1034    224.6\n",
       "1035    265.6\n",
       "1036    225.6\n",
       "1037    260.0\n",
       "1038    212.2\n",
       "1039    226.4\n",
       "1040    257.4\n",
       "dtype: float64"
      ]
     },
     "execution_count": 12,
     "metadata": {},
     "output_type": "execute_result"
    }
   ],
   "source": [
    "Final_Score "
   ]
  },
  {
   "cell_type": "code",
   "execution_count": null,
   "id": "ce361a02",
   "metadata": {},
   "outputs": [],
   "source": []
  },
  {
   "cell_type": "markdown",
   "id": "eed66d0b",
   "metadata": {},
   "source": [
    "# TASK8"
   ]
  },
  {
   "cell_type": "code",
   "execution_count": 13,
   "id": "d9f13243",
   "metadata": {},
   "outputs": [],
   "source": [
    "#in task 8 we need to find the 75% of whole score "
   ]
  },
  {
   "cell_type": "code",
   "execution_count": 14,
   "id": "3cc40be1",
   "metadata": {},
   "outputs": [],
   "source": [
    "a=400*0.60 #first we will get the 60% of from total score exculding screening score - because we are only taking 60% from total marks"
   ]
  },
  {
   "cell_type": "code",
   "execution_count": 15,
   "id": "6c8f8c73",
   "metadata": {},
   "outputs": [],
   "source": [
    "b = 200*0.4 #now we will get the 40% of screening score #becasue we are only taking 40% of screening score"
   ]
  },
  {
   "cell_type": "code",
   "execution_count": 16,
   "id": "6366a37f",
   "metadata": {},
   "outputs": [
    {
     "data": {
      "text/plain": [
       "320.0"
      ]
     },
     "execution_count": 16,
     "metadata": {},
     "output_type": "execute_result"
    }
   ],
   "source": [
    "c=a+b # by adding these two we'll get the our 100% percent score \n",
    "c"
   ]
  },
  {
   "cell_type": "code",
   "execution_count": 17,
   "id": "d296cff9",
   "metadata": {},
   "outputs": [
    {
     "data": {
      "text/plain": [
       "240.0"
      ]
     },
     "execution_count": 17,
     "metadata": {},
     "output_type": "execute_result"
    }
   ],
   "source": [
    "d= c*0.75 #NOW we'll find the 75% of our total score\n",
    "d"
   ]
  },
  {
   "cell_type": "code",
   "execution_count": 18,
   "id": "93f0c147",
   "metadata": {},
   "outputs": [
    {
     "data": {
      "text/plain": [
       "1023    262.0\n",
       "1026    282.4\n",
       "1035    265.6\n",
       "1037    260.0\n",
       "1040    257.4\n",
       "dtype: float64"
      ]
     },
     "execution_count": 18,
     "metadata": {},
     "output_type": "execute_result"
    }
   ],
   "source": [
    "Eligible_Students_4Olympiad = Final_Score [(Final_Score >=d)]\n",
    "Eligible_Students_4Olympiad"
   ]
  },
  {
   "cell_type": "code",
   "execution_count": null,
   "id": "37e6b2ca",
   "metadata": {},
   "outputs": [],
   "source": []
  },
  {
   "cell_type": "markdown",
   "id": "bf62f752",
   "metadata": {},
   "source": [
    "# TASK9"
   ]
  },
  {
   "cell_type": "code",
   "execution_count": 19,
   "id": "b56bd89b",
   "metadata": {},
   "outputs": [
    {
     "name": "stdout",
     "output_type": "stream",
     "text": [
      "\n",
      " Qualified Students for Mathw Olympiad \n",
      "\n",
      "            Final Marks\n",
      "Student Id             \n",
      "1023              262.0\n",
      "1026              282.4\n",
      "1035              265.6\n",
      "1037              260.0\n",
      "1040              257.4 \n",
      " \n",
      " Highest Score is 282.4 whose Student_ID is 1026\n",
      "\n",
      " Lowest Score is 257.4 whose Student_ID is 1040\n"
     ]
    }
   ],
   "source": [
    "df = pd.DataFrame(Eligible_Students_4Olympiad, columns = ['Final Marks']) \n",
    "x=float(df.max())\n",
    "y=float(df.min())\n",
    "df.index.name='Student Id'\n",
    "a = df[df['Final Marks']==x].index.values\n",
    "b = df[df['Final Marks']==y].index.values\n",
    "\n",
    "print('\\n','Qualified Students for Mathw Olympiad','\\n')\n",
    "\n",
    "print(df,'\\n','\\n','Highest Score is {0} whose Student_ID is {1}'.format(x, a[0]))\n",
    "print('\\n','Lowest Score is {0} whose Student_ID is {1}'.format(y, b[0]))"
   ]
  },
  {
   "cell_type": "code",
   "execution_count": null,
   "id": "acbb7b09",
   "metadata": {},
   "outputs": [],
   "source": []
  },
  {
   "cell_type": "markdown",
   "id": "f9ed738a",
   "metadata": {},
   "source": [
    "# Additonal Work Not Required"
   ]
  },
  {
   "cell_type": "code",
   "execution_count": 20,
   "id": "5b3bd61a",
   "metadata": {},
   "outputs": [],
   "source": [
    "Q_L1_Maths_Mark = mm[df.index]\n",
    "Q_L1_Physics_Mark = pm[df.index]\n",
    "Q_L1_Total_Score = Level1_Total_Marks[df.index]\n",
    "Q_L2_Maths_Mark = l2mm[df.index]\n",
    "Q_L2_Physics_Mark = l2pm[df.index]\n",
    "Q_L2_Total_Score = Level2_Total_Marks[df.index]\n",
    "Q_Screaning_Maths_Mark = smm[df.index]\n",
    "Q_Screaning_Physics_Mark = spm[df.index]\n",
    "Q_Screaning_Total_Marks =Screaning_Total_Marks[df.index]"
   ]
  },
  {
   "cell_type": "code",
   "execution_count": 22,
   "id": "5b3204c8",
   "metadata": {},
   "outputs": [
    {
     "data": {
      "text/html": [
       "<div>\n",
       "<style scoped>\n",
       "    .dataframe tbody tr th:only-of-type {\n",
       "        vertical-align: middle;\n",
       "    }\n",
       "\n",
       "    .dataframe tbody tr th {\n",
       "        vertical-align: top;\n",
       "    }\n",
       "\n",
       "    .dataframe thead th {\n",
       "        text-align: right;\n",
       "    }\n",
       "</style>\n",
       "<table border=\"1\" class=\"dataframe\">\n",
       "  <thead>\n",
       "    <tr style=\"text-align: right;\">\n",
       "      <th></th>\n",
       "      <th>Level1 Math Marks</th>\n",
       "      <th>Level1 Physics Marks</th>\n",
       "      <th>Level1 Total Marks</th>\n",
       "      <th>Level2 Math Marks</th>\n",
       "      <th>Level3 Physics Marks</th>\n",
       "      <th>Level 2 Total Marks</th>\n",
       "      <th>Screening Math Marks</th>\n",
       "      <th>Screening Physics Marks</th>\n",
       "      <th>Total Screening Marks</th>\n",
       "      <th>Final Marks</th>\n",
       "    </tr>\n",
       "    <tr>\n",
       "      <th>Student Id</th>\n",
       "      <th></th>\n",
       "      <th></th>\n",
       "      <th></th>\n",
       "      <th></th>\n",
       "      <th></th>\n",
       "      <th></th>\n",
       "      <th></th>\n",
       "      <th></th>\n",
       "      <th></th>\n",
       "      <th></th>\n",
       "    </tr>\n",
       "  </thead>\n",
       "  <tbody>\n",
       "    <tr>\n",
       "      <th>1023</th>\n",
       "      <td>78</td>\n",
       "      <td>90</td>\n",
       "      <td>168</td>\n",
       "      <td>94</td>\n",
       "      <td>96</td>\n",
       "      <td>190</td>\n",
       "      <td>65</td>\n",
       "      <td>53</td>\n",
       "      <td>118</td>\n",
       "      <td>262.0</td>\n",
       "    </tr>\n",
       "    <tr>\n",
       "      <th>1026</th>\n",
       "      <td>89</td>\n",
       "      <td>77</td>\n",
       "      <td>166</td>\n",
       "      <td>83</td>\n",
       "      <td>93</td>\n",
       "      <td>176</td>\n",
       "      <td>97</td>\n",
       "      <td>96</td>\n",
       "      <td>193</td>\n",
       "      <td>282.4</td>\n",
       "    </tr>\n",
       "    <tr>\n",
       "      <th>1035</th>\n",
       "      <td>74</td>\n",
       "      <td>79</td>\n",
       "      <td>153</td>\n",
       "      <td>81</td>\n",
       "      <td>90</td>\n",
       "      <td>171</td>\n",
       "      <td>81</td>\n",
       "      <td>97</td>\n",
       "      <td>178</td>\n",
       "      <td>265.6</td>\n",
       "    </tr>\n",
       "    <tr>\n",
       "      <th>1037</th>\n",
       "      <td>61</td>\n",
       "      <td>89</td>\n",
       "      <td>150</td>\n",
       "      <td>91</td>\n",
       "      <td>89</td>\n",
       "      <td>180</td>\n",
       "      <td>62</td>\n",
       "      <td>93</td>\n",
       "      <td>155</td>\n",
       "      <td>260.0</td>\n",
       "    </tr>\n",
       "    <tr>\n",
       "      <th>1040</th>\n",
       "      <td>63</td>\n",
       "      <td>84</td>\n",
       "      <td>147</td>\n",
       "      <td>92</td>\n",
       "      <td>90</td>\n",
       "      <td>182</td>\n",
       "      <td>92</td>\n",
       "      <td>58</td>\n",
       "      <td>150</td>\n",
       "      <td>257.4</td>\n",
       "    </tr>\n",
       "  </tbody>\n",
       "</table>\n",
       "</div>"
      ],
      "text/plain": [
       "            Level1 Math Marks  Level1 Physics Marks  Level1 Total Marks  \\\n",
       "Student Id                                                                \n",
       "1023                       78                    90                 168   \n",
       "1026                       89                    77                 166   \n",
       "1035                       74                    79                 153   \n",
       "1037                       61                    89                 150   \n",
       "1040                       63                    84                 147   \n",
       "\n",
       "            Level2 Math Marks  Level3 Physics Marks  Level 2 Total Marks  \\\n",
       "Student Id                                                                 \n",
       "1023                       94                    96                  190   \n",
       "1026                       83                    93                  176   \n",
       "1035                       81                    90                  171   \n",
       "1037                       91                    89                  180   \n",
       "1040                       92                    90                  182   \n",
       "\n",
       "            Screening Math Marks  Screening Physics Marks  \\\n",
       "Student Id                                                  \n",
       "1023                          65                       53   \n",
       "1026                          97                       96   \n",
       "1035                          81                       97   \n",
       "1037                          62                       93   \n",
       "1040                          92                       58   \n",
       "\n",
       "            Total Screening Marks  Final Marks  \n",
       "Student Id                                      \n",
       "1023                          118        262.0  \n",
       "1026                          193        282.4  \n",
       "1035                          178        265.6  \n",
       "1037                          155        260.0  \n",
       "1040                          150        257.4  "
      ]
     },
     "execution_count": 22,
     "metadata": {},
     "output_type": "execute_result"
    }
   ],
   "source": [
    "df1=pd.concat([Q_L1_Maths_Mark,Q_L1_Physics_Mark,Q_L1_Total_Score,Q_L2_Maths_Mark,Q_L2_Physics_Mark,Q_L2_Total_Score,Q_Screaning_Maths_Mark,Q_Screaning_Physics_Mark,Q_Screaning_Total_Marks,df],axis=1)\n",
    "df1"
   ]
  },
  {
   "cell_type": "code",
   "execution_count": null,
   "id": "87f625ff",
   "metadata": {},
   "outputs": [],
   "source": []
  },
  {
   "cell_type": "code",
   "execution_count": null,
   "id": "39a13dc5",
   "metadata": {},
   "outputs": [],
   "source": []
  },
  {
   "cell_type": "code",
   "execution_count": null,
   "id": "ec2b9ecd",
   "metadata": {},
   "outputs": [],
   "source": []
  },
  {
   "cell_type": "code",
   "execution_count": null,
   "id": "1b6d2706",
   "metadata": {},
   "outputs": [],
   "source": []
  },
  {
   "cell_type": "code",
   "execution_count": null,
   "id": "41814011",
   "metadata": {},
   "outputs": [],
   "source": []
  },
  {
   "cell_type": "code",
   "execution_count": null,
   "id": "b96ff2d5",
   "metadata": {},
   "outputs": [],
   "source": []
  },
  {
   "cell_type": "code",
   "execution_count": null,
   "id": "31138664",
   "metadata": {},
   "outputs": [],
   "source": []
  },
  {
   "cell_type": "code",
   "execution_count": null,
   "id": "5cc6d618",
   "metadata": {},
   "outputs": [],
   "source": []
  }
 ],
 "metadata": {
  "kernelspec": {
   "display_name": "Python 3 (ipykernel)",
   "language": "python",
   "name": "python3"
  },
  "language_info": {
   "codemirror_mode": {
    "name": "ipython",
    "version": 3
   },
   "file_extension": ".py",
   "mimetype": "text/x-python",
   "name": "python",
   "nbconvert_exporter": "python",
   "pygments_lexer": "ipython3",
   "version": "3.9.12"
  }
 },
 "nbformat": 4,
 "nbformat_minor": 5
}
