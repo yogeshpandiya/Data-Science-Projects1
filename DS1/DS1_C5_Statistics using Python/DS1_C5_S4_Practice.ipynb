{
 "cells": [
  {
   "cell_type": "code",
   "execution_count": 1,
   "id": "1eebed93",
   "metadata": {},
   "outputs": [],
   "source": [
    "import matplotlib.pyplot as plt\n",
    "import seaborn as sns\n",
    "from scipy.stats import poisson"
   ]
  },
  {
   "cell_type": "code",
   "execution_count": 2,
   "id": "181604e7",
   "metadata": {},
   "outputs": [
    {
     "data": {
      "text/plain": [
       "[6, 7, 8, 9, 10, 11, 12, 13, 14]"
      ]
     },
     "execution_count": 2,
     "metadata": {},
     "output_type": "execute_result"
    }
   ],
   "source": [
    "X = list(range(6,15))\n",
    "X"
   ]
  },
  {
   "cell_type": "code",
   "execution_count": 3,
   "id": "67218537",
   "metadata": {},
   "outputs": [],
   "source": [
    "P_X = [0.03, 0.08, 0.15, 0.20, 0.19,0.16, 0.10,0.07,0.02]"
   ]
  },
  {
   "cell_type": "markdown",
   "id": "23051449",
   "metadata": {},
   "source": [
    "# TASK1"
   ]
  },
  {
   "cell_type": "markdown",
   "id": "625a6676",
   "metadata": {},
   "source": [
    "### a"
   ]
  },
  {
   "cell_type": "code",
   "execution_count": 4,
   "id": "6cdfe78e",
   "metadata": {},
   "outputs": [
    {
     "name": "stdout",
     "output_type": "stream",
     "text": [
      "Probability of number of days lost not more than 10days is:   0.46\n"
     ]
    }
   ],
   "source": [
    "print('Probability of number of days lost not more than 10days is:  ' , sum(P_X[0:4]))"
   ]
  },
  {
   "cell_type": "markdown",
   "id": "b48b930b",
   "metadata": {},
   "source": [
    "### b"
   ]
  },
  {
   "cell_type": "code",
   "execution_count": 5,
   "id": "661ce692",
   "metadata": {},
   "outputs": [
    {
     "name": "stdout",
     "output_type": "stream",
     "text": [
      "Probability of number of days lost not more than 8-12days is:   0.7000000000000001\n"
     ]
    }
   ],
   "source": [
    "print('Probability of number of days lost not more than 8-12days is:  ' , sum(P_X[2:6]))"
   ]
  },
  {
   "cell_type": "markdown",
   "id": "1d2e1a6e",
   "metadata": {},
   "source": [
    "### c"
   ]
  },
  {
   "cell_type": "code",
   "execution_count": 6,
   "id": "fda512f0",
   "metadata": {},
   "outputs": [
    {
     "name": "stdout",
     "output_type": "stream",
     "text": [
      "Probability of number of days lost will be zero is:   0.0\n"
     ]
    }
   ],
   "source": [
    "print('Probability of number of days lost will be zero is:  ' , 1-sum(P_X))"
   ]
  },
  {
   "cell_type": "markdown",
   "id": "88b88f01",
   "metadata": {},
   "source": [
    "### d"
   ]
  },
  {
   "cell_type": "code",
   "execution_count": 7,
   "id": "f889ce72",
   "metadata": {},
   "outputs": [
    {
     "data": {
      "text/plain": [
       "9.790000000000001"
      ]
     },
     "execution_count": 7,
     "metadata": {},
     "output_type": "execute_result"
    }
   ],
   "source": [
    "mean = 0\n",
    "for i, j in zip(P_X ,X):\n",
    "    mean+=i*j\n",
    "    \n",
    "mean"
   ]
  },
  {
   "cell_type": "markdown",
   "id": "c88839b4",
   "metadata": {},
   "source": [
    "### e"
   ]
  },
  {
   "cell_type": "code",
   "execution_count": 8,
   "id": "93865034",
   "metadata": {},
   "outputs": [
    {
     "data": {
      "text/plain": [
       "3.4659"
      ]
     },
     "execution_count": 8,
     "metadata": {},
     "output_type": "execute_result"
    }
   ],
   "source": [
    "Varince = 0\n",
    "for i, j in zip(X,P_X):\n",
    "    a = (i-mean)**2\n",
    "    Varince+=a*j\n",
    "    \n",
    "Varince"
   ]
  },
  {
   "cell_type": "code",
   "execution_count": null,
   "id": "44c03a67",
   "metadata": {},
   "outputs": [],
   "source": []
  },
  {
   "cell_type": "markdown",
   "id": "99c19870",
   "metadata": {},
   "source": [
    "# TASK2"
   ]
  },
  {
   "cell_type": "markdown",
   "id": "a5cd575d",
   "metadata": {},
   "source": [
    "### a"
   ]
  },
  {
   "cell_type": "code",
   "execution_count": 9,
   "id": "0497718d",
   "metadata": {},
   "outputs": [
    {
     "name": "stdout",
     "output_type": "stream",
     "text": [
      "[ 0  1  2  3  4  5  6  7  8  9 10 11 12 13 14 15 16 17 18 19 20]\n"
     ]
    }
   ],
   "source": [
    "import numpy as np\n",
    "\n",
    "p   =  0.10 \n",
    "q = 1-p\n",
    "n   =  20 \n",
    "k   =  np.arange(0,21) \n",
    "print(k)"
   ]
  },
  {
   "cell_type": "code",
   "execution_count": 10,
   "id": "d5cb5f70",
   "metadata": {},
   "outputs": [
    {
     "name": "stdout",
     "output_type": "stream",
     "text": [
      "[1.21576655e-01 2.70170344e-01 2.85179807e-01 1.90119871e-01\n",
      " 8.97788281e-02 3.19213611e-02 8.86704476e-03 1.97045439e-03\n",
      " 3.55776487e-04 5.27076277e-05 6.44204339e-06 6.50711453e-07\n",
      " 5.42259544e-08 3.70775757e-09 2.05986532e-10 9.15495696e-12\n",
      " 3.17880450e-13 8.31060000e-15 1.53900000e-16 1.80000000e-18\n",
      " 1.00000000e-20]\n"
     ]
    }
   ],
   "source": [
    "from scipy.stats import binom\n",
    "\n",
    "binomial = binom.pmf(k,n,p) \n",
    "\n",
    "print(binomial) "
   ]
  },
  {
   "cell_type": "code",
   "execution_count": 11,
   "id": "25b95f36",
   "metadata": {},
   "outputs": [
    {
     "name": "stdout",
     "output_type": "stream",
     "text": [
      "fewer than 4 are oreo? is 0.867\n"
     ]
    }
   ],
   "source": [
    "print('fewer than 4 are oreo? is %1.3f' %sum(binomial[:4]))"
   ]
  },
  {
   "cell_type": "code",
   "execution_count": null,
   "id": "9a901fba",
   "metadata": {},
   "outputs": [],
   "source": []
  },
  {
   "cell_type": "markdown",
   "id": "fa9a6443",
   "metadata": {},
   "source": [
    "### b"
   ]
  },
  {
   "cell_type": "code",
   "execution_count": 12,
   "id": "6c09f6fa",
   "metadata": {},
   "outputs": [
    {
     "name": "stdout",
     "output_type": "stream",
     "text": [
      "Mean and Standard Deviation of the orders filled correctly are 2.000 and  1.342 respectively\n"
     ]
    }
   ],
   "source": [
    "import numpy as np\n",
    "\n",
    "p   =  0.10 \n",
    "n   =  20\n",
    "mean = n* p \n",
    "sd   = np.sqrt(n * p * (1 - p))\n",
    "print('Mean and Standard Deviation of the orders filled correctly are %1.3f and  %1.3f respectively' % (mean, sd))"
   ]
  },
  {
   "cell_type": "markdown",
   "id": "3690aae1",
   "metadata": {},
   "source": [
    "### c"
   ]
  },
  {
   "cell_type": "code",
   "execution_count": 13,
   "id": "9c575bce",
   "metadata": {},
   "outputs": [
    {
     "data": {
      "image/png": "[encoded data removed]",
      "text/plain": [
       "<Figure size 432x288 with 1 Axes>"
      ]
     },
     "metadata": {
      "needs_background": "light"
     },
     "output_type": "display_data"
    }
   ],
   "source": [
    "plt.plot(k,binomial, 'o-')\n",
    "plt.title('Binomial')\n",
    "plt.show()"
   ]
  },
  {
   "cell_type": "code",
   "execution_count": null,
   "id": "7a05f2bc",
   "metadata": {},
   "outputs": [],
   "source": []
  },
  {
   "cell_type": "markdown",
   "id": "c350db19",
   "metadata": {},
   "source": [
    "# TASK3"
   ]
  },
  {
   "cell_type": "markdown",
   "id": "0b2a041f",
   "metadata": {},
   "source": [
    "### a"
   ]
  },
  {
   "cell_type": "code",
   "execution_count": 14,
   "id": "ff011111",
   "metadata": {},
   "outputs": [
    {
     "name": "stdout",
     "output_type": "stream",
     "text": [
      "[ 0  1  2  3  4  5  6  7  8  9 10 11 12 13 14 15]\n"
     ]
    }
   ],
   "source": [
    "p   =  0.20\n",
    "q = 1-p \n",
    "n   =  15 \n",
    "k   =  np.arange(0,16) \n",
    "print(k)"
   ]
  },
  {
   "cell_type": "code",
   "execution_count": 15,
   "id": "137f1d7c",
   "metadata": {},
   "outputs": [
    {
     "name": "stdout",
     "output_type": "stream",
     "text": [
      "[3.51843721e-02 1.31941395e-01 2.30897442e-01 2.50138895e-01\n",
      " 1.87604171e-01 1.03182294e-01 4.29926226e-02 1.38190573e-02\n",
      " 3.45476432e-03 6.71759729e-04 1.00763959e-04 1.14504499e-05\n",
      " 9.54204160e-07 5.50502400e-08 1.96608000e-09 3.27680000e-11]\n"
     ]
    }
   ],
   "source": [
    "from scipy.stats import binom\n",
    "\n",
    "binomial = binom.pmf(k,n,p) # If p is used instead of q, so the output success respectively\n",
    "\n",
    "print(binomial) "
   ]
  },
  {
   "cell_type": "code",
   "execution_count": 16,
   "id": "c0541831",
   "metadata": {},
   "outputs": [
    {
     "name": "stdout",
     "output_type": "stream",
     "text": [
      "At least five? is 0.836\n"
     ]
    }
   ],
   "source": [
    "print('At least five? is %1.3f' %sum(binomial[:5]))"
   ]
  },
  {
   "cell_type": "code",
   "execution_count": 17,
   "id": "a0f43e9c",
   "metadata": {},
   "outputs": [
    {
     "name": "stdout",
     "output_type": "stream",
     "text": [
      "More than 9? is 0.001\n"
     ]
    }
   ],
   "source": [
    "print('More than 9? is %1.3f' %sum(binomial[9:]))"
   ]
  },
  {
   "cell_type": "code",
   "execution_count": 18,
   "id": "793d1c17",
   "metadata": {},
   "outputs": [
    {
     "name": "stdout",
     "output_type": "stream",
     "text": [
      "None of the company using consultant? is 0.035\n"
     ]
    }
   ],
   "source": [
    "print('None of the company using consultant? is %1.3f' %binomial[0])"
   ]
  },
  {
   "cell_type": "code",
   "execution_count": 19,
   "id": "1075b98e",
   "metadata": {},
   "outputs": [
    {
     "name": "stdout",
     "output_type": "stream",
     "text": [
      "between 4 and 7seven? is 0.334\n"
     ]
    }
   ],
   "source": [
    "x = sum(binomial[:7])-sum(binomial[:4])\n",
    "\n",
    "print('between 4 and 7seven? is %1.3f' %x)"
   ]
  },
  {
   "cell_type": "code",
   "execution_count": 20,
   "id": "0c63d1d7",
   "metadata": {},
   "outputs": [
    {
     "data": {
      "image/png": "[encoded data removed]",
      "text/plain": [
       "<Figure size 432x288 with 1 Axes>"
      ]
     },
     "metadata": {
      "needs_background": "light"
     },
     "output_type": "display_data"
    }
   ],
   "source": [
    "plt.plot(k,binomial, 'o-')\n",
    "plt.title('Binomial')\n",
    "plt.show()"
   ]
  },
  {
   "cell_type": "code",
   "execution_count": null,
   "id": "89a6f6d5",
   "metadata": {},
   "outputs": [],
   "source": []
  },
  {
   "cell_type": "markdown",
   "id": "fdeeb20e",
   "metadata": {},
   "source": [
    "# TASK4"
   ]
  },
  {
   "cell_type": "markdown",
   "id": "a458c3d7",
   "metadata": {},
   "source": [
    "### a"
   ]
  },
  {
   "cell_type": "code",
   "execution_count": 21,
   "id": "bdec38c7",
   "metadata": {},
   "outputs": [
    {
     "data": {
      "text/plain": [
       "3.5"
      ]
     },
     "execution_count": 21,
     "metadata": {},
     "output_type": "execute_result"
    }
   ],
   "source": [
    "from statistics import mean\n",
    "week1 = [3,6,4,6,2,3,1,5,1,0,3,3,1,2,4,0,2,6,5,4,2,5,3,4,5,3,5,3,5,4,7,3,4,8,3,1]\n",
    "mean(week1)"
   ]
  },
  {
   "cell_type": "code",
   "execution_count": 22,
   "id": "095da382",
   "metadata": {},
   "outputs": [
    {
     "name": "stdout",
     "output_type": "stream",
     "text": [
      "Probability of no Customer arrive is 0.0302\n"
     ]
    }
   ],
   "source": [
    "rate =  3.5 # which is the mean (customer arrives per 5minutes interval) \n",
    "poisson_data = poisson.pmf(0,rate)\n",
    "print('Probability of no Customer arrive is %1.4f' % poisson_data)"
   ]
  },
  {
   "cell_type": "markdown",
   "id": "de5c0b09",
   "metadata": {},
   "source": [
    "### b"
   ]
  },
  {
   "cell_type": "code",
   "execution_count": 23,
   "id": "0773fbeb",
   "metadata": {},
   "outputs": [
    {
     "name": "stdout",
     "output_type": "stream",
     "text": [
      "Probability of of having more than 6 customers in a 5-minute interval on a weekend night is 0.0653\n"
     ]
    }
   ],
   "source": [
    "rate =  3.5 # which is the mean (customer arrives per 5 minutes interval) \n",
    "n    =  np.arange(7,20) \n",
    "\n",
    "poisson_data = poisson.pmf(n,rate)\n",
    "sum_p=0\n",
    "for i in poisson_data:\n",
    "    sum_p=sum_p+i\n",
    "print('Probability of of having more than 6 customers in a 5-minute interval on a weekend night is %1.4f' % sum_p)"
   ]
  },
  {
   "cell_type": "markdown",
   "id": "24f08513",
   "metadata": {},
   "source": [
    "### c"
   ]
  },
  {
   "cell_type": "code",
   "execution_count": 24,
   "id": "0247ca7a",
   "metadata": {},
   "outputs": [
    {
     "name": "stdout",
     "output_type": "stream",
     "text": [
      "Probability of of having FEWER than 4 customers in a 10-minute interval on a weekend night is 0.0818\n"
     ]
    }
   ],
   "source": [
    "rate =  3.5*2 # which is the mean (customer arrives per 10 minutes interval) \n",
    "n    =  np.arange(0,4) \n",
    "\n",
    "poisson_data = poisson.pmf(n,rate)\n",
    "sum_p=0\n",
    "for i in poisson_data:\n",
    "    sum_p=sum_p+i\n",
    "print('Probability of of having FEWER than 4 customers in a 10-minute interval on a weekend night is %1.4f' % sum_p)"
   ]
  },
  {
   "cell_type": "code",
   "execution_count": null,
   "id": "6505b333",
   "metadata": {},
   "outputs": [],
   "source": []
  },
  {
   "cell_type": "markdown",
   "id": "ef758676",
   "metadata": {},
   "source": [
    "### d"
   ]
  },
  {
   "cell_type": "code",
   "execution_count": 25,
   "id": "48217129",
   "metadata": {},
   "outputs": [
    {
     "name": "stdout",
     "output_type": "stream",
     "text": [
      "Probability of of having customers between 3 and 6 in a 10-minute interval on a weekend night is 0.4201\n"
     ]
    }
   ],
   "source": [
    "rate =  3.5*2 # which is the mean (customer arrives per 10 minutes interval) \n",
    "n    =  np.arange(3,7) \n",
    "\n",
    "poisson_data = poisson.pmf(n,rate)\n",
    "sum_p=0\n",
    "for i in poisson_data:\n",
    "    sum_p=sum_p+i\n",
    "print('Probability of of having customers between 3 and 6 in a 10-minute interval on a weekend night is %1.4f' % sum_p)"
   ]
  },
  {
   "cell_type": "markdown",
   "id": "726816b1",
   "metadata": {},
   "source": [
    "### e"
   ]
  },
  {
   "cell_type": "code",
   "execution_count": 26,
   "id": "80787fdc",
   "metadata": {},
   "outputs": [
    {
     "name": "stdout",
     "output_type": "stream",
     "text": [
      "Probability of of having exactly 8 customers in a 15-minute interval on a weekend night is 0.1009\n"
     ]
    }
   ],
   "source": [
    "rate =  3.5*3 # which is the mean*3 (customer arrives per 15 minutes interval) \n",
    "n = 8 \n",
    "\n",
    "poisson_data = poisson.pmf(n,rate)\n",
    "\n",
    "print('Probability of of having exactly 8 customers in a 15-minute interval on a weekend night is %1.4f' % poisson_data)"
   ]
  },
  {
   "cell_type": "markdown",
   "id": "8ad5521e",
   "metadata": {},
   "source": [
    "### f"
   ]
  },
  {
   "cell_type": "code",
   "execution_count": 27,
   "id": "f5973d62",
   "metadata": {},
   "outputs": [
    {
     "data": {
      "image/png": "[encoded data removed]",
      "text/plain": [
       "<Figure size 432x288 with 1 Axes>"
      ]
     },
     "metadata": {
      "needs_background": "light"
     },
     "output_type": "display_data"
    }
   ],
   "source": [
    "rate =  3.5 # which is the mean (customer arrives per 5 minutes interval) \n",
    "n    =  np.arange(0,20) \n",
    "poisson_data = poisson.pmf(n,rate)\n",
    "plt.plot(n,poisson_data, 'o-')\n",
    "plt.title('Poisson')\n",
    "plt.xlabel('Number of Customers arrive')\n",
    "plt.ylabel('Prob of Customers arrive')\n",
    "plt.show()"
   ]
  },
  {
   "cell_type": "code",
   "execution_count": null,
   "id": "e1835803",
   "metadata": {},
   "outputs": [],
   "source": []
  },
  {
   "cell_type": "markdown",
   "id": "d8105eb1",
   "metadata": {},
   "source": [
    "# TASK5"
   ]
  },
  {
   "cell_type": "markdown",
   "id": "35d8b5f0",
   "metadata": {},
   "source": [
    "# a"
   ]
  },
  {
   "cell_type": "code",
   "execution_count": 28,
   "id": "4a3274b1",
   "metadata": {},
   "outputs": [
    {
     "name": "stdout",
     "output_type": "stream",
     "text": [
      "Probability of family did not make any amusement trip last year is 0.5781\n"
     ]
    }
   ],
   "source": [
    "rate = 0.548\n",
    "poisson_data = poisson.pmf(0,rate)\n",
    "print('Probability of family did not make any amusement trip last year is %1.4f' % poisson_data)"
   ]
  },
  {
   "cell_type": "markdown",
   "id": "c376b564",
   "metadata": {},
   "source": [
    "## b"
   ]
  },
  {
   "cell_type": "code",
   "execution_count": 29,
   "id": "8721e16a",
   "metadata": {},
   "outputs": [
    {
     "name": "stdout",
     "output_type": "stream",
     "text": [
      "Probability of family make one amusement trip last year is 0.3168\n"
     ]
    }
   ],
   "source": [
    "rate = 0.548\n",
    "poisson_data = poisson.pmf(1,rate)\n",
    "print('Probability of family make one amusement trip last year is %1.4f' % poisson_data)"
   ]
  },
  {
   "cell_type": "markdown",
   "id": "32a69068",
   "metadata": {},
   "source": [
    "## c"
   ]
  },
  {
   "cell_type": "code",
   "execution_count": 30,
   "id": "c19fbac5",
   "metadata": {},
   "outputs": [
    {
     "name": "stdout",
     "output_type": "stream",
     "text": [
      "Probability of family make two or more amusement trip last year is 0.1051\n"
     ]
    }
   ],
   "source": [
    "rate = 0.548\n",
    "n    =  np.arange(2,10) \n",
    "\n",
    "poisson_data = poisson.pmf(n,rate)\n",
    "sum_p=0\n",
    "for i in poisson_data:\n",
    "    sum_p=sum_p+i\n",
    "print('Probability of family make two or more amusement trip last year is %1.4f' % sum_p)"
   ]
  },
  {
   "cell_type": "markdown",
   "id": "b8a0917d",
   "metadata": {},
   "source": [
    "## d"
   ]
  },
  {
   "cell_type": "code",
   "execution_count": 31,
   "id": "d10f160d",
   "metadata": {},
   "outputs": [
    {
     "name": "stdout",
     "output_type": "stream",
     "text": [
      "Probability of family make three or fewer amusement trip in last 3 year is 0.9150\n"
     ]
    }
   ],
   "source": [
    "rate = 0.548*3\n",
    "n    =  np.arange(0,4) \n",
    "\n",
    "poisson_data = poisson.pmf(n,rate)\n",
    "sum_p=0\n",
    "for i in poisson_data:\n",
    "    sum_p=sum_p+i\n",
    "print('Probability of family make three or fewer amusement trip in last 3 year is %1.4f' % sum_p)"
   ]
  },
  {
   "cell_type": "markdown",
   "id": "05c8cf5b",
   "metadata": {},
   "source": [
    "## e"
   ]
  },
  {
   "cell_type": "code",
   "execution_count": 32,
   "id": "95eee767",
   "metadata": {},
   "outputs": [
    {
     "name": "stdout",
     "output_type": "stream",
     "text": [
      "Probability of family make exactly 4 amusement trip in last 6 year is 0.1818\n"
     ]
    }
   ],
   "source": [
    "rate = 0.548*6\n",
    "n    =  4\n",
    "poisson_data = poisson.pmf(n,rate)\n",
    "print('Probability of family make exactly 4 amusement trip in last 6 year is %1.4f' % poisson_data)"
   ]
  },
  {
   "cell_type": "markdown",
   "id": "7c58b497",
   "metadata": {},
   "source": [
    "## f"
   ]
  },
  {
   "cell_type": "code",
   "execution_count": 33,
   "id": "8e610eb0",
   "metadata": {},
   "outputs": [
    {
     "data": {
      "image/png": "[encoded data removed]",
      "text/plain": [
       "<Figure size 432x288 with 1 Axes>"
      ]
     },
     "metadata": {
      "needs_background": "light"
     },
     "output_type": "display_data"
    }
   ],
   "source": [
    "rate =  0.548 # which is the mean (customer arrives per 5 minutes interval) \n",
    "n    =  np.arange(0,10) \n",
    "poisson_data = poisson.pmf(n,rate)\n",
    "plt.plot(n,poisson_data, 'o-')\n",
    "plt.title('Poisson')\n",
    "plt.xlabel('Number of trips')\n",
    "plt.ylabel('Prob of Amusement trip')\n",
    "plt.show()"
   ]
  },
  {
   "cell_type": "code",
   "execution_count": null,
   "id": "2904e11c",
   "metadata": {},
   "outputs": [],
   "source": []
  }
 ],
 "metadata": {
  "kernelspec": {
   "display_name": "Python 3 (ipykernel)",
   "language": "python",
   "name": "python3"
  },
  "language_info": {
   "codemirror_mode": {
    "name": "ipython",
    "version": 3
   },
   "file_extension": ".py",
   "mimetype": "text/x-python",
   "name": "python",
   "nbconvert_exporter": "python",
   "pygments_lexer": "ipython3",
   "version": "3.9.12"
  }
 },
 "nbformat": 4,
 "nbformat_minor": 5
}
