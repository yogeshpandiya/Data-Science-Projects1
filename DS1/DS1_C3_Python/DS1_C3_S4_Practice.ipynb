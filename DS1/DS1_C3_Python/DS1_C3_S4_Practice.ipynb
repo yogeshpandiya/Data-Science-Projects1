{
 "cells": [
  {
   "cell_type": "markdown",
   "id": "35d93dff",
   "metadata": {},
   "source": [
    "# TASK1"
   ]
  },
  {
   "cell_type": "code",
   "execution_count": 9,
   "id": "ab9279ce",
   "metadata": {},
   "outputs": [],
   "source": [
    "#factorial"
   ]
  },
  {
   "cell_type": "code",
   "execution_count": 77,
   "id": "5652a6c8",
   "metadata": {},
   "outputs": [
    {
     "name": "stdout",
     "output_type": "stream",
     "text": [
      "Enter the value: 4\n",
      "24\n"
     ]
    }
   ],
   "source": [
    "i= int(input(\"Enter the value: \"))\n",
    "a=1 #counter to stop the loop\n",
    "b=1         #varible to store the data from loop\n",
    "while a<i+1:\n",
    "    b=(b*a)\n",
    "    a+=1\n",
    "print(b)\n",
    "    "
   ]
  },
  {
   "cell_type": "code",
   "execution_count": null,
   "id": "e2965ab4",
   "metadata": {},
   "outputs": [],
   "source": []
  },
  {
   "cell_type": "markdown",
   "id": "3730855b",
   "metadata": {},
   "source": [
    "# TASK2 Prime Number"
   ]
  },
  {
   "cell_type": "code",
   "execution_count": 72,
   "id": "3de8ecee",
   "metadata": {},
   "outputs": [
    {
     "name": "stdout",
     "output_type": "stream",
     "text": [
      "2\n",
      "3\n",
      "5\n",
      "7\n",
      "11\n",
      "13\n",
      "17\n",
      "19\n",
      "23\n",
      "29\n"
     ]
    }
   ],
   "source": [
    "count=1\n",
    "while count<30:\n",
    "    count+=1\n",
    "    b=2\n",
    "    while b<count:\n",
    "        if count%b==0:\n",
    "            #print(count,\"Not Prime\")\n",
    "            break\n",
    "        b+=1\n",
    "    else:\n",
    "        print(count)"
   ]
  },
  {
   "cell_type": "code",
   "execution_count": null,
   "id": "5aa7c8dd",
   "metadata": {},
   "outputs": [],
   "source": []
  },
  {
   "cell_type": "code",
   "execution_count": null,
   "id": "3885cfe1",
   "metadata": {},
   "outputs": [],
   "source": []
  },
  {
   "cell_type": "markdown",
   "id": "5b33807c",
   "metadata": {},
   "source": [
    "# TASK3"
   ]
  },
  {
   "cell_type": "code",
   "execution_count": 58,
   "id": "8364d3fc",
   "metadata": {},
   "outputs": [],
   "source": [
    "#We ne to add the digit of number given by user"
   ]
  },
  {
   "cell_type": "code",
   "execution_count": 59,
   "id": "d66e1f26",
   "metadata": {},
   "outputs": [
    {
     "name": "stdout",
     "output_type": "stream",
     "text": [
      "Enter a number: \n"
     ]
    },
    {
     "ename": "ValueError",
     "evalue": "invalid literal for int() with base 10: ''",
     "output_type": "error",
     "traceback": [
      "\u001b[1;31m---------------------------------------------------------------------------\u001b[0m",
      "\u001b[1;31mValueError\u001b[0m                                Traceback (most recent call last)",
      "Input \u001b[1;32mIn [59]\u001b[0m, in \u001b[0;36m<cell line: 1>\u001b[1;34m()\u001b[0m\n\u001b[1;32m----> 1\u001b[0m number \u001b[38;5;241m=\u001b[39m \u001b[38;5;28;43mint\u001b[39;49m\u001b[43m(\u001b[49m\u001b[38;5;28;43minput\u001b[39;49m\u001b[43m(\u001b[49m\u001b[38;5;124;43m\"\u001b[39;49m\u001b[38;5;124;43mEnter a number: \u001b[39;49m\u001b[38;5;124;43m\"\u001b[39;49m\u001b[43m)\u001b[49m\u001b[43m)\u001b[49m\n\u001b[0;32m      2\u001b[0m i \u001b[38;5;241m=\u001b[39m \u001b[38;5;28mstr\u001b[39m(number)\u001b[38;5;66;03m#to convert it into string\u001b[39;00m\n\u001b[0;32m      3\u001b[0m a\u001b[38;5;241m=\u001b[39m\u001b[38;5;241m0\u001b[39m\n",
      "\u001b[1;31mValueError\u001b[0m: invalid literal for int() with base 10: ''"
     ]
    }
   ],
   "source": [
    "number = int(input(\"Enter a number: \"))\n",
    "i = str(number)#to convert it into string\n",
    "a=0\n",
    "b=0\n",
    "while a<(len(i)):\n",
    "    d=i[a]\n",
    "    c=int(d) #again convert into int to get the desired result\n",
    "    #print(c,(type(c)))\n",
    "    b+=c\n",
    "    a+=1\n",
    "print(b)"
   ]
  },
  {
   "cell_type": "code",
   "execution_count": null,
   "id": "d70650f1",
   "metadata": {},
   "outputs": [],
   "source": []
  },
  {
   "cell_type": "markdown",
   "id": "e1406a95",
   "metadata": {},
   "source": [
    "# TASK4 Fibonacci"
   ]
  },
  {
   "cell_type": "code",
   "execution_count": 60,
   "id": "682a6f02",
   "metadata": {},
   "outputs": [
    {
     "name": "stdout",
     "output_type": "stream",
     "text": [
      "1\n",
      "2\n",
      "3\n",
      "5\n",
      "8\n",
      "13\n",
      "21\n",
      "34\n"
     ]
    }
   ],
   "source": [
    "i=0 #COUNTER\n",
    "b=1\n",
    "c=0\n",
    "while i<=20:\n",
    "    c=i+b\n",
    "    i=b # to replace 1 value with second\n",
    "    b=c #to replace second value with sum\n",
    "    print(c)"
   ]
  },
  {
   "cell_type": "code",
   "execution_count": null,
   "id": "1e10252b",
   "metadata": {},
   "outputs": [],
   "source": []
  },
  {
   "cell_type": "code",
   "execution_count": null,
   "id": "3a9ba2d2",
   "metadata": {},
   "outputs": [],
   "source": []
  },
  {
   "cell_type": "markdown",
   "id": "13b60e0d",
   "metadata": {},
   "source": [
    "# TASK5"
   ]
  },
  {
   "cell_type": "code",
   "execution_count": 61,
   "id": "8421d0fe",
   "metadata": {},
   "outputs": [
    {
     "name": "stdout",
     "output_type": "stream",
     "text": [
      "1761408314720\n",
      "(1, 2, 3, 4, 1, 2, 3, 4)\n",
      "1761378670736\n"
     ]
    }
   ],
   "source": [
    "t1= (1,2,3,4)\n",
    "print(id(t1))\n",
    "t2=(1,2,3,4)\n",
    "t1=t1+t2\n",
    "print(t1)\n",
    "print(id(t1))\n"
   ]
  },
  {
   "cell_type": "code",
   "execution_count": 62,
   "id": "7af5f5a3",
   "metadata": {},
   "outputs": [],
   "source": [
    "#EVERY OBJECT IN PYTHON HAS DIFFRENST ID whereas variable ca have same id if there data is similar as shown in below example."
   ]
  },
  {
   "cell_type": "code",
   "execution_count": 63,
   "id": "168a6ee9",
   "metadata": {},
   "outputs": [
    {
     "name": "stdout",
     "output_type": "stream",
     "text": [
      "1761375584368 1761375584368\n"
     ]
    }
   ],
   "source": [
    "a='hello'\n",
    "b='hello'\n",
    "print(id(a),id(b))"
   ]
  },
  {
   "cell_type": "code",
   "execution_count": 64,
   "id": "6a85b1b7",
   "metadata": {},
   "outputs": [
    {
     "name": "stdout",
     "output_type": "stream",
     "text": [
      "1761408659264 1761408666368\n"
     ]
    }
   ],
   "source": [
    "A=[1,2,3,4]\n",
    "B=[1,2,3,4]\n",
    "print(id(A),id(B))"
   ]
  },
  {
   "cell_type": "code",
   "execution_count": 65,
   "id": "ecf34e0c",
   "metadata": {},
   "outputs": [
    {
     "name": "stdout",
     "output_type": "stream",
     "text": [
      "1761408182448 1761375584368\n"
     ]
    }
   ],
   "source": [
    "a='helo'\n",
    "b='hello'\n",
    "print(id(a),id(b))"
   ]
  },
  {
   "cell_type": "code",
   "execution_count": null,
   "id": "8caf667a",
   "metadata": {},
   "outputs": [],
   "source": []
  },
  {
   "cell_type": "markdown",
   "id": "9a4f891d",
   "metadata": {},
   "source": [
    "# TASK6"
   ]
  },
  {
   "cell_type": "code",
   "execution_count": 66,
   "id": "0c0279ca",
   "metadata": {},
   "outputs": [
    {
     "name": "stdout",
     "output_type": "stream",
     "text": [
      "{40, 10, 50, 20, 60, 30}\n"
     ]
    }
   ],
   "source": [
    "n={10,20,30,40,50}\n",
    "m={30,40,50,50,60}\n",
    "n.update(m) # this can also be done with 'union'\n",
    "print(n)\n",
    "# this is set this will remove all duplicate elements"
   ]
  },
  {
   "cell_type": "code",
   "execution_count": null,
   "id": "40806acf",
   "metadata": {},
   "outputs": [],
   "source": []
  },
  {
   "cell_type": "markdown",
   "id": "0b852199",
   "metadata": {},
   "source": [
    "# TASK 7"
   ]
  },
  {
   "cell_type": "code",
   "execution_count": 67,
   "id": "cb2e5f41",
   "metadata": {},
   "outputs": [
    {
     "name": "stdout",
     "output_type": "stream",
     "text": [
      "2\n",
      "4\n"
     ]
    }
   ],
   "source": [
    "port1 = {'FTP':1, 'SSH':2, 'telnet':3, 'http':4}\n",
    "\n",
    "for i in port1:\n",
    "    b = port1[i] #to get the values of dict with help of key\n",
    "    if b%2==0:\n",
    "        print(b)\n",
    "    else:\n",
    "        pass\n",
    "            "
   ]
  },
  {
   "cell_type": "code",
   "execution_count": null,
   "id": "a609d5da",
   "metadata": {},
   "outputs": [],
   "source": []
  },
  {
   "cell_type": "markdown",
   "id": "f9c2d2cd",
   "metadata": {},
   "source": [
    "# TASK 8"
   ]
  },
  {
   "cell_type": "code",
   "execution_count": 68,
   "id": "9bc4a7f2",
   "metadata": {},
   "outputs": [
    {
     "name": "stdout",
     "output_type": "stream",
     "text": [
      "{1: 1, 2: 4, 3: 9, 4: 16, 5: 25, 6: 36, 7: 49, 8: 64, 9: 81, 10: 100, 11: 121, 12: 144, 13: 169, 14: 196, 15: 225, 100: 10000}\n"
     ]
    }
   ],
   "source": [
    "dict1 ={}\n",
    "for i in range(1,16):\n",
    "    dict1.update({i:i**2})\n",
    "dict1.update({100:100**2})\n",
    "print(dict1)"
   ]
  },
  {
   "cell_type": "code",
   "execution_count": null,
   "id": "32477d91",
   "metadata": {},
   "outputs": [],
   "source": []
  },
  {
   "cell_type": "markdown",
   "id": "267c3be4",
   "metadata": {},
   "source": [
    "# TASK9"
   ]
  },
  {
   "cell_type": "code",
   "execution_count": 69,
   "id": "5004a722",
   "metadata": {},
   "outputs": [
    {
     "name": "stdout",
     "output_type": "stream",
     "text": [
      "{'FTP': 21, 'SSH': 22, 'telnet': 23, 'http': 80}\n"
     ]
    }
   ],
   "source": [
    "port1 = {21:'FTP', 22:'SSH', 23:'telnet', 80:'http'}\n",
    "port2={}\n",
    "for i in port1:\n",
    "    b = port1[i] #to get the values of dict with help of key\n",
    "    #print(i,b)\n",
    "    port2.update({b:i})\n",
    "    \n",
    "print(port2)\n",
    "    "
   ]
  },
  {
   "cell_type": "code",
   "execution_count": null,
   "id": "fffd277e",
   "metadata": {},
   "outputs": [],
   "source": []
  },
  {
   "cell_type": "markdown",
   "id": "739cb465",
   "metadata": {},
   "source": [
    "# TAS10"
   ]
  },
  {
   "cell_type": "code",
   "execution_count": 70,
   "id": "458f2285",
   "metadata": {},
   "outputs": [
    {
     "name": "stdout",
     "output_type": "stream",
     "text": [
      "Keys withoud duplicate entries\n",
      "Emp1 : {'name': 'Sara', 'Dept': 'IT', 'Designation': 'Team Lead'}\n",
      "Emp2 : {'name': 'Anne', 'Dept': 'IT', 'Designation': 'Senior Software Engineer'}\n",
      "Emp3 : {'name': 'Andy', 'Dept': 'BioTech', 'Designation': 'Senior Software Engineer'}\n",
      "Repeated key in the given dict:- Emp4 : {'name': 'Andy', 'Dept': 'BioTech', 'Designation': 'Senior Software Engineer'}\n"
     ]
    }
   ],
   "source": [
    "Employee= {\n",
    "'Emp1':{'name':'Sara','Dept':'IT', 'Designation':'Team Lead'},\n",
    "'Emp2':{'name':'Anne','Dept':'IT', 'Designation':'Senior Software Engineer'},\n",
    "'Emp3':{'name':'Andy','Dept':'BioTech', 'Designation':'Senior Software Engineer'},\n",
    "'Emp4':{'name':'Andy','Dept':'BioTech', 'Designation':'Senior Software Engineer'},\n",
    "}\n",
    "\n",
    "\n",
    "em=[] #used empty list to check store the value of each key to check if that value repeated. \n",
    "\n",
    "print('Keys withoud duplicate entries')\n",
    "for i in Employee:\n",
    "    if Employee[i] not in em:\n",
    "        em.append(Employee[i])\n",
    "        print(i, ':', Employee[i])\n",
    "else:\n",
    "    print('Repeated key in the given dict:-', str(i),':', Employee[i])\n",
    "        "
   ]
  },
  {
   "cell_type": "code",
   "execution_count": null,
   "id": "9ea62957",
   "metadata": {},
   "outputs": [],
   "source": []
  },
  {
   "cell_type": "code",
   "execution_count": null,
   "id": "f31a0bfe",
   "metadata": {},
   "outputs": [],
   "source": []
  },
  {
   "cell_type": "code",
   "execution_count": null,
   "id": "28e746ec",
   "metadata": {},
   "outputs": [],
   "source": []
  },
  {
   "cell_type": "code",
   "execution_count": null,
   "id": "32fbda66",
   "metadata": {},
   "outputs": [],
   "source": []
  },
  {
   "cell_type": "code",
   "execution_count": null,
   "id": "ef66c6ce",
   "metadata": {},
   "outputs": [],
   "source": []
  },
  {
   "cell_type": "code",
   "execution_count": null,
   "id": "aab63c34",
   "metadata": {},
   "outputs": [],
   "source": []
  },
  {
   "cell_type": "code",
   "execution_count": null,
   "id": "9180af6b",
   "metadata": {},
   "outputs": [],
   "source": []
  },
  {
   "cell_type": "code",
   "execution_count": null,
   "id": "0372b578",
   "metadata": {},
   "outputs": [],
   "source": []
  },
  {
   "cell_type": "code",
   "execution_count": null,
   "id": "5bf2947d",
   "metadata": {},
   "outputs": [],
   "source": []
  },
  {
   "cell_type": "code",
   "execution_count": null,
   "id": "9c7ba53b",
   "metadata": {},
   "outputs": [],
   "source": []
  },
  {
   "cell_type": "code",
   "execution_count": null,
   "id": "4c2044d4",
   "metadata": {},
   "outputs": [],
   "source": []
  },
  {
   "cell_type": "code",
   "execution_count": null,
   "id": "561d0fe1",
   "metadata": {},
   "outputs": [],
   "source": []
  },
  {
   "cell_type": "code",
   "execution_count": null,
   "id": "392302c0",
   "metadata": {},
   "outputs": [],
   "source": []
  },
  {
   "cell_type": "code",
   "execution_count": null,
   "id": "218a3f79",
   "metadata": {},
   "outputs": [],
   "source": []
  },
  {
   "cell_type": "code",
   "execution_count": null,
   "id": "4552820d",
   "metadata": {},
   "outputs": [],
   "source": []
  },
  {
   "cell_type": "code",
   "execution_count": null,
   "id": "3b74c439",
   "metadata": {},
   "outputs": [],
   "source": []
  },
  {
   "cell_type": "code",
   "execution_count": null,
   "id": "5f3bf9c6",
   "metadata": {},
   "outputs": [],
   "source": []
  },
  {
   "cell_type": "code",
   "execution_count": null,
   "id": "25b7e81e",
   "metadata": {},
   "outputs": [],
   "source": []
  },
  {
   "cell_type": "code",
   "execution_count": null,
   "id": "216924d7",
   "metadata": {},
   "outputs": [],
   "source": []
  },
  {
   "cell_type": "code",
   "execution_count": null,
   "id": "fa9904ce",
   "metadata": {},
   "outputs": [],
   "source": []
  },
  {
   "cell_type": "code",
   "execution_count": null,
   "id": "abfac2de",
   "metadata": {},
   "outputs": [],
   "source": []
  },
  {
   "cell_type": "code",
   "execution_count": null,
   "id": "d9d92f78",
   "metadata": {},
   "outputs": [],
   "source": []
  },
  {
   "cell_type": "code",
   "execution_count": null,
   "id": "26c030b4",
   "metadata": {},
   "outputs": [],
   "source": []
  }
 ],
 "metadata": {
  "kernelspec": {
   "display_name": "Python 3 (ipykernel)",
   "language": "python",
   "name": "python3"
  },
  "language_info": {
   "codemirror_mode": {
    "name": "ipython",
    "version": 3
   },
   "file_extension": ".py",
   "mimetype": "text/x-python",
   "name": "python",
   "nbconvert_exporter": "python",
   "pygments_lexer": "ipython3",
   "version": "3.9.12"
  }
 },
 "nbformat": 4,
 "nbformat_minor": 5
}
