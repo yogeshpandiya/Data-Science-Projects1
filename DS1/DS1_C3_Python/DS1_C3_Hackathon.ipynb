{
 "cells": [
  {
   "cell_type": "code",
   "execution_count": 43,
   "id": "4c7752a2",
   "metadata": {},
   "outputs": [
    {
     "name": "stdout",
     "output_type": "stream",
     "text": [
      "                           ESSENTIAL ITEMS AVAILABLE                            \n",
      "      S.NO                 Item             Quantity            Cost/Item\n",
      "         1             Biscuits                    5                 20.5\n",
      "         2              Careals                   10                 90.0\n",
      "         3              chicken                   20                200.0\n",
      "         4                 Oats                   20                39.99\n",
      "         5                 Rice                   30                79.99\n",
      "\n",
      "How Many Biscuits Packets Required ? 1\n",
      "How Many Careals Packets Required ? 1\n",
      "How Many Chicken Packets Required ? 1\n",
      "How Many Oats Packets Required ? 1\n",
      "How Many Rice Packets Required ? 1\n",
      "\n",
      "Fill in your delivery details\n",
      "Enter your name 1\n",
      "Enter your address 1\n",
      "Distance from store 5/10/15 1\n",
      "Delivery charge: 2 will be levied for 1km of distance\n",
      "\n",
      "                                      BILL                                      \n",
      "      S.NO                 Item             Quantity            Cost/Item\n",
      "         1             Biscuits                    1                 20.5\n",
      "         2              Careals                    1                 90.0\n",
      "         3              chicken                    1                200.0\n",
      "         4                 Oats                    1                39.99\n",
      "         5                 Rice                    1                79.99\n",
      "\n",
      " Total Items Cost:    430.48\n",
      "\n",
      " Total Bill Amount=Total Items Cost+Delivery Charge: 432.48\n",
      "\n",
      "Name: 1\n",
      "Address: 1\n",
      "Do you want to continue shopping? y/n  n\n",
      "\n",
      " Have A Nice Day!!\n"
     ]
    }
   ],
   "source": [
    "#Initially i created a nested dictionary to store the data \n",
    "\n",
    "Menu = {1 : {'Item':'Biscuits',\"Quantity\":5, \"Cost/Item\": 20.50}, 2:{'Item':'Careals',\"Quantity\":10,\"Cost/Item\": 90.00}, 3:{'Item':'chicken',\"Quantity\":20,\"Cost/Item\": 200.00}, 4:{'Item':'Oats',\"Quantity\":20,\"Cost/Item\": 39.99},5:{'Item':'Rice',\"Quantity\":30,\"Cost/Item\": 79.99}}\n",
    "Headine= 'ESSENTIAL ITEMS AVAILABLE'\n",
    "print(Headine.center(80)) #so that heading should print in center\n",
    "\n",
    "print(\"%10s %20s %20s %20s\" % (\"S.NO\", \"Item\", \"Quantity\", \"Cost/Item\")) #formating the table with table with modulo operator\n",
    "\n",
    "for i in Menu: #for loop to print all the data stored in dictionary \n",
    "    print(\"%10s %20s %20s %20s\" %(i,Menu[i]['Item'],Menu[i]['Quantity'],Menu[i]['Cost/Item'])) # again using modulo to format the printed data\n",
    "print()\n",
    "\n",
    "list1 = ['Biscuits','Careals','Chicken','Oats','Rice'] #so that i don't have to write code\n",
    "list2 = {'Que1':0,'Que2':0,'Que3':0,'Que4':0,'Que5':0}\n",
    "\n",
    "i=1\n",
    "for j in list2:\n",
    "    list2[j]= int(input('How Many {0} Packets Required ? '.format(list1[i-1])))\n",
    "    x=Menu[i]['Quantity']\n",
    "    \n",
    "    while list2[j]>x:\n",
    "        if list2[j]>x and x>0:\n",
    "            print('We have only',x,'Packets left')\n",
    "            a= str(input('Do you wish to add {0} Packets or less in Cart? y/n'.format(x)))\n",
    "            if a=='y':\n",
    "\n",
    "                list2[j]= int(input('How Many Biscuits Packets Required ? '))\n",
    "            else:\n",
    "                list2[j]=0\n",
    "                break  \n",
    "\n",
    "        elif x<0:\n",
    "            print('We are out of Biscuits')\n",
    "            break\n",
    "    Menu[i]['Quantity']= Menu[i]['Quantity']-list2[j]\n",
    "    i+=1\n",
    "\n",
    "        \n",
    "\n",
    "print()\n",
    "print('Fill in your delivery details')\n",
    "\n",
    "pq1 = str(input('Enter your name '))\n",
    "pq2 = str(input('Enter your address '))\n",
    "pq3 = int(input('Distance from store 5/10/15 '))\n",
    "\n",
    "print('Delivery charge: {0} will be levied for {1}km of distance'.format((pq3*2),pq3)) #delivery charge is double of km distance again using .format\n",
    "\n",
    "print()\n",
    "\n",
    "Order = {1 : {'Item':'Biscuits',\"Quantity\":list2['Que1'], \"Cost/Item\": list2['Que1']*20.50}, 2:{'Item':'Careals',\"Quantity\":list2['Que2'],\"Cost/Item\": list2['Que2']*90.00}, 3:{'Item':'chicken',\"Quantity\":list2['Que3'],\"Cost/Item\": list2['Que3']*200.00}, 4:{'Item':'Oats',\"Quantity\":list2['Que4'],\"Cost/Item\": list2['Que4']*39.99},5:{'Item':'Rice',\"Quantity\":list2['Que5'],\"Cost/Item\": list2['Que5']*79.99}}\n",
    "print('BILL'.center(80))\n",
    "\n",
    "print(\"%10s %20s %20s %20s\" % (\"S.NO\", \"Item\", \"Quantity\", \"Cost/Item\"))\n",
    "Total_Cost=0\n",
    "for i in Order:\n",
    "    print(\"%10s %20s %20s %20s\" %(i,Order[i]['Item'],Order[i]['Quantity'],Order[i]['Cost/Item']))\n",
    "    Total_Cost+=Order[i]['Cost/Item']\n",
    "    \n",
    "print('\\n','Total Items Cost:   ', round(Total_Cost,2)) #using round function to provide a round number price\n",
    "\n",
    "print('\\n','Total Bill Amount=Total Items Cost+Delivery Charge:', round(Total_Cost+(pq3*2),2))\n",
    "\n",
    "print()\n",
    "print('Name:',pq1)\n",
    "print('Address:',pq2)\n",
    "Decision= str(input('Do you want to continue shopping? y/n  '))\n",
    "print('\\n','Have A Nice Day!!')\n",
    "\n",
    "\n",
    "\n",
    "\n"
   ]
  },
  {
   "cell_type": "code",
   "execution_count": 41,
   "id": "ac9f6d5a",
   "metadata": {},
   "outputs": [],
   "source": []
  },
  {
   "cell_type": "code",
   "execution_count": 44,
   "id": "e1d0f331",
   "metadata": {},
   "outputs": [
    {
     "data": {
      "text/plain": [
       "{1: {'Item': 'Biscuits', 'Quantity': 4, 'Cost/Item': 20.5},\n",
       " 2: {'Item': 'Careals', 'Quantity': 9, 'Cost/Item': 90.0},\n",
       " 3: {'Item': 'chicken', 'Quantity': 19, 'Cost/Item': 200.0},\n",
       " 4: {'Item': 'Oats', 'Quantity': 19, 'Cost/Item': 39.99},\n",
       " 5: {'Item': 'Rice', 'Quantity': 29, 'Cost/Item': 79.99}}"
      ]
     },
     "execution_count": 44,
     "metadata": {},
     "output_type": "execute_result"
    }
   ],
   "source": [
    "Menu"
   ]
  },
  {
   "cell_type": "code",
   "execution_count": 28,
   "id": "30b5e52d",
   "metadata": {},
   "outputs": [],
   "source": []
  },
  {
   "cell_type": "code",
   "execution_count": null,
   "id": "eb6dfe8c",
   "metadata": {},
   "outputs": [],
   "source": []
  },
  {
   "cell_type": "code",
   "execution_count": null,
   "id": "7912cd42",
   "metadata": {},
   "outputs": [],
   "source": []
  }
 ],
 "metadata": {
  "kernelspec": {
   "display_name": "Python 3 (ipykernel)",
   "language": "python",
   "name": "python3"
  },
  "language_info": {
   "codemirror_mode": {
    "name": "ipython",
    "version": 3
   },
   "file_extension": ".py",
   "mimetype": "text/x-python",
   "name": "python",
   "nbconvert_exporter": "python",
   "pygments_lexer": "ipython3",
   "version": "3.9.12"
  }
 },
 "nbformat": 4,
 "nbformat_minor": 5
}
