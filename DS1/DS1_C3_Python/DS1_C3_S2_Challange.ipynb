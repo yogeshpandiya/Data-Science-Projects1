{
 "cells": [
  {
   "cell_type": "code",
   "execution_count": null,
   "id": "eeb922c0",
   "metadata": {},
   "outputs": [],
   "source": []
  },
  {
   "cell_type": "markdown",
   "id": "9fc2cbf6",
   "metadata": {},
   "source": [
    "# TASK1"
   ]
  },
  {
   "cell_type": "code",
   "execution_count": 107,
   "id": "b82a2b93",
   "metadata": {},
   "outputs": [
    {
     "name": "stdout",
     "output_type": "stream",
     "text": [
      "Enter a number between 1900 and 2100: 1900\n",
      "This is not a leap year\n"
     ]
    }
   ],
   "source": [
    "days =  int(input(\"Enter a number between 1900 and 2100: \"))\n",
    "if days>=1900 and days<=2100:\n",
    "    Days_Year = days/4\n",
    "    if Days_Year%2 ==0:\n",
    "        print(\"This is a Leap year\")\n",
    "    else:\n",
    "        print(\"This is not a leap year\")\n",
    "else:\n",
    "    print(\"Please enter correct value\")\n"
   ]
  },
  {
   "cell_type": "code",
   "execution_count": null,
   "id": "3da74052",
   "metadata": {},
   "outputs": [],
   "source": []
  },
  {
   "cell_type": "markdown",
   "id": "9b207eae",
   "metadata": {},
   "source": [
    "# TASK2"
   ]
  },
  {
   "cell_type": "code",
   "execution_count": 109,
   "id": "16e13e1c",
   "metadata": {},
   "outputs": [
    {
     "name": "stdout",
     "output_type": "stream",
     "text": [
      "Enter a number between 1 and 12: 3\n",
      " Month Name is March \n",
      " Number of days is 31\n"
     ]
    }
   ],
   "source": [
    "num = int(input(\"Enter a number between 1 and 12: \"))\n",
    "\n",
    "\n",
    "\n",
    "if num==1:\n",
    "    print(' Month Name is January','\\n', 'Number of days is 31')\n",
    "    \n",
    "elif num==2:\n",
    "    print(' Month Name is February','\\n', 'Number of days is 28')\n",
    "\n",
    "elif num==3:\n",
    "    print(' Month Name is March','\\n', 'Number of days is 31')\n",
    "\n",
    "elif num==4:\n",
    "    print(' Month Name is April','\\n', 'Number of days is 30')\n",
    "\n",
    "elif num==5:\n",
    "    print(' Month Name is May','\\n', 'Number of days is 31')\n",
    "    \n",
    "elif num==6:\n",
    "    print(' Month Name is June','\\n', 'Number of days is 30')\n",
    "    \n",
    "elif num==7:\n",
    "    print(' Month Name is July','\\n', 'Number of days is 31')\n",
    "    \n",
    "elif num==8:\n",
    "    print(' Month Name is August','\\n', 'Number of days is 31')\n",
    "    \n",
    "elif num==9:\n",
    "    print(' Month Name is September','\\n', 'Number of days is 30')\n",
    "    \n",
    "elif num==10:\n",
    "    print(' Month Name is October','\\n', 'Number of days is 31')\n",
    "    \n",
    "elif num==11:\n",
    "    print(' Month Name is November','\\n', 'Number of days is 30')\n",
    "    \n",
    "elif num==12:\n",
    "    print(' Month Name is December','\\n', 'Number of days is 31')\n",
    "    \n",
    "else:\n",
    "    print('Please enter a number between 1 and 12')"
   ]
  },
  {
   "cell_type": "code",
   "execution_count": null,
   "id": "428e68f8",
   "metadata": {},
   "outputs": [],
   "source": []
  },
  {
   "cell_type": "markdown",
   "id": "f9887500",
   "metadata": {},
   "source": [
    "# TASK3"
   ]
  },
  {
   "cell_type": "code",
   "execution_count": 112,
   "id": "e08b0c03",
   "metadata": {},
   "outputs": [
    {
     "name": "stdout",
     "output_type": "stream",
     "text": [
      "Enter a total purchase amount: -111\n",
      "Please enter correct amount\n"
     ]
    }
   ],
   "source": [
    "amount = int(input(\"Enter a total purchase amount: \"))\n",
    "\n",
    "if amount>0 and amount<100:\n",
    "    print('No Discount')\n",
    "\n",
    "\n",
    "elif amount>=100 and amount<150 :\n",
    "    print('Discount is 10%')\n",
    "\n",
    "elif amount>=150 and amount<200 :\n",
    "    print('Discount is 15%')\n",
    "\n",
    "elif amount>=200 and amount<250 :\n",
    "    print('Discount is 20%')\n",
    "    \n",
    "elif amount>250 :\n",
    "    print('Discount is 25%')\n",
    "\n",
    "else:\n",
    "    print(\"Please enter correct amount\")"
   ]
  },
  {
   "cell_type": "code",
   "execution_count": null,
   "id": "8e85d4ee",
   "metadata": {},
   "outputs": [],
   "source": []
  },
  {
   "cell_type": "markdown",
   "id": "a3a04b86",
   "metadata": {},
   "source": [
    "# TASK4"
   ]
  },
  {
   "cell_type": "code",
   "execution_count": 115,
   "id": "24d711aa",
   "metadata": {},
   "outputs": [
    {
     "name": "stdout",
     "output_type": "stream",
     "text": [
      "Let's Play a game, Two correct answer out of Three and you'll win\n",
      "What is the sum of 17 and 13: 1898\n",
      "Sorry, Try Next One\n",
      "What is the product of 7 and 6: 889\n",
      "Sorry, Try Next One\n",
      "What is the 10% of 70: 7997\n",
      "Sorry, Try Next One\n",
      "Sorry, You lost\n"
     ]
    }
   ],
   "source": [
    "\n",
    "print(\"Let's Play a game, Two correct answer out of Three and you'll win\")\n",
    "\n",
    "prize =0\n",
    "\n",
    "QUE1 = int(input(\"What is the sum of 17 and 13: \"))\n",
    "if QUE1==30:\n",
    "    print(\"Wow, Correct Answer\")\n",
    "    prize+=1\n",
    "else:\n",
    "    print(\"Sorry, Try Next One\")\n",
    "\n",
    "QUE2 = int(input(\"What is the product of 7 and 6: \"))\n",
    "if QUE2==42:\n",
    "    print(\"Wow, Correct Answer\")\n",
    "    prize+=1\n",
    "    \n",
    "else:\n",
    "    print(\"Sorry, Try Next One\")\n",
    "    \n",
    "QUE3 = int(input(\"What is the 10% of 70: \"))\n",
    "if QUE3==7:\n",
    "    print(\"Wow, Correct Answer\")\n",
    "    prize+=1\n",
    "else:\n",
    "    print(\"Sorry, Try Next One\")\n",
    "    \n",
    "if prize >= 2:\n",
    "    print('congratulations...!!! , Well Played')\n",
    "else:\n",
    "    print(\"Sorry, You lost\")\n"
   ]
  },
  {
   "cell_type": "code",
   "execution_count": null,
   "id": "f2ac68b1",
   "metadata": {},
   "outputs": [],
   "source": []
  },
  {
   "cell_type": "code",
   "execution_count": null,
   "id": "d97ee6e7",
   "metadata": {},
   "outputs": [],
   "source": []
  },
  {
   "cell_type": "markdown",
   "id": "b143e400",
   "metadata": {},
   "source": [
    "# TASK5"
   ]
  },
  {
   "cell_type": "code",
   "execution_count": 43,
   "id": "fd8c1e2e",
   "metadata": {},
   "outputs": [],
   "source": [
    "import random"
   ]
  },
  {
   "cell_type": "code",
   "execution_count": 119,
   "id": "265a9659",
   "metadata": {},
   "outputs": [
    {
     "name": "stdout",
     "output_type": "stream",
     "text": [
      "Rules:--- \n",
      " Rock wins against scissors;  \n",
      " paper wins against rock; \n",
      " scissors wins against paper  \n",
      " If both players throw the same signal, it is considered a tie, and play resumes until there is a clear winner.\n",
      "Please Enter your choice: scissor\n",
      "Tie..!! computer choice is scissor\n"
     ]
    }
   ],
   "source": [
    "print('Rules:---','\\n', 'Rock wins against scissors; ','\\n','paper wins against rock;','\\n','scissors wins against paper ','\\n','If both players throw the same signal, it is considered a tie, and play resumes until there is a clear winner.')\n",
    "\n",
    "list1 = ['Rock', 'scissor', 'paper']\n",
    "comp = random.choice(list1)\n",
    "player = str (input(\"Please Enter your choice: \")).lower()\n",
    "\n",
    "if player == comp:\n",
    "    print(\"Tie..!! computer choice is\", comp)\n",
    "    \n",
    "elif comp=='rock' and player=='scissor':\n",
    "    print('You lost','computer choice is', comp)\n",
    "\n",
    "elif comp=='paper' and player=='rock':\n",
    "    print('You lost','computer choice is', comp)\n",
    "\n",
    "elif comp=='scissor' and player=='paper':\n",
    "    print('You lost', 'computer choice is', comp)\n",
    "    \n",
    "elif player=='rock' and comp=='scissor':\n",
    "    print('You won','computer choice is', comp)\n",
    "\n",
    "elif player=='paper' and comp=='rock':\n",
    "    print('You won','computer choice is', comp)\n",
    "\n",
    "elif player=='scissor' and comp=='paper':\n",
    "    print('You won','computer choice is', comp)\n",
    "else:\n",
    "    (print(\"Enter correct option\"))"
   ]
  },
  {
   "cell_type": "markdown",
   "id": "cd7fcbe2",
   "metadata": {},
   "source": [
    "# TASK 4 USING LOOP AND Random"
   ]
  },
  {
   "cell_type": "code",
   "execution_count": null,
   "id": "1f630b1c",
   "metadata": {},
   "outputs": [
    {
     "name": "stdout",
     "output_type": "stream",
     "text": [
      "Let's Play a game, Two correct answer out of Three and you'll win\n",
      "What is the sum of 1 and 7: 12\n",
      "Sorry, Try Next One\n",
      "What is the product of 5 and 8: 123\n",
      "Sorry, Try Next One\n",
      "What is the 10% of 58: 12\n",
      "Sorry, Try Next One\n",
      "Sorry, You lost\n",
      "Do you want to play again?    (Yes/No)Yes\n",
      "What is the sum of 8 and 9: 98\n",
      "Sorry, Try Next One\n"
     ]
    }
   ],
   "source": [
    "\n",
    "import random\n",
    "print(\"Let's Play a game, Two correct answer out of Three and you'll win\")\n",
    "\n",
    "prize =0\n",
    "while prize!=3:\n",
    "    prize =0\n",
    "    r1q1=random.randrange(1,10,1)\n",
    "    r2q1=random.randrange(1,10,1)\n",
    "    QUE1 = int(input(\"What is the sum of {0} and {1}: \".format(r1q1,r2q1)))\n",
    "    if QUE1==r1q1+r2q1:\n",
    "        print(\"Wow, Correct Answer\")\n",
    "        prize=prize+1\n",
    "    else:\n",
    "        print(\"Sorry, Try Next One\")\n",
    "        \n",
    "    r1q2=random.randrange(1,10,1)\n",
    "    r2q2=random.randrange(1,10,1)\n",
    "    QUE2 = int(input(\"What is the product of {0} and {1}: \".format(r1q2,r2q2)))\n",
    "    if QUE2==r1q2*r2q2:\n",
    "        print(\"Wow, Correct Answer\")\n",
    "        prize=prize+1\n",
    "    else:\n",
    "        print(\"Sorry, Try Next One\")\n",
    "        \n",
    "    r1q3=random.randrange(40,100,2)\n",
    "    QUE3 = float(input(\"What is the 10% of {0}: \".format(r1q3)))\n",
    "    per = 10/100*r1q3\n",
    "    if QUE3==per:\n",
    "        print(\"Wow, Correct Answer\")\n",
    "        prize=prize+1\n",
    "    else:\n",
    "        print(\"Sorry, Try Next One\")\n",
    "\n",
    "    if prize >= 2:\n",
    "        print('Congratulations...!!! , Well Played')\n",
    "        a = str(input(\"Do you want to play again?    (Yes/No)\")).lower()\n",
    "        if a=='yes':\n",
    "            continue\n",
    "        else:\n",
    "            print(\"Thanks for playing\")\n",
    "            break\n",
    "    else:\n",
    "        print(\"Sorry, You lost\")\n",
    "        b = str(input(\"Do you want to play again?    (Yes/No)\")).lower()\n",
    "        if b=='yes':\n",
    "            continue\n",
    "        else:\n",
    "            print(\"Thanks for playing\")\n",
    "            break\n"
   ]
  },
  {
   "cell_type": "code",
   "execution_count": null,
   "id": "a3bec3f1",
   "metadata": {},
   "outputs": [],
   "source": []
  },
  {
   "cell_type": "code",
   "execution_count": null,
   "id": "c46dc2dc",
   "metadata": {},
   "outputs": [],
   "source": []
  },
  {
   "cell_type": "code",
   "execution_count": null,
   "id": "fb822876",
   "metadata": {},
   "outputs": [],
   "source": []
  },
  {
   "cell_type": "code",
   "execution_count": null,
   "id": "d7a977bd",
   "metadata": {},
   "outputs": [],
   "source": []
  }
 ],
 "metadata": {
  "kernelspec": {
   "display_name": "Python 3 (ipykernel)",
   "language": "python",
   "name": "python3"
  },
  "language_info": {
   "codemirror_mode": {
    "name": "ipython",
    "version": 3
   },
   "file_extension": ".py",
   "mimetype": "text/x-python",
   "name": "python",
   "nbconvert_exporter": "python",
   "pygments_lexer": "ipython3",
   "version": "3.9.12"
  }
 },
 "nbformat": 4,
 "nbformat_minor": 5
}
