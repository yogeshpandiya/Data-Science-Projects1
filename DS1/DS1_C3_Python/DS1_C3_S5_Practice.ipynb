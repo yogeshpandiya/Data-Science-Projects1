{
 "cells": [
  {
   "cell_type": "markdown",
   "id": "9b317cd2",
   "metadata": {},
   "source": [
    "# TASK1"
   ]
  },
  {
   "cell_type": "code",
   "execution_count": 1,
   "id": "32220840",
   "metadata": {},
   "outputs": [
    {
     "name": "stdout",
     "output_type": "stream",
     "text": [
      "Reviver : Palindrome\n",
      "ABBA : Palindrome\n",
      "Yogesh : Not Palindrome\n"
     ]
    }
   ],
   "source": [
    "def  palindrome(x):\n",
    "    string = x\n",
    "    string=string.lower()\n",
    "    count=0\n",
    "    for i in range(len(string)):\n",
    "        A=i+1\n",
    "        if string[i]==string[-A]:\n",
    "            count+=1\n",
    "    if len(string)==count:\n",
    "        print(x,\": Palindrome\")\n",
    "    else:\n",
    "        print(x,\": Not Palindrome\")\n",
    "        \n",
    "        \n",
    "palindrome('Reviver')\n",
    "palindrome('ABBA')\n",
    "palindrome('Yogesh')"
   ]
  },
  {
   "cell_type": "code",
   "execution_count": null,
   "id": "c442c742",
   "metadata": {},
   "outputs": [],
   "source": []
  },
  {
   "cell_type": "code",
   "execution_count": null,
   "id": "6fc39c34",
   "metadata": {},
   "outputs": [],
   "source": [
    "  "
   ]
  },
  {
   "cell_type": "markdown",
   "id": "f3ca5520",
   "metadata": {},
   "source": [
    "# TASK 2"
   ]
  },
  {
   "cell_type": "code",
   "execution_count": 230,
   "id": "aa671817",
   "metadata": {},
   "outputs": [
    {
     "name": "stdout",
     "output_type": "stream",
     "text": [
      "eghosy\n"
     ]
    }
   ],
   "source": [
    "def sort_String(string):\n",
    "    list1=list(string)\n",
    "    \n",
    "    for i in range(len(list1)):\n",
    "        for j in range(i + 1, len(list1)):\n",
    "            if list1[i] > list1[j]:\n",
    "                list1[i], list1[j] = list1[j], list1[i]\n",
    "    #print(list1)\n",
    "    a=''\n",
    "    for i in list1:\n",
    "        a+=i\n",
    "    print(a)\n",
    "sort_String('yogesh')"
   ]
  },
  {
   "cell_type": "code",
   "execution_count": null,
   "id": "976b7f3d",
   "metadata": {},
   "outputs": [],
   "source": []
  },
  {
   "cell_type": "markdown",
   "id": "9682ffd0",
   "metadata": {},
   "source": [
    "# TASK 3"
   ]
  },
  {
   "cell_type": "code",
   "execution_count": 231,
   "id": "1041747d",
   "metadata": {},
   "outputs": [
    {
     "name": "stdout",
     "output_type": "stream",
     "text": [
      "Type is <class 'str'> \n",
      " List Converted into string: afheyto\n"
     ]
    }
   ],
   "source": [
    "def list_cha (x):\n",
    "    a=''\n",
    "    for i in x:\n",
    "        a+=i\n",
    "    print('Type is',type(a),'\\n','List Converted into string:',a)\n",
    "list_cha (['a','f','h','e','y','t','o'])"
   ]
  },
  {
   "cell_type": "markdown",
   "id": "d60b188d",
   "metadata": {},
   "source": [
    "# TASK4"
   ]
  },
  {
   "cell_type": "code",
   "execution_count": 232,
   "id": "5f721529",
   "metadata": {},
   "outputs": [
    {
     "name": "stdout",
     "output_type": "stream",
     "text": [
      " Smallest Number:  -1 \n",
      " Largest Number:  7\n"
     ]
    }
   ],
   "source": [
    "def sort_String(my_list):\n",
    "    a=len(my_list)-1\n",
    "    for i in range(len(my_list)):\n",
    "        for j in range(i + 1, len(my_list)):\n",
    "            if my_list[i] > my_list[j]:\n",
    "                my_list[i], my_list[j] = my_list[j], my_list[i]\n",
    "    print(' Smallest Number: ',my_list[0],'\\n','Largest Number: ', my_list[a])\n",
    "\n",
    "sort_String([1,2,-1,4,5,6,7])"
   ]
  },
  {
   "cell_type": "code",
   "execution_count": 224,
   "id": "bf3b86eb",
   "metadata": {},
   "outputs": [
    {
     "data": {
      "text/plain": [
       "(7, -1)"
      ]
     },
     "execution_count": 224,
     "metadata": {},
     "output_type": "execute_result"
    }
   ],
   "source": [
    "L1 =[1,2,-1,4,5,6,7]\n",
    "max(L1), min(L1)"
   ]
  },
  {
   "cell_type": "markdown",
   "id": "dfaaf4d6",
   "metadata": {},
   "source": [
    "# TASK5\n"
   ]
  },
  {
   "cell_type": "code",
   "execution_count": 2,
   "id": "f8a94631",
   "metadata": {},
   "outputs": [
    {
     "name": "stdout",
     "output_type": "stream",
     "text": [
      "Max Value is: 880\n",
      "Min Value is: 29\n"
     ]
    }
   ],
   "source": [
    "def funct(**data): #kwarg keyward to accept data in dictionary format from user \n",
    "    #print(data) data is dictionary here\n",
    "    values = data.values() # to get all the values of dictionary i use \n",
    "    print('Max Value is:', max(values))\n",
    "    print('Min Value is:', min(values))\n",
    "    \n",
    "funct(item1=45.50, item2=35, item3=41.30, item4=29, item5 = 49.89, item7 = 880)"
   ]
  },
  {
   "cell_type": "code",
   "execution_count": null,
   "id": "3e95265a",
   "metadata": {},
   "outputs": [],
   "source": []
  },
  {
   "cell_type": "markdown",
   "id": "aa622f35",
   "metadata": {},
   "source": [
    "# TASK6"
   ]
  },
  {
   "cell_type": "code",
   "execution_count": 235,
   "id": "fa935c3d",
   "metadata": {},
   "outputs": [
    {
     "name": "stdout",
     "output_type": "stream",
     "text": [
      "Profile Card\n",
      "Name: Yogesh\n",
      "Age: 25\n",
      "Gender: Male\n"
     ]
    }
   ],
   "source": [
    "def func(name, age, gender):\n",
    "    Name=name\n",
    "    Age=age\n",
    "    Gender=gender\n",
    "    return Name, Age, Gender\n",
    "Name,Age,Gender = func(age=25,name='Yogesh',gender='Male')\n",
    "\n",
    "def test1(a, b, c):\n",
    "    print('Profile Card')\n",
    "    print('Name:',a)\n",
    "    print('Age:',b)\n",
    "    print('Gender:',c)\n",
    "test1(Name,Age,Gender)\n"
   ]
  },
  {
   "cell_type": "code",
   "execution_count": null,
   "id": "2fe9bc54",
   "metadata": {},
   "outputs": [],
   "source": []
  },
  {
   "cell_type": "markdown",
   "id": "3cf82b3c",
   "metadata": {},
   "source": [
    "# TASK 7"
   ]
  },
  {
   "cell_type": "code",
   "execution_count": 239,
   "id": "664f6fa9",
   "metadata": {},
   "outputs": [
    {
     "name": "stdout",
     "output_type": "stream",
     "text": [
      "100\n"
     ]
    }
   ],
   "source": [
    "def funct1(x,y):\n",
    "    def inerfunt(a,b):\n",
    "        return a**2*b\n",
    "    val = inerfunt(x,y)\n",
    "    print(val)\n",
    "\n",
    "funct1(5,4)\n"
   ]
  },
  {
   "cell_type": "code",
   "execution_count": null,
   "id": "11c0a55b",
   "metadata": {},
   "outputs": [],
   "source": []
  },
  {
   "cell_type": "markdown",
   "id": "75ed8a8d",
   "metadata": {},
   "source": [
    "# TASK 8"
   ]
  },
  {
   "cell_type": "code",
   "execution_count": 240,
   "id": "97355df3",
   "metadata": {},
   "outputs": [
    {
     "name": "stdout",
     "output_type": "stream",
     "text": [
      "[('green', 1), ('blue', 2), ('yellow', 3), ('black', 4), ('red', 5)]\n"
     ]
    }
   ],
   "source": [
    "color = [('black', 4), ('green',1), ('red', 5), ('blue',2), ('yellow', 3)]\n",
    "for i in range (len(color)):\n",
    "    for j in range(i+1,len(color)):\n",
    "        if color[i][1]>color[j][1]:\n",
    "            color[i],color[j]=color[j],color[i]\n",
    "print(color)"
   ]
  },
  {
   "cell_type": "code",
   "execution_count": null,
   "id": "16af04f6",
   "metadata": {},
   "outputs": [],
   "source": []
  },
  {
   "cell_type": "markdown",
   "id": "7affb98f",
   "metadata": {},
   "source": [
    "# TASK 9"
   ]
  },
  {
   "cell_type": "code",
   "execution_count": 176,
   "id": "4321bc12",
   "metadata": {},
   "outputs": [
    {
     "name": "stdout",
     "output_type": "stream",
     "text": [
      "(None, 'Mandy', None)\n"
     ]
    }
   ],
   "source": [
    "l1 = ['Andy', 'Mandy', 'Sandy']\n",
    "l2= ['Handy', 'Brandy', 'Mandy']\n",
    "\n",
    "list1 = tuple(map(lambda a,b: a if a in l2  else  None,l1,l2))\n",
    "print(list1)"
   ]
  },
  {
   "cell_type": "code",
   "execution_count": null,
   "id": "3bc5a1f5",
   "metadata": {},
   "outputs": [],
   "source": []
  },
  {
   "cell_type": "markdown",
   "id": "c1393f90",
   "metadata": {},
   "source": [
    "# TASK 10"
   ]
  },
  {
   "cell_type": "code",
   "execution_count": 229,
   "id": "49af825f",
   "metadata": {},
   "outputs": [
    {
     "name": "stdout",
     "output_type": "stream",
     "text": [
      "[29, 29, 29]\n"
     ]
    }
   ],
   "source": [
    "l1 = [12,13,14]\n",
    "l2= [17,16,15]\n",
    "\n",
    "list1 = list(map(lambda a,b: a+b,l1,l2))\n",
    "print(list1)"
   ]
  },
  {
   "cell_type": "code",
   "execution_count": null,
   "id": "50c46efc",
   "metadata": {},
   "outputs": [],
   "source": []
  }
 ],
 "metadata": {
  "kernelspec": {
   "display_name": "Python 3 (ipykernel)",
   "language": "python",
   "name": "python3"
  },
  "language_info": {
   "codemirror_mode": {
    "name": "ipython",
    "version": 3
   },
   "file_extension": ".py",
   "mimetype": "text/x-python",
   "name": "python",
   "nbconvert_exporter": "python",
   "pygments_lexer": "ipython3",
   "version": "3.9.12"
  }
 },
 "nbformat": 4,
 "nbformat_minor": 5
}
