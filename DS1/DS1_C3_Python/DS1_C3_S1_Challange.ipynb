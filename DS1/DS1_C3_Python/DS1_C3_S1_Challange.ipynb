{
 "cells": [
  {
   "cell_type": "code",
   "execution_count": null,
   "id": "d55e0435",
   "metadata": {},
   "outputs": [],
   "source": []
  },
  {
   "cell_type": "markdown",
   "id": "b70a26eb",
   "metadata": {},
   "source": [
    "# TASK 1"
   ]
  },
  {
   "cell_type": "code",
   "execution_count": null,
   "id": "434e4ebb",
   "metadata": {},
   "outputs": [],
   "source": []
  },
  {
   "cell_type": "code",
   "execution_count": 1,
   "id": "2602c82f",
   "metadata": {},
   "outputs": [
    {
     "name": "stdout",
     "output_type": "stream",
     "text": [
      "Area_of_Circle: 113.04\n"
     ]
    }
   ],
   "source": [
    "Radius = 6\n",
    "\n",
    "Area_of_Circle = 3.14*(6*6)\n",
    "\n",
    "print('Area_of_Circle:', Area_of_Circle)"
   ]
  },
  {
   "cell_type": "code",
   "execution_count": null,
   "id": "63bf4d9e",
   "metadata": {},
   "outputs": [],
   "source": []
  },
  {
   "cell_type": "markdown",
   "id": "3572260a",
   "metadata": {},
   "source": [
    "# TASK 2"
   ]
  },
  {
   "cell_type": "code",
   "execution_count": 2,
   "id": "50a052e2",
   "metadata": {},
   "outputs": [],
   "source": [
    "Selling_Price= 85"
   ]
  },
  {
   "cell_type": "code",
   "execution_count": 3,
   "id": "e96667e6",
   "metadata": {},
   "outputs": [],
   "source": [
    "Sales_Tax = '18%'"
   ]
  },
  {
   "cell_type": "code",
   "execution_count": 4,
   "id": "d1e551d5",
   "metadata": {},
   "outputs": [],
   "source": [
    "Tax_Amount = 18/100*85"
   ]
  },
  {
   "cell_type": "code",
   "execution_count": 5,
   "id": "961855df",
   "metadata": {},
   "outputs": [
    {
     "name": "stdout",
     "output_type": "stream",
     "text": [
      "Tax Amount is: 15.3\n"
     ]
    }
   ],
   "source": [
    "print('Tax Amount is:', round(Tax_Amount,1))"
   ]
  },
  {
   "cell_type": "code",
   "execution_count": 6,
   "id": "4508e04c",
   "metadata": {},
   "outputs": [],
   "source": [
    "Product_Amount = Selling_Price - Tax_Amount"
   ]
  },
  {
   "cell_type": "code",
   "execution_count": 7,
   "id": "8545c400",
   "metadata": {},
   "outputs": [
    {
     "name": "stdout",
     "output_type": "stream",
     "text": [
      "Tax Inclusive Price of Product: 69.7\n"
     ]
    }
   ],
   "source": [
    "print('Tax Inclusive Price of Product:',Product_Amount)"
   ]
  },
  {
   "cell_type": "code",
   "execution_count": null,
   "id": "049d2c11",
   "metadata": {},
   "outputs": [],
   "source": []
  },
  {
   "cell_type": "markdown",
   "id": "a035695b",
   "metadata": {},
   "source": [
    "# TASK3"
   ]
  },
  {
   "cell_type": "code",
   "execution_count": 8,
   "id": "9ed2c2a3",
   "metadata": {},
   "outputs": [],
   "source": [
    "# $1 = INR75"
   ]
  },
  {
   "cell_type": "code",
   "execution_count": 9,
   "id": "15e85d4e",
   "metadata": {},
   "outputs": [],
   "source": [
    "# INR 3333 = ?"
   ]
  },
  {
   "cell_type": "code",
   "execution_count": 10,
   "id": "a9c77a5a",
   "metadata": {},
   "outputs": [],
   "source": [
    "Dollar_Amount = 3333/75"
   ]
  },
  {
   "cell_type": "code",
   "execution_count": 11,
   "id": "9a65d39c",
   "metadata": {},
   "outputs": [
    {
     "name": "stdout",
     "output_type": "stream",
     "text": [
      "Dollar_Amount of 3333 is: 44.44 $\n"
     ]
    }
   ],
   "source": [
    "print('Dollar_Amount of 3333 is:',Dollar_Amount,'$')"
   ]
  },
  {
   "cell_type": "code",
   "execution_count": null,
   "id": "d910aa7c",
   "metadata": {},
   "outputs": [],
   "source": []
  },
  {
   "cell_type": "markdown",
   "id": "537e7873",
   "metadata": {},
   "source": [
    "\n",
    "# TASK4 "
   ]
  },
  {
   "cell_type": "code",
   "execution_count": 12,
   "id": "b705be1b",
   "metadata": {},
   "outputs": [],
   "source": [
    "amount = 5000"
   ]
  },
  {
   "cell_type": "code",
   "execution_count": 13,
   "id": "84ec8ec5",
   "metadata": {},
   "outputs": [],
   "source": [
    "infalm = 7/100*amount"
   ]
  },
  {
   "cell_type": "code",
   "execution_count": 14,
   "id": "fb7deee3",
   "metadata": {},
   "outputs": [],
   "source": [
    "pp = amount - infalm"
   ]
  },
  {
   "cell_type": "code",
   "execution_count": 15,
   "id": "25ad638b",
   "metadata": {},
   "outputs": [
    {
     "data": {
      "text/plain": [
       "4650.0"
      ]
     },
     "execution_count": 15,
     "metadata": {},
     "output_type": "execute_result"
    }
   ],
   "source": [
    "pp"
   ]
  },
  {
   "cell_type": "code",
   "execution_count": null,
   "id": "bb1870b7",
   "metadata": {},
   "outputs": [],
   "source": []
  },
  {
   "cell_type": "markdown",
   "id": "58990519",
   "metadata": {},
   "source": [
    "# TASK5"
   ]
  },
  {
   "cell_type": "code",
   "execution_count": null,
   "id": "09100cce",
   "metadata": {},
   "outputs": [],
   "source": []
  },
  {
   "cell_type": "code",
   "execution_count": 16,
   "id": "7d16bba7",
   "metadata": {},
   "outputs": [
    {
     "name": "stdout",
     "output_type": "stream",
     "text": [
      "Enter your Name: yogesh\n",
      "Enter the language you're Learning: python\n",
      "Hello, I'm yogesh I'm learning python\n"
     ]
    }
   ],
   "source": [
    "User_Name = str(input(\"Enter your Name: \"))\n",
    "Lang = str(input(\"Enter the language you're Learning: \"))\n",
    "print(\"Hello, I'm\",User_Name, \"I'm learning\", Lang)"
   ]
  },
  {
   "cell_type": "code",
   "execution_count": null,
   "id": "630a7bdb",
   "metadata": {},
   "outputs": [],
   "source": []
  },
  {
   "cell_type": "markdown",
   "id": "fb2cbb57",
   "metadata": {},
   "source": [
    "# TASK6"
   ]
  },
  {
   "cell_type": "code",
   "execution_count": 17,
   "id": "87b9557c",
   "metadata": {},
   "outputs": [
    {
     "name": "stdout",
     "output_type": "stream",
     "text": [
      "Enter the Principle Amount: 1000\n",
      "Enter the Rate_of_Interest: 10\n",
      "Enter the time: 10\n",
      "Simple Interest of above inputs is:  1000.0\n"
     ]
    }
   ],
   "source": [
    "Principle_Amount = int(input('Enter the Principle Amount: '))\n",
    "Rate_of_Interest = int(input('Enter the Rate_of_Interest: '))\n",
    "Time = int(input('Enter the time: '))\n",
    "SI = (Principle_Amount*Rate_of_Interest*Time)/100\n",
    "print('Simple Interest of above inputs is: ', SI)"
   ]
  },
  {
   "cell_type": "code",
   "execution_count": null,
   "id": "d5c9d315",
   "metadata": {},
   "outputs": [],
   "source": []
  },
  {
   "cell_type": "markdown",
   "id": "158ebf4f",
   "metadata": {},
   "source": [
    "# TASK7"
   ]
  },
  {
   "cell_type": "code",
   "execution_count": 18,
   "id": "d8ca55e5",
   "metadata": {},
   "outputs": [
    {
     "name": "stdout",
     "output_type": "stream",
     "text": [
      "Enter the Principle Amount: 10000\n",
      "Enter the Rate_of_Interest: 10\n",
      "Enter the time: 10\n",
      "Compound Interest of above inputs is:  15937.424601000024\n"
     ]
    }
   ],
   "source": [
    "Principle_Amount = int(input('Enter the Principle Amount: '))\n",
    "Rate_of_Interest = int(input('Enter the Rate_of_Interest: '))\n",
    "Time = int(input('Enter the time: '))\n",
    "A = Principle_Amount*(1+Rate_of_Interest/100)**Time\n",
    "CI= A-Principle_Amount\n",
    "print('Compound Interest of above inputs is: ', CI)"
   ]
  },
  {
   "cell_type": "code",
   "execution_count": null,
   "id": "889705b8",
   "metadata": {},
   "outputs": [],
   "source": []
  },
  {
   "cell_type": "markdown",
   "id": "528f1b88",
   "metadata": {},
   "source": [
    "# TASK8"
   ]
  },
  {
   "cell_type": "code",
   "execution_count": 19,
   "id": "95452603",
   "metadata": {},
   "outputs": [
    {
     "name": "stdout",
     "output_type": "stream",
     "text": [
      " Enter the first value:10\n",
      " Enter the second value:12\n",
      " Valuse has been swapped\n",
      " After swap first value is: 12 \n",
      " After swap second value is: 10\n"
     ]
    }
   ],
   "source": [
    "first_value= int(input(' Enter the first value:'))\n",
    "second_value= int(input(' Enter the second value:'))\n",
    "\n",
    "first_value,second_value=second_value,first_value\n",
    "\n",
    "print(' Valuse has been swapped')\n",
    "\n",
    "print(' After swap first value is:',first_value, '\\n','After swap second value is:', second_value)"
   ]
  },
  {
   "cell_type": "code",
   "execution_count": null,
   "id": "6270d096",
   "metadata": {},
   "outputs": [],
   "source": []
  },
  {
   "cell_type": "markdown",
   "id": "921e9f9e",
   "metadata": {},
   "source": [
    "# TASK 9"
   ]
  },
  {
   "cell_type": "code",
   "execution_count": 20,
   "id": "9f533d72",
   "metadata": {},
   "outputs": [
    {
     "name": "stdout",
     "output_type": "stream",
     "text": [
      "Enter the Distance in KMs:1000\n",
      "1000 Km Distance in Miles is: 621 Miles Approx\n"
     ]
    }
   ],
   "source": [
    "Dist_In_KM = int(input('Enter the Distance in KMs:'))\n",
    "\n",
    "Dist_In_Miles = Dist_In_KM * 0.62137 \n",
    "\n",
    "print(Dist_In_KM,'Km', 'Distance in Miles is:', round(Dist_In_Miles), 'Miles Approx')"
   ]
  },
  {
   "cell_type": "code",
   "execution_count": null,
   "id": "fdf7791d",
   "metadata": {},
   "outputs": [],
   "source": []
  },
  {
   "cell_type": "markdown",
   "id": "6b364b5b",
   "metadata": {},
   "source": [
    "# TASK 10"
   ]
  },
  {
   "cell_type": "markdown",
   "id": "0c4d18a5",
   "metadata": {},
   "source": [
    "This can be easily done with the help of loop but we haven't studied yet so below is the code"
   ]
  },
  {
   "cell_type": "code",
   "execution_count": 21,
   "id": "a94634ad",
   "metadata": {},
   "outputs": [
    {
     "name": "stdout",
     "output_type": "stream",
     "text": [
      " Enter the Number:3\n",
      " Table of 3 is below \n",
      " 3 x 1 = 3 \n",
      " 3 x 2 = 6 \n",
      " 3 x 3 = 9 \n",
      " 3 x 4 = 12 \n",
      " 3 x 5 = 15 \n",
      " 3 x 6 = 18 \n",
      " 3 x 7 = 21 \n",
      " 3 x 8 = 24 \n",
      " 3 x 9 = 27 \n",
      " 3 x 10 = 30\n"
     ]
    }
   ],
   "source": [
    "num = int(input(' Enter the Number:'))\n",
    "print(' Table of', num, 'is below', '\\n',num,'x',1,'=',num*1, '\\n', num,'x',2,'=',num*2, '\\n', num,'x',3,'=',num*3, '\\n', num,'x',4,'=',num*4, '\\n', num,'x',5,'=',num*5,'\\n' , num,'x',6,'=',num*6, '\\n', num,'x',7,'=',num*7,'\\n' , num,'x',8,'=',num*8, '\\n', num,'x',9,'=',num*9,'\\n', num,'x',10,'=',num*10 )"
   ]
  },
  {
   "cell_type": "code",
   "execution_count": null,
   "id": "ee3dfbf8",
   "metadata": {},
   "outputs": [],
   "source": []
  },
  {
   "cell_type": "markdown",
   "id": "644874ff",
   "metadata": {},
   "source": [
    "# TASK 11"
   ]
  },
  {
   "cell_type": "code",
   "execution_count": 22,
   "id": "f0dd5edf",
   "metadata": {},
   "outputs": [],
   "source": [
    "#to save the file in different format"
   ]
  },
  {
   "cell_type": "code",
   "execution_count": null,
   "id": "d3084037",
   "metadata": {},
   "outputs": [],
   "source": []
  }
 ],
 "metadata": {
  "kernelspec": {
   "display_name": "Python 3 (ipykernel)",
   "language": "python",
   "name": "python3"
  },
  "language_info": {
   "codemirror_mode": {
    "name": "ipython",
    "version": 3
   },
   "file_extension": ".py",
   "mimetype": "text/x-python",
   "name": "python",
   "nbconvert_exporter": "python",
   "pygments_lexer": "ipython3",
   "version": "3.9.12"
  }
 },
 "nbformat": 4,
 "nbformat_minor": 5
}
