{
 "cells": [
  {
   "cell_type": "markdown",
   "id": "8a5cf109",
   "metadata": {},
   "source": [
    "# TASK1"
   ]
  },
  {
   "cell_type": "code",
   "execution_count": null,
   "id": "1f8e0cdd",
   "metadata": {},
   "outputs": [],
   "source": []
  },
  {
   "cell_type": "code",
   "execution_count": 29,
   "id": "f6babad5",
   "metadata": {},
   "outputs": [
    {
     "name": "stdout",
     "output_type": "stream",
     "text": [
      "Please enter character: a\n",
      "Holiday\n"
     ]
    }
   ],
   "source": [
    "Input_chr = str(input(\"Please enter character: \"))\n",
    "if Input_chr == 'A':\n",
    "    print('Python')\n",
    "elif Input_chr == 'B':\n",
    "    print('MySql')\n",
    "elif Input_chr == 'C':\n",
    "    print('Excel')\n",
    "else:\n",
    "    print('Holiday')"
   ]
  },
  {
   "cell_type": "code",
   "execution_count": null,
   "id": "dd255ccc",
   "metadata": {},
   "outputs": [],
   "source": []
  },
  {
   "cell_type": "markdown",
   "id": "7e6de9d8",
   "metadata": {},
   "source": [
    "# TASK2"
   ]
  },
  {
   "cell_type": "code",
   "execution_count": 30,
   "id": "f06cf59b",
   "metadata": {},
   "outputs": [
    {
     "name": "stdout",
     "output_type": "stream",
     "text": [
      "Enter the first value: 1\n",
      "Enter the second value: 2\n",
      "2 is the highest value among two values given by user\n"
     ]
    }
   ],
   "source": [
    "val1 =int(input(\"Enter the first value: \"))\n",
    "val2 =int(input(\"Enter the second value: \"))\n",
    "\n",
    "if val1>val2:\n",
    "    print('{0} is the highest value among two values given by user'.format(val1))\n",
    "\n",
    "\n",
    "if val2>val1:\n",
    "    print('{0} is the highest value among two values given by user'.format(val2))\n"
   ]
  },
  {
   "cell_type": "code",
   "execution_count": null,
   "id": "d6f228dd",
   "metadata": {},
   "outputs": [],
   "source": []
  },
  {
   "cell_type": "markdown",
   "id": "b9be8b4c",
   "metadata": {},
   "source": [
    "# TASK3"
   ]
  },
  {
   "cell_type": "code",
   "execution_count": 31,
   "id": "d5247ab0",
   "metadata": {},
   "outputs": [
    {
     "name": "stdout",
     "output_type": "stream",
     "text": [
      "Enter your basic salary: 1000\n",
      "Your Net salary is:  1150.0\n"
     ]
    }
   ],
   "source": [
    "sal = int(input(\"Enter your basic salary: \"))\n",
    "if sal>0 and sal<=4000:\n",
    "    hra= 10/100*sal\n",
    "    da=5/100*sal\n",
    "    print(\"Your Net salary is: \", sal+hra+da)\n",
    "elif sal>4000 and sal<=10000:\n",
    "    hra= 20/100*sal\n",
    "    da=10/100*sal\n",
    "    total_sal = sal+hra+da\n",
    "    tax=15/100*total_sal\n",
    "    print(\"Your Net salary is: \", total_sal-tax)\n",
    "\n",
    "elif sal>10000:\n",
    "    hra= 25/100*sal\n",
    "    da=15/100*sal\n",
    "    total_sal = sal+hra+da\n",
    "    tax=20/100*total_sal\n",
    "    print(\"Your Net salary is: \", total_sal-tax)\n",
    "\n",
    "else:\n",
    "    print(\"Enter Valid Salary\")\n"
   ]
  },
  {
   "cell_type": "code",
   "execution_count": null,
   "id": "8f89a480",
   "metadata": {},
   "outputs": [],
   "source": []
  },
  {
   "cell_type": "markdown",
   "id": "f5acc79e",
   "metadata": {},
   "source": [
    "# TASK4"
   ]
  },
  {
   "cell_type": "code",
   "execution_count": 32,
   "id": "71371dc1",
   "metadata": {},
   "outputs": [
    {
     "name": "stdout",
     "output_type": "stream",
     "text": [
      "Please enter a word: a\n",
      "Yes, this word is available in Var\n"
     ]
    },
    {
     "data": {
      "text/plain": [
       "'\\nif word.lower() in var.lower(): #THIS IS NOT CASE SENSETIVE\\n    print(\"Yes, this word is available in Var\")\\nelse:\\n    print(\"No, this word is available in Var\")'"
      ]
     },
     "execution_count": 32,
     "metadata": {},
     "output_type": "execute_result"
    }
   ],
   "source": [
    "var = 'Python is an interpreted high-level general purpose programming language.Its design philosophy emphasizes code readability with it use of significant identation. Its language constructs as well as its object-oriented approach aim to help programmers write clear, logical code for small and large-scale projects.'\n",
    "word= str(input(\"Please enter a word: \"))\n",
    "\n",
    "if word in var: #THIS IS CASE SENSETIVE\n",
    "    print(\"Yes, this word is available in Var\")\n",
    "else:\n",
    "    print(\"No, this word is available in Var\")\n",
    "    \n",
    "'''\n",
    "if word.lower() in var.lower(): #THIS IS NOT CASE SENSETIVE\n",
    "    print(\"Yes, this word is available in Var\")\n",
    "else:\n",
    "    print(\"No, this word is available in Var\")'''\n",
    "    \n",
    "\n"
   ]
  },
  {
   "cell_type": "code",
   "execution_count": null,
   "id": "de8d1a53",
   "metadata": {},
   "outputs": [],
   "source": []
  },
  {
   "cell_type": "markdown",
   "id": "45029a65",
   "metadata": {},
   "source": [
    "# TASK 5"
   ]
  },
  {
   "cell_type": "markdown",
   "id": "f993c589",
   "metadata": {},
   "source": [
    "## NESTED IF - ELSE"
   ]
  },
  {
   "cell_type": "code",
   "execution_count": 34,
   "id": "655c0e5e",
   "metadata": {},
   "outputs": [
    {
     "name": "stdout",
     "output_type": "stream",
     "text": [
      "Enter a single character: asdasd\n",
      "Please use single character\n"
     ]
    }
   ],
   "source": [
    "Sing_char= str(input(\"Enter a single character: \"))\n",
    "\n",
    "if len(Sing_char)>1:\n",
    "    print(\"Please use single character\")\n",
    "else:\n",
    "    if Sing_char == Sing_char.lower():\n",
    "        print(\"Lowercase\")\n",
    "    else:\n",
    "        print(\"Uppercase\")\n",
    "\n",
    "\n",
    "    "
   ]
  },
  {
   "cell_type": "code",
   "execution_count": null,
   "id": "7ce4dbba",
   "metadata": {},
   "outputs": [],
   "source": []
  },
  {
   "cell_type": "markdown",
   "id": "6b53a962",
   "metadata": {},
   "source": [
    "# TASK6"
   ]
  },
  {
   "cell_type": "code",
   "execution_count": 37,
   "id": "2ac93e56",
   "metadata": {},
   "outputs": [
    {
     "name": "stdout",
     "output_type": "stream",
     "text": [
      "Enter a single Alphabet: aAb\n",
      "please enter only single alphabet\n"
     ]
    }
   ],
   "source": [
    "Vowel= ['a','e','i','o','u']\n",
    "\n",
    "Alphabet= str(input(\"Enter a single Alphabet: \")).lower()\n",
    "\n",
    "if len(Alphabet)>1:\n",
    "    print(\"please enter only single alphabet\")\n",
    "else:\n",
    "    if Alphabet in Vowel:\n",
    "        print(\"This is Vowel\")\n",
    "    else:\n",
    "        print(\"This is consonant\")\n",
    "        \n",
    "    "
   ]
  },
  {
   "cell_type": "code",
   "execution_count": null,
   "id": "e73fdc16",
   "metadata": {},
   "outputs": [],
   "source": []
  }
 ],
 "metadata": {
  "kernelspec": {
   "display_name": "Python 3 (ipykernel)",
   "language": "python",
   "name": "python3"
  },
  "language_info": {
   "codemirror_mode": {
    "name": "ipython",
    "version": 3
   },
   "file_extension": ".py",
   "mimetype": "text/x-python",
   "name": "python",
   "nbconvert_exporter": "python",
   "pygments_lexer": "ipython3",
   "version": "3.9.12"
  }
 },
 "nbformat": 4,
 "nbformat_minor": 5
}
