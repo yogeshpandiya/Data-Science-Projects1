{
 "cells": [
  {
   "cell_type": "markdown",
   "id": "aefec453",
   "metadata": {},
   "source": [
    "# TASK 1"
   ]
  },
  {
   "cell_type": "code",
   "execution_count": 127,
   "id": "87255774",
   "metadata": {},
   "outputs": [
    {
     "name": "stdout",
     "output_type": "stream",
     "text": [
      "False\n",
      "FALSE\n",
      "TRUE\n"
     ]
    }
   ],
   "source": [
    "mynames = [\"Joe\", \"Zoe\", \"world\", \"Brad\", \"Angelina\", \"world\", \"Zuki\", \"Tom\", \"Paris\", \"world\",\"magic\"]\n",
    "\n",
    "if \"USA\" in mynames:\n",
    "        print('True')\n",
    "else:\n",
    "    print('False')\n",
    "\n",
    "#using for loop.................\n",
    "j=0\n",
    "for i in mynames:\n",
    "    if i == \"JoIe\":\n",
    "        print('TRUE')\n",
    "        break\n",
    "    else:\n",
    "        j+=1\n",
    "if j==len(mynames):\n",
    "    print('FALSE')\n",
    "\n",
    "#using while loop................ \n",
    "    \n",
    "k=0\n",
    "while k<len(mynames):\n",
    "    if mynames[k] == \"Joe\":\n",
    "        print('TRUE')\n",
    "        break\n",
    "    else:\n",
    "        k+=1\n",
    "if k==len(mynames):\n",
    "    print('FALSE')  \n",
    "    \n"
   ]
  },
  {
   "cell_type": "code",
   "execution_count": null,
   "id": "a021a558",
   "metadata": {},
   "outputs": [],
   "source": []
  },
  {
   "cell_type": "markdown",
   "id": "7be85de0",
   "metadata": {},
   "source": [
    "# TASK2"
   ]
  },
  {
   "cell_type": "code",
   "execution_count": 128,
   "id": "16a14ed1",
   "metadata": {},
   "outputs": [],
   "source": [
    "mynames = [\"Joe\", \"Zoe\", \"world\", \"Brad\", \"Angelina\", \"world\", \"Zuki\", \"Tom\", \"Paris\", \"world\",\"magic\"]"
   ]
  },
  {
   "cell_type": "code",
   "execution_count": 129,
   "id": "f586f773",
   "metadata": {},
   "outputs": [
    {
     "data": {
      "text/plain": [
       "3"
      ]
     },
     "execution_count": 129,
     "metadata": {},
     "output_type": "execute_result"
    }
   ],
   "source": [
    "mynames.count('world')"
   ]
  },
  {
   "cell_type": "code",
   "execution_count": null,
   "id": "6f3a6677",
   "metadata": {},
   "outputs": [],
   "source": []
  },
  {
   "cell_type": "markdown",
   "id": "1193ff2f",
   "metadata": {},
   "source": [
    "# TASK 3"
   ]
  },
  {
   "cell_type": "code",
   "execution_count": 130,
   "id": "a4c54274",
   "metadata": {},
   "outputs": [],
   "source": [
    "dataset=list(range(1,30))"
   ]
  },
  {
   "cell_type": "code",
   "execution_count": 131,
   "id": "12f82780",
   "metadata": {},
   "outputs": [
    {
     "name": "stdout",
     "output_type": "stream",
     "text": [
      " Count of Even number in dataset:  14 \n",
      " Count of Odd number in dataset:  15\n"
     ]
    }
   ],
   "source": [
    "Even=0\n",
    "Odd=0\n",
    "for i in dataset:\n",
    "    if i%2==0:\n",
    "        Even+=1\n",
    "    else:\n",
    "        Odd+=1\n",
    "        \n",
    "print(\" Count of Even number in dataset: \" ,Even,'\\n',\"Count of Odd number in dataset: \",Odd) "
   ]
  },
  {
   "cell_type": "code",
   "execution_count": null,
   "id": "c284f53d",
   "metadata": {},
   "outputs": [],
   "source": []
  },
  {
   "cell_type": "markdown",
   "id": "e00fd203",
   "metadata": {},
   "source": [
    "# TASK4"
   ]
  },
  {
   "cell_type": "code",
   "execution_count": 132,
   "id": "cd581766",
   "metadata": {},
   "outputs": [
    {
     "name": "stdout",
     "output_type": "stream",
     "text": [
      "List of First five Even number:  [2, 4, 6, 8, 10]\n"
     ]
    }
   ],
   "source": [
    "Even=[]\n",
    "for i in dataset:\n",
    "    if i%2==0:\n",
    "        if len(Even)<5:\n",
    "            Even.append(i)\n",
    "        else:\n",
    "            pass\n",
    "    else:\n",
    "        pass\n",
    "        \n",
    "print(\"List of First five Even number: \" ,Even) "
   ]
  },
  {
   "cell_type": "code",
   "execution_count": null,
   "id": "f5bc3f31",
   "metadata": {},
   "outputs": [],
   "source": []
  },
  {
   "cell_type": "markdown",
   "id": "fd6b68ac",
   "metadata": {},
   "source": [
    "# TASK5"
   ]
  },
  {
   "cell_type": "code",
   "execution_count": 135,
   "id": "2e061285",
   "metadata": {},
   "outputs": [
    {
     "name": "stdout",
     "output_type": "stream",
     "text": [
      "last two odd number in data set\n",
      "Odd 29\n",
      "Odd 27\n"
     ]
    }
   ],
   "source": [
    "print(\"last two odd number in data set\")\n",
    "a=len(dataset)\n",
    "k=0\n",
    "for i in range(a):\n",
    "    j=a-i\n",
    "    if j%2!=0 and k<2:\n",
    "        print('Odd',j)\n",
    "        k+=1\n"
   ]
  },
  {
   "cell_type": "code",
   "execution_count": null,
   "id": "92ee5e1b",
   "metadata": {},
   "outputs": [],
   "source": []
  },
  {
   "cell_type": "markdown",
   "id": "600d2b8c",
   "metadata": {},
   "source": [
    "# TASK6"
   ]
  },
  {
   "cell_type": "code",
   "execution_count": 99,
   "id": "68dfd0f3",
   "metadata": {},
   "outputs": [],
   "source": []
  },
  {
   "cell_type": "code",
   "execution_count": 136,
   "id": "8bf4bcb0",
   "metadata": {},
   "outputs": [
    {
     "name": "stdout",
     "output_type": "stream",
     "text": [
      "Please Enter a 1 Value for list one:1\n",
      "Please Enter a 2 Value for list one:2\n",
      "Please Enter a 3 Value for list one:3\n",
      "Please Enter a 4 Value for list one:4\n",
      "Please Enter a 5 Value for list one:5\n",
      "Please Enter a 1 Value for list two:2\n",
      "Please Enter a 2 Value for list two:1\n",
      "Please Enter a 3 Value for list two:3\n",
      "Please Enter a 4 Value for list two:1\n",
      "Please Enter a 5 Value for list two:2\n",
      "Please Enter a word to be added in list: Yogesh\n",
      "Final X list:  ['Yogesh', 1, 2, 3, 4, 5, 2, 1, 3, 1, 2]\n",
      "Final Y list:  [2, 1, 3, 1, 2]\n"
     ]
    }
   ],
   "source": [
    "x=[]\n",
    "y=[]\n",
    "for i in range(10):\n",
    "    if len(x)<5:\n",
    "        a= int(input(\"Please Enter a {0} Value for list one:\".format(i+1)))\n",
    "        x.append(a)\n",
    "    else:\n",
    "        b = int(input(\"Please Enter a {0} Value for list two:\".format(i-4)))\n",
    "        y.append(b)\n",
    "x.extend(y)\n",
    "c=str(input(\"Please Enter a word to be added in list: \"))\n",
    "x.insert(0,c)\n",
    "print(\"Final X list: \", x)\n",
    "print(\"Final Y list: \", y)"
   ]
  },
  {
   "cell_type": "code",
   "execution_count": null,
   "id": "750f7c53",
   "metadata": {},
   "outputs": [],
   "source": []
  },
  {
   "cell_type": "markdown",
   "id": "e95af851",
   "metadata": {},
   "source": [
    "# TASK7"
   ]
  },
  {
   "cell_type": "code",
   "execution_count": 144,
   "id": "0625de11",
   "metadata": {},
   "outputs": [
    {
     "name": "stdout",
     "output_type": "stream",
     "text": [
      "[1, 4, 9, 16, 25, 36, 49, 64, 81, 100, 900, 961, 1024, 1089, 1156, 1225, 1296, 1369, 1444, 1521, 1600]\n"
     ]
    }
   ],
   "source": [
    "lst = []\n",
    "for i in range(1,41):\n",
    "    if i<=10:\n",
    "        lst.append(i**2)\n",
    "    elif i>=30: \n",
    "        lst.append(i**2) \n",
    "print(lst)"
   ]
  },
  {
   "cell_type": "code",
   "execution_count": null,
   "id": "dd885629",
   "metadata": {},
   "outputs": [],
   "source": []
  },
  {
   "cell_type": "markdown",
   "id": "18a0fd49",
   "metadata": {},
   "source": [
    "# TASK8"
   ]
  },
  {
   "cell_type": "code",
   "execution_count": 143,
   "id": "4b26db55",
   "metadata": {},
   "outputs": [
    {
     "name": "stdout",
     "output_type": "stream",
     "text": [
      "Enter the value: 2\n",
      "2 * 1 = 2\n",
      "2 * 2 = 4\n",
      "2 * 3 = 6\n",
      "2 * 4 = 8\n",
      "2 * 5 = 10\n",
      "2 * 6 = 12\n",
      "2 * 7 = 14\n",
      "2 * 8 = 16\n",
      "2 * 9 = 18\n",
      "2 * 10 = 20\n"
     ]
    }
   ],
   "source": [
    "a= int(input(\"Enter the value: \"))\n",
    "\n",
    "for i in range(1,11):\n",
    "    print(a,'*',i,'=',a*i)"
   ]
  },
  {
   "cell_type": "code",
   "execution_count": null,
   "id": "c8978e2e",
   "metadata": {},
   "outputs": [],
   "source": []
  }
 ],
 "metadata": {
  "kernelspec": {
   "display_name": "Python 3 (ipykernel)",
   "language": "python",
   "name": "python3"
  },
  "language_info": {
   "codemirror_mode": {
    "name": "ipython",
    "version": 3
   },
   "file_extension": ".py",
   "mimetype": "text/x-python",
   "name": "python",
   "nbconvert_exporter": "python",
   "pygments_lexer": "ipython3",
   "version": "3.9.12"
  }
 },
 "nbformat": 4,
 "nbformat_minor": 5
}
