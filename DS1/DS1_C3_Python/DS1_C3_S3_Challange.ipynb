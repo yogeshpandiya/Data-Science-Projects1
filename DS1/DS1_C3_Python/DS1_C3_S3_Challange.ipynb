{
 "cells": [
  {
   "cell_type": "markdown",
   "id": "fd3e0899",
   "metadata": {},
   "source": [
    "# TASK1"
   ]
  },
  {
   "cell_type": "code",
   "execution_count": 26,
   "id": "4a119650",
   "metadata": {},
   "outputs": [
    {
     "name": "stdout",
     "output_type": "stream",
     "text": [
      "Enter 10 words to be inserted in list\n",
      "asda\n",
      "asd\n",
      "weqwe\n",
      "asd\n",
      "afwrfw\n",
      "\n",
      "wefwef\n",
      "wef\n",
      "wefwv\n",
      "df\n",
      "Reverse of list\n",
      "fd\n",
      "vwfew\n",
      "few\n",
      "fewfew\n",
      "\n",
      "wfrwfa\n",
      "dsa\n",
      "ewqew\n",
      "dsa\n",
      "adsa\n"
     ]
    }
   ],
   "source": [
    "lst=[]\n",
    "\n",
    "'''\n",
    "while len(lst)<11: #with the help of nested loop\n",
    "    if len(lst)<10:\n",
    "        lst.append(str(input('Enter a word: ')))\n",
    "    else:\n",
    "        for i in range(len(lst)):\n",
    "            print(lst[-(i+1)])\n",
    "        break\n",
    "        \n",
    "#by using two diffrent loop \n",
    "'''\n",
    "print('Enter 10 words to be inserted in list')\n",
    "while len(lst)<10:\n",
    "    lst.append(str(input()))\n",
    "\n",
    "print(\"Reverse of list\")\n",
    "for i in range(len(lst)):\n",
    "    #print(lst[i][::-1])\n",
    "    #print(lst[-(i+1)])\n",
    "    a = lst[-(i+1)]# to reverse the list\n",
    "    print(a[::-1]) #to reverse the element of list\n"
   ]
  },
  {
   "cell_type": "code",
   "execution_count": null,
   "id": "1e4951f7",
   "metadata": {},
   "outputs": [],
   "source": []
  },
  {
   "cell_type": "markdown",
   "id": "16d8bcb2",
   "metadata": {},
   "source": [
    "# TASK2"
   ]
  },
  {
   "cell_type": "code",
   "execution_count": 5,
   "id": "043ecd05",
   "metadata": {},
   "outputs": [
    {
     "name": "stdout",
     "output_type": "stream",
     "text": [
      "Enter a word: AS\n",
      "Enter a word: AS\n",
      "Enter a word: AS\n",
      "Enter a word: FDF\n",
      "Enter a word: ASD\n",
      "Enter a word: ASASD\n",
      "Enter a word: W\n",
      "Enter a word: QWEDQ\n",
      "Enter a word: ASD\n",
      "Enter a word: ASD\n",
      "['ASD', 'ASD', 'QWEDQ', 'W', 'ASASD', 'ASD', 'FDF', 'AS', 'AS', 'AS']\n"
     ]
    }
   ],
   "source": [
    "lst1=[]\n",
    "\n",
    "while len(lst1)<10: #with the help of nested loop\n",
    "        lst1.append(str(input('Enter a word: ')))\n",
    "lst1.reverse()\n",
    "print(lst1)\n"
   ]
  },
  {
   "cell_type": "code",
   "execution_count": null,
   "id": "6129fe62",
   "metadata": {},
   "outputs": [],
   "source": []
  },
  {
   "cell_type": "markdown",
   "id": "3c71ed4a",
   "metadata": {},
   "source": [
    "# TASK3"
   ]
  },
  {
   "cell_type": "code",
   "execution_count": 6,
   "id": "9345eede",
   "metadata": {},
   "outputs": [
    {
     "name": "stdout",
     "output_type": "stream",
     "text": [
      "Enter a word: ASDASD\n",
      "Enter a word: ASD\n",
      "Enter a word: ASD\n",
      "Enter a word: ASD\n",
      "Enter a word: AEWE\n",
      "Enter a word: QWE\n",
      "Enter a word: QWE\n",
      "Enter a word: QWE\n",
      "Enter a word: QWE\n",
      "Enter a word: QWE\n",
      "['ASDASD', 'ASD', 'ASD', 'ASD', 'AEWE', 'QWE', 'QWE', 'QWE', 'QWE', 'QWE']\n"
     ]
    }
   ],
   "source": [
    "alist = []\n",
    "\n",
    "while len(alist)<10: #with the help of nested loop\n",
    "        alist.append(str(input('Enter a word: ')))\n",
    "print(alist)"
   ]
  },
  {
   "cell_type": "code",
   "execution_count": null,
   "id": "77b15573",
   "metadata": {},
   "outputs": [],
   "source": []
  },
  {
   "cell_type": "markdown",
   "id": "a08a084d",
   "metadata": {},
   "source": [
    "# TASK4"
   ]
  },
  {
   "cell_type": "code",
   "execution_count": 7,
   "id": "109fac57",
   "metadata": {},
   "outputs": [
    {
     "name": "stdout",
     "output_type": "stream",
     "text": [
      "['ASDASD', 'ASD', 'AEWE', 'QWE']\n"
     ]
    }
   ],
   "source": [
    "blist=[]\n",
    "for i in alist:\n",
    "    if i not in blist:\n",
    "        blist.append(i)\n",
    "print(blist)\n",
    "        "
   ]
  },
  {
   "cell_type": "code",
   "execution_count": null,
   "id": "c68360ab",
   "metadata": {},
   "outputs": [],
   "source": []
  },
  {
   "cell_type": "markdown",
   "id": "85bba72b",
   "metadata": {},
   "source": [
    "# TASK5"
   ]
  },
  {
   "cell_type": "code",
   "execution_count": 8,
   "id": "d5c28020",
   "metadata": {},
   "outputs": [
    {
     "name": "stdout",
     "output_type": "stream",
     "text": [
      "['AEWE', 'ASD', 'ASDASD', 'QWE']\n"
     ]
    }
   ],
   "source": [
    "blist.sort()\n",
    "print(blist)"
   ]
  },
  {
   "cell_type": "code",
   "execution_count": null,
   "id": "dd6e4b31",
   "metadata": {},
   "outputs": [],
   "source": []
  },
  {
   "cell_type": "markdown",
   "id": "29ccc526",
   "metadata": {},
   "source": [
    "# TASK6"
   ]
  },
  {
   "cell_type": "code",
   "execution_count": 18,
   "id": "04c5dc8c",
   "metadata": {},
   "outputs": [
    {
     "name": "stdout",
     "output_type": "stream",
     "text": [
      "['harsh', 'rohit', 'sai', 'sakib', 'tanish', 'udit', 'vipul', 'yash']\n",
      "['harsh', 'rohit', 'sai', 'sakib', 'tanish', 'udit', 'vipul']\n",
      "['harsh', 'rohit', 'sai', 'sakib', 'tanish', 'udit']\n",
      "['harsh', 'rohit', 'sai', 'sakib', 'tanish']\n",
      "['harsh', 'rohit', 'sai', 'sakib']\n",
      "['harsh', 'rohit', 'sai']\n",
      "['harsh', 'rohit']\n",
      "['harsh']\n",
      "[]\n"
     ]
    }
   ],
   "source": [
    "#blist=['harsh', 'rohit', 'sai', 'sakib', 'tanish', 'udit', 'vipul', 'yash', 'yogesh']\n",
    "a=len(blist)\n",
    "while a>0:\n",
    "    blist.pop()\n",
    "    print(blist)\n",
    "    a-=1\n",
    "   "
   ]
  },
  {
   "cell_type": "code",
   "execution_count": null,
   "id": "43cb3313",
   "metadata": {},
   "outputs": [],
   "source": []
  },
  {
   "cell_type": "markdown",
   "id": "87575113",
   "metadata": {},
   "source": [
    "# TASK7"
   ]
  },
  {
   "cell_type": "code",
   "execution_count": 27,
   "id": "684d525e",
   "metadata": {},
   "outputs": [
    {
     "name": "stdout",
     "output_type": "stream",
     "text": [
      "1505\n",
      "1540\n",
      "1575\n",
      "1610\n",
      "1645\n",
      "1680\n",
      "1715\n",
      "1750\n",
      "1785\n",
      "1820\n",
      "1855\n",
      "1890\n",
      "1925\n",
      "1960\n",
      "1995\n",
      "2030\n",
      "2065\n",
      "2100\n",
      "2135\n",
      "2170\n",
      "2205\n",
      "2240\n",
      "2275\n",
      "2310\n",
      "2345\n",
      "2380\n",
      "2415\n",
      "2450\n",
      "2485\n",
      "2520\n",
      "2555\n",
      "2590\n",
      "2625\n",
      "2660\n",
      "2695\n"
     ]
    }
   ],
   "source": [
    "for i in range(1500,2700):\n",
    "    if i%7==0 and i%5==0:\n",
    "        print(i)"
   ]
  },
  {
   "cell_type": "code",
   "execution_count": null,
   "id": "f48e513e",
   "metadata": {},
   "outputs": [],
   "source": []
  },
  {
   "cell_type": "markdown",
   "id": "fd205e40",
   "metadata": {},
   "source": [
    "# task 8"
   ]
  },
  {
   "cell_type": "code",
   "execution_count": 28,
   "id": "6928d25a",
   "metadata": {},
   "outputs": [
    {
     "name": "stdout",
     "output_type": "stream",
     "text": [
      "Please enter a number: 8\n",
      "1\n",
      "2\n",
      "3\n",
      "4\n",
      "5\n",
      "6\n",
      "7\n",
      "9\n",
      "10\n",
      "11\n",
      "12\n",
      "13\n",
      "14\n",
      "15\n",
      "17\n",
      "18\n",
      "19\n",
      "20\n",
      "21\n",
      "22\n",
      "23\n",
      "25\n",
      "26\n",
      "27\n",
      "28\n",
      "29\n",
      "30\n"
     ]
    }
   ],
   "source": [
    "n = int(input('Please enter a number: '))\n",
    "for i in range(1,31):\n",
    "    if i%n!=0:\n",
    "        print(i)\n"
   ]
  },
  {
   "cell_type": "markdown",
   "id": "2ef2a008",
   "metadata": {},
   "source": [
    "# TASK9"
   ]
  },
  {
   "cell_type": "code",
   "execution_count": 21,
   "id": "b9961293",
   "metadata": {},
   "outputs": [
    {
     "name": "stdout",
     "output_type": "stream",
     "text": [
      "[20, 20, 20]\n",
      "[20, 20, 20]\n",
      "[20, 20, 20]\n"
     ]
    }
   ],
   "source": [
    "firstlist=[[1,2,3],[4,5,6],[7,8,9]]\n",
    "secondlist=[[19,18,17],[16,15,14],[13,12,11]]\n",
    "thirdlist=[]\n",
    "\n",
    "for i in range(len(firstlist)):\n",
    "    b=[]\n",
    "    for j in range(len(firstlist[0])): #firstlist[i][j] to get the element form list of list\n",
    "        a=firstlist[i][j] + secondlist[i][j]\n",
    "        #thirdlist.append(a)\n",
    "        b.append(a)\n",
    "    thirdlist.append(b)\n",
    "#print(thirdlist)\n",
    "\n",
    "for k in thirdlist:\n",
    "    print(k)"
   ]
  },
  {
   "cell_type": "code",
   "execution_count": null,
   "id": "63223e8a",
   "metadata": {},
   "outputs": [],
   "source": []
  },
  {
   "cell_type": "markdown",
   "id": "c37a273b",
   "metadata": {},
   "source": [
    "# TASK10"
   ]
  },
  {
   "cell_type": "code",
   "execution_count": 22,
   "id": "0f8ee3b7",
   "metadata": {},
   "outputs": [
    {
     "name": "stdout",
     "output_type": "stream",
     "text": [
      "values for first list\n",
      "1\n",
      "2\n",
      "3\n",
      "4\n",
      "5\n",
      "6\n",
      "7\n",
      "8\n",
      "9\n",
      "values for second list\n",
      "10\n",
      "11\n",
      "12\n",
      "1\n",
      "14\n",
      "15\n",
      "16\n",
      "17\n",
      "18\n",
      "Firstlist =  [[1, 2, 3], [4, 5, 6], [7, 8, 9]]\n",
      "secondlist =  [[10, 11, 12], [1, 14, 15], [16, 17, 18]]\n"
     ]
    }
   ],
   "source": [
    "firstlist=[]\n",
    "secondlist=[]\n",
    "\n",
    "print('values for first list')\n",
    "for i in range(3):\n",
    "    column=[]\n",
    "    for j in range(3):\n",
    "        column.append(int(input()))\n",
    "    firstlist.append(column)\n",
    "print('values for second list')\n",
    "for l in range(3):\n",
    "    column=[]\n",
    "    for m in range(3):\n",
    "        \n",
    "        column.append(int(input()))\n",
    "    secondlist.append(column)\n",
    "    \n",
    "print('Firstlist = ',firstlist)\n",
    "print('secondlist = ',secondlist)"
   ]
  },
  {
   "cell_type": "code",
   "execution_count": null,
   "id": "f2b24033",
   "metadata": {},
   "outputs": [],
   "source": []
  },
  {
   "cell_type": "code",
   "execution_count": null,
   "id": "8d376905",
   "metadata": {},
   "outputs": [],
   "source": []
  },
  {
   "cell_type": "code",
   "execution_count": null,
   "id": "90884e83",
   "metadata": {},
   "outputs": [],
   "source": []
  }
 ],
 "metadata": {
  "kernelspec": {
   "display_name": "Python 3 (ipykernel)",
   "language": "python",
   "name": "python3"
  },
  "language_info": {
   "codemirror_mode": {
    "name": "ipython",
    "version": 3
   },
   "file_extension": ".py",
   "mimetype": "text/x-python",
   "name": "python",
   "nbconvert_exporter": "python",
   "pygments_lexer": "ipython3",
   "version": "3.9.12"
  }
 },
 "nbformat": 4,
 "nbformat_minor": 5
}
