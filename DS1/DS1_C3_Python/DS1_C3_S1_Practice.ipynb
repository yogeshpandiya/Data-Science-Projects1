{
 "cells": [
  {
   "cell_type": "code",
   "execution_count": null,
   "id": "da6e41b2",
   "metadata": {},
   "outputs": [],
   "source": []
  },
  {
   "cell_type": "markdown",
   "id": "62042444",
   "metadata": {},
   "source": [
    "# TASK 1"
   ]
  },
  {
   "cell_type": "code",
   "execution_count": 1,
   "id": "07c55289",
   "metadata": {},
   "outputs": [],
   "source": [
    "Roll_Number = 1234567"
   ]
  },
  {
   "cell_type": "code",
   "execution_count": 2,
   "id": "ea18e9a2",
   "metadata": {},
   "outputs": [
    {
     "name": "stdout",
     "output_type": "stream",
     "text": [
      " Roll number is : 1234567 \n",
      " ID of Roll Number is : 3018352142288 \n",
      " Data Type of Roll Number is : <class 'int'>\n"
     ]
    }
   ],
   "source": [
    "print(' Roll number is :', Roll_Number , '\\n', 'ID of Roll Number is :',id(Roll_Number) , '\\n', 'Data Type of Roll Number is :',type(Roll_Number))"
   ]
  },
  {
   "cell_type": "code",
   "execution_count": 3,
   "id": "9ac16e68",
   "metadata": {},
   "outputs": [],
   "source": [
    "First_Name = 'Yogesh'"
   ]
  },
  {
   "cell_type": "code",
   "execution_count": 4,
   "id": "cba88150",
   "metadata": {},
   "outputs": [
    {
     "name": "stdout",
     "output_type": "stream",
     "text": [
      " First Name is : Yogesh \n",
      " ID of First Name is : 3018352150256 \n",
      " Data Type of First Name is : <class 'str'>\n"
     ]
    }
   ],
   "source": [
    "print(' First Name is :', First_Name , '\\n', 'ID of First Name is :',id(First_Name) , '\\n', 'Data Type of First Name is :',type(First_Name))"
   ]
  },
  {
   "cell_type": "code",
   "execution_count": 5,
   "id": "b4fba4e1",
   "metadata": {},
   "outputs": [],
   "source": [
    "Last_Name = 'Pandiya'"
   ]
  },
  {
   "cell_type": "code",
   "execution_count": 6,
   "id": "d4df01d8",
   "metadata": {},
   "outputs": [
    {
     "name": "stdout",
     "output_type": "stream",
     "text": [
      " Last_Name is : Pandiya \n",
      " ID of Last_Name is : 3018352210352 \n",
      " Data Type of Last_Name is : <class 'str'>\n"
     ]
    }
   ],
   "source": [
    "print(' Last_Name is :', Last_Name, '\\n', 'ID of Last_Name is :',id(Last_Name) , '\\n', 'Data Type of Last_Name is :',type(Last_Name))"
   ]
  },
  {
   "cell_type": "code",
   "execution_count": 7,
   "id": "621358ea",
   "metadata": {},
   "outputs": [],
   "source": [
    "Maxmark =50"
   ]
  },
  {
   "cell_type": "code",
   "execution_count": 8,
   "id": "57a87746",
   "metadata": {},
   "outputs": [
    {
     "name": "stdout",
     "output_type": "stream",
     "text": [
      " Maxmark is : 50 \n",
      " ID of Maxmark is : 3018265685840 \n",
      " Data Type of Maxmark is : <class 'int'>\n"
     ]
    }
   ],
   "source": [
    "print(' Maxmark is :', Maxmark, '\\n', 'ID of Maxmark is :',id(Maxmark) , '\\n', 'Data Type of Maxmark is :',type(Maxmark))"
   ]
  },
  {
   "cell_type": "markdown",
   "id": "71704ca0",
   "metadata": {},
   "source": [
    "# TASK 2"
   ]
  },
  {
   "cell_type": "code",
   "execution_count": 9,
   "id": "768e233d",
   "metadata": {},
   "outputs": [],
   "source": [
    "var1 = 2 "
   ]
  },
  {
   "cell_type": "code",
   "execution_count": 10,
   "id": "26db64db",
   "metadata": {},
   "outputs": [],
   "source": [
    "#output var1 is a variable that has the data 2 and data type is integer "
   ]
  },
  {
   "cell_type": "code",
   "execution_count": 11,
   "id": "4a6b66cc",
   "metadata": {},
   "outputs": [
    {
     "ename": "SyntaxError",
     "evalue": "invalid syntax (2593071960.py, line 1)",
     "output_type": "error",
     "traceback": [
      "\u001b[1;36m  Input \u001b[1;32mIn [11]\u001b[1;36m\u001b[0m\n\u001b[1;33m    2var = 2\u001b[0m\n\u001b[1;37m     ^\u001b[0m\n\u001b[1;31mSyntaxError\u001b[0m\u001b[1;31m:\u001b[0m invalid syntax\n"
     ]
    }
   ],
   "source": [
    "2var = 2"
   ]
  },
  {
   "cell_type": "code",
   "execution_count": 12,
   "id": "5e29e49d",
   "metadata": {},
   "outputs": [],
   "source": [
    "#giving syntext error bcz varible can't be start with number or symbol eaither its alphabet or '_' sign"
   ]
  },
  {
   "cell_type": "code",
   "execution_count": 13,
   "id": "775b08f7",
   "metadata": {},
   "outputs": [
    {
     "ename": "SyntaxError",
     "evalue": "invalid syntax (1069141224.py, line 1)",
     "output_type": "error",
     "traceback": [
      "\u001b[1;36m  Input \u001b[1;32mIn [13]\u001b[1;36m\u001b[0m\n\u001b[1;33m    var 1 = 2\u001b[0m\n\u001b[1;37m        ^\u001b[0m\n\u001b[1;31mSyntaxError\u001b[0m\u001b[1;31m:\u001b[0m invalid syntax\n"
     ]
    }
   ],
   "source": [
    "var 1 = 2"
   ]
  },
  {
   "cell_type": "code",
   "execution_count": 14,
   "id": "b7d78057",
   "metadata": {},
   "outputs": [],
   "source": [
    "#giving syntext error bcz varible can't have space in it"
   ]
  },
  {
   "cell_type": "code",
   "execution_count": 15,
   "id": "9ee1eab5",
   "metadata": {},
   "outputs": [
    {
     "ename": "SyntaxError",
     "evalue": "invalid syntax (2085239645.py, line 1)",
     "output_type": "error",
     "traceback": [
      "\u001b[1;36m  Input \u001b[1;32mIn [15]\u001b[1;36m\u001b[0m\n\u001b[1;33m    var$2 = 2\u001b[0m\n\u001b[1;37m       ^\u001b[0m\n\u001b[1;31mSyntaxError\u001b[0m\u001b[1;31m:\u001b[0m invalid syntax\n"
     ]
    }
   ],
   "source": [
    "var$2 = 2"
   ]
  },
  {
   "cell_type": "code",
   "execution_count": 16,
   "id": "1392e1b5",
   "metadata": {},
   "outputs": [],
   "source": [
    "#giving syntext error bcz varible can't have special characters in it"
   ]
  },
  {
   "cell_type": "code",
   "execution_count": null,
   "id": "efa0733b",
   "metadata": {},
   "outputs": [],
   "source": []
  },
  {
   "cell_type": "markdown",
   "id": "43a8606f",
   "metadata": {},
   "source": [
    "# TASK3"
   ]
  },
  {
   "cell_type": "code",
   "execution_count": 17,
   "id": "7fb1df3a",
   "metadata": {},
   "outputs": [],
   "source": [
    "Class = 15"
   ]
  },
  {
   "cell_type": "code",
   "execution_count": 18,
   "id": "910e146f",
   "metadata": {},
   "outputs": [],
   "source": [
    "#this is a simple variable whose assigned value is 15 data type of this variable is int."
   ]
  },
  {
   "cell_type": "code",
   "execution_count": 19,
   "id": "2a6b47bc",
   "metadata": {},
   "outputs": [
    {
     "ename": "SyntaxError",
     "evalue": "invalid syntax (1242795455.py, line 1)",
     "output_type": "error",
     "traceback": [
      "\u001b[1;36m  Input \u001b[1;32mIn [19]\u001b[1;36m\u001b[0m\n\u001b[1;33m    class = 14\u001b[0m\n\u001b[1;37m          ^\u001b[0m\n\u001b[1;31mSyntaxError\u001b[0m\u001b[1;31m:\u001b[0m invalid syntax\n"
     ]
    }
   ],
   "source": [
    "class = 14"
   ]
  },
  {
   "cell_type": "code",
   "execution_count": 20,
   "id": "44849937",
   "metadata": {},
   "outputs": [],
   "source": [
    "#this is throwing errro because class is a reserv keyword that we use to create the class "
   ]
  },
  {
   "cell_type": "code",
   "execution_count": 21,
   "id": "d004eee8",
   "metadata": {},
   "outputs": [],
   "source": [
    "DEF = 13"
   ]
  },
  {
   "cell_type": "code",
   "execution_count": 22,
   "id": "053549e5",
   "metadata": {},
   "outputs": [],
   "source": [
    "#this is a simple variable whose assigned value is 13 data type of this variable is int."
   ]
  },
  {
   "cell_type": "code",
   "execution_count": 23,
   "id": "91897410",
   "metadata": {},
   "outputs": [
    {
     "ename": "SyntaxError",
     "evalue": "invalid syntax (1759817278.py, line 1)",
     "output_type": "error",
     "traceback": [
      "\u001b[1;36m  Input \u001b[1;32mIn [23]\u001b[1;36m\u001b[0m\n\u001b[1;33m    def = 12\u001b[0m\n\u001b[1;37m        ^\u001b[0m\n\u001b[1;31mSyntaxError\u001b[0m\u001b[1;31m:\u001b[0m invalid syntax\n"
     ]
    }
   ],
   "source": [
    "def = 12"
   ]
  },
  {
   "cell_type": "code",
   "execution_count": 24,
   "id": "9c718f66",
   "metadata": {},
   "outputs": [],
   "source": [
    "#this is throwing errro because 'def' is a reserv keyword is use to create user define function"
   ]
  },
  {
   "cell_type": "code",
   "execution_count": 25,
   "id": "b2374953",
   "metadata": {},
   "outputs": [
    {
     "ename": "NameError",
     "evalue": "name 'TRUE' is not defined",
     "output_type": "error",
     "traceback": [
      "\u001b[1;31m---------------------------------------------------------------------------\u001b[0m",
      "\u001b[1;31mNameError\u001b[0m                                 Traceback (most recent call last)",
      "Input \u001b[1;32mIn [25]\u001b[0m, in \u001b[0;36m<cell line: 1>\u001b[1;34m()\u001b[0m\n\u001b[1;32m----> 1\u001b[0m a\u001b[38;5;241m=\u001b[39m\u001b[43mTRUE\u001b[49m\n",
      "\u001b[1;31mNameError\u001b[0m: name 'TRUE' is not defined"
     ]
    }
   ],
   "source": [
    "a=TRUE"
   ]
  },
  {
   "cell_type": "code",
   "execution_count": null,
   "id": "a30b7d1a",
   "metadata": {},
   "outputs": [],
   "source": [
    "# we are getting error because we havent define TRUE as variable in our code yet."
   ]
  },
  {
   "cell_type": "code",
   "execution_count": null,
   "id": "a494b343",
   "metadata": {},
   "outputs": [],
   "source": [
    "b= false"
   ]
  },
  {
   "cell_type": "code",
   "execution_count": null,
   "id": "0cc78a43",
   "metadata": {},
   "outputs": [],
   "source": [
    "# we are getting error because we havent define false as variable in our code yet."
   ]
  },
  {
   "cell_type": "code",
   "execution_count": null,
   "id": "75187689",
   "metadata": {},
   "outputs": [],
   "source": []
  },
  {
   "cell_type": "markdown",
   "id": "4d10a6fd",
   "metadata": {},
   "source": [
    "# TASK 4"
   ]
  },
  {
   "cell_type": "code",
   "execution_count": 26,
   "id": "0d9d1a59",
   "metadata": {},
   "outputs": [],
   "source": [
    "Marks = 33.33"
   ]
  },
  {
   "cell_type": "code",
   "execution_count": 27,
   "id": "2eb25612",
   "metadata": {},
   "outputs": [
    {
     "name": "stdout",
     "output_type": "stream",
     "text": [
      " Marks is : 33.33 \n",
      " ID of Marks is : 3018379733168 \n",
      " Data Type of Marks is : <class 'float'>\n"
     ]
    }
   ],
   "source": [
    "print(' Marks is :', Marks, '\\n', 'ID of Marks is :',id(Marks) , '\\n', 'Data Type of Marks is :',type(Marks))"
   ]
  },
  {
   "cell_type": "code",
   "execution_count": 28,
   "id": "86edbc9d",
   "metadata": {},
   "outputs": [],
   "source": [
    "Marks = 44.41"
   ]
  },
  {
   "cell_type": "code",
   "execution_count": 29,
   "id": "c8d754b3",
   "metadata": {},
   "outputs": [
    {
     "name": "stdout",
     "output_type": "stream",
     "text": [
      " Marks is : 44.41 \n",
      " ID of Marks is : 3018379734512 \n",
      " Data Type of Marks is : <class 'float'>\n"
     ]
    }
   ],
   "source": [
    "print(' Marks is :', Marks, '\\n', 'ID of Marks is :',id(Marks) , '\\n', 'Data Type of Marks is :',type(Marks))"
   ]
  },
  {
   "cell_type": "code",
   "execution_count": 30,
   "id": "3cdb3fee",
   "metadata": {},
   "outputs": [],
   "source": [
    "# No, the ID of marks got change bacuse every object in python has a unique ID"
   ]
  },
  {
   "cell_type": "code",
   "execution_count": null,
   "id": "0247794d",
   "metadata": {},
   "outputs": [],
   "source": []
  },
  {
   "cell_type": "markdown",
   "id": "7ba561a1",
   "metadata": {},
   "source": [
    "# TASK5"
   ]
  },
  {
   "cell_type": "code",
   "execution_count": 86,
   "id": "b839b28c",
   "metadata": {},
   "outputs": [],
   "source": [
    "percentage = \"{:.0%}\".format(Marks/Maxmark)"
   ]
  },
  {
   "cell_type": "code",
   "execution_count": null,
   "id": "939a71dc",
   "metadata": {},
   "outputs": [],
   "source": []
  },
  {
   "cell_type": "code",
   "execution_count": 87,
   "id": "ae203b7b",
   "metadata": {},
   "outputs": [
    {
     "name": "stdout",
     "output_type": "stream",
     "text": [
      "89%\n"
     ]
    }
   ],
   "source": [
    "print(percentage)"
   ]
  },
  {
   "cell_type": "code",
   "execution_count": 88,
   "id": "cbb1dcd3",
   "metadata": {},
   "outputs": [],
   "source": [
    "Full_Name = \" \".join([First_Name, Last_Name])"
   ]
  },
  {
   "cell_type": "code",
   "execution_count": 34,
   "id": "0e913e1e",
   "metadata": {},
   "outputs": [
    {
     "name": "stdout",
     "output_type": "stream",
     "text": [
      "Yogesh Pandiya\n"
     ]
    }
   ],
   "source": [
    "print(Full_Name)"
   ]
  },
  {
   "cell_type": "code",
   "execution_count": 35,
   "id": "486bcb02",
   "metadata": {},
   "outputs": [
    {
     "name": "stdout",
     "output_type": "stream",
     "text": [
      "Yogesh Pandiya 89%\n"
     ]
    }
   ],
   "source": [
    "print(Full_Name, percentage )"
   ]
  },
  {
   "cell_type": "code",
   "execution_count": null,
   "id": "6ebcac7a",
   "metadata": {},
   "outputs": [],
   "source": []
  },
  {
   "cell_type": "code",
   "execution_count": null,
   "id": "b3ad7446",
   "metadata": {},
   "outputs": [],
   "source": []
  },
  {
   "cell_type": "markdown",
   "id": "b6ba3467",
   "metadata": {},
   "source": [
    "# TASK6"
   ]
  },
  {
   "cell_type": "code",
   "execution_count": 36,
   "id": "84a906d3",
   "metadata": {},
   "outputs": [],
   "source": [
    "Dict = {Roll_Number:Full_Name }"
   ]
  },
  {
   "cell_type": "code",
   "execution_count": 37,
   "id": "2553d7ef",
   "metadata": {},
   "outputs": [
    {
     "data": {
      "text/plain": [
       "{1234567: 'Yogesh Pandiya'}"
      ]
     },
     "execution_count": 37,
     "metadata": {},
     "output_type": "execute_result"
    }
   ],
   "source": [
    "Dict"
   ]
  },
  {
   "cell_type": "code",
   "execution_count": 38,
   "id": "43ea1426",
   "metadata": {},
   "outputs": [],
   "source": [
    "List =[Roll_Number, Full_Name, Marks, percentage ]"
   ]
  },
  {
   "cell_type": "code",
   "execution_count": 39,
   "id": "e4b727f3",
   "metadata": {},
   "outputs": [
    {
     "name": "stdout",
     "output_type": "stream",
     "text": [
      "[1234567, 'Yogesh Pandiya', 44.41, '89%']\n"
     ]
    }
   ],
   "source": [
    "print(List)"
   ]
  },
  {
   "cell_type": "code",
   "execution_count": null,
   "id": "a3604e9a",
   "metadata": {},
   "outputs": [],
   "source": []
  },
  {
   "cell_type": "markdown",
   "id": "d54766a9",
   "metadata": {},
   "source": [
    "# TASKK7"
   ]
  },
  {
   "cell_type": "code",
   "execution_count": 40,
   "id": "6edd5e81",
   "metadata": {},
   "outputs": [
    {
     "ename": "TypeError",
     "evalue": "unsupported operand type(s) for +: 'int' and 'str'",
     "output_type": "error",
     "traceback": [
      "\u001b[1;31m---------------------------------------------------------------------------\u001b[0m",
      "\u001b[1;31mTypeError\u001b[0m                                 Traceback (most recent call last)",
      "Input \u001b[1;32mIn [40]\u001b[0m, in \u001b[0;36m<cell line: 1>\u001b[1;34m()\u001b[0m\n\u001b[1;32m----> 1\u001b[0m \u001b[38;5;241;43m1\u001b[39;49m\u001b[38;5;241;43m+\u001b[39;49m\u001b[38;5;124;43m'\u001b[39;49m\u001b[38;5;124;43m2\u001b[39;49m\u001b[38;5;124;43m'\u001b[39;49m\n",
      "\u001b[1;31mTypeError\u001b[0m: unsupported operand type(s) for +: 'int' and 'str'"
     ]
    }
   ],
   "source": [
    "1+'2'"
   ]
  },
  {
   "cell_type": "code",
   "execution_count": 41,
   "id": "00d60057",
   "metadata": {},
   "outputs": [],
   "source": [
    "# we can not peroform arthemetic operation to int and string "
   ]
  },
  {
   "cell_type": "code",
   "execution_count": 42,
   "id": "a0cbadfe",
   "metadata": {},
   "outputs": [
    {
     "data": {
      "text/plain": [
       "'12'"
      ]
     },
     "execution_count": 42,
     "metadata": {},
     "output_type": "execute_result"
    }
   ],
   "source": [
    "'1'+'2'"
   ]
  },
  {
   "cell_type": "code",
   "execution_count": 43,
   "id": "aeea56cd",
   "metadata": {},
   "outputs": [],
   "source": [
    "#machine is considering it as string so the output is sum of strings because of ''"
   ]
  },
  {
   "cell_type": "code",
   "execution_count": 44,
   "id": "41a579a6",
   "metadata": {},
   "outputs": [
    {
     "data": {
      "text/plain": [
       "0.5"
      ]
     },
     "execution_count": 44,
     "metadata": {},
     "output_type": "execute_result"
    }
   ],
   "source": [
    "1/2"
   ]
  },
  {
   "cell_type": "code",
   "execution_count": 45,
   "id": "025288fa",
   "metadata": {},
   "outputs": [],
   "source": [
    "#we are get the result of arthmetic operation"
   ]
  },
  {
   "cell_type": "code",
   "execution_count": 46,
   "id": "b5465b1b",
   "metadata": {},
   "outputs": [
    {
     "data": {
      "text/plain": [
       "0"
      ]
     },
     "execution_count": 46,
     "metadata": {},
     "output_type": "execute_result"
    }
   ],
   "source": [
    "1//2"
   ]
  },
  {
   "cell_type": "code",
   "execution_count": 47,
   "id": "7db7914c",
   "metadata": {},
   "outputs": [],
   "source": [
    "#we are getting reminder as value"
   ]
  },
  {
   "cell_type": "markdown",
   "id": "bd671dbd",
   "metadata": {},
   "source": [
    "# TASK8 "
   ]
  },
  {
   "cell_type": "code",
   "execution_count": 48,
   "id": "56822f31",
   "metadata": {},
   "outputs": [
    {
     "data": {
      "text/plain": [
       "True"
      ]
     },
     "execution_count": 48,
     "metadata": {},
     "output_type": "execute_result"
    }
   ],
   "source": [
    "True and True"
   ]
  },
  {
   "cell_type": "code",
   "execution_count": 49,
   "id": "12412ed7",
   "metadata": {},
   "outputs": [],
   "source": [
    "#it a boolean operator True and True is True"
   ]
  },
  {
   "cell_type": "code",
   "execution_count": 50,
   "id": "4d6a9e8d",
   "metadata": {},
   "outputs": [
    {
     "data": {
      "text/plain": [
       "False"
      ]
     },
     "execution_count": 50,
     "metadata": {},
     "output_type": "execute_result"
    }
   ],
   "source": [
    "True and False"
   ]
  },
  {
   "cell_type": "code",
   "execution_count": 51,
   "id": "78701ecf",
   "metadata": {},
   "outputs": [],
   "source": [
    "#it a boolean operator True and false is False"
   ]
  },
  {
   "cell_type": "code",
   "execution_count": 52,
   "id": "7f69dea3",
   "metadata": {},
   "outputs": [
    {
     "data": {
      "text/plain": [
       "True"
      ]
     },
     "execution_count": 52,
     "metadata": {},
     "output_type": "execute_result"
    }
   ],
   "source": [
    "False or True "
   ]
  },
  {
   "cell_type": "code",
   "execution_count": 53,
   "id": "5de07b3b",
   "metadata": {},
   "outputs": [],
   "source": [
    "#it a boolean operator False or True is True"
   ]
  },
  {
   "cell_type": "code",
   "execution_count": 54,
   "id": "c844dda5",
   "metadata": {},
   "outputs": [
    {
     "data": {
      "text/plain": [
       "False"
      ]
     },
     "execution_count": 54,
     "metadata": {},
     "output_type": "execute_result"
    }
   ],
   "source": [
    "False or False"
   ]
  },
  {
   "cell_type": "code",
   "execution_count": 55,
   "id": "92afe7d8",
   "metadata": {},
   "outputs": [],
   "source": [
    "#it a boolean operator False or False is False"
   ]
  },
  {
   "cell_type": "markdown",
   "id": "7c5e347b",
   "metadata": {},
   "source": [
    "# TASK9"
   ]
  },
  {
   "cell_type": "code",
   "execution_count": 56,
   "id": "7cd80b22",
   "metadata": {},
   "outputs": [
    {
     "data": {
      "text/plain": [
       "True"
      ]
     },
     "execution_count": 56,
     "metadata": {},
     "output_type": "execute_result"
    }
   ],
   "source": [
    "First_Name in Full_Name"
   ]
  },
  {
   "cell_type": "code",
   "execution_count": 57,
   "id": "39cc8ad6",
   "metadata": {},
   "outputs": [],
   "source": [
    "#it getting true because full name contain the first name"
   ]
  },
  {
   "cell_type": "code",
   "execution_count": 58,
   "id": "9083f134",
   "metadata": {},
   "outputs": [
    {
     "data": {
      "text/plain": [
       "False"
      ]
     },
     "execution_count": 58,
     "metadata": {},
     "output_type": "execute_result"
    }
   ],
   "source": [
    "First_Name is Full_Name"
   ]
  },
  {
   "cell_type": "code",
   "execution_count": 59,
   "id": "b95f6a5b",
   "metadata": {},
   "outputs": [],
   "source": [
    "#it getting false because  the first name is not full name"
   ]
  },
  {
   "cell_type": "markdown",
   "id": "442bcea6",
   "metadata": {},
   "source": [
    "# task10"
   ]
  },
  {
   "cell_type": "code",
   "execution_count": 60,
   "id": "15901e91",
   "metadata": {},
   "outputs": [],
   "source": [
    "a=4"
   ]
  },
  {
   "cell_type": "code",
   "execution_count": 61,
   "id": "af034dd8",
   "metadata": {},
   "outputs": [],
   "source": [
    "b=3"
   ]
  },
  {
   "cell_type": "code",
   "execution_count": 62,
   "id": "326a371e",
   "metadata": {},
   "outputs": [],
   "source": [
    "c=3"
   ]
  },
  {
   "cell_type": "code",
   "execution_count": 63,
   "id": "11be51f9",
   "metadata": {},
   "outputs": [],
   "source": [
    "d=a**b+c"
   ]
  },
  {
   "cell_type": "code",
   "execution_count": 64,
   "id": "ff3ccb0d",
   "metadata": {},
   "outputs": [],
   "source": [
    "e=a**(b+c)"
   ]
  },
  {
   "cell_type": "code",
   "execution_count": 65,
   "id": "47ff2e16",
   "metadata": {},
   "outputs": [
    {
     "name": "stdout",
     "output_type": "stream",
     "text": [
      " d is : 67 \n",
      " e is : 4096\n"
     ]
    }
   ],
   "source": [
    "print(' d is :', d ,'\\n','e is :', e)"
   ]
  },
  {
   "cell_type": "code",
   "execution_count": 66,
   "id": "d51e1fd7",
   "metadata": {},
   "outputs": [],
   "source": [
    "#the output for d and e is different because in d first it calc. * and in e first it calc.+ because of ()  "
   ]
  },
  {
   "cell_type": "markdown",
   "id": "096211cf",
   "metadata": {},
   "source": [
    "# TASK11"
   ]
  },
  {
   "cell_type": "code",
   "execution_count": 67,
   "id": "d0f7b3db",
   "metadata": {},
   "outputs": [],
   "source": [
    "Radius = 6"
   ]
  },
  {
   "cell_type": "code",
   "execution_count": 68,
   "id": "d0ae4d46",
   "metadata": {},
   "outputs": [],
   "source": [
    "Area_of_Circle = 3.14*(6*6)"
   ]
  },
  {
   "cell_type": "code",
   "execution_count": 69,
   "id": "658e3bbc",
   "metadata": {},
   "outputs": [
    {
     "name": "stdout",
     "output_type": "stream",
     "text": [
      "Area_of_Circle: 113.04\n"
     ]
    }
   ],
   "source": [
    "print('Area_of_Circle:', Area_of_Circle)"
   ]
  },
  {
   "cell_type": "code",
   "execution_count": null,
   "id": "944dcac4",
   "metadata": {},
   "outputs": [],
   "source": []
  },
  {
   "cell_type": "markdown",
   "id": "210b8066",
   "metadata": {},
   "source": [
    "# TASK 12"
   ]
  },
  {
   "cell_type": "code",
   "execution_count": 70,
   "id": "0651760d",
   "metadata": {},
   "outputs": [],
   "source": [
    "SP= 85"
   ]
  },
  {
   "cell_type": "code",
   "execution_count": 71,
   "id": "f05e582b",
   "metadata": {},
   "outputs": [],
   "source": [
    "TAX='18%'"
   ]
  },
  {
   "cell_type": "code",
   "execution_count": 72,
   "id": "dff67cc6",
   "metadata": {},
   "outputs": [],
   "source": [
    "AMOUNT = 18/100*85"
   ]
  },
  {
   "cell_type": "code",
   "execution_count": 73,
   "id": "51c59136",
   "metadata": {},
   "outputs": [
    {
     "name": "stdout",
     "output_type": "stream",
     "text": [
      "15.3\n"
     ]
    }
   ],
   "source": [
    "print(round(AMOUNT,1))"
   ]
  },
  {
   "cell_type": "markdown",
   "id": "3752d301",
   "metadata": {},
   "source": [
    "# TASK13"
   ]
  },
  {
   "cell_type": "code",
   "execution_count": 74,
   "id": "6115df48",
   "metadata": {},
   "outputs": [],
   "source": [
    "RS = 3333"
   ]
  },
  {
   "cell_type": "code",
   "execution_count": 75,
   "id": "c6a2b6ba",
   "metadata": {},
   "outputs": [
    {
     "name": "stdout",
     "output_type": "stream",
     "text": [
      "Dollar in 3333Rs is: $ 44.44\n"
     ]
    }
   ],
   "source": [
    "print('Dollar in 3333Rs is:', '$',RS/75)"
   ]
  },
  {
   "cell_type": "code",
   "execution_count": null,
   "id": "d3c792f6",
   "metadata": {},
   "outputs": [],
   "source": []
  },
  {
   "cell_type": "markdown",
   "id": "304883a5",
   "metadata": {},
   "source": [
    "# TASK 14"
   ]
  },
  {
   "cell_type": "code",
   "execution_count": 76,
   "id": "fe72b2d1",
   "metadata": {},
   "outputs": [],
   "source": [
    "amount = 5000"
   ]
  },
  {
   "cell_type": "code",
   "execution_count": 77,
   "id": "c2f21d43",
   "metadata": {},
   "outputs": [],
   "source": [
    "infalm = 7/100*amount"
   ]
  },
  {
   "cell_type": "code",
   "execution_count": 78,
   "id": "8896a335",
   "metadata": {},
   "outputs": [],
   "source": [
    "pp = amount - infalm"
   ]
  },
  {
   "cell_type": "code",
   "execution_count": 79,
   "id": "21b073b9",
   "metadata": {},
   "outputs": [
    {
     "data": {
      "text/plain": [
       "4650.0"
      ]
     },
     "execution_count": 79,
     "metadata": {},
     "output_type": "execute_result"
    }
   ],
   "source": [
    "pp"
   ]
  },
  {
   "cell_type": "code",
   "execution_count": null,
   "id": "d43fb1d9",
   "metadata": {},
   "outputs": [],
   "source": []
  },
  {
   "cell_type": "code",
   "execution_count": null,
   "id": "dd26afcd",
   "metadata": {},
   "outputs": [],
   "source": []
  },
  {
   "cell_type": "markdown",
   "id": "f5c72b91",
   "metadata": {},
   "source": [
    "TASK 15 is to save the file with different expension"
   ]
  },
  {
   "cell_type": "code",
   "execution_count": null,
   "id": "692347da",
   "metadata": {},
   "outputs": [],
   "source": []
  },
  {
   "cell_type": "code",
   "execution_count": null,
   "id": "d0804589",
   "metadata": {},
   "outputs": [],
   "source": []
  },
  {
   "cell_type": "code",
   "execution_count": null,
   "id": "8537e41e",
   "metadata": {},
   "outputs": [],
   "source": []
  },
  {
   "cell_type": "code",
   "execution_count": null,
   "id": "1ef548cc",
   "metadata": {},
   "outputs": [],
   "source": []
  },
  {
   "cell_type": "code",
   "execution_count": null,
   "id": "7d112936",
   "metadata": {},
   "outputs": [],
   "source": []
  },
  {
   "cell_type": "code",
   "execution_count": null,
   "id": "0f125f80",
   "metadata": {},
   "outputs": [],
   "source": []
  },
  {
   "cell_type": "code",
   "execution_count": null,
   "id": "da114a26",
   "metadata": {},
   "outputs": [],
   "source": []
  },
  {
   "cell_type": "code",
   "execution_count": null,
   "id": "f39eb312",
   "metadata": {},
   "outputs": [],
   "source": []
  },
  {
   "cell_type": "code",
   "execution_count": null,
   "id": "068935f2",
   "metadata": {},
   "outputs": [],
   "source": []
  },
  {
   "cell_type": "code",
   "execution_count": null,
   "id": "89113b72",
   "metadata": {},
   "outputs": [],
   "source": []
  },
  {
   "cell_type": "code",
   "execution_count": null,
   "id": "93e4c501",
   "metadata": {},
   "outputs": [],
   "source": []
  },
  {
   "cell_type": "code",
   "execution_count": null,
   "id": "e27816dd",
   "metadata": {},
   "outputs": [],
   "source": []
  },
  {
   "cell_type": "code",
   "execution_count": null,
   "id": "d099b3d7",
   "metadata": {},
   "outputs": [],
   "source": []
  },
  {
   "cell_type": "code",
   "execution_count": null,
   "id": "b07b7d89",
   "metadata": {},
   "outputs": [],
   "source": []
  },
  {
   "cell_type": "code",
   "execution_count": null,
   "id": "27ee20d1",
   "metadata": {},
   "outputs": [],
   "source": []
  },
  {
   "cell_type": "code",
   "execution_count": null,
   "id": "2a789e70",
   "metadata": {},
   "outputs": [],
   "source": []
  },
  {
   "cell_type": "code",
   "execution_count": null,
   "id": "6d6ca0db",
   "metadata": {},
   "outputs": [],
   "source": []
  },
  {
   "cell_type": "code",
   "execution_count": null,
   "id": "9044c6ab",
   "metadata": {},
   "outputs": [],
   "source": []
  },
  {
   "cell_type": "code",
   "execution_count": null,
   "id": "e851f795",
   "metadata": {},
   "outputs": [],
   "source": []
  },
  {
   "cell_type": "code",
   "execution_count": null,
   "id": "1013294d",
   "metadata": {},
   "outputs": [],
   "source": []
  },
  {
   "cell_type": "code",
   "execution_count": null,
   "id": "9d13ea43",
   "metadata": {},
   "outputs": [],
   "source": []
  },
  {
   "cell_type": "code",
   "execution_count": null,
   "id": "1126ea7f",
   "metadata": {},
   "outputs": [],
   "source": []
  }
 ],
 "metadata": {
  "kernelspec": {
   "display_name": "Python 3 (ipykernel)",
   "language": "python",
   "name": "python3"
  },
  "language_info": {
   "codemirror_mode": {
    "name": "ipython",
    "version": 3
   },
   "file_extension": ".py",
   "mimetype": "text/x-python",
   "name": "python",
   "nbconvert_exporter": "python",
   "pygments_lexer": "ipython3",
   "version": "3.9.12"
  }
 },
 "nbformat": 4,
 "nbformat_minor": 5
}
