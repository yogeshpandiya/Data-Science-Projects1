{
 "cells": [
  {
   "cell_type": "markdown",
   "id": "486d11ad",
   "metadata": {},
   "source": [
    "# TASK1"
   ]
  },
  {
   "cell_type": "markdown",
   "id": "243045d8",
   "metadata": {},
   "source": [
    "#### BOW vector representation"
   ]
  },
  {
   "cell_type": "code",
   "execution_count": 63,
   "id": "cca75625",
   "metadata": {},
   "outputs": [],
   "source": [
    "from collections import Counter\n",
    "def t1(text):\n",
    "    count = Counter() \n",
    "    count1 = Counter()\n",
    "    lst = text.split()\n",
    "    for i in lst:\n",
    "        count[lst.index(i)]+=1\n",
    "        count1[i]+=1\n",
    "    dic = {}\n",
    "    for i,j in zip(count1, count):\n",
    "        dic.update({i:j})\n",
    "    return list(count.items()),dic"
   ]
  },
  {
   "cell_type": "code",
   "execution_count": 64,
   "id": "95edf8e0",
   "metadata": {},
   "outputs": [
    {
     "data": {
      "text/plain": [
       "[(0, 1), (1, 1), (2, 1), (3, 1), (4, 1), (5, 1), (6, 1)]"
      ]
     },
     "execution_count": 64,
     "metadata": {},
     "output_type": "execute_result"
    }
   ],
   "source": [
    "BOW1, Dicionary_val1 = t1('This movie is very scary and long')\n",
    "BOW2, Dicionary_val2 = t1('This movie is not scary and is slow')\n",
    "BOW3, Dicionary_val3 = t1('This movie is spooky and good')\n",
    "\n",
    "BOW1"
   ]
  },
  {
   "cell_type": "code",
   "execution_count": 65,
   "id": "a7a2f8a5",
   "metadata": {},
   "outputs": [
    {
     "data": {
      "text/plain": [
       "[(0, 1), (1, 1), (2, 2), (3, 1), (4, 1), (5, 1), (7, 1)]"
      ]
     },
     "execution_count": 65,
     "metadata": {},
     "output_type": "execute_result"
    }
   ],
   "source": [
    "BOW2"
   ]
  },
  {
   "cell_type": "code",
   "execution_count": 66,
   "id": "c68454ea",
   "metadata": {},
   "outputs": [
    {
     "data": {
      "text/plain": [
       "[(0, 1), (1, 1), (2, 1), (3, 1), (4, 1), (5, 1)]"
      ]
     },
     "execution_count": 66,
     "metadata": {},
     "output_type": "execute_result"
    }
   ],
   "source": [
    "BOW3"
   ]
  },
  {
   "cell_type": "markdown",
   "id": "20f66f54",
   "metadata": {},
   "source": [
    "#### Dictionary Values "
   ]
  },
  {
   "cell_type": "code",
   "execution_count": 67,
   "id": "21f7b6c7",
   "metadata": {},
   "outputs": [
    {
     "data": {
      "text/plain": [
       "{'This': 0, 'movie': 1, 'is': 2, 'very': 3, 'scary': 4, 'and': 5, 'long': 6}"
      ]
     },
     "execution_count": 67,
     "metadata": {},
     "output_type": "execute_result"
    }
   ],
   "source": [
    "Dicionary_val1\n"
   ]
  },
  {
   "cell_type": "code",
   "execution_count": 68,
   "id": "3d40d77b",
   "metadata": {},
   "outputs": [
    {
     "data": {
      "text/plain": [
       "{'This': 0, 'movie': 1, 'is': 2, 'not': 3, 'scary': 4, 'and': 5, 'slow': 7}"
      ]
     },
     "execution_count": 68,
     "metadata": {},
     "output_type": "execute_result"
    }
   ],
   "source": [
    "Dicionary_val2"
   ]
  },
  {
   "cell_type": "code",
   "execution_count": 69,
   "id": "611adf50",
   "metadata": {},
   "outputs": [
    {
     "data": {
      "text/plain": [
       "{'This': 0, 'movie': 1, 'is': 2, 'spooky': 3, 'and': 4, 'good': 5}"
      ]
     },
     "execution_count": 69,
     "metadata": {},
     "output_type": "execute_result"
    }
   ],
   "source": [
    "Dicionary_val3"
   ]
  },
  {
   "cell_type": "code",
   "execution_count": null,
   "id": "99637cf3",
   "metadata": {},
   "outputs": [],
   "source": []
  },
  {
   "cell_type": "markdown",
   "id": "8b43ab1d",
   "metadata": {},
   "source": [
    "# TASK2"
   ]
  },
  {
   "cell_type": "code",
   "execution_count": 9,
   "id": "fed7aa90",
   "metadata": {},
   "outputs": [
    {
     "name": "stdout",
     "output_type": "stream",
     "text": [
      "Hey, Siri\n"
     ]
    }
   ],
   "source": [
    "import spacy\n",
    "from spacy.matcher import Matcher                                             # Import matcher\n",
    "nlp = spacy.load(\"en_core_web_sm\")                                            # Load model\n",
    "matcher = Matcher(nlp.vocab)\n",
    "pattern = [{\"LOWER\": \"hey\"}, {\"IS_PUNCT\": True}, {\"LOWER\": \"siri\"}]        # Add match ID \"HelloWorld\" with no callback and one pattern\n",
    "#pattern = [{\"LOWER\": \"hello\"}, {\"LOWER\": \"world\"}]\n",
    "matcher.add(\"Hey siri\", [pattern])\n",
    "doc = nlp(\"Hey, Siri! Hey siri!\")                                       # Input text\n",
    "matches = matcher(doc)\n",
    "for match_id, start, end in matches:                                          # Find matches\n",
    "    string_id = nlp.vocab.strings[match_id]  # Get string representation\n",
    "    span = doc[start:end]  # The matched span\n",
    "    #print(match_id, string_id, start, end, span.text)\n",
    "    print(span.text)  "
   ]
  },
  {
   "cell_type": "code",
   "execution_count": 11,
   "id": "a6c37ebd",
   "metadata": {
    "scrolled": true
   },
   "outputs": [
    {
     "name": "stdout",
     "output_type": "stream",
     "text": [
      "Hey siri\n"
     ]
    }
   ],
   "source": [
    "matcher = Matcher(nlp.vocab)\n",
    "pattern = [{\"LOWER\": \"hey\"}, {\"LOWER\": \"siri\"}]        # Add match ID \"HelloWorld\" with no callback and one pattern\n",
    "#pattern = [{\"LOWER\": \"hello\"}, {\"LOWER\": \"world\"}]\n",
    "matcher.add(\"Hey siri\", [pattern])\n",
    "doc = nlp(\"Hey, Siri! Hey siri!\")                                       # Input text\n",
    "matches = matcher(doc)\n",
    "for match_id, start, end in matches:                                          # Find matches\n",
    "    string_id = nlp.vocab.strings[match_id]  # Get string representation\n",
    "    span = doc[start:end]  # The matched span\n",
    "    #print(match_id, string_id, start, end, span.text)\n",
    "    print(span.text)  "
   ]
  },
  {
   "cell_type": "markdown",
   "id": "9a2ff18d",
   "metadata": {},
   "source": [
    "# TASK3"
   ]
  },
  {
   "cell_type": "markdown",
   "id": "f2ce1d46",
   "metadata": {},
   "source": [
    "#### !python -m spacy download en_core_web_lg"
   ]
  },
  {
   "cell_type": "code",
   "execution_count": 45,
   "id": "06297efb",
   "metadata": {},
   "outputs": [
    {
     "name": "stdout",
     "output_type": "stream",
     "text": [
      "Text= apple , Vector= True , OOV= False\n",
      "Text= orange , Vector= True , OOV= False\n",
      "Text= pikkst , Vector= False , OOV= True\n",
      "Text= German , Vector= True , OOV= False\n"
     ]
    }
   ],
   "source": [
    "nlp = spacy.load(\"en_core_web_lg\")                                                    # Load model    \n",
    "doc = nlp(\"apple orange pikkst German\")                                                # Input text\n",
    "for token in doc:\n",
    "    print('Text=',token.text,', Vector=',token.has_vector,', OOV=', token.is_oov)  "
   ]
  },
  {
   "cell_type": "markdown",
   "id": "0e1e65f7",
   "metadata": {},
   "source": [
    "# Task4"
   ]
  },
  {
   "cell_type": "code",
   "execution_count": 47,
   "id": "d5a65edc",
   "metadata": {},
   "outputs": [
    {
     "name": "stdout",
     "output_type": "stream",
     "text": [
      "sweet oranges\n"
     ]
    }
   ],
   "source": [
    "from spacy.matcher import PhraseMatcher                                               # Import matcher\n",
    "nlp = spacy.load(\"en_core_web_sm\")                                                    # Load model\n",
    "matcher = PhraseMatcher(nlp.vocab)\n",
    "terms = [\"ROTTEN mangoes\", \"sweet oranges\"]\n",
    "patterns = [nlp.make_doc(text) for text in terms]                                     # Only run nlp.make_doc to speed things up\n",
    "matcher.add(\"TerminologyList\", patterns)\n",
    "doc = nlp(\"Do not put rotten mangoes and sweet oranges together\")\n",
    "matches = matcher(doc)\n",
    "for match_id, start, end in matches:                                                  # Find matches\n",
    "    span = doc[start:end]\n",
    "    print(span.text)    "
   ]
  },
  {
   "cell_type": "markdown",
   "id": "44a47668",
   "metadata": {},
   "source": [
    "# Task5"
   ]
  },
  {
   "cell_type": "code",
   "execution_count": 48,
   "id": "8f858a4d",
   "metadata": {},
   "outputs": [
    {
     "name": "stdout",
     "output_type": "stream",
     "text": [
      "Vector Length:\n",
      " I (96,)\n",
      "Word Vector Representation:\n",
      " [-0.3300735  -0.86116314 -0.04121774 -1.3668587   0.44056064 -0.717386\n",
      " -1.1033549   0.79628545  0.80742335 -1.629823   -0.21392182 -0.50264215\n",
      " -0.6867101  -0.27085283 -1.2246207  -0.5510662  -0.18599123  1.0556052\n",
      "  0.40720737 -0.19640867  0.13617642 -1.0651628   1.7774875  -1.0980525\n",
      "  2.2569282   1.5135666   0.3318739  -1.2008927  -0.12773177  0.9193022\n",
      " -0.86117506  0.48710507 -0.44204217  0.35524026  0.20266162  0.0312435\n",
      " -0.4977864  -0.28369597 -0.27212834 -0.41712472 -0.2637022   1.3795819\n",
      "  1.8495853  -0.5021161  -0.52431476 -0.5844045   1.9050293   0.18027428\n",
      " -0.4278176  -0.26865053 -0.2867949  -1.8127825   1.1514659  -1.3583015\n",
      " -0.5114819   1.7131718   1.7430537   1.5956163   0.40600953 -0.18986487\n",
      " -1.2227693   0.5713259   0.9621587   0.6061902  -0.539935   -0.69278425\n",
      " -0.43693906 -1.3534358   1.9982477  -0.35375777 -0.23080197 -0.22003236\n",
      " -1.033237   -1.8171732   1.5991789  -0.84668314 -0.23356408 -0.26976064\n",
      " -0.47857195  1.7289048   1.1012355  -0.09300619 -0.19413131  2.8643575\n",
      " -0.66619605 -0.5628919  -1.33104     2.0076628   0.5049728  -0.9879106\n",
      " -0.15900029 -0.12389396  0.3792878  -0.040813   -0.6205777  -0.2367549 ]\n",
      "Vector Length:\n",
      " prefer (96,)\n",
      "Word Vector Representation:\n",
      " [ 0.6270403   1.1540749  -0.5273961   0.42404264  0.14309299  1.0663204\n",
      "  0.9643781   0.923302    0.8222939   0.5913024  -0.7126926  -1.598748\n",
      " -0.10409153 -0.42255685  0.58443636 -0.76596266 -0.35551643 -0.21699911\n",
      " -1.2439047  -0.35529107  0.42001283 -0.9170377   0.24035043 -0.2797947\n",
      " -0.04833621  0.31952947  0.39649662 -1.4179893   0.6317919  -0.40387586\n",
      " -0.61933416 -0.22975318 -0.31736666 -0.20787689 -1.0324575  -0.76853806\n",
      " -0.2791914  -0.3910584  -0.03091991  0.9826079   0.7332672   0.5724205\n",
      "  0.03671291 -0.9731374  -0.37407565 -0.15563747 -0.61976206 -1.1680832\n",
      " -0.5465868   0.07351691 -0.4369432   1.5214647   0.49326277  2.9778576\n",
      "  0.22756572 -1.6817856  -0.21812353  0.19100688  0.00393106  0.5650336\n",
      "  0.7085693  -0.20787367 -0.7233646   0.04737525 -1.4860814  -1.7428735\n",
      " -0.6776835   1.380647    0.35919875 -1.3806009  -1.3654672  -0.5646808\n",
      "  1.0316666  -0.8258101   0.75407404 -0.40287858  0.99616075 -1.2335038\n",
      " -0.38084537  0.3218623   0.45774424  0.13795505  1.7548959  -0.03131142\n",
      "  0.20167351  0.29591098 -0.46270412 -0.4851906   0.7134645   1.1683428\n",
      "  0.23490423 -0.73427176  0.02342367  0.35173059  0.3362356  -0.69624496]\n",
      "Vector Length:\n",
      " the (96,)\n",
      "Word Vector Representation:\n",
      " [-0.71731126 -0.14547938  0.08508952  0.3778317  -0.24735388 -1.6413077\n",
      " -0.57543564  0.74671596  0.3420355  -0.46443272 -0.06158525 -0.04846619\n",
      "  0.04512745 -0.17476694  0.18553814  0.9724957  -0.341336   -0.6596338\n",
      " -0.18188243 -0.81787944 -0.54170007  0.7074949  -0.07471991 -0.31921905\n",
      "  0.13534515 -0.19134735 -0.16538623 -0.49274522 -0.5474876   1.5841293\n",
      " -0.673278   -0.42325827 -0.6268039  -1.1610259   0.54135996  2.385645\n",
      " -0.9252451  -0.47563264  0.14387718  0.3275547   1.1487768   1.6755915\n",
      " -0.89754    -0.39714098  1.098336    0.907764    0.29482508  0.4606185\n",
      "  0.56732553 -1.5266873   1.4537891  -0.74180186  0.75797087 -0.6525369\n",
      " -0.50375146 -0.22738343  1.1009285   0.12526375  0.93364596  1.9557323\n",
      " -0.7251193  -0.52419627 -0.30801374  1.1969254  -0.17294464 -0.6187147\n",
      " -0.11284281 -0.10005569 -0.20743592 -0.27254006 -0.71632034 -1.0789717\n",
      "  0.47394475  2.0769837  -0.10737139  0.5372965   0.5418314   0.88072646\n",
      " -0.9770824  -0.1576167  -1.592916   -1.360788    0.530803   -0.29713807\n",
      " -0.867646   -0.4767394   1.9864995  -0.5103254   0.4221958  -0.9186784\n",
      " -0.741259    0.8576758   0.5819545  -0.51175195 -0.3147512   0.11173138]\n",
      "Vector Length:\n",
      " morning (96,)\n",
      "Word Vector Representation:\n",
      " [ 1.3585473   0.15542373  0.26054054 -0.70054835  1.083921   -0.24334368\n",
      "  0.15583527 -1.6024487   0.36912203  0.3478094  -0.17844716  2.00078\n",
      "  0.84960985 -0.49106383 -0.50744706 -0.91689277  0.6982286  -1.6789707\n",
      "  0.54986477 -0.56672174 -0.52218276 -1.9052117  -0.02543262 -0.29322636\n",
      " -0.44597992  0.29745328 -0.77098644  1.8415735   1.3075569   0.10206762\n",
      " -0.11314094 -0.56098366 -1.38621     0.58520603  0.9217454   0.06598485\n",
      " -0.6508313   0.39557397 -0.04516342  0.7290719   1.3812757  -0.20660812\n",
      "  0.26122218 -0.7085842   0.03782752  1.2648218  -1.1482173   0.07760578\n",
      " -0.7004031  -1.7158334   0.20768133  0.12379785 -0.5524805   0.7047887\n",
      "  0.2083375   0.2569211   1.1460844   0.39502227  0.9107815  -0.81564766\n",
      " -0.08376469 -0.3199698   0.433142   -1.6277046  -0.13470194  0.19227204\n",
      " -1.2070524  -0.09042044 -0.9967507  -1.5596101   1.4559716   0.37982032\n",
      " -0.88080394 -0.68248236 -1.1417004   1.6790766  -0.7052017   1.0952742\n",
      " -0.5218569   0.25500447 -0.5426476   0.16219532  1.1256902   0.46394616\n",
      "  1.2344229   1.0486021   1.900751    0.27146775 -0.17787819  0.7499145\n",
      " -0.7164897  -1.1201644   0.11483368  0.7720635   0.64680994  0.34533864]\n",
      "Vector Length:\n",
      " flight (96,)\n",
      "Word Vector Representation:\n",
      " [ 0.06463812 -0.55874246  0.7578956  -0.05792473  0.20145935  0.33313343\n",
      "  0.01129253 -0.98214394  1.202225   -0.09174868  0.02874804 -0.41946036\n",
      "  0.8838556   0.1847558   0.30624136  0.5222359   0.8038615  -0.6963034\n",
      " -0.3158834  -1.031394   -0.31609997 -0.11430396  0.26779777  0.1353911\n",
      "  0.49936017 -0.04281247 -0.26768988  0.82302904  0.18154773 -0.2820459\n",
      " -0.38631797  0.42311436 -1.2988181   0.25226352 -1.0309665  -0.26526892\n",
      " -0.7683539   0.48336536 -0.35429627  0.01300389  0.40635157  0.88028896\n",
      "  0.16337639 -0.16437158 -0.24083239 -0.18357626  0.72391367 -0.1179693\n",
      " -0.5977993  -0.17208737  0.86917245 -0.47338367 -0.6686431  -0.1558472\n",
      "  0.14053626  0.182185    0.47021526 -0.08345699 -0.40090832 -1.0297832\n",
      " -0.07113896 -0.21899238  0.04691316 -0.68550706 -0.8433536   0.13203272\n",
      " -0.5756684   0.23356837 -0.7832898  -1.1556584  -0.67660415 -0.78326833\n",
      " -0.03343165  0.22583652 -1.3555605   1.1278778   0.15681356  0.1975607\n",
      " -0.03270107  1.0894265  -0.4547883  -0.9032899   0.01402539 -0.7610773\n",
      "  1.1757045  -0.030083    0.40508416  0.79608047 -1.0571649   0.988474\n",
      " -0.10663155  0.01569726  0.7529082   1.4133743  -0.30524176 -0.88120997]\n",
      "Vector Length:\n",
      " through (96,)\n",
      "Word Vector Representation:\n",
      " [ 0.31212205  0.75130826  2.964888   -0.3466371  -1.4240422  -0.10631159\n",
      " -0.82926184 -0.91445047  0.18242475  1.5130262   0.19430728 -0.17915484\n",
      " -1.3039163  -0.4245046   0.03962757  1.9523907  -0.26448634  0.11827517\n",
      " -0.39401436 -0.06609973  0.7314544   0.8545909  -0.94376415  2.8159692\n",
      "  0.03396413  0.36306643  0.4104821   0.38559383  0.14427158 -0.1454758\n",
      " -0.34886494  0.7777724  -0.4658298  -0.16715012  2.2469928   1.2031741\n",
      " -0.92959595  0.51027906 -0.6381231   2.2640934   1.6125202   1.0444593\n",
      "  0.29764944  0.5419074  -0.804127   -0.41651753  0.40089434  0.7090206\n",
      " -0.00682586  0.41297126 -0.16333184 -1.2187278   0.6619708  -0.5496777\n",
      " -0.30471087 -0.4817515  -0.715294   -1.1480417  -1.3942194  -0.5448179\n",
      " -1.089318   -0.3214674  -0.57931083 -0.7410791  -0.337057   -0.6756028\n",
      "  1.5499127   0.26794687 -0.60605323  0.8893231  -0.09619121 -0.79124373\n",
      " -0.7251256   0.24008238 -1.0756809   0.131515   -0.38097626 -0.28909066\n",
      " -0.9363873   0.38007948  0.55167866  0.33496982 -0.28620255  0.08150148\n",
      "  0.14675507 -0.8186923  -0.1345028  -0.907567   -0.23658761 -0.25381428\n",
      " -0.5784433  -1.4592409  -1.4406294  -0.07358545  0.03878686 -0.9085036 ]\n",
      "Vector Length:\n",
      " Denmark (96,)\n",
      "Word Vector Representation:\n",
      " [-0.11816999  0.17012474  0.11229932 -1.4249446  -0.66060406  1.276602\n",
      " -1.4701116  -0.40723944  1.0812455  -0.413517    0.10612833  1.0687081\n",
      "  0.26169017  0.93168736  0.06858438 -0.29487517  0.7901668  -0.5482648\n",
      "  0.7259611  -0.5139594   0.22389543 -1.0109113  -0.6499538   0.48166227\n",
      "  0.4287374   0.3558083  -1.5693693  -0.15739785 -0.2625622   2.2457447\n",
      "  0.59635967  0.86099565 -0.7173878  -0.95595384 -1.280602    0.4563449\n",
      " -0.96593875  0.17717086  0.39432794  0.44825047 -0.9632847   0.5598556\n",
      " -0.24476805 -0.8388904   1.953716   -1.0734103   0.9930506   1.0626409\n",
      "  0.32426292 -0.5446787   0.40095776 -1.4077665  -0.77113795 -1.2596989\n",
      " -0.09525253 -0.25544822  0.9581332  -0.21101081 -1.6867372   0.8557789\n",
      " -0.31338152 -0.2846619  -0.9901494   0.09908581 -0.344478   -0.68722826\n",
      "  0.5085304  -0.10640696  0.23579055 -0.33319697 -0.15728974  0.39036506\n",
      " -1.3170543  -0.4210654  -0.5692871   0.6101334   0.01245013  0.19877736\n",
      " -0.6472863   0.8516642   0.8212457  -0.9185394   1.3790368   0.71355665\n",
      "  2.2936351   0.01774266 -0.5986657   0.46111175 -1.9674027   0.30338776\n",
      " -0.36409485 -0.775601    0.24757835  0.97526175 -0.12389486  0.93574345]\n",
      "Vector Length:\n",
      " . (96,)\n",
      "Word Vector Representation:\n",
      " [-1.2081556  -0.34731412  1.426253   -0.54527885 -0.85045093 -0.06699365\n",
      "  2.096728   -0.04869549  0.10536201 -0.16427542  0.94118655 -0.90735805\n",
      " -0.46801203 -0.609179   -0.41136146 -0.4166592   1.1045179   0.41590047\n",
      "  3.9859722  -1.713999   -0.14787357 -1.3875632  -0.62105143  1.8524582\n",
      " -0.01486996  3.135447    0.589998   -0.25337172 -0.48340666 -0.0365129\n",
      " -1.1748377   3.7523599  -0.29825434  1.2315829  -1.0366685   2.832594\n",
      "  0.3573943  -0.27176026 -1.4595076  -0.96636105  0.0247812   0.07172042\n",
      " -1.5565528   0.05219343 -0.6734398   0.29203904 -1.3971095   1.9996755\n",
      " -0.78838706  0.81699854 -0.9783967   1.4753926   1.3212495  -1.0610771\n",
      " -0.4529131  -1.3087428  -1.4124148   1.5499761  -0.9344251  -1.1604456\n",
      " -1.1290593  -1.237053   -1.0923327  -1.1192617   0.93769324  1.8238776\n",
      " -0.9718075   2.4955938  -0.0426462   1.8625588   0.08368513 -1.7967176\n",
      " -1.2550685  -0.44577718  0.22759545 -1.4006219  -0.3422655  -1.0180888\n",
      "  0.8058548  -0.5227389   0.5365536  -1.205364   -1.7804602  -1.4337226\n",
      " -0.44813082 -0.08057085  0.4149654   0.22970025 -0.9325298   1.2848983\n",
      "  0.27139592  1.6184537  -0.4181688  -0.6073172   1.2455755   1.6048635 ]\n"
     ]
    }
   ],
   "source": [
    "doc = nlp(\"I prefer the morning flight through Denmark.\")\n",
    "for token in doc:\n",
    "    print('Vector Length:\\n',str(token),token.vector.shape)\n",
    "    print('Word Vector Representation:\\n',token.vector)"
   ]
  },
  {
   "cell_type": "markdown",
   "id": "598c056e",
   "metadata": {},
   "source": [
    "# TASK6"
   ]
  },
  {
   "cell_type": "code",
   "execution_count": 59,
   "id": "e1b1639d",
   "metadata": {},
   "outputs": [
    {
     "name": "stdout",
     "output_type": "stream",
     "text": [
      "Text= rotten , Vector= True , OOV= True\n",
      "Text= sweet , Vector= True , OOV= True\n",
      "mangoes oranges 0.5676080584526062\n",
      "sweet oranges -0.07271397858858109\n"
     ]
    }
   ],
   "source": [
    "import warnings\n",
    "warnings.filterwarnings('ignore')\n",
    "doc = nlp(\"rotten sweet\")                                                # Input text\n",
    "for token in doc:\n",
    "    print('Text=',token.text,', Vector=',token.has_vector,', OOV=', token.is_oov)  \n",
    "doc = nlp(\"Do not put rotten mangoes and sweet oranges together\") \n",
    "for token1 in doc:                                                      # For token1\n",
    "    for token2 in doc:   # For token 2\n",
    "        if (token1.text =='mangoes'  and token2.text =='oranges'):\n",
    "            print(token1.text, token2.text, token1.similarity(token2))\n",
    "    \n",
    "        elif (token1.text =='sweet')and (token2.text =='oranges'):\n",
    "            print(token1.text, token2.text, token1.similarity(token2))\n"
   ]
  },
  {
   "cell_type": "code",
   "execution_count": 58,
   "id": "876de959",
   "metadata": {},
   "outputs": [],
   "source": []
  },
  {
   "cell_type": "code",
   "execution_count": null,
   "id": "5259d861",
   "metadata": {},
   "outputs": [],
   "source": []
  }
 ],
 "metadata": {
  "kernelspec": {
   "display_name": "Python 3 (ipykernel)",
   "language": "python",
   "name": "python3"
  },
  "language_info": {
   "codemirror_mode": {
    "name": "ipython",
    "version": 3
   },
   "file_extension": ".py",
   "mimetype": "text/x-python",
   "name": "python",
   "nbconvert_exporter": "python",
   "pygments_lexer": "ipython3",
   "version": "3.9.12"
  }
 },
 "nbformat": 4,
 "nbformat_minor": 5
}
