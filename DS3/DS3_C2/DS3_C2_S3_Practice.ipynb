{
 "cells": [
  {
   "cell_type": "markdown",
   "id": "d5c0cffe",
   "metadata": {},
   "source": [
    "# TASK1"
   ]
  },
  {
   "cell_type": "code",
   "execution_count": 1,
   "id": "83d323a8",
   "metadata": {},
   "outputs": [],
   "source": [
    "import spacy"
   ]
  },
  {
   "cell_type": "code",
   "execution_count": 2,
   "id": "fb08ead6",
   "metadata": {},
   "outputs": [],
   "source": [
    "from spacy.lang import en"
   ]
  },
  {
   "cell_type": "code",
   "execution_count": 3,
   "id": "972fa66b",
   "metadata": {},
   "outputs": [],
   "source": [
    "stop_words= en.STOP_WORDS"
   ]
  },
  {
   "cell_type": "code",
   "execution_count": 4,
   "id": "78b646d3",
   "metadata": {},
   "outputs": [
    {
     "name": "stdout",
     "output_type": "stream",
     "text": [
      "['anyway', 'here', '’m', '‘d', 'may', 'thus', 'nor', 'thru', 'bottom', 'am', 'often', 'until', 'latter', 'without', 'full']\n"
     ]
    }
   ],
   "source": [
    "print(list(stop_words)[0:15])"
   ]
  },
  {
   "cell_type": "code",
   "execution_count": 5,
   "id": "c7e8cf7d",
   "metadata": {},
   "outputs": [
    {
     "name": "stdout",
     "output_type": "stream",
     "text": [
      "326\n"
     ]
    }
   ],
   "source": [
    "print(len(stop_words))"
   ]
  },
  {
   "cell_type": "markdown",
   "id": "4c733cc6",
   "metadata": {},
   "source": [
    "# TASK2"
   ]
  },
  {
   "cell_type": "code",
   "execution_count": 6,
   "id": "50918ef5",
   "metadata": {},
   "outputs": [],
   "source": [
    "tokens = ['cries', 'this', 'lied','computing', 'organizing', 'matches']"
   ]
  },
  {
   "cell_type": "code",
   "execution_count": 7,
   "id": "44968bfe",
   "metadata": {},
   "outputs": [],
   "source": [
    "nlp = spacy.load(\"en_core_web_sm\")"
   ]
  },
  {
   "cell_type": "code",
   "execution_count": 8,
   "id": "f0d42960",
   "metadata": {},
   "outputs": [],
   "source": [
    "doc = nlp(' '.join(tokens))"
   ]
  },
  {
   "cell_type": "code",
   "execution_count": 70,
   "id": "f0327e2a",
   "metadata": {},
   "outputs": [
    {
     "name": "stdout",
     "output_type": "stream",
     "text": [
      "<class 'spacy.tokens.token.Token'>\n",
      "padua\n",
      "<class 'spacy.tokens.token.Token'>\n",
      "high\n",
      "<class 'spacy.tokens.token.Token'>\n",
      "SCHOOL\n",
      "<class 'spacy.tokens.token.Token'>\n",
      "-\n",
      "<class 'spacy.tokens.token.Token'>\n",
      "DAY\n",
      "<class 'spacy.tokens.token.Token'>\n",
      "\n",
      "\n",
      "<class 'spacy.tokens.token.Token'>\n",
      "revision\n",
      "<class 'spacy.tokens.token.Token'>\n",
      "November\n",
      "<class 'spacy.tokens.token.Token'>\n",
      "12\n",
      "<class 'spacy.tokens.token.Token'>\n",
      ",\n",
      "<class 'spacy.tokens.token.Token'>\n",
      "1997\n",
      "<class 'spacy.tokens.token.Token'>\n",
      "\n",
      "\n",
      "<class 'spacy.tokens.token.Token'>\n",
      "I\n",
      "<class 'spacy.tokens.token.Token'>\n",
      "hope\n",
      "<class 'spacy.tokens.token.Token'>\n",
      "dinner\n",
      "<class 'spacy.tokens.token.Token'>\n",
      "be\n",
      "<class 'spacy.tokens.token.Token'>\n",
      "ready\n",
      "<class 'spacy.tokens.token.Token'>\n",
      "because\n",
      "<class 'spacy.tokens.token.Token'>\n",
      "I\n",
      "<class 'spacy.tokens.token.Token'>\n",
      "only\n",
      "<class 'spacy.tokens.token.Token'>\n",
      "have\n",
      "<class 'spacy.tokens.token.Token'>\n",
      "ten\n",
      "<class 'spacy.tokens.token.Token'>\n",
      "minute\n",
      "<class 'spacy.tokens.token.Token'>\n",
      "before\n",
      "<class 'spacy.tokens.token.Token'>\n",
      "Mrs.\n",
      "<class 'spacy.tokens.token.Token'>\n",
      "Johnson\n",
      "<class 'spacy.tokens.token.Token'>\n",
      "squirt\n",
      "<class 'spacy.tokens.token.Token'>\n",
      "out\n",
      "<class 'spacy.tokens.token.Token'>\n",
      "a\n",
      "<class 'spacy.tokens.token.Token'>\n",
      "screamer\n",
      "<class 'spacy.tokens.token.Token'>\n",
      ".\n",
      "<class 'spacy.tokens.token.Token'>\n",
      "\n",
      "\n",
      "<class 'spacy.tokens.token.Token'>\n",
      "he\n",
      "<class 'spacy.tokens.token.Token'>\n",
      "grab\n",
      "<class 'spacy.tokens.token.Token'>\n",
      "the\n",
      "<class 'spacy.tokens.token.Token'>\n",
      "mail\n",
      "<class 'spacy.tokens.token.Token'>\n",
      "and\n",
      "<class 'spacy.tokens.token.Token'>\n",
      "rifle\n",
      "<class 'spacy.tokens.token.Token'>\n",
      "through\n",
      "<class 'spacy.tokens.token.Token'>\n",
      "it\n",
      "<class 'spacy.tokens.token.Token'>\n",
      ",\n",
      "<class 'spacy.tokens.token.Token'>\n",
      "as\n",
      "<class 'spacy.tokens.token.Token'>\n",
      "he\n",
      "<class 'spacy.tokens.token.Token'>\n",
      "bend\n",
      "<class 'spacy.tokens.token.Token'>\n",
      "down\n",
      "<class 'spacy.tokens.token.Token'>\n",
      "to\n",
      "<class 'spacy.tokens.token.Token'>\n",
      "kiss\n",
      "<class 'spacy.tokens.token.Token'>\n",
      "Sharon\n",
      "<class 'spacy.tokens.token.Token'>\n",
      "on\n",
      "<class 'spacy.tokens.token.Token'>\n",
      "the\n",
      "<class 'spacy.tokens.token.Token'>\n",
      "cheek\n",
      "<class 'spacy.tokens.token.Token'>\n",
      ".\n",
      "<class 'spacy.tokens.token.Token'>\n",
      "\n",
      "\n",
      "<class 'spacy.tokens.token.Token'>\n",
      "MICHAEL-\n",
      "<class 'spacy.tokens.token.Token'>\n",
      "come\n",
      "<class 'spacy.tokens.token.Token'>\n",
      "on\n",
      "<class 'spacy.tokens.token.Token'>\n",
      ".\n",
      "<class 'spacy.tokens.token.Token'>\n",
      "I\n",
      "<class 'spacy.tokens.token.Token'>\n",
      "be\n",
      "<class 'spacy.tokens.token.Token'>\n",
      "suppose\n",
      "<class 'spacy.tokens.token.Token'>\n",
      "to\n",
      "<class 'spacy.tokens.token.Token'>\n",
      "give\n",
      "<class 'spacy.tokens.token.Token'>\n",
      "you\n",
      "<class 'spacy.tokens.token.Token'>\n",
      "the\n",
      "<class 'spacy.tokens.token.Token'>\n",
      "tour\n",
      "<class 'spacy.tokens.token.Token'>\n",
      ".\n",
      "<class 'spacy.tokens.token.Token'>\n",
      "they\n",
      "<class 'spacy.tokens.token.Token'>\n",
      "head\n",
      "<class 'spacy.tokens.token.Token'>\n",
      "out\n",
      "<class 'spacy.tokens.token.Token'>\n",
      "of\n",
      "<class 'spacy.tokens.token.Token'>\n",
      "the\n",
      "<class 'spacy.tokens.token.Token'>\n",
      "office\n",
      "<class 'spacy.tokens.token.Token'>\n",
      "\n",
      "\n",
      "<class 'spacy.tokens.token.Token'>\n",
      "MICHAEL\n",
      "<class 'spacy.tokens.token.Token'>\n",
      "(\n",
      "<class 'spacy.tokens.token.Token'>\n",
      "continuing)-\n",
      "<class 'spacy.tokens.token.Token'>\n",
      "so\n",
      "<class 'spacy.tokens.token.Token'>\n",
      "--\n",
      "<class 'spacy.tokens.token.Token'>\n",
      "which\n",
      "<class 'spacy.tokens.token.Token'>\n",
      "Dakota\n",
      "<class 'spacy.tokens.token.Token'>\n",
      "you\n",
      "<class 'spacy.tokens.token.Token'>\n",
      "from\n",
      "<class 'spacy.tokens.token.Token'>\n",
      "?\n",
      "<class 'spacy.tokens.token.Token'>\n",
      "\n",
      "          \n",
      "                                 \n",
      "\n"
     ]
    }
   ],
   "source": [
    "for i in doc:\n",
    "    print(type(i))\n",
    "    print(i.lemma_)"
   ]
  },
  {
   "cell_type": "code",
   "execution_count": 10,
   "id": "986a349e",
   "metadata": {},
   "outputs": [],
   "source": [
    "from nltk.stem.porter import PorterStemmer"
   ]
  },
  {
   "cell_type": "code",
   "execution_count": 11,
   "id": "799ae31b",
   "metadata": {},
   "outputs": [],
   "source": [
    "stem = PorterStemmer()"
   ]
  },
  {
   "cell_type": "code",
   "execution_count": 12,
   "id": "bc2d0ee1",
   "metadata": {},
   "outputs": [
    {
     "name": "stdout",
     "output_type": "stream",
     "text": [
      "cri\n",
      "thi\n",
      "lie\n",
      "comput\n",
      "organ\n",
      "match\n"
     ]
    }
   ],
   "source": [
    "for i in tokens:\n",
    "    print(stem.stem(i))"
   ]
  },
  {
   "cell_type": "code",
   "execution_count": 13,
   "id": "ead78112",
   "metadata": {},
   "outputs": [],
   "source": [
    "from nltk.stem import WordNetLemmatizer #lemm using NLTK"
   ]
  },
  {
   "cell_type": "code",
   "execution_count": 14,
   "id": "5ece8dc3",
   "metadata": {},
   "outputs": [],
   "source": [
    "lemm = WordNetLemmatizer()"
   ]
  },
  {
   "cell_type": "code",
   "execution_count": 15,
   "id": "dc8e9012",
   "metadata": {},
   "outputs": [
    {
     "name": "stdout",
     "output_type": "stream",
     "text": [
      "cry\n",
      "this\n",
      "lied\n",
      "computing\n",
      "organizing\n",
      "match\n"
     ]
    }
   ],
   "source": [
    "for i in tokens:\n",
    "    print(lemm.lemmatize(i))"
   ]
  },
  {
   "cell_type": "markdown",
   "id": "1fb37168",
   "metadata": {},
   "source": [
    "# TASK3"
   ]
  },
  {
   "cell_type": "code",
   "execution_count": 16,
   "id": "214da7cf",
   "metadata": {},
   "outputs": [
    {
     "name": "stdout",
     "output_type": "stream",
     "text": [
      "Note from poster to Kubrick newsgroup:\n",
      "\n",
      "I found this on a bbs a while ago and I thought I'd pass it along to all \n",
      "of you Kubrick freaks out there.\n",
      "\n",
      "02/23/89\n",
      "Transcriber's note:\n",
      "\n",
      "For all you Clarke/Kubrick/2001 fans,\n",
      "\n",
      "I found the original paper copy of this screenplay a while back and felt \n",
      "compelled to transcribe it to disk and upload it to various bulletin \n",
      "boards for the enjoyment of all.\n",
      "\n",
      "The final movie deviates from this screenplay in a number of interesting \n",
      "ways. I've tried to maintain the format of the original document except \n",
      "the number of lines per page of the original. In order to reduce the \n",
      "length of this file I've used a bar of \"------\" to delimit the pages as \n",
      "there was a lot of whitespace per original screenplay page.\n",
      "\n"
     ]
    }
   ],
   "source": [
    "text = open('DS3_C2_S3_ScifiscriptsIntro_Data_Practice.txt','r').read()\n",
    "print(text)"
   ]
  },
  {
   "cell_type": "code",
   "execution_count": 17,
   "id": "c5d11c42",
   "metadata": {},
   "outputs": [],
   "source": [
    "#stop_words\n",
    "text1 = text.split()\n",
    "a = [word for word in text1 if word not in stop_words]\n",
    "Text=' '.join(a)"
   ]
  },
  {
   "cell_type": "code",
   "execution_count": 18,
   "id": "111ad23a",
   "metadata": {},
   "outputs": [
    {
     "name": "stdout",
     "output_type": "stream",
     "text": [
      "Note poster Kubrick newsgroup: I found bbs ago I thought I'd pass Kubrick freaks there. 02/23/89 Transcriber's note: For Clarke/Kubrick/2001 fans, I found original paper copy screenplay felt compelled transcribe disk upload bulletin boards enjoyment all. The final movie deviates screenplay number interesting ways. I've tried maintain format original document number lines page original. In order reduce length file I've bar \"------\" delimit pages lot whitespace original screenplay page.\n"
     ]
    }
   ],
   "source": [
    "print(Text)"
   ]
  },
  {
   "cell_type": "code",
   "execution_count": 19,
   "id": "4f2209ed",
   "metadata": {},
   "outputs": [
    {
     "data": {
      "text/plain": [
       "02/23/89"
      ]
     },
     "execution_count": 19,
     "metadata": {},
     "output_type": "execute_result"
    }
   ],
   "source": [
    "lst = []\n",
    "doc1 = nlp(Text)\n",
    "for i in doc1.sents:\n",
    "    lst.append(i)\n",
    "lst.pop(1)"
   ]
  },
  {
   "cell_type": "code",
   "execution_count": 20,
   "id": "8df35862",
   "metadata": {},
   "outputs": [],
   "source": [
    "five_sent = lst[0:5]"
   ]
  },
  {
   "cell_type": "code",
   "execution_count": 21,
   "id": "eec20421",
   "metadata": {},
   "outputs": [
    {
     "data": {
      "text/plain": [
       "[Note poster Kubrick newsgroup: I found bbs ago I thought I'd pass Kubrick freaks there.,\n",
       " Transcriber's note: For Clarke/Kubrick/2001 fans, I found original paper copy screenplay felt compelled transcribe disk upload bulletin boards enjoyment all.,\n",
       " The final movie deviates screenplay number interesting ways.,\n",
       " I've tried maintain format original document number lines page original.,\n",
       " In order reduce length file I've bar \"------\" delimit pages lot whitespace original screenplay page.]"
      ]
     },
     "execution_count": 21,
     "metadata": {},
     "output_type": "execute_result"
    }
   ],
   "source": [
    "five_sent"
   ]
  },
  {
   "cell_type": "markdown",
   "id": "0dd1ec59",
   "metadata": {},
   "source": [
    "# TASK4"
   ]
  },
  {
   "cell_type": "code",
   "execution_count": 22,
   "id": "06679b54",
   "metadata": {},
   "outputs": [],
   "source": [
    "sent1 = 'Bryan visisted his friend for a while and then went home at 10 p.m.'"
   ]
  },
  {
   "cell_type": "code",
   "execution_count": 23,
   "id": "627cc6e9",
   "metadata": {},
   "outputs": [],
   "source": [
    "doc4 = nlp(sent1)"
   ]
  },
  {
   "cell_type": "code",
   "execution_count": 24,
   "id": "454008cc",
   "metadata": {},
   "outputs": [
    {
     "name": "stdout",
     "output_type": "stream",
     "text": [
      "PROPN\n",
      "VERB\n",
      "PRON\n",
      "NOUN\n",
      "ADP\n",
      "DET\n",
      "NOUN\n",
      "CCONJ\n",
      "ADV\n",
      "VERB\n",
      "ADV\n",
      "ADP\n",
      "NUM\n",
      "ADV\n"
     ]
    }
   ],
   "source": [
    "for i in doc4:\n",
    "    print(i.pos_)"
   ]
  },
  {
   "cell_type": "markdown",
   "id": "37a96acd",
   "metadata": {},
   "source": [
    "# TASK5"
   ]
  },
  {
   "cell_type": "code",
   "execution_count": 25,
   "id": "15b768fb",
   "metadata": {},
   "outputs": [
    {
     "name": "stdout",
     "output_type": "stream",
     "text": [
      "PADUA HIGH SCHOOL - DAY\n",
      "Revision November 12, 1997\n",
      "\n"
     ]
    }
   ],
   "source": [
    "text5 = open('DS3_C2_S3_Random_Data_Practice.txt','r').read()\n",
    "print(text5)"
   ]
  },
  {
   "cell_type": "code",
   "execution_count": 26,
   "id": "17d72e0c",
   "metadata": {},
   "outputs": [],
   "source": [
    "doc4 = nlp(text5)"
   ]
  },
  {
   "cell_type": "code",
   "execution_count": 27,
   "id": "a924811c",
   "metadata": {},
   "outputs": [
    {
     "name": "stdout",
     "output_type": "stream",
     "text": [
      "SCHOOL is:-      PROPN\n",
      "DAY is:-      PROPN\n",
      "November is:-      PROPN\n",
      "12 is:-      NUM\n",
      "1997 is:-      NUM\n"
     ]
    }
   ],
   "source": [
    "for i in doc4:\n",
    "    if i.pos_ == 'PROPN' or i.pos_ =='NUM':\n",
    "        print(i ,'is:-     ', i.pos_)"
   ]
  },
  {
   "cell_type": "markdown",
   "id": "5ac9e3f1",
   "metadata": {},
   "source": [
    "# TASK6"
   ]
  },
  {
   "cell_type": "code",
   "execution_count": 28,
   "id": "d589c1a2",
   "metadata": {},
   "outputs": [],
   "source": [
    "#adding stopwords to the default one"
   ]
  },
  {
   "cell_type": "code",
   "execution_count": 29,
   "id": "02681be5",
   "metadata": {},
   "outputs": [],
   "source": [
    "from spacy.lang.en import STOP_WORDS"
   ]
  },
  {
   "cell_type": "code",
   "execution_count": 30,
   "id": "c9d0fc51",
   "metadata": {},
   "outputs": [
    {
     "data": {
      "text/plain": [
       "['anyway', 'here', '’m', '‘d', 'may', 'thus', 'nor', 'thru', 'bottom', 'am']"
      ]
     },
     "execution_count": 30,
     "metadata": {},
     "output_type": "execute_result"
    }
   ],
   "source": [
    "stop_words = STOP_WORDS\n",
    "list(stop_words)[0:10]"
   ]
  },
  {
   "cell_type": "code",
   "execution_count": 31,
   "id": "f0929273",
   "metadata": {},
   "outputs": [],
   "source": [
    "stop_words.update({1,2,3,4,5})"
   ]
  },
  {
   "cell_type": "code",
   "execution_count": 32,
   "id": "b1723a6c",
   "metadata": {},
   "outputs": [
    {
     "data": {
      "text/plain": [
       "[1, 'anyway', 2, 3, 4, 5, 'here', '’m', '‘d', 'may']"
      ]
     },
     "execution_count": 32,
     "metadata": {},
     "output_type": "execute_result"
    }
   ],
   "source": [
    "list(stop_words)[0:10]"
   ]
  },
  {
   "cell_type": "code",
   "execution_count": 36,
   "id": "18831f56",
   "metadata": {},
   "outputs": [],
   "source": [
    "stop_words.difference_update({'always','never','between','becomes'})"
   ]
  },
  {
   "cell_type": "code",
   "execution_count": 39,
   "id": "9f1c9324",
   "metadata": {},
   "outputs": [
    {
     "data": {
      "text/plain": [
       "{\"'d\",\n",
       " \"'ll\",\n",
       " \"'m\",\n",
       " \"'re\",\n",
       " \"'s\",\n",
       " \"'ve\",\n",
       " 'a',\n",
       " 'about',\n",
       " 'above',\n",
       " 'across',\n",
       " 'after',\n",
       " 'afterwards',\n",
       " 'again',\n",
       " 'against',\n",
       " 'all',\n",
       " 'almost',\n",
       " 'alone',\n",
       " 'along',\n",
       " 'already',\n",
       " 'also',\n",
       " 'although',\n",
       " 'am',\n",
       " 'among',\n",
       " 'amongst',\n",
       " 'amount',\n",
       " 'an',\n",
       " 'and',\n",
       " 'another',\n",
       " 'any',\n",
       " 'anyhow',\n",
       " 'anyone',\n",
       " 'anything',\n",
       " 'anyway',\n",
       " 'anywhere',\n",
       " 'are',\n",
       " 'around',\n",
       " 'as',\n",
       " 'at',\n",
       " 'back',\n",
       " 'be',\n",
       " 'became',\n",
       " 'because',\n",
       " 'become',\n",
       " 'becoming',\n",
       " 'been',\n",
       " 'before',\n",
       " 'beforehand',\n",
       " 'behind',\n",
       " 'being',\n",
       " 'below',\n",
       " 'beside',\n",
       " 'besides',\n",
       " 'beyond',\n",
       " 'both',\n",
       " 'bottom',\n",
       " 'but',\n",
       " 'by',\n",
       " 'ca',\n",
       " 'call',\n",
       " 'can',\n",
       " 'cannot',\n",
       " 'could',\n",
       " 'did',\n",
       " 'do',\n",
       " 'does',\n",
       " 'doing',\n",
       " 'done',\n",
       " 'down',\n",
       " 'due',\n",
       " 'during',\n",
       " 'each',\n",
       " 'eight',\n",
       " 'either',\n",
       " 'eleven',\n",
       " 'else',\n",
       " 'elsewhere',\n",
       " 'empty',\n",
       " 'enough',\n",
       " 'even',\n",
       " 'ever',\n",
       " 'every',\n",
       " 'everyone',\n",
       " 'everything',\n",
       " 'everywhere',\n",
       " 'except',\n",
       " 'few',\n",
       " 'fifteen',\n",
       " 'fifty',\n",
       " 'first',\n",
       " 'five',\n",
       " 'for',\n",
       " 'former',\n",
       " 'formerly',\n",
       " 'forty',\n",
       " 'four',\n",
       " 'from',\n",
       " 'front',\n",
       " 'full',\n",
       " 'further',\n",
       " 'get',\n",
       " 'give',\n",
       " 'go',\n",
       " 'had',\n",
       " 'has',\n",
       " 'have',\n",
       " 'he',\n",
       " 'hence',\n",
       " 'her',\n",
       " 'here',\n",
       " 'hereafter',\n",
       " 'hereby',\n",
       " 'herein',\n",
       " 'hereupon',\n",
       " 'hers',\n",
       " 'herself',\n",
       " 'him',\n",
       " 'himself',\n",
       " 'his',\n",
       " 'how',\n",
       " 'however',\n",
       " 'hundred',\n",
       " 'i',\n",
       " 'if',\n",
       " 'in',\n",
       " 'indeed',\n",
       " 'into',\n",
       " 'is',\n",
       " 'it',\n",
       " 'its',\n",
       " 'itself',\n",
       " 'just',\n",
       " 'keep',\n",
       " 'last',\n",
       " 'latter',\n",
       " 'latterly',\n",
       " 'least',\n",
       " 'less',\n",
       " 'made',\n",
       " 'make',\n",
       " 'many',\n",
       " 'may',\n",
       " 'me',\n",
       " 'meanwhile',\n",
       " 'might',\n",
       " 'mine',\n",
       " 'more',\n",
       " 'moreover',\n",
       " 'most',\n",
       " 'mostly',\n",
       " 'move',\n",
       " 'much',\n",
       " 'must',\n",
       " 'my',\n",
       " 'myself',\n",
       " \"n't\",\n",
       " 'name',\n",
       " 'namely',\n",
       " 'neither',\n",
       " 'nevertheless',\n",
       " 'next',\n",
       " 'nine',\n",
       " 'no',\n",
       " 'nobody',\n",
       " 'none',\n",
       " 'noone',\n",
       " 'nor',\n",
       " 'not',\n",
       " 'nothing',\n",
       " 'now',\n",
       " 'nowhere',\n",
       " 'n‘t',\n",
       " 'n’t',\n",
       " 'of',\n",
       " 'off',\n",
       " 'often',\n",
       " 'on',\n",
       " 'once',\n",
       " 'one',\n",
       " 'only',\n",
       " 'onto',\n",
       " 'or',\n",
       " 'other',\n",
       " 'others',\n",
       " 'otherwise',\n",
       " 'our',\n",
       " 'ours',\n",
       " 'ourselves',\n",
       " 'out',\n",
       " 'over',\n",
       " 'own',\n",
       " 'part',\n",
       " 'per',\n",
       " 'perhaps',\n",
       " 'please',\n",
       " 'put',\n",
       " 'quite',\n",
       " 'rather',\n",
       " 're',\n",
       " 'really',\n",
       " 'regarding',\n",
       " 'same',\n",
       " 'say',\n",
       " 'see',\n",
       " 'seem',\n",
       " 'seemed',\n",
       " 'seeming',\n",
       " 'seems',\n",
       " 'serious',\n",
       " 'several',\n",
       " 'she',\n",
       " 'should',\n",
       " 'show',\n",
       " 'side',\n",
       " 'since',\n",
       " 'six',\n",
       " 'sixty',\n",
       " 'so',\n",
       " 'some',\n",
       " 'somehow',\n",
       " 'someone',\n",
       " 'something',\n",
       " 'sometime',\n",
       " 'sometimes',\n",
       " 'somewhere',\n",
       " 'still',\n",
       " 'such',\n",
       " 'take',\n",
       " 'ten',\n",
       " 'than',\n",
       " 'that',\n",
       " 'the',\n",
       " 'their',\n",
       " 'them',\n",
       " 'themselves',\n",
       " 'then',\n",
       " 'thence',\n",
       " 'there',\n",
       " 'thereafter',\n",
       " 'thereby',\n",
       " 'therefore',\n",
       " 'therein',\n",
       " 'thereupon',\n",
       " 'these',\n",
       " 'they',\n",
       " 'third',\n",
       " 'this',\n",
       " 'those',\n",
       " 'though',\n",
       " 'three',\n",
       " 'through',\n",
       " 'throughout',\n",
       " 'thru',\n",
       " 'thus',\n",
       " 'to',\n",
       " 'together',\n",
       " 'too',\n",
       " 'top',\n",
       " 'toward',\n",
       " 'towards',\n",
       " 'twelve',\n",
       " 'twenty',\n",
       " 'two',\n",
       " 'under',\n",
       " 'unless',\n",
       " 'until',\n",
       " 'up',\n",
       " 'upon',\n",
       " 'us',\n",
       " 'used',\n",
       " 'using',\n",
       " 'various',\n",
       " 'very',\n",
       " 'via',\n",
       " 'was',\n",
       " 'we',\n",
       " 'well',\n",
       " 'were',\n",
       " 'what',\n",
       " 'whatever',\n",
       " 'when',\n",
       " 'whence',\n",
       " 'whenever',\n",
       " 'where',\n",
       " 'whereafter',\n",
       " 'whereas',\n",
       " 'whereby',\n",
       " 'wherein',\n",
       " 'whereupon',\n",
       " 'wherever',\n",
       " 'whether',\n",
       " 'which',\n",
       " 'while',\n",
       " 'whither',\n",
       " 'who',\n",
       " 'whoever',\n",
       " 'whole',\n",
       " 'whom',\n",
       " 'whose',\n",
       " 'why',\n",
       " 'will',\n",
       " 'with',\n",
       " 'within',\n",
       " 'without',\n",
       " 'would',\n",
       " 'yet',\n",
       " 'you',\n",
       " 'your',\n",
       " 'yours',\n",
       " 'yourself',\n",
       " 'yourselves',\n",
       " '‘d',\n",
       " '‘ll',\n",
       " '‘m',\n",
       " '‘re',\n",
       " '‘s',\n",
       " '‘ve',\n",
       " '’d',\n",
       " '’ll',\n",
       " '’m',\n",
       " '’re',\n",
       " '’s',\n",
       " '’ve'}"
      ]
     },
     "execution_count": 39,
     "metadata": {},
     "output_type": "execute_result"
    }
   ],
   "source": [
    "stop_words"
   ]
  },
  {
   "cell_type": "markdown",
   "id": "7e70931d",
   "metadata": {},
   "source": [
    "# TASK7"
   ]
  },
  {
   "cell_type": "code",
   "execution_count": 40,
   "id": "14e0714e",
   "metadata": {},
   "outputs": [
    {
     "name": "stdout",
     "output_type": "stream",
     "text": [
      "PADUA HIGH SCHOOL - DAY\n",
      "Revision November 12, 1997\n",
      "I hope dinner's ready because I only have ten minutes before Mrs. Johnson squirts out a screamer.\n",
      "He grabs the mail and rifles through it, as he bends down to kiss Sharon on the cheek.\n",
      "MICHAEL- C'mon. I'm supposed to give you the tour. They head out of the office\n",
      "MICHAEL (continuing)- So -- which Dakota you from?\n",
      "          \n",
      "                                 \n",
      "\n"
     ]
    }
   ],
   "source": [
    "text7 = open('DS3_C2_S3_Sample_Data_Practice.txt','r').read()\n",
    "print(text7)"
   ]
  },
  {
   "cell_type": "code",
   "execution_count": 43,
   "id": "d5f03ca1",
   "metadata": {},
   "outputs": [],
   "source": [
    "doc = nlp(text7)"
   ]
  },
  {
   "cell_type": "code",
   "execution_count": 45,
   "id": "9d2bd790",
   "metadata": {},
   "outputs": [],
   "source": [
    "tokens7 = [] \n",
    "for i in doc:\n",
    "    tokens7.append(i)"
   ]
  },
  {
   "cell_type": "code",
   "execution_count": 46,
   "id": "eff6c918",
   "metadata": {},
   "outputs": [
    {
     "data": {
      "text/plain": [
       "[PADUA,\n",
       " HIGH,\n",
       " SCHOOL,\n",
       " -,\n",
       " DAY,\n",
       " ,\n",
       " Revision,\n",
       " November,\n",
       " 12,\n",
       " ,,\n",
       " 1997,\n",
       " ,\n",
       " I,\n",
       " hope,\n",
       " dinner,\n",
       " 's,\n",
       " ready,\n",
       " because,\n",
       " I,\n",
       " only,\n",
       " have,\n",
       " ten,\n",
       " minutes,\n",
       " before,\n",
       " Mrs.,\n",
       " Johnson,\n",
       " squirts,\n",
       " out,\n",
       " a,\n",
       " screamer,\n",
       " .,\n",
       " ,\n",
       " He,\n",
       " grabs,\n",
       " the,\n",
       " mail,\n",
       " and,\n",
       " rifles,\n",
       " through,\n",
       " it,\n",
       " ,,\n",
       " as,\n",
       " he,\n",
       " bends,\n",
       " down,\n",
       " to,\n",
       " kiss,\n",
       " Sharon,\n",
       " on,\n",
       " the,\n",
       " cheek,\n",
       " .,\n",
       " ,\n",
       " MICHAEL-,\n",
       " C'm,\n",
       " on,\n",
       " .,\n",
       " I,\n",
       " 'm,\n",
       " supposed,\n",
       " to,\n",
       " give,\n",
       " you,\n",
       " the,\n",
       " tour,\n",
       " .,\n",
       " They,\n",
       " head,\n",
       " out,\n",
       " of,\n",
       " the,\n",
       " office,\n",
       " ,\n",
       " MICHAEL,\n",
       " (,\n",
       " continuing)-,\n",
       " So,\n",
       " --,\n",
       " which,\n",
       " Dakota,\n",
       " you,\n",
       " from,\n",
       " ?,\n",
       " \n",
       "           \n",
       "                                  ]"
      ]
     },
     "execution_count": 46,
     "metadata": {},
     "output_type": "execute_result"
    }
   ],
   "source": [
    "tokens7"
   ]
  },
  {
   "cell_type": "code",
   "execution_count": 50,
   "id": "9c1d6a37",
   "metadata": {},
   "outputs": [],
   "source": [
    "lst = [word for word in tokens7 if word not in stop_words]"
   ]
  },
  {
   "cell_type": "code",
   "execution_count": 58,
   "id": "f5260e62",
   "metadata": {},
   "outputs": [
    {
     "data": {
      "text/plain": [
       "['padua',\n",
       " 'high',\n",
       " 'SCHOOL',\n",
       " '-',\n",
       " 'DAY',\n",
       " '\\n',\n",
       " 'revision',\n",
       " 'November',\n",
       " '12',\n",
       " ',',\n",
       " '1997',\n",
       " '\\n',\n",
       " 'I',\n",
       " 'hope',\n",
       " 'dinner',\n",
       " 'be',\n",
       " 'ready',\n",
       " 'because',\n",
       " 'I',\n",
       " 'only',\n",
       " 'have',\n",
       " 'ten',\n",
       " 'minute',\n",
       " 'before',\n",
       " 'Mrs.',\n",
       " 'Johnson',\n",
       " 'squirt',\n",
       " 'out',\n",
       " 'a',\n",
       " 'screamer',\n",
       " '.',\n",
       " '\\n',\n",
       " 'he',\n",
       " 'grab',\n",
       " 'the',\n",
       " 'mail',\n",
       " 'and',\n",
       " 'rifle',\n",
       " 'through',\n",
       " 'it',\n",
       " ',',\n",
       " 'as',\n",
       " 'he',\n",
       " 'bend',\n",
       " 'down',\n",
       " 'to',\n",
       " 'kiss',\n",
       " 'Sharon',\n",
       " 'on',\n",
       " 'the',\n",
       " 'cheek',\n",
       " '.',\n",
       " '\\n',\n",
       " 'MICHAEL-',\n",
       " 'come',\n",
       " 'on',\n",
       " '.',\n",
       " 'I',\n",
       " 'be',\n",
       " 'suppose',\n",
       " 'to',\n",
       " 'give',\n",
       " 'you',\n",
       " 'the',\n",
       " 'tour',\n",
       " '.',\n",
       " 'they',\n",
       " 'head',\n",
       " 'out',\n",
       " 'of',\n",
       " 'the',\n",
       " 'office',\n",
       " '\\n',\n",
       " 'MICHAEL',\n",
       " '(',\n",
       " 'continuing)-',\n",
       " 'so',\n",
       " '--',\n",
       " 'which',\n",
       " 'Dakota',\n",
       " 'you',\n",
       " 'from',\n",
       " '?',\n",
       " '\\n          \\n                                 \\n']"
      ]
     },
     "execution_count": 58,
     "metadata": {},
     "output_type": "execute_result"
    }
   ],
   "source": [
    "lem_words = []\n",
    "for i in lst:\n",
    "    lem_words.append(i.lemma_)\n",
    "lem_words"
   ]
  },
  {
   "cell_type": "code",
   "execution_count": 68,
   "id": "687c1560",
   "metadata": {},
   "outputs": [
    {
     "name": "stdout",
     "output_type": "stream",
     "text": [
      "PADUA is:-           VERB\n",
      "HIGH is:-           ADJ\n",
      "SCHOOL is:-           PROPN\n",
      "- is:-           PUNCT\n",
      "DAY is:-           PROPN\n",
      "Revision is:-           NOUN\n",
      "November is:-           PROPN\n",
      "12 is:-           NUM\n",
      ", is:-           PUNCT\n",
      "1997 is:-           NUM\n",
      "I is:-           PRON\n",
      "hope is:-           VERB\n",
      "dinner is:-           NOUN\n",
      "'s is:-           AUX\n",
      "ready is:-           ADJ\n",
      "because is:-           SCONJ\n",
      "I is:-           PRON\n",
      "only is:-           ADV\n",
      "have is:-           VERB\n",
      "ten is:-           NUM\n",
      "minutes is:-           NOUN\n",
      "before is:-           SCONJ\n",
      "Mrs. is:-           PROPN\n",
      "Johnson is:-           PROPN\n",
      "squirts is:-           VERB\n",
      "out is:-           ADP\n",
      "a is:-           DET\n",
      "screamer is:-           ADJ\n",
      ". is:-           PUNCT\n",
      "He is:-           PRON\n",
      "grabs is:-           VERB\n",
      "the is:-           DET\n",
      "mail is:-           NOUN\n",
      "and is:-           CCONJ\n",
      "rifles is:-           NOUN\n",
      "through is:-           ADP\n",
      "it is:-           PRON\n",
      ", is:-           PUNCT\n",
      "as is:-           SCONJ\n",
      "he is:-           PRON\n",
      "bends is:-           VERB\n",
      "down is:-           ADP\n",
      "to is:-           PART\n",
      "kiss is:-           VERB\n",
      "Sharon is:-           PROPN\n",
      "on is:-           ADP\n",
      "the is:-           DET\n",
      "cheek is:-           NOUN\n",
      ". is:-           PUNCT\n",
      "MICHAEL- is:-           PROPN\n",
      "C'm is:-           VERB\n",
      "on is:-           ADP\n",
      ". is:-           PUNCT\n",
      "I is:-           PRON\n",
      "'m is:-           AUX\n",
      "supposed is:-           VERB\n",
      "to is:-           PART\n",
      "give is:-           VERB\n",
      "you is:-           PRON\n",
      "the is:-           DET\n",
      "tour is:-           NOUN\n",
      ". is:-           PUNCT\n",
      "They is:-           PRON\n",
      "head is:-           VERB\n",
      "out is:-           ADP\n",
      "of is:-           ADP\n",
      "the is:-           DET\n",
      "office is:-           NOUN\n",
      "MICHAEL is:-           PROPN\n",
      "( is:-           PUNCT\n",
      "continuing)- is:-           X\n",
      "So is:-           ADV\n",
      "-- is:-           PUNCT\n",
      "which is:-           DET\n",
      "Dakota is:-           PROPN\n",
      "you is:-           PRON\n",
      "from is:-           ADP\n",
      "? is:-           PUNCT\n"
     ]
    }
   ],
   "source": [
    "for i in doc:\n",
    "    if i.pos_ != 'SPACE':\n",
    "        print(i, 'is:-          ',i.pos_)"
   ]
  },
  {
   "cell_type": "code",
   "execution_count": null,
   "id": "5c3be4b8",
   "metadata": {},
   "outputs": [],
   "source": []
  }
 ],
 "metadata": {
  "kernelspec": {
   "display_name": "Python 3 (ipykernel)",
   "language": "python",
   "name": "python3"
  },
  "language_info": {
   "codemirror_mode": {
    "name": "ipython",
    "version": 3
   },
   "file_extension": ".py",
   "mimetype": "text/x-python",
   "name": "python",
   "nbconvert_exporter": "python",
   "pygments_lexer": "ipython3",
   "version": "3.9.12"
  }
 },
 "nbformat": 4,
 "nbformat_minor": 5
}
