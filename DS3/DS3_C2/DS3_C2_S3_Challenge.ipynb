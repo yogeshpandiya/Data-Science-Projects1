{
 "cells": [
  {
   "cell_type": "markdown",
   "id": "2279f76f",
   "metadata": {},
   "source": [
    "# TASK1"
   ]
  },
  {
   "cell_type": "code",
   "execution_count": 21,
   "id": "da7a6ad9",
   "metadata": {},
   "outputs": [],
   "source": [
    "import pandas as pd\n",
    "import nltk"
   ]
  },
  {
   "cell_type": "code",
   "execution_count": 13,
   "id": "a9729f6e",
   "metadata": {},
   "outputs": [],
   "source": [
    "#importing spacy and english module\n",
    "import spacy\n",
    "from spacy.lang.en import English"
   ]
  },
  {
   "cell_type": "code",
   "execution_count": 19,
   "id": "8c3ef3bb",
   "metadata": {},
   "outputs": [],
   "source": [
    "nlp = English()\n",
    "nlp2 = spacy.load('en_core_web_sm')"
   ]
  },
  {
   "cell_type": "code",
   "execution_count": 15,
   "id": "a44b9aa2",
   "metadata": {},
   "outputs": [],
   "source": [
    "df = pd.read_csv('DS3_C2_S3_CookingReview_Data_Challenge.csv')"
   ]
  },
  {
   "cell_type": "code",
   "execution_count": 16,
   "id": "4d223544",
   "metadata": {},
   "outputs": [
    {
     "data": {
      "text/html": [
       "<div>\n",
       "<style scoped>\n",
       "    .dataframe tbody tr th:only-of-type {\n",
       "        vertical-align: middle;\n",
       "    }\n",
       "\n",
       "    .dataframe tbody tr th {\n",
       "        vertical-align: top;\n",
       "    }\n",
       "\n",
       "    .dataframe thead th {\n",
       "        text-align: right;\n",
       "    }\n",
       "</style>\n",
       "<table border=\"1\" class=\"dataframe\">\n",
       "  <thead>\n",
       "    <tr style=\"text-align: right;\">\n",
       "      <th></th>\n",
       "      <th>id</th>\n",
       "      <th>title</th>\n",
       "      <th>content</th>\n",
       "      <th>tags</th>\n",
       "    </tr>\n",
       "  </thead>\n",
       "  <tbody>\n",
       "    <tr>\n",
       "      <th>0</th>\n",
       "      <td>1</td>\n",
       "      <td>get chewy chocolate chip cookies</td>\n",
       "      <td>chocolate chips cookies always crisp get chewy...</td>\n",
       "      <td>['baking', 'cookies', 'texture']</td>\n",
       "    </tr>\n",
       "    <tr>\n",
       "      <th>1</th>\n",
       "      <td>2</td>\n",
       "      <td>cook bacon oven</td>\n",
       "      <td>heard people cooking bacon oven laying strips ...</td>\n",
       "      <td>['oven', 'cooking-time', 'bacon']</td>\n",
       "    </tr>\n",
       "    <tr>\n",
       "      <th>2</th>\n",
       "      <td>3</td>\n",
       "      <td>difference white brown eggs</td>\n",
       "      <td>always use brown extra large eggs honestly say...</td>\n",
       "      <td>['eggs']</td>\n",
       "    </tr>\n",
       "    <tr>\n",
       "      <th>3</th>\n",
       "      <td>4</td>\n",
       "      <td>difference baking soda baking powder</td>\n",
       "      <td>use one place certain recipes</td>\n",
       "      <td>['substitutions', 'please-remove-this-tag', 'b...</td>\n",
       "    </tr>\n",
       "    <tr>\n",
       "      <th>4</th>\n",
       "      <td>5</td>\n",
       "      <td>tomato sauce recipe cut acidity</td>\n",
       "      <td>seems every time make tomato sauce pasta sauce...</td>\n",
       "      <td>['sauce', 'pasta', 'tomatoes', 'italian-cuisine']</td>\n",
       "    </tr>\n",
       "  </tbody>\n",
       "</table>\n",
       "</div>"
      ],
      "text/plain": [
       "   id                                 title  \\\n",
       "0   1      get chewy chocolate chip cookies   \n",
       "1   2                       cook bacon oven   \n",
       "2   3           difference white brown eggs   \n",
       "3   4  difference baking soda baking powder   \n",
       "4   5       tomato sauce recipe cut acidity   \n",
       "\n",
       "                                             content  \\\n",
       "0  chocolate chips cookies always crisp get chewy...   \n",
       "1  heard people cooking bacon oven laying strips ...   \n",
       "2  always use brown extra large eggs honestly say...   \n",
       "3                      use one place certain recipes   \n",
       "4  seems every time make tomato sauce pasta sauce...   \n",
       "\n",
       "                                                tags  \n",
       "0                   ['baking', 'cookies', 'texture']  \n",
       "1                  ['oven', 'cooking-time', 'bacon']  \n",
       "2                                           ['eggs']  \n",
       "3  ['substitutions', 'please-remove-this-tag', 'b...  \n",
       "4  ['sauce', 'pasta', 'tomatoes', 'italian-cuisine']  "
      ]
     },
     "execution_count": 16,
     "metadata": {},
     "output_type": "execute_result"
    }
   ],
   "source": [
    "df.head()"
   ]
  },
  {
   "cell_type": "code",
   "execution_count": 17,
   "id": "fafb80ad",
   "metadata": {},
   "outputs": [
    {
     "data": {
      "text/plain": [
       "id         0\n",
       "title      0\n",
       "content    0\n",
       "tags       0\n",
       "dtype: int64"
      ]
     },
     "execution_count": 17,
     "metadata": {},
     "output_type": "execute_result"
    }
   ],
   "source": [
    "df.isna().sum()"
   ]
  },
  {
   "cell_type": "markdown",
   "id": "83e3fdc7",
   "metadata": {},
   "source": [
    "# TASK2"
   ]
  },
  {
   "cell_type": "code",
   "execution_count": 22,
   "id": "812348ee",
   "metadata": {},
   "outputs": [],
   "source": [
    "from nltk.corpus import stopwords"
   ]
  },
  {
   "cell_type": "code",
   "execution_count": 34,
   "id": "97e02b13",
   "metadata": {},
   "outputs": [],
   "source": [
    "stop_words =stopwords.words('English')"
   ]
  },
  {
   "cell_type": "code",
   "execution_count": 36,
   "id": "d65cfb4e",
   "metadata": {},
   "outputs": [],
   "source": [
    "t = df['content'][0]"
   ]
  },
  {
   "cell_type": "code",
   "execution_count": 49,
   "id": "0764d02b",
   "metadata": {},
   "outputs": [],
   "source": [
    "import warnings\n",
    "warnings.filterwarnings('ignore')\n",
    "for i in range(len(df['content'])):\n",
    "    t = df['content'][i]\n",
    "    df['content'][i] =' '.join([word for word in t.split() if word not in stop_words])"
   ]
  },
  {
   "cell_type": "code",
   "execution_count": 52,
   "id": "80a72001",
   "metadata": {},
   "outputs": [
    {
     "data": {
      "text/html": [
       "<div>\n",
       "<style scoped>\n",
       "    .dataframe tbody tr th:only-of-type {\n",
       "        vertical-align: middle;\n",
       "    }\n",
       "\n",
       "    .dataframe tbody tr th {\n",
       "        vertical-align: top;\n",
       "    }\n",
       "\n",
       "    .dataframe thead th {\n",
       "        text-align: right;\n",
       "    }\n",
       "</style>\n",
       "<table border=\"1\" class=\"dataframe\">\n",
       "  <thead>\n",
       "    <tr style=\"text-align: right;\">\n",
       "      <th></th>\n",
       "      <th>id</th>\n",
       "      <th>title</th>\n",
       "      <th>content</th>\n",
       "      <th>tags</th>\n",
       "    </tr>\n",
       "  </thead>\n",
       "  <tbody>\n",
       "    <tr>\n",
       "      <th>0</th>\n",
       "      <td>1</td>\n",
       "      <td>get chewy chocolate chip cookies</td>\n",
       "      <td>chocolate chips cookies always crisp get chewy...</td>\n",
       "      <td>['baking', 'cookies', 'texture']</td>\n",
       "    </tr>\n",
       "    <tr>\n",
       "      <th>1</th>\n",
       "      <td>2</td>\n",
       "      <td>cook bacon oven</td>\n",
       "      <td>heard people cooking bacon oven laying strips ...</td>\n",
       "      <td>['oven', 'cooking-time', 'bacon']</td>\n",
       "    </tr>\n",
       "    <tr>\n",
       "      <th>2</th>\n",
       "      <td>3</td>\n",
       "      <td>difference white brown eggs</td>\n",
       "      <td>always use brown extra large eggs honestly say...</td>\n",
       "      <td>['eggs']</td>\n",
       "    </tr>\n",
       "    <tr>\n",
       "      <th>3</th>\n",
       "      <td>4</td>\n",
       "      <td>difference baking soda baking powder</td>\n",
       "      <td>use one place certain recipes</td>\n",
       "      <td>['substitutions', 'please-remove-this-tag', 'b...</td>\n",
       "    </tr>\n",
       "    <tr>\n",
       "      <th>4</th>\n",
       "      <td>5</td>\n",
       "      <td>tomato sauce recipe cut acidity</td>\n",
       "      <td>seems every time make tomato sauce pasta sauce...</td>\n",
       "      <td>['sauce', 'pasta', 'tomatoes', 'italian-cuisine']</td>\n",
       "    </tr>\n",
       "  </tbody>\n",
       "</table>\n",
       "</div>"
      ],
      "text/plain": [
       "   id                                 title  \\\n",
       "0   1      get chewy chocolate chip cookies   \n",
       "1   2                       cook bacon oven   \n",
       "2   3           difference white brown eggs   \n",
       "3   4  difference baking soda baking powder   \n",
       "4   5       tomato sauce recipe cut acidity   \n",
       "\n",
       "                                             content  \\\n",
       "0  chocolate chips cookies always crisp get chewy...   \n",
       "1  heard people cooking bacon oven laying strips ...   \n",
       "2  always use brown extra large eggs honestly say...   \n",
       "3                      use one place certain recipes   \n",
       "4  seems every time make tomato sauce pasta sauce...   \n",
       "\n",
       "                                                tags  \n",
       "0                   ['baking', 'cookies', 'texture']  \n",
       "1                  ['oven', 'cooking-time', 'bacon']  \n",
       "2                                           ['eggs']  \n",
       "3  ['substitutions', 'please-remove-this-tag', 'b...  \n",
       "4  ['sauce', 'pasta', 'tomatoes', 'italian-cuisine']  "
      ]
     },
     "execution_count": 52,
     "metadata": {},
     "output_type": "execute_result"
    }
   ],
   "source": [
    "df.head()"
   ]
  },
  {
   "cell_type": "code",
   "execution_count": 56,
   "id": "c28db58c",
   "metadata": {},
   "outputs": [],
   "source": [
    "from spacy.lang.en import STOP_WORDS"
   ]
  },
  {
   "cell_type": "code",
   "execution_count": 60,
   "id": "d1400f62",
   "metadata": {},
   "outputs": [],
   "source": [
    "df = pd.read_csv('DS3_C2_S3_CookingReview_Data_Challenge.csv')\n",
    "df['content'] = df['content'].apply(lambda x: ' '.join(x for x in x.split() if x not in STOP_WORDS))"
   ]
  },
  {
   "cell_type": "code",
   "execution_count": 68,
   "id": "a1a707b8",
   "metadata": {},
   "outputs": [
    {
     "data": {
      "text/html": [
       "<div>\n",
       "<style scoped>\n",
       "    .dataframe tbody tr th:only-of-type {\n",
       "        vertical-align: middle;\n",
       "    }\n",
       "\n",
       "    .dataframe tbody tr th {\n",
       "        vertical-align: top;\n",
       "    }\n",
       "\n",
       "    .dataframe thead th {\n",
       "        text-align: right;\n",
       "    }\n",
       "</style>\n",
       "<table border=\"1\" class=\"dataframe\">\n",
       "  <thead>\n",
       "    <tr style=\"text-align: right;\">\n",
       "      <th></th>\n",
       "      <th>id</th>\n",
       "      <th>title</th>\n",
       "      <th>content</th>\n",
       "      <th>tags</th>\n",
       "    </tr>\n",
       "  </thead>\n",
       "  <tbody>\n",
       "    <tr>\n",
       "      <th>0</th>\n",
       "      <td>1</td>\n",
       "      <td>get chewy chocolate chip cookies</td>\n",
       "      <td>chocolate chips cookies crisp chewy cookies li...</td>\n",
       "      <td>['baking', 'cookies', 'texture']</td>\n",
       "    </tr>\n",
       "    <tr>\n",
       "      <th>1</th>\n",
       "      <td>2</td>\n",
       "      <td>cook bacon oven</td>\n",
       "      <td>heard people cooking bacon oven laying strips ...</td>\n",
       "      <td>['oven', 'cooking-time', 'bacon']</td>\n",
       "    </tr>\n",
       "    <tr>\n",
       "      <th>2</th>\n",
       "      <td>3</td>\n",
       "      <td>difference white brown eggs</td>\n",
       "      <td>use brown extra large eggs honestly habit poin...</td>\n",
       "      <td>['eggs']</td>\n",
       "    </tr>\n",
       "    <tr>\n",
       "      <th>3</th>\n",
       "      <td>4</td>\n",
       "      <td>difference baking soda baking powder</td>\n",
       "      <td>use place certain recipes</td>\n",
       "      <td>['substitutions', 'please-remove-this-tag', 'b...</td>\n",
       "    </tr>\n",
       "    <tr>\n",
       "      <th>4</th>\n",
       "      <td>5</td>\n",
       "      <td>tomato sauce recipe cut acidity</td>\n",
       "      <td>time tomato sauce pasta sauce little bit acid ...</td>\n",
       "      <td>['sauce', 'pasta', 'tomatoes', 'italian-cuisine']</td>\n",
       "    </tr>\n",
       "  </tbody>\n",
       "</table>\n",
       "</div>"
      ],
      "text/plain": [
       "   id                                 title  \\\n",
       "0   1      get chewy chocolate chip cookies   \n",
       "1   2                       cook bacon oven   \n",
       "2   3           difference white brown eggs   \n",
       "3   4  difference baking soda baking powder   \n",
       "4   5       tomato sauce recipe cut acidity   \n",
       "\n",
       "                                             content  \\\n",
       "0  chocolate chips cookies crisp chewy cookies li...   \n",
       "1  heard people cooking bacon oven laying strips ...   \n",
       "2  use brown extra large eggs honestly habit poin...   \n",
       "3                          use place certain recipes   \n",
       "4  time tomato sauce pasta sauce little bit acid ...   \n",
       "\n",
       "                                                tags  \n",
       "0                   ['baking', 'cookies', 'texture']  \n",
       "1                  ['oven', 'cooking-time', 'bacon']  \n",
       "2                                           ['eggs']  \n",
       "3  ['substitutions', 'please-remove-this-tag', 'b...  \n",
       "4  ['sauce', 'pasta', 'tomatoes', 'italian-cuisine']  "
      ]
     },
     "execution_count": 68,
     "metadata": {},
     "output_type": "execute_result"
    }
   ],
   "source": [
    "df.head()"
   ]
  },
  {
   "cell_type": "markdown",
   "id": "02abdfe9",
   "metadata": {},
   "source": [
    "#### WE can clearly see that spacy has more stopwords as compare to nltk"
   ]
  },
  {
   "cell_type": "code",
   "execution_count": 70,
   "id": "2abea09b",
   "metadata": {},
   "outputs": [
    {
     "data": {
      "text/plain": [
       "179"
      ]
     },
     "execution_count": 70,
     "metadata": {},
     "output_type": "execute_result"
    }
   ],
   "source": [
    "len(stop_words) # NLTK Stopwords"
   ]
  },
  {
   "cell_type": "code",
   "execution_count": 72,
   "id": "0c1d2919",
   "metadata": {},
   "outputs": [
    {
     "data": {
      "text/plain": [
       "326"
      ]
     },
     "execution_count": 72,
     "metadata": {},
     "output_type": "execute_result"
    }
   ],
   "source": [
    "len(STOP_WORDS)# Spacy Stopwords"
   ]
  },
  {
   "cell_type": "markdown",
   "id": "f60f73e7",
   "metadata": {},
   "source": [
    "# TASK3"
   ]
  },
  {
   "cell_type": "code",
   "execution_count": 74,
   "id": "d5e6cbf7",
   "metadata": {},
   "outputs": [
    {
     "data": {
      "text/plain": [
       "'chocolate chips cookies crisp chewy cookies like starbucks thank answered far tip biggest impact chill rest dough increased brown sugar ratio increased bit butter adding maple syrup helped'"
      ]
     },
     "execution_count": 74,
     "metadata": {},
     "output_type": "execute_result"
    }
   ],
   "source": [
    "first_review = df['content'][0]\n",
    "first_review "
   ]
  },
  {
   "cell_type": "code",
   "execution_count": 75,
   "id": "6c21adaf",
   "metadata": {},
   "outputs": [],
   "source": [
    "from nltk.stem.porter import PorterStemmer"
   ]
  },
  {
   "cell_type": "code",
   "execution_count": 76,
   "id": "814cd67d",
   "metadata": {},
   "outputs": [],
   "source": [
    "stem = PorterStemmer()"
   ]
  },
  {
   "cell_type": "code",
   "execution_count": 107,
   "id": "2fa475dd",
   "metadata": {},
   "outputs": [
    {
     "name": "stdout",
     "output_type": "stream",
     "text": [
      "chocolate is:-       chocol\n",
      "chips is:-       chip\n",
      "cookies is:-       cooki\n",
      "crisp is:-       crisp\n",
      "chewy is:-       chewi\n",
      "cookies is:-       cooki\n",
      "like is:-       like\n",
      "starbucks is:-       starbuck\n",
      "thank is:-       thank\n",
      "answered is:-       answer\n",
      "far is:-       far\n",
      "tip is:-       tip\n",
      "biggest is:-       biggest\n",
      "impact is:-       impact\n",
      "chill is:-       chill\n",
      "rest is:-       rest\n",
      "dough is:-       dough\n",
      "increased is:-       increas\n",
      "brown is:-       brown\n",
      "sugar is:-       sugar\n",
      "ratio is:-       ratio\n",
      "increased is:-       increas\n",
      "bit is:-       bit\n",
      "butter is:-       butter\n",
      "adding is:-       ad\n",
      "maple is:-       mapl\n",
      "syrup is:-       syrup\n",
      "helped is:-       help\n"
     ]
    }
   ],
   "source": [
    "for i in first_review.split():\n",
    "    print(i, 'is:-      ',stem.stem(i))"
   ]
  },
  {
   "cell_type": "code",
   "execution_count": 103,
   "id": "440749d1",
   "metadata": {},
   "outputs": [],
   "source": [
    "nlp = spacy.load(\"en_core_web_sm\")\n",
    "tokens = nlp(first_review)"
   ]
  },
  {
   "cell_type": "code",
   "execution_count": 106,
   "id": "ed4f0c5f",
   "metadata": {},
   "outputs": [
    {
     "name": "stdout",
     "output_type": "stream",
     "text": [
      "chocolate is:-     chocolate\n",
      "chips is:-     chip\n",
      "cookies is:-     cookie\n",
      "crisp is:-     crisp\n",
      "chewy is:-     chewy\n",
      "cookies is:-     cookie\n",
      "like is:-     like\n",
      "starbucks is:-     starbuck\n",
      "thank is:-     thank\n",
      "answered is:-     answer\n",
      "far is:-     far\n",
      "tip is:-     tip\n",
      "biggest is:-     big\n",
      "impact is:-     impact\n",
      "chill is:-     chill\n",
      "rest is:-     rest\n",
      "dough is:-     dough\n",
      "increased is:-     increase\n",
      "brown is:-     brown\n",
      "sugar is:-     sugar\n",
      "ratio is:-     ratio\n",
      "increased is:-     increase\n",
      "bit is:-     bit\n",
      "butter is:-     butter\n",
      "adding is:-     add\n",
      "maple is:-     maple\n",
      "syrup is:-     syrup\n",
      "helped is:-     help\n"
     ]
    }
   ],
   "source": [
    "for i in tokens:\n",
    "    print(i,'is:-    ',i.lemma_)"
   ]
  },
  {
   "cell_type": "code",
   "execution_count": 108,
   "id": "01c8397f",
   "metadata": {},
   "outputs": [],
   "source": [
    "#we can clearly see that in nltk words have no meaning or logic but in spacy words have meanings"
   ]
  },
  {
   "cell_type": "markdown",
   "id": "042b23c0",
   "metadata": {},
   "source": [
    "# TASK4"
   ]
  },
  {
   "cell_type": "code",
   "execution_count": 112,
   "id": "bddb62e8",
   "metadata": {},
   "outputs": [
    {
     "name": "stdout",
     "output_type": "stream",
     "text": [
      "chocolate is:-     NOUN\n",
      "chips is:-     NOUN\n",
      "cookies is:-     NOUN\n",
      "crisp is:-     PROPN\n",
      "chewy is:-     PROPN\n",
      "cookies is:-     NOUN\n",
      "like is:-     ADP\n",
      "starbucks is:-     NOUN\n",
      "thank is:-     AUX\n",
      "answered is:-     VERB\n",
      "far is:-     ADV\n",
      "tip is:-     NOUN\n",
      "biggest is:-     ADJ\n",
      "impact is:-     NOUN\n",
      "chill is:-     NOUN\n",
      "rest is:-     NOUN\n",
      "dough is:-     NOUN\n",
      "increased is:-     VERB\n",
      "brown is:-     ADJ\n",
      "sugar is:-     NOUN\n",
      "ratio is:-     NOUN\n",
      "increased is:-     VERB\n",
      "bit is:-     NOUN\n",
      "butter is:-     NOUN\n",
      "adding is:-     VERB\n",
      "maple is:-     NOUN\n",
      "syrup is:-     NOUN\n",
      "helped is:-     VERB\n"
     ]
    }
   ],
   "source": [
    "for i in tokens:\n",
    "    print(i,'is:-    ',i.pos_)"
   ]
  },
  {
   "cell_type": "code",
   "execution_count": 113,
   "id": "8da50d91",
   "metadata": {},
   "outputs": [],
   "source": [
    "from collections import Counter"
   ]
  },
  {
   "cell_type": "code",
   "execution_count": 114,
   "id": "1b1d1ae6",
   "metadata": {},
   "outputs": [],
   "source": [
    "count = Counter()\n",
    "for i in tokens:\n",
    "    count[i.pos_]+=1"
   ]
  },
  {
   "cell_type": "code",
   "execution_count": 115,
   "id": "d7b5d5e5",
   "metadata": {},
   "outputs": [
    {
     "data": {
      "text/plain": [
       "Counter({'NOUN': 16,\n",
       "         'PROPN': 2,\n",
       "         'ADP': 1,\n",
       "         'AUX': 1,\n",
       "         'VERB': 5,\n",
       "         'ADV': 1,\n",
       "         'ADJ': 2})"
      ]
     },
     "execution_count": 115,
     "metadata": {},
     "output_type": "execute_result"
    }
   ],
   "source": [
    "count"
   ]
  },
  {
   "cell_type": "code",
   "execution_count": null,
   "id": "3f8043c7",
   "metadata": {},
   "outputs": [],
   "source": []
  }
 ],
 "metadata": {
  "kernelspec": {
   "display_name": "Python 3 (ipykernel)",
   "language": "python",
   "name": "python3"
  },
  "language_info": {
   "codemirror_mode": {
    "name": "ipython",
    "version": 3
   },
   "file_extension": ".py",
   "mimetype": "text/x-python",
   "name": "python",
   "nbconvert_exporter": "python",
   "pygments_lexer": "ipython3",
   "version": "3.9.12"
  }
 },
 "nbformat": 4,
 "nbformat_minor": 5
}
