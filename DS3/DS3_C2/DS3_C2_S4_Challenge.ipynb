{
 "cells": [
  {
   "cell_type": "markdown",
   "id": "f02e3eb9",
   "metadata": {},
   "source": [
    "# TASK1"
   ]
  },
  {
   "cell_type": "code",
   "execution_count": 5,
   "id": "7d7d77fd",
   "metadata": {},
   "outputs": [],
   "source": [
    "import spacy                                                  # Import spaCy library\n",
    "from spacy.lang.en import English                             # Import specific model\n",
    "nlp = spacy.load(\"en_core_web_sm\")                            # Load model\n",
    "import collections\n",
    "from typing import Dict, List, Tuple                          # import dictionaries \n",
    "text = open('DS3_C2_S4_GettysburgAddress_Data_Challenge.txt','r').read()"
   ]
  },
  {
   "cell_type": "code",
   "execution_count": 6,
   "id": "38d13320",
   "metadata": {},
   "outputs": [
    {
     "name": "stdout",
     "output_type": "stream",
     "text": [
      "Four score and seven years ago our fathers brought forth upon this continent, a new nation,\n",
      "\n",
      " conceived in Liberty, and dedicated to the proposition that all men are created equal.\n",
      "Now we are engaged in a great civil war, testing whether that nation, or any nation so\n",
      "\n",
      " conceived and so dedicated, can long endure. We are met on a great battle-field of that \n",
      "\n",
      "war. We have come to dedicate a portion of that field, as a final resting place for those who here gave their lives that that nation might live. It is altogether fitting and proper that we should do this.\n",
      "\n",
      "But, in a larger sense, we can not dedicateâ€” we can not consecrateâ€” we can not hallowâ€” this\n",
      " ground. The brave men, living and dead, who struggled here, have consecrated it, far above\n",
      " our poor power to add or detract. The world will little note, nor long remember what we say\n",
      " here, but it can never forget what they did here. \n",
      "\n",
      "\n",
      "66666666666666666666 7777777777777\n",
      "444  222 2222  000\n",
      "\n",
      "It is for us the living, rather, to be \n",
      "dedicated here to the unfinished work which they who fought here have thus far so nobly \n",
      "advanced. \n",
      "\n",
      "\n",
      "\n",
      "It is rather for us to be here dedicated to the great task remaining before \n",
      "usâ€”that from these honored dead we take increased devotion to that cause for which they \n",
      "gave the last full measure of devotionâ€”that we here highly resolve that these dead shall \n",
      "not have died in vainâ€”that this nation, under God, shall have a new birth of freedomâ€”and \n",
      "that government of the people, by the people, for the people, shall not perish from the earth.\n",
      "â€”Abraham Lincoln\n",
      "\n"
     ]
    }
   ],
   "source": [
    "print(text)"
   ]
  },
  {
   "cell_type": "markdown",
   "id": "6f81a7de",
   "metadata": {},
   "source": [
    "# TASK2"
   ]
  },
  {
   "cell_type": "code",
   "execution_count": 66,
   "id": "59c56135",
   "metadata": {},
   "outputs": [],
   "source": [
    "def text2bow(words: List[str], dictionary: Dict[str, int]) -> List[Tuple[int, int]]:                  # Text to BOW\n",
    "    word_frequences = collections.defaultdict(int)\n",
    "    for word in words:\n",
    "        if word not in dictionary:                                                                    # Check condition\n",
    "            dictionary[word] = len(dictionary)\n",
    "        word_frequences[dictionary[word]] += 1\n",
    "    return list(word_frequences.items())                                                              # Return word frequencies\n",
    "sample_text = text                                         # Input text\n",
    "dictionary = {}                                                                                       # Initialize dictionary                         # print BOW"
   ]
  },
  {
   "cell_type": "code",
   "execution_count": 71,
   "id": "bb7778d2",
   "metadata": {},
   "outputs": [
    {
     "name": "stdout",
     "output_type": "stream",
     "text": [
      "\n",
      "BOW Representation of dedicated: (19, 3)\n",
      "BOW Representation of nation: (39, 2)\n"
     ]
    }
   ],
   "source": [
    "print('\\nBOW Representation of dedicated: {}\\nBOW Representation of nation: {}'.format(text2bow(text.split(), dictionary)[dictionary['dedicated']],text2bow(text.split(), dictionary)[dictionary['nation']]))"
   ]
  },
  {
   "cell_type": "code",
   "execution_count": 73,
   "id": "91119b01",
   "metadata": {},
   "outputs": [
    {
     "name": "stdout",
     "output_type": "stream",
     "text": [
      "\n",
      "dedicated: 19\n",
      "nation: 39\n"
     ]
    }
   ],
   "source": [
    "print('\\ndedicated: {}\\nnation: {}'.format(dictionary['dedicated'],dictionary['nation']))"
   ]
  },
  {
   "cell_type": "markdown",
   "id": "f7f5f2a4",
   "metadata": {},
   "source": [
    "# TASK3"
   ]
  },
  {
   "cell_type": "code",
   "execution_count": 75,
   "id": "21294375",
   "metadata": {},
   "outputs": [
    {
     "name": "stdout",
     "output_type": "stream",
     "text": [
      "battle-field\n"
     ]
    }
   ],
   "source": [
    "import spacy\n",
    "from spacy.matcher import Matcher                                             # Import matcher\n",
    "nlp = spacy.load(\"en_core_web_sm\")                                            # Load model\n",
    "matcher = Matcher(nlp.vocab)\n",
    "pattern = [{\"LOWER\": \"battle\"}, {\"IS_PUNCT\": True}, {\"LOWER\": \"field\"}]        # Add match ID \"HelloWorld\" with no callback and one pattern\n",
    "#pattern = [{\"LOWER\": \"hello\"}, {\"LOWER\": \"world\"}]\n",
    "matcher.add(\"keys\", [pattern])\n",
    "doc = nlp(text)                                       # Input text\n",
    "matches = matcher(doc)\n",
    "for match_id, start, end in matches:                                          # Find matches\n",
    "    string_id = nlp.vocab.strings[match_id]  # Get string representation\n",
    "    span = doc[start:end]  # The matched span\n",
    "    #print(match_id, string_id, start, end, span.text)\n",
    "    print(span.text)  "
   ]
  },
  {
   "cell_type": "code",
   "execution_count": 76,
   "id": "9aaa0afa",
   "metadata": {},
   "outputs": [],
   "source": [
    "import spacy\n",
    "from spacy.matcher import Matcher                                             # Import matcher\n",
    "nlp = spacy.load(\"en_core_web_sm\")                                            # Load model\n",
    "matcher = Matcher(nlp.vocab)\n",
    "pattern = [{\"LOWER\": \"battlefield\"}]        # Add match ID \"HelloWorld\" with no callback and one pattern\n",
    "#pattern = [{\"LOWER\": \"hello\"}, {\"LOWER\": \"world\"}]\n",
    "matcher.add(\"keys\", [pattern])\n",
    "doc = nlp(text)                                       # Input text\n",
    "matches = matcher(doc)\n",
    "for match_id, start, end in matches:                                          # Find matches\n",
    "    string_id = nlp.vocab.strings[match_id]  # Get string representation\n",
    "    span = doc[start:end]  # The matched span\n",
    "    #print(match_id, string_id, start, end, span.text)\n",
    "    print(span.text)  "
   ]
  },
  {
   "cell_type": "markdown",
   "id": "afc4013a",
   "metadata": {},
   "source": [
    "# TASK4"
   ]
  },
  {
   "cell_type": "markdown",
   "id": "8863440e",
   "metadata": {},
   "source": [
    "#### !python -m spacy download en_core_web_lg"
   ]
  },
  {
   "cell_type": "code",
   "execution_count": 77,
   "id": "d19d5120",
   "metadata": {},
   "outputs": [],
   "source": [
    "nlp = spacy.load(\"en_core_web_lg\")  "
   ]
  },
  {
   "cell_type": "code",
   "execution_count": 90,
   "id": "84d80593",
   "metadata": {},
   "outputs": [
    {
     "name": "stdout",
     "output_type": "stream",
     "text": [
      "Text= Four , Vector= True , OOV= True\n",
      "Text= score , Vector= True , OOV= True\n",
      "Text= and , Vector= True , OOV= True\n",
      "Text= seven , Vector= True , OOV= True\n",
      "Text= years , Vector= True , OOV= True\n"
     ]
    }
   ],
   "source": [
    "doc = nlp(text)                                                # Input text\n",
    "for token in doc[:5]:\n",
    "    print('Text=',token.text,', Vector=',token.has_vector,', OOV=', token.is_oov)     # Check words in vocab or not"
   ]
  },
  {
   "cell_type": "markdown",
   "id": "3053e0e3",
   "metadata": {},
   "source": [
    "# TASK5"
   ]
  },
  {
   "cell_type": "code",
   "execution_count": 79,
   "id": "66d1476f",
   "metadata": {},
   "outputs": [
    {
     "name": "stdout",
     "output_type": "stream",
     "text": [
      "long endure\n",
      "resting place\n"
     ]
    }
   ],
   "source": [
    "from spacy.matcher import PhraseMatcher                                               # Import matcher\n",
    "nlp = spacy.load(\"en_core_web_sm\")                                                    # Load model\n",
    "matcher = PhraseMatcher(nlp.vocab)\n",
    "terms = [\"long endure\", \"resting place\"]\n",
    "patterns = [nlp.make_doc(text) for text in terms]                                     # Only run nlp.make_doc to speed things up\n",
    "matcher.add(\"Terminology\", patterns)\n",
    "doc = nlp(text)\n",
    "matches = matcher(doc)\n",
    "for match_id, start, end in matches:                                                  # Find matches\n",
    "    span = doc[start:end]\n",
    "    print(span.text)  "
   ]
  },
  {
   "cell_type": "markdown",
   "id": "aa809744",
   "metadata": {},
   "source": [
    "# TASK6"
   ]
  },
  {
   "cell_type": "code",
   "execution_count": 89,
   "id": "97e9207e",
   "metadata": {},
   "outputs": [
    {
     "name": "stdout",
     "output_type": "stream",
     "text": [
      "Vector Length:\n",
      " Four (96,)\n",
      "Word Vector Representation:\n",
      " [-0.6062868   0.8085632   0.7418344  -1.0121865   0.40696412 -0.64955354\n",
      "  0.321447    1.6430901   0.77300537 -1.1214368   0.9584724   0.73784196\n",
      "  0.13836661  0.06640238 -0.02727255 -1.0619067   0.91009367 -0.6364703\n",
      "  0.75503033 -0.4791126   0.23102716 -0.20239416  1.2983083  -0.8896209\n",
      " -0.65604913  1.7232966   1.440271   -1.1093591   0.71646696  1.056358\n",
      " -1.7441503  -0.3018561  -0.22747391 -0.2954849   1.2901276  -0.3961593\n",
      " -1.3092768  -0.22254148  0.38828227 -1.0467119  -0.65518165  0.30175644\n",
      " -0.25609374 -1.3498614  -0.678218   -0.8486512   1.1020066   1.1507837\n",
      "  1.7215512  -0.33958068 -0.37135544 -1.6890254  -0.4730496  -0.429381\n",
      " -0.37723938  0.9581526   0.93813133 -0.98057914  0.7553633   0.08646178\n",
      "  1.4561949  -1.0480417   0.48039997 -1.056945   -0.04428533 -0.54975224\n",
      "  0.4747452  -1.2294339   0.08866987 -0.5762547   1.7922361  -1.321445\n",
      " -0.6557375  -0.34890825  3.4156575   0.02304642  1.2071959  -0.03176288\n",
      " -0.8382142  -1.0038112  -0.2935965  -0.8472593   0.7289307  -0.12584245\n",
      "  1.1011078  -1.2164735   0.28391162 -0.19767615  2.9203148  -0.2838465\n",
      " -1.7601621  -1.7881293   0.540915   -0.5663171  -0.49575052  0.6610104 ]\n",
      "Vector Length:\n",
      " score (96,)\n",
      "Word Vector Representation:\n",
      " [ 0.62471676 -0.5202762  -1.0997326  -0.5298766  -0.44199926 -0.5460717\n",
      "  0.97614574 -0.12750395  0.1715023  -0.34644756  1.5236247  -0.46925294\n",
      "  1.2186192   0.19300327  0.49213588 -0.92683494  0.8930679  -0.49560076\n",
      " -1.0663711   0.27464288 -0.2679848   0.09243634 -0.11889513 -0.09722173\n",
      " -0.06472206  0.21604049  1.375993   -0.73514426  0.42895526  0.3774103\n",
      " -1.2557889  -0.08645945 -1.3185908   0.5372866  -0.44852173 -0.9748129\n",
      " -0.8148061  -0.5532869  -0.91061944 -0.79010856  1.2951933  -0.43231365\n",
      "  0.06050801  0.349384   -0.41021538 -0.6103467   0.9195592   0.5695553\n",
      "  0.31047517  0.03740299 -0.5977361  -0.03704566 -0.39477038 -1.2292141\n",
      "  0.4395572  -0.68939465  0.16926566 -0.8913394   0.03980607 -0.99154246\n",
      "  0.26959604  0.04252806  0.6668764  -0.5463216  -0.03035536 -0.58332574\n",
      " -0.28159806  0.61742914 -0.24536827 -0.7011541   0.6383544  -0.64888513\n",
      "  0.03390072 -0.56015724 -0.45982933  0.8014859  -0.21257222  0.47110677\n",
      " -0.16088772  1.2415153  -0.30323967  0.08737198  0.99414223 -0.6927058\n",
      "  0.23308307  0.07523492 -0.32426086  1.2775006   0.23369764 -0.02129754\n",
      " -0.4678615  -0.33762974  2.416146    0.19735609  0.33672225 -0.6557822 ]\n",
      "Vector Length:\n",
      " and (96,)\n",
      "Word Vector Representation:\n",
      " [ 0.18018833 -0.66585004  1.732007   -0.7640277  -0.2570845  -1.248809\n",
      "  0.06195825 -0.31995022  0.8772401  -0.6632917   1.0176584  -1.3155692\n",
      "  0.4359749   0.7530557  -1.3437084  -0.23056784 -1.0839368  -0.63687766\n",
      "  1.5716183   0.40903503 -0.32004207  0.6805234   0.33018067 -1.1610202\n",
      " -0.47711593 -1.0631783  -0.343652   -1.1193402   1.7461311  -1.2429069\n",
      " -0.5632497   2.2663414  -0.03631008 -0.01863372 -0.9651581   0.30411994\n",
      "  0.10176846  0.6047202  -0.65104234 -0.13709086  0.23827417  0.84745204\n",
      " -0.6534256  -1.2806834  -0.4602064  -0.7797656   0.13374165 -0.5934166\n",
      " -0.3723545   2.0063853   0.6401919  -0.71480536 -0.05561467  2.0950456\n",
      "  1.2507644   1.7111609   0.5505443  -0.9440759   2.9231133  -1.1648414\n",
      " -0.9383695   2.0066297   0.37885636 -0.00483969  2.183224   -1.4109046\n",
      " -0.25408038  0.5195807  -0.6751863   0.09188955 -0.73980606 -0.11201245\n",
      " -0.33882463 -0.498279    0.33564866 -0.764959    1.4026423  -0.92736423\n",
      "  0.8931221  -1.0449824  -0.5199063   0.9311876  -2.1573482  -0.70277154\n",
      "  0.23051944  0.16451961 -0.18711513  0.93699753  0.05596089  0.2991484\n",
      " -1.9693143   0.94234025  0.6528154  -0.263462    0.25397864 -0.03045613]\n",
      "Vector Length:\n",
      " seven (96,)\n",
      "Word Vector Representation:\n",
      " [-0.33090055  0.8167415   0.40264452 -0.7550146   0.5530621  -1.5982194\n",
      " -0.15313515  2.7359505   1.6625543  -0.54759383  0.7420954  -0.72134876\n",
      " -0.9023995   0.5133141   0.3338732  -1.8778638   0.33561075 -0.10578914\n",
      " -1.1144252   0.64496267 -0.71660084 -0.4248693   1.1719624  -0.88676697\n",
      " -0.9860649   0.7449254  -0.96884114 -0.66988987  0.28417918 -0.22101009\n",
      " -0.00815389 -1.8936298  -0.52347124 -0.18382204  0.78100777 -0.9308537\n",
      " -0.94326925 -0.89568144 -0.62718457 -1.3841081   0.40473005 -1.2488185\n",
      " -0.63319284 -0.9066414  -0.6521065   1.8162227   1.5943751   3.0288842\n",
      "  1.9038242   1.8660586  -0.22401106  0.2550379   0.05943732  0.5115348\n",
      "  0.1120044  -0.29625195  1.7503927  -0.8395576   1.6527275   0.3742712\n",
      "  1.6811008  -0.7520288  -1.3678062  -1.0545921  -0.92407566  0.437599\n",
      "  1.294244   -1.357514    0.23292004 -0.23714322  0.90752065 -0.7247295\n",
      " -0.95492846 -0.8936356   2.315689   -1.0463259   0.9603579   1.9333341\n",
      " -1.8768735  -1.4390444   0.15179965 -0.9285305  -0.5227995  -0.30201447\n",
      "  1.5323492   0.4477343   1.8006773  -0.6070151   2.0717597  -0.4092634\n",
      " -0.24720915 -1.8100019   0.37538022 -0.91608304  1.0351424   0.1827618 ]\n",
      "Vector Length:\n",
      " years (96,)\n",
      "Word Vector Representation:\n",
      " [ 1.5214443e+00  2.7675825e-01 -7.7363670e-02 -7.6485908e-01\n",
      "  1.5798567e-01 -5.4354751e-01 -1.1126825e+00  3.4700030e-01\n",
      "  2.9128119e-01 -4.3822652e-01  1.2321136e+00  1.3037603e+00\n",
      "  1.5613383e-01 -3.9133248e-01 -2.9370645e-01 -1.5220642e-02\n",
      "  9.0181589e-01 -8.6135346e-01 -2.8912753e-01 -3.6138204e-01\n",
      "  2.3264340e-01 -1.5096211e+00  3.3573961e+00 -2.4571039e-02\n",
      " -1.6026803e+00 -5.3171664e-02 -3.4601992e-01  5.3957593e-01\n",
      " -4.7977719e-01  2.0764887e-02 -5.0175232e-01  7.4750644e-01\n",
      " -8.2486385e-01 -3.6739475e-01 -8.0890888e-01  3.2616648e-01\n",
      "  3.8203835e-01  9.4872408e-02 -7.4550170e-01 -6.8881398e-01\n",
      "  1.8538742e+00 -1.4207230e+00 -3.7069792e-01  4.9147868e-01\n",
      " -1.2057986e+00  1.9821870e+00 -7.4509782e-01  2.1486224e-01\n",
      "  8.4094584e-01  1.7091045e+00 -1.9278207e+00  1.3764024e-02\n",
      " -1.0890570e+00  3.0221772e-01  1.5000051e-01 -6.4264160e-01\n",
      "  3.3671439e-02 -9.5908421e-01  9.2714369e-01 -1.1487499e+00\n",
      "  9.3823093e-01  1.5371597e+00  9.8729062e-01  7.9044783e-01\n",
      "  9.5798248e-01  7.0335114e-01  8.4024608e-01 -9.2385936e-01\n",
      " -1.6474503e-01 -1.4909133e-03 -3.3980381e-01 -9.9153411e-01\n",
      " -2.4074844e-01 -7.6338261e-01  1.4737084e+00  8.6694968e-01\n",
      " -1.3448946e+00  2.0043544e-01  6.9225669e-02 -4.2906448e-01\n",
      " -3.0228001e-01 -3.4855509e-01 -8.5461134e-01  1.4956505e+00\n",
      " -5.3189236e-01  9.1471350e-01  9.7259468e-01 -5.2470815e-01\n",
      " -8.4516090e-01 -2.4532285e+00 -3.2783315e-01 -2.0569291e+00\n",
      "  3.6707628e-01  2.8276556e+00  7.2830665e-01 -8.5939968e-01]\n"
     ]
    }
   ],
   "source": [
    "doc = nlp(text)\n",
    "for token in doc[:5]:\n",
    "    print('Vector Length:\\n',str(token),token.vector.shape)\n",
    "    print('Word Vector Representation:\\n',token.vector)"
   ]
  },
  {
   "cell_type": "markdown",
   "id": "839e846c",
   "metadata": {},
   "source": [
    "# TASK7"
   ]
  },
  {
   "cell_type": "code",
   "execution_count": 88,
   "id": "90bd121d",
   "metadata": {},
   "outputs": [
    {
     "name": "stdout",
     "output_type": "stream",
     "text": [
      "Four Four 1.0\n",
      "Four score 0.24390891194343567\n",
      "Four and 0.07985172420740128\n",
      "Four seven 0.5952430963516235\n",
      "Four years 0.12425629794597626\n",
      "score Four 0.24390891194343567\n",
      "score score 1.0\n",
      "score and 0.0149285439401865\n",
      "score seven 0.14053839445114136\n",
      "score years 0.1541256159543991\n",
      "and Four 0.07985172420740128\n",
      "and score 0.0149285439401865\n",
      "and and 1.0\n",
      "and seven 0.014291105791926384\n",
      "and years 0.07780903577804565\n",
      "seven Four 0.5952430963516235\n",
      "seven score 0.14053839445114136\n",
      "seven and 0.014291105791926384\n",
      "seven seven 1.0\n",
      "seven years 0.2657748758792877\n",
      "years Four 0.12425629794597626\n",
      "years score 0.1541256159543991\n",
      "years and 0.07780903577804565\n",
      "years seven 0.2657748758792877\n",
      "years years 1.0\n"
     ]
    }
   ],
   "source": [
    "import warnings \n",
    "warnings.filterwarnings('ignore')\n",
    "for token1 in doc[:5]:                                                      # For token1\n",
    "    for token2 in doc[:5]:                                                  # For token 2\n",
    "        print(token1.text, token2.text, token1.similarity(token2))      # check similarity of token 1 with token 2"
   ]
  },
  {
   "cell_type": "code",
   "execution_count": null,
   "id": "150e08df",
   "metadata": {},
   "outputs": [],
   "source": []
  }
 ],
 "metadata": {
  "kernelspec": {
   "display_name": "Python 3 (ipykernel)",
   "language": "python",
   "name": "python3"
  },
  "language_info": {
   "codemirror_mode": {
    "name": "ipython",
    "version": 3
   },
   "file_extension": ".py",
   "mimetype": "text/x-python",
   "name": "python",
   "nbconvert_exporter": "python",
   "pygments_lexer": "ipython3",
   "version": "3.9.12"
  }
 },
 "nbformat": 4,
 "nbformat_minor": 5
}
